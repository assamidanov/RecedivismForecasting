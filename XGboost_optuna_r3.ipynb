{
 "cells": [
  {
   "cell_type": "code",
   "execution_count": 98,
   "metadata": {},
   "outputs": [],
   "source": [
    "import pandas as pd\n",
    "import numpy as np\n",
    "train = pd.read_csv('/SharedHDD/Code/ML/Recidivism Project/NIJ_s_Recidivism_Challenge_Training_Dataset.csv')\n",
    "train = train[(train['Recidivism_Arrest_Year1']==False) & (train['Recidivism_Arrest_Year2']==False)]\n",
    "test = pd.read_csv('/SharedHDD/Code/ML/Recidivism Project/NIJ_s_Recidivism_Challenge_Test_Dataset3.csv')\n",
    "train  = pd.concat([train[test.columns], train['Recidivism_Arrest_Year3']], axis =1)\n",
    "train = pd.concat([train,test]).reset_index(drop=True)\n",
    "\n",
    "\n",
    "for i in train.columns:\n",
    "    if train[i].dtypes == 'object':\n",
    "        train[i] = train[i].astype(str).str.replace(' or more', '').replace('nan', np.nan)\n",
    "\n",
    "\n",
    "int_variables = ['Prior_Arrest_Episodes_Felony', 'Prior_Arrest_Episodes_Misd', 'Prior_Arrest_Episodes_Violent', 'Prior_Arrest_Episodes_Property',\\\n",
    "'Prior_Arrest_Episodes_Drug', 'Prior_Arrest_Episodes_PPViolationCharges', 'Prior_Conviction_Episodes_Felony',\\\n",
    "'Prior_Conviction_Episodes_Misd', 'Prior_Conviction_Episodes_Prop', 'Prior_Conviction_Episodes_Drug', 'Delinquency_Reports',\\\n",
    "                'Program_Attendances', 'Program_UnexcusedAbsences','Residence_Changes', 'Dependents']\n",
    "for i in int_variables:\n",
    "    train[i] = train[i].astype('int')\n",
    "    \n",
    "bool_variables = [i for i in train.columns if train[i].dtypes == 'bool']\n",
    "\n",
    "\n",
    "from sklearn.preprocessing import LabelEncoder\n",
    "labelencoder = LabelEncoder()\n",
    "nan_variables = ['Gang_Affiliated', 'Supervision_Risk_Score_First', 'Supervision_Level_First', 'Prison_Offense', \\\n",
    "                 'Recidivism_Arrest_Year3', 'Avg_Days_per_DrugTest', 'DrugTests_THC_Positive','DrugTests_Cocaine_Positive', \\\n",
    "                 'DrugTests_Meth_Positive', 'DrugTests_Other_Positive', 'Percent_Days_Employed', 'Jobs_Per_Year']\n",
    "cat_var = ['Gender', 'Race']\n",
    "\n",
    "\n",
    "one_hot_variables = ['Age_at_Release','Residence_PUMA', 'Education_Level' , 'Prison_Years']"
   ]
  },
  {
   "cell_type": "code",
   "execution_count": 99,
   "metadata": {},
   "outputs": [],
   "source": [
    "\n",
    "import seaborn as sns\n",
    "import optuna\n",
    "import matplotlib.pyplot as plt\n",
    "%matplotlib inline\n",
    "\n",
    "import os\n",
    "\n",
    "from sklearn.model_selection import train_test_split\n",
    "from sklearn.metrics import roc_auc_score\n",
    "from xgboost import XGBClassifier"
   ]
  },
  {
   "cell_type": "code",
   "execution_count": 100,
   "metadata": {},
   "outputs": [],
   "source": [
    "train['Residence_PUMA'] = train['Residence_PUMA'].astype('str')"
   ]
  },
  {
   "cell_type": "code",
   "execution_count": 101,
   "metadata": {},
   "outputs": [],
   "source": [
    "dummies = pd.get_dummies(train[one_hot_variables])"
   ]
  },
  {
   "cell_type": "code",
   "execution_count": 102,
   "metadata": {},
   "outputs": [],
   "source": [
    "train = train.drop(one_hot_variables, axis = 1)\n",
    "train = pd.concat([train,dummies], axis=1)"
   ]
  },
  {
   "cell_type": "code",
   "execution_count": 103,
   "metadata": {},
   "outputs": [],
   "source": [
    "for i in cat_var + bool_variables:\n",
    "    train[i] = labelencoder.fit_transform(train[i])\n",
    "\n",
    "for i in nan_variables:\n",
    "    train[nan_variables] = train[nan_variables].replace('nan', np.nan)\n",
    "\n",
    "original = train[nan_variables]\n",
    "mask = train[nan_variables].isnull()\n",
    "\n",
    "for i in nan_variables:\n",
    "    if train[i].dtypes == 'object':\n",
    "        train[i] = labelencoder.fit_transform(train[i].astype('str'))\n",
    "\n",
    "train[nan_variables] = train[nan_variables].where(~mask, original)\n",
    "\n",
    "train[nan_variables] = train[nan_variables].astype('float')\n",
    "\n",
    "train['Recidivism_Arrest_Year3'] = train['Recidivism_Arrest_Year3'].astype('float')"
   ]
  },
  {
   "cell_type": "code",
   "execution_count": 104,
   "metadata": {},
   "outputs": [],
   "source": [
    "train_df = train[train['Recidivism_Arrest_Year3'].notnull()]\n",
    "test_df = train[train['Recidivism_Arrest_Year3'].isnull()]\n",
    "feats = [f for f in train_df.columns if f not in ['Recidivism_Arrest_Year3','ID']]\n",
    "\n",
    "X = train_df[feats]\n",
    "X = X.fillna(-1)\n",
    "y  = train_df['Recidivism_Arrest_Year3']"
   ]
  },
  {
   "cell_type": "code",
   "execution_count": 105,
   "metadata": {},
   "outputs": [],
   "source": [
    "from sklearn.metrics import roc_auc_score\n",
    "\n",
    "import optuna\n",
    "from optuna.visualization import plot_optimization_history, plot_param_importances\n",
    "\n",
    "from IPython.display import display\n",
    "from sklearn.model_selection import train_test_split"
   ]
  },
  {
   "cell_type": "code",
   "execution_count": 106,
   "metadata": {},
   "outputs": [],
   "source": [
    "def objective(trial, data = X, target = y):\n",
    "    X_train, X_val, y_train, y_val = train_test_split(X, y, test_size = 0.2, random_state = 0)\n",
    "\n",
    "    params = {\n",
    "        'max_depth': trial.suggest_int('max_depth', 3, 10),\n",
    "        'learning_rate': trial.suggest_categorical('learning_rate', [0.005, 0.02, 0.05, 0.08, 0.1]),\n",
    "        'min_child_weight': trial.suggest_int('min_child_weight', 1, 300),\n",
    "        'gamma': trial.suggest_float('gamma', 0.0001, 1.0, log = True),\n",
    "        'alpha': trial.suggest_float('alpha', 0.0001, 10.0, log = True),\n",
    "        'lambda': trial.suggest_float('lambda', 0.0001, 10.0, log = True),\n",
    "        'colsample_bytree': trial.suggest_float('colsample_bytree', 0.1, 0.8),\n",
    "        'subsample': trial.suggest_float('subsample', 0.1, 0.8),\n",
    "        'booster': 'gbtree',\n",
    "        'random_state': 42,\n",
    "        'use_label_encoder': False,\n",
    "        'eval_metric': 'auc',\n",
    "        'n_estimators': 4000\n",
    "\n",
    "    }\n",
    "    \n",
    "    model = XGBClassifier(**params)  \n",
    "    model.fit(X_train, y_train, eval_set = [(X_val,y_val)], early_stopping_rounds = 500, verbose = 200)\n",
    "    y_pred = model.predict_proba(X_val)[:,1]\n",
    "    roc_auc = roc_auc_score(y_val, y_pred)\n",
    "\n",
    "    return roc_auc"
   ]
  },
  {
   "cell_type": "code",
   "execution_count": 107,
   "metadata": {},
   "outputs": [
    {
     "name": "stderr",
     "output_type": "stream",
     "text": [
      "\u001b[32m[I 2021-06-29 23:26:52,627]\u001b[0m A new study created in memory with name: no-name-6ddd9a36-e31b-42c6-9872-22cbaa282f3d\u001b[0m\n"
     ]
    },
    {
     "name": "stdout",
     "output_type": "stream",
     "text": [
      "[23:26:52] WARNING: ../src/learner.cc:516: \n",
      "Parameters: { use_label_encoder } might not be used.\n",
      "\n",
      "  This may not be accurate due to some parameters are only used in language bindings but\n",
      "  passed down to XGBoost core.  Or some parameters are not used but slip through this\n",
      "  verification. Please open an issue if you find above cases.\n",
      "\n",
      "\n",
      "[0]\tvalidation_0-auc:0.53962\n",
      "Will train until validation_0-auc hasn't improved in 500 rounds.\n",
      "[200]\tvalidation_0-auc:0.62255\n",
      "[400]\tvalidation_0-auc:0.62255\n",
      "[600]\tvalidation_0-auc:0.62458\n",
      "[800]\tvalidation_0-auc:0.62522\n",
      "[1000]\tvalidation_0-auc:0.62583\n",
      "[1200]\tvalidation_0-auc:0.62583\n",
      "[1400]\tvalidation_0-auc:0.62650\n",
      "[1600]\tvalidation_0-auc:0.62630\n",
      "Stopping. Best iteration:\n",
      "[1217]\tvalidation_0-auc:0.62660\n",
      "\n"
     ]
    },
    {
     "name": "stderr",
     "output_type": "stream",
     "text": [
      "\u001b[32m[I 2021-06-29 23:27:01,355]\u001b[0m Trial 0 finished with value: 0.6265986333770395 and parameters: {'max_depth': 10, 'learning_rate': 0.08, 'min_child_weight': 231, 'gamma': 0.05570147203171178, 'alpha': 0.0029178375923846122, 'lambda': 0.0006315934994924361, 'colsample_bytree': 0.34501315097995033, 'subsample': 0.389591770221578}. Best is trial 0 with value: 0.6265986333770395.\u001b[0m\n"
     ]
    },
    {
     "name": "stdout",
     "output_type": "stream",
     "text": [
      "[23:27:01] WARNING: ../src/learner.cc:516: \n",
      "Parameters: { use_label_encoder } might not be used.\n",
      "\n",
      "  This may not be accurate due to some parameters are only used in language bindings but\n",
      "  passed down to XGBoost core.  Or some parameters are not used but slip through this\n",
      "  verification. Please open an issue if you find above cases.\n",
      "\n",
      "\n",
      "[0]\tvalidation_0-auc:0.59214\n",
      "Will train until validation_0-auc hasn't improved in 500 rounds.\n",
      "[200]\tvalidation_0-auc:0.67421\n",
      "[400]\tvalidation_0-auc:0.67393\n",
      "[600]\tvalidation_0-auc:0.67111\n",
      "Stopping. Best iteration:\n",
      "[211]\tvalidation_0-auc:0.67474\n",
      "\n"
     ]
    },
    {
     "name": "stderr",
     "output_type": "stream",
     "text": [
      "\u001b[32m[I 2021-06-29 23:27:06,275]\u001b[0m Trial 1 finished with value: 0.6747368056328062 and parameters: {'max_depth': 6, 'learning_rate': 0.02, 'min_child_weight': 15, 'gamma': 0.0005824708676879594, 'alpha': 0.0008583716152580769, 'lambda': 8.343277192075403, 'colsample_bytree': 0.7133737335086477, 'subsample': 0.45360326868679746}. Best is trial 1 with value: 0.6747368056328062.\u001b[0m\n"
     ]
    },
    {
     "name": "stdout",
     "output_type": "stream",
     "text": [
      "[23:27:06] WARNING: ../src/learner.cc:516: \n",
      "Parameters: { use_label_encoder } might not be used.\n",
      "\n",
      "  This may not be accurate due to some parameters are only used in language bindings but\n",
      "  passed down to XGBoost core.  Or some parameters are not used but slip through this\n",
      "  verification. Please open an issue if you find above cases.\n",
      "\n",
      "\n",
      "[0]\tvalidation_0-auc:0.56842\n",
      "Will train until validation_0-auc hasn't improved in 500 rounds.\n",
      "[200]\tvalidation_0-auc:0.62221\n",
      "[400]\tvalidation_0-auc:0.62406\n",
      "[600]\tvalidation_0-auc:0.62857\n",
      "[800]\tvalidation_0-auc:0.63109\n",
      "[1000]\tvalidation_0-auc:0.63289\n",
      "[1200]\tvalidation_0-auc:0.63449\n",
      "[1400]\tvalidation_0-auc:0.63595\n",
      "[1600]\tvalidation_0-auc:0.63689\n",
      "[1800]\tvalidation_0-auc:0.63753\n",
      "[2000]\tvalidation_0-auc:0.63824\n",
      "[2200]\tvalidation_0-auc:0.63849\n",
      "[2400]\tvalidation_0-auc:0.63862\n",
      "[2600]\tvalidation_0-auc:0.63938\n",
      "[2800]\tvalidation_0-auc:0.63909\n",
      "[3000]\tvalidation_0-auc:0.63914\n",
      "Stopping. Best iteration:\n",
      "[2615]\tvalidation_0-auc:0.63943\n",
      "\n"
     ]
    },
    {
     "name": "stderr",
     "output_type": "stream",
     "text": [
      "\u001b[32m[I 2021-06-29 23:27:21,987]\u001b[0m Trial 2 finished with value: 0.6394259964731134 and parameters: {'max_depth': 4, 'learning_rate': 0.005, 'min_child_weight': 225, 'gamma': 0.00016994374588488373, 'alpha': 0.8608556202714243, 'lambda': 0.18700023411801955, 'colsample_bytree': 0.39423750365814625, 'subsample': 0.4875044925620633}. Best is trial 1 with value: 0.6747368056328062.\u001b[0m\n"
     ]
    },
    {
     "name": "stdout",
     "output_type": "stream",
     "text": [
      "[23:27:22] WARNING: ../src/learner.cc:516: \n",
      "Parameters: { use_label_encoder } might not be used.\n",
      "\n",
      "  This may not be accurate due to some parameters are only used in language bindings but\n",
      "  passed down to XGBoost core.  Or some parameters are not used but slip through this\n",
      "  verification. Please open an issue if you find above cases.\n",
      "\n",
      "\n",
      "[0]\tvalidation_0-auc:0.50000\n",
      "Will train until validation_0-auc hasn't improved in 500 rounds.\n",
      "[200]\tvalidation_0-auc:0.50000\n",
      "[400]\tvalidation_0-auc:0.50000\n",
      "Stopping. Best iteration:\n",
      "[0]\tvalidation_0-auc:0.50000\n",
      "\n"
     ]
    },
    {
     "name": "stderr",
     "output_type": "stream",
     "text": [
      "\u001b[32m[I 2021-06-29 23:27:24,383]\u001b[0m Trial 3 finished with value: 0.5 and parameters: {'max_depth': 4, 'learning_rate': 0.02, 'min_child_weight': 170, 'gamma': 0.012055294344379804, 'alpha': 0.5786653819640512, 'lambda': 0.0026854576582023594, 'colsample_bytree': 0.14066708794287788, 'subsample': 0.15785201373512742}. Best is trial 1 with value: 0.6747368056328062.\u001b[0m\n"
     ]
    },
    {
     "name": "stdout",
     "output_type": "stream",
     "text": [
      "[23:27:24] WARNING: ../src/learner.cc:516: \n",
      "Parameters: { use_label_encoder } might not be used.\n",
      "\n",
      "  This may not be accurate due to some parameters are only used in language bindings but\n",
      "  passed down to XGBoost core.  Or some parameters are not used but slip through this\n",
      "  verification. Please open an issue if you find above cases.\n",
      "\n",
      "\n",
      "[0]\tvalidation_0-auc:0.50000\n",
      "Will train until validation_0-auc hasn't improved in 500 rounds.\n",
      "[200]\tvalidation_0-auc:0.50000\n",
      "[400]\tvalidation_0-auc:0.50000\n",
      "Stopping. Best iteration:\n",
      "[0]\tvalidation_0-auc:0.50000\n",
      "\n"
     ]
    },
    {
     "name": "stderr",
     "output_type": "stream",
     "text": [
      "\u001b[32m[I 2021-06-29 23:27:26,793]\u001b[0m Trial 4 finished with value: 0.5 and parameters: {'max_depth': 8, 'learning_rate': 0.02, 'min_child_weight': 217, 'gamma': 0.0018658540918888645, 'alpha': 0.0008109176089609264, 'lambda': 0.018626912061331657, 'colsample_bytree': 0.7765223819931958, 'subsample': 0.19807643826762308}. Best is trial 1 with value: 0.6747368056328062.\u001b[0m\n"
     ]
    },
    {
     "name": "stdout",
     "output_type": "stream",
     "text": [
      "[23:27:26] WARNING: ../src/learner.cc:516: \n",
      "Parameters: { use_label_encoder } might not be used.\n",
      "\n",
      "  This may not be accurate due to some parameters are only used in language bindings but\n",
      "  passed down to XGBoost core.  Or some parameters are not used but slip through this\n",
      "  verification. Please open an issue if you find above cases.\n",
      "\n",
      "\n",
      "[0]\tvalidation_0-auc:0.54981\n",
      "Will train until validation_0-auc hasn't improved in 500 rounds.\n",
      "[200]\tvalidation_0-auc:0.62760\n",
      "[400]\tvalidation_0-auc:0.62760\n",
      "[600]\tvalidation_0-auc:0.62752\n",
      "[800]\tvalidation_0-auc:0.62837\n",
      "[1000]\tvalidation_0-auc:0.62838\n",
      "[1200]\tvalidation_0-auc:0.62876\n",
      "[1400]\tvalidation_0-auc:0.62920\n",
      "[1600]\tvalidation_0-auc:0.62919\n",
      "[1800]\tvalidation_0-auc:0.62957\n",
      "[2000]\tvalidation_0-auc:0.62973\n",
      "[2200]\tvalidation_0-auc:0.62972\n",
      "[2400]\tvalidation_0-auc:0.63002\n",
      "[2600]\tvalidation_0-auc:0.62966\n",
      "[2800]\tvalidation_0-auc:0.62952\n",
      "Stopping. Best iteration:\n",
      "[2393]\tvalidation_0-auc:0.63002\n",
      "\n"
     ]
    },
    {
     "name": "stderr",
     "output_type": "stream",
     "text": [
      "\u001b[32m[I 2021-06-29 23:27:42,572]\u001b[0m Trial 5 finished with value: 0.6300233970811092 and parameters: {'max_depth': 8, 'learning_rate': 0.02, 'min_child_weight': 123, 'gamma': 0.2516550453808144, 'alpha': 0.024711143930847234, 'lambda': 0.4271796508046206, 'colsample_bytree': 0.7437164251954264, 'subsample': 0.20443430560027906}. Best is trial 1 with value: 0.6747368056328062.\u001b[0m\n"
     ]
    },
    {
     "name": "stdout",
     "output_type": "stream",
     "text": [
      "[23:27:42] WARNING: ../src/learner.cc:516: \n",
      "Parameters: { use_label_encoder } might not be used.\n",
      "\n",
      "  This may not be accurate due to some parameters are only used in language bindings but\n",
      "  passed down to XGBoost core.  Or some parameters are not used but slip through this\n",
      "  verification. Please open an issue if you find above cases.\n",
      "\n",
      "\n",
      "[0]\tvalidation_0-auc:0.56842\n",
      "Will train until validation_0-auc hasn't improved in 500 rounds.\n",
      "[200]\tvalidation_0-auc:0.64848\n",
      "[400]\tvalidation_0-auc:0.64998\n",
      "[600]\tvalidation_0-auc:0.64639\n",
      "Stopping. Best iteration:\n",
      "[172]\tvalidation_0-auc:0.65014\n",
      "\n"
     ]
    },
    {
     "name": "stderr",
     "output_type": "stream",
     "text": [
      "\u001b[32m[I 2021-06-29 23:27:46,316]\u001b[0m Trial 6 finished with value: 0.6501452515596534 and parameters: {'max_depth': 9, 'learning_rate': 0.1, 'min_child_weight': 218, 'gamma': 0.19503258044379734, 'alpha': 0.08424244466997242, 'lambda': 3.1642377578290466, 'colsample_bytree': 0.6348552430820187, 'subsample': 0.6151605980429922}. Best is trial 1 with value: 0.6747368056328062.\u001b[0m\n"
     ]
    },
    {
     "name": "stdout",
     "output_type": "stream",
     "text": [
      "[23:27:46] WARNING: ../src/learner.cc:516: \n",
      "Parameters: { use_label_encoder } might not be used.\n",
      "\n",
      "  This may not be accurate due to some parameters are only used in language bindings but\n",
      "  passed down to XGBoost core.  Or some parameters are not used but slip through this\n",
      "  verification. Please open an issue if you find above cases.\n",
      "\n",
      "\n",
      "[0]\tvalidation_0-auc:0.56505\n",
      "Will train until validation_0-auc hasn't improved in 500 rounds.\n",
      "[200]\tvalidation_0-auc:0.63864\n",
      "[400]\tvalidation_0-auc:0.64049\n",
      "[600]\tvalidation_0-auc:0.64573\n",
      "[800]\tvalidation_0-auc:0.64751\n",
      "[1000]\tvalidation_0-auc:0.64879\n",
      "[1200]\tvalidation_0-auc:0.64996\n",
      "[1400]\tvalidation_0-auc:0.65151\n",
      "[1600]\tvalidation_0-auc:0.65248\n",
      "[1800]\tvalidation_0-auc:0.65321\n",
      "[2000]\tvalidation_0-auc:0.65374\n",
      "[2200]\tvalidation_0-auc:0.65391\n",
      "[2400]\tvalidation_0-auc:0.65382\n",
      "[2600]\tvalidation_0-auc:0.65470\n",
      "[2800]\tvalidation_0-auc:0.65520\n",
      "[3000]\tvalidation_0-auc:0.65565\n",
      "[3200]\tvalidation_0-auc:0.65599\n",
      "[3400]\tvalidation_0-auc:0.65572\n",
      "[3600]\tvalidation_0-auc:0.65648\n",
      "[3800]\tvalidation_0-auc:0.65630\n",
      "[3999]\tvalidation_0-auc:0.65664\n"
     ]
    },
    {
     "name": "stderr",
     "output_type": "stream",
     "text": [
      "\u001b[32m[I 2021-06-29 23:28:09,176]\u001b[0m Trial 7 finished with value: 0.6567358245237153 and parameters: {'max_depth': 3, 'learning_rate': 0.005, 'min_child_weight': 49, 'gamma': 0.26225346858050785, 'alpha': 0.0002923733603879645, 'lambda': 0.4828016315306733, 'colsample_bytree': 0.3838843030851957, 'subsample': 0.19731721819102183}. Best is trial 1 with value: 0.6747368056328062.\u001b[0m\n"
     ]
    },
    {
     "name": "stdout",
     "output_type": "stream",
     "text": [
      "[23:28:09] WARNING: ../src/learner.cc:516: \n",
      "Parameters: { use_label_encoder } might not be used.\n",
      "\n",
      "  This may not be accurate due to some parameters are only used in language bindings but\n",
      "  passed down to XGBoost core.  Or some parameters are not used but slip through this\n",
      "  verification. Please open an issue if you find above cases.\n",
      "\n",
      "\n",
      "[0]\tvalidation_0-auc:0.50000\n",
      "Will train until validation_0-auc hasn't improved in 500 rounds.\n",
      "[200]\tvalidation_0-auc:0.50000\n",
      "[400]\tvalidation_0-auc:0.50000\n",
      "Stopping. Best iteration:\n",
      "[0]\tvalidation_0-auc:0.50000\n",
      "\n"
     ]
    },
    {
     "name": "stderr",
     "output_type": "stream",
     "text": [
      "\u001b[32m[I 2021-06-29 23:28:11,945]\u001b[0m Trial 8 finished with value: 0.5 and parameters: {'max_depth': 4, 'learning_rate': 0.08, 'min_child_weight': 254, 'gamma': 0.406216588632096, 'alpha': 0.5982424518588879, 'lambda': 0.0006284543646474808, 'colsample_bytree': 0.29931470446318253, 'subsample': 0.17237573596361538}. Best is trial 1 with value: 0.6747368056328062.\u001b[0m\n"
     ]
    },
    {
     "name": "stdout",
     "output_type": "stream",
     "text": [
      "[23:28:11] WARNING: ../src/learner.cc:516: \n",
      "Parameters: { use_label_encoder } might not be used.\n",
      "\n",
      "  This may not be accurate due to some parameters are only used in language bindings but\n",
      "  passed down to XGBoost core.  Or some parameters are not used but slip through this\n",
      "  verification. Please open an issue if you find above cases.\n",
      "\n",
      "\n",
      "[0]\tvalidation_0-auc:0.50000\n",
      "Will train until validation_0-auc hasn't improved in 500 rounds.\n",
      "[200]\tvalidation_0-auc:0.50000\n",
      "[400]\tvalidation_0-auc:0.50000\n",
      "Stopping. Best iteration:\n",
      "[0]\tvalidation_0-auc:0.50000\n",
      "\n"
     ]
    },
    {
     "name": "stderr",
     "output_type": "stream",
     "text": [
      "\u001b[32m[I 2021-06-29 23:28:14,763]\u001b[0m Trial 9 finished with value: 0.5 and parameters: {'max_depth': 5, 'learning_rate': 0.005, 'min_child_weight': 216, 'gamma': 0.007617001375020798, 'alpha': 1.7220068046401529, 'lambda': 0.08664140852649009, 'colsample_bytree': 0.7410468997569281, 'subsample': 0.1036876340203811}. Best is trial 1 with value: 0.6747368056328062.\u001b[0m\n"
     ]
    },
    {
     "name": "stdout",
     "output_type": "stream",
     "text": [
      "[23:28:14] WARNING: ../src/learner.cc:516: \n",
      "Parameters: { use_label_encoder } might not be used.\n",
      "\n",
      "  This may not be accurate due to some parameters are only used in language bindings but\n",
      "  passed down to XGBoost core.  Or some parameters are not used but slip through this\n",
      "  verification. Please open an issue if you find above cases.\n",
      "\n",
      "\n",
      "[0]\tvalidation_0-auc:0.59473\n",
      "Will train until validation_0-auc hasn't improved in 500 rounds.\n",
      "[200]\tvalidation_0-auc:0.67494\n",
      "[400]\tvalidation_0-auc:0.66905\n",
      "Stopping. Best iteration:\n",
      "[97]\tvalidation_0-auc:0.67773\n",
      "\n"
     ]
    },
    {
     "name": "stderr",
     "output_type": "stream",
     "text": [
      "\u001b[32m[I 2021-06-29 23:28:19,083]\u001b[0m Trial 10 finished with value: 0.6777348415910015 and parameters: {'max_depth': 6, 'learning_rate': 0.05, 'min_child_weight': 1, 'gamma': 0.00010548449534585058, 'alpha': 0.007214087751533122, 'lambda': 6.70369318369209, 'colsample_bytree': 0.5657839346203648, 'subsample': 0.771972519960813}. Best is trial 10 with value: 0.6777348415910015.\u001b[0m\n"
     ]
    },
    {
     "name": "stdout",
     "output_type": "stream",
     "text": [
      "[23:28:19] WARNING: ../src/learner.cc:516: \n",
      "Parameters: { use_label_encoder } might not be used.\n",
      "\n",
      "  This may not be accurate due to some parameters are only used in language bindings but\n",
      "  passed down to XGBoost core.  Or some parameters are not used but slip through this\n",
      "  verification. Please open an issue if you find above cases.\n",
      "\n",
      "\n",
      "[0]\tvalidation_0-auc:0.59491\n",
      "Will train until validation_0-auc hasn't improved in 500 rounds.\n",
      "[200]\tvalidation_0-auc:0.67711\n",
      "[400]\tvalidation_0-auc:0.67198\n",
      "[600]\tvalidation_0-auc:0.67029\n",
      "Stopping. Best iteration:\n",
      "[182]\tvalidation_0-auc:0.67766\n",
      "\n"
     ]
    },
    {
     "name": "stderr",
     "output_type": "stream",
     "text": [
      "\u001b[32m[I 2021-06-29 23:28:23,959]\u001b[0m Trial 11 finished with value: 0.6776546021857942 and parameters: {'max_depth': 6, 'learning_rate': 0.05, 'min_child_weight': 5, 'gamma': 0.00016129402226285676, 'alpha': 0.00893859741090833, 'lambda': 7.596590698208618, 'colsample_bytree': 0.5498910407202704, 'subsample': 0.7960865802447219}. Best is trial 10 with value: 0.6777348415910015.\u001b[0m\n"
     ]
    },
    {
     "name": "stdout",
     "output_type": "stream",
     "text": [
      "[23:28:24] WARNING: ../src/learner.cc:516: \n",
      "Parameters: { use_label_encoder } might not be used.\n",
      "\n",
      "  This may not be accurate due to some parameters are only used in language bindings but\n",
      "  passed down to XGBoost core.  Or some parameters are not used but slip through this\n",
      "  verification. Please open an issue if you find above cases.\n",
      "\n",
      "\n",
      "[0]\tvalidation_0-auc:0.59859\n",
      "Will train until validation_0-auc hasn't improved in 500 rounds.\n",
      "[200]\tvalidation_0-auc:0.68172\n",
      "[400]\tvalidation_0-auc:0.67891\n",
      "[600]\tvalidation_0-auc:0.67491\n",
      "Stopping. Best iteration:\n",
      "[190]\tvalidation_0-auc:0.68260\n",
      "\n"
     ]
    },
    {
     "name": "stderr",
     "output_type": "stream",
     "text": [
      "\u001b[32m[I 2021-06-29 23:28:28,761]\u001b[0m Trial 12 finished with value: 0.6826002673431093 and parameters: {'max_depth': 7, 'learning_rate': 0.05, 'min_child_weight': 70, 'gamma': 0.00010225786784530715, 'alpha': 0.011274415891903916, 'lambda': 3.139669018160809, 'colsample_bytree': 0.5554648007510489, 'subsample': 0.7995113795542419}. Best is trial 12 with value: 0.6826002673431093.\u001b[0m\n"
     ]
    },
    {
     "name": "stdout",
     "output_type": "stream",
     "text": [
      "[23:28:28] WARNING: ../src/learner.cc:516: \n",
      "Parameters: { use_label_encoder } might not be used.\n",
      "\n",
      "  This may not be accurate due to some parameters are only used in language bindings but\n",
      "  passed down to XGBoost core.  Or some parameters are not used but slip through this\n",
      "  verification. Please open an issue if you find above cases.\n",
      "\n",
      "\n",
      "[0]\tvalidation_0-auc:0.60170\n",
      "Will train until validation_0-auc hasn't improved in 500 rounds.\n",
      "[200]\tvalidation_0-auc:0.67951\n",
      "[400]\tvalidation_0-auc:0.67865\n",
      "[600]\tvalidation_0-auc:0.67549\n",
      "Stopping. Best iteration:\n",
      "[208]\tvalidation_0-auc:0.68083\n",
      "\n"
     ]
    },
    {
     "name": "stderr",
     "output_type": "stream",
     "text": [
      "\u001b[32m[I 2021-06-29 23:28:33,818]\u001b[0m Trial 13 finished with value: 0.6808277059371688 and parameters: {'max_depth': 7, 'learning_rate': 0.05, 'min_child_weight': 92, 'gamma': 0.0005330873823709625, 'alpha': 0.08410450620818308, 'lambda': 1.7180491246902039, 'colsample_bytree': 0.52330591450728, 'subsample': 0.789073304603115}. Best is trial 12 with value: 0.6826002673431093.\u001b[0m\n"
     ]
    },
    {
     "name": "stdout",
     "output_type": "stream",
     "text": [
      "[23:28:33] WARNING: ../src/learner.cc:516: \n",
      "Parameters: { use_label_encoder } might not be used.\n",
      "\n",
      "  This may not be accurate due to some parameters are only used in language bindings but\n",
      "  passed down to XGBoost core.  Or some parameters are not used but slip through this\n",
      "  verification. Please open an issue if you find above cases.\n",
      "\n",
      "\n",
      "[0]\tvalidation_0-auc:0.59959\n",
      "Will train until validation_0-auc hasn't improved in 500 rounds.\n",
      "[200]\tvalidation_0-auc:0.67546\n",
      "[400]\tvalidation_0-auc:0.67366\n",
      "[600]\tvalidation_0-auc:0.67115\n",
      "Stopping. Best iteration:\n",
      "[164]\tvalidation_0-auc:0.67713\n",
      "\n"
     ]
    },
    {
     "name": "stderr",
     "output_type": "stream",
     "text": [
      "\u001b[32m[I 2021-06-29 23:28:38,328]\u001b[0m Trial 14 finished with value: 0.6771293988062566 and parameters: {'max_depth': 8, 'learning_rate': 0.05, 'min_child_weight': 85, 'gamma': 0.0006684044092789235, 'alpha': 0.13177487776002136, 'lambda': 1.2980406322600802, 'colsample_bytree': 0.47842846263238814, 'subsample': 0.6877970079146173}. Best is trial 12 with value: 0.6826002673431093.\u001b[0m\n"
     ]
    },
    {
     "name": "stdout",
     "output_type": "stream",
     "text": [
      "[23:28:38] WARNING: ../src/learner.cc:516: \n",
      "Parameters: { use_label_encoder } might not be used.\n",
      "\n",
      "  This may not be accurate due to some parameters are only used in language bindings but\n",
      "  passed down to XGBoost core.  Or some parameters are not used but slip through this\n",
      "  verification. Please open an issue if you find above cases.\n",
      "\n",
      "\n",
      "[0]\tvalidation_0-auc:0.53962\n",
      "Will train until validation_0-auc hasn't improved in 500 rounds.\n",
      "[200]\tvalidation_0-auc:0.67575\n",
      "[400]\tvalidation_0-auc:0.67858\n",
      "[600]\tvalidation_0-auc:0.67748\n",
      "[800]\tvalidation_0-auc:0.67482\n",
      "Stopping. Best iteration:\n",
      "[387]\tvalidation_0-auc:0.67939\n",
      "\n"
     ]
    },
    {
     "name": "stderr",
     "output_type": "stream",
     "text": [
      "\u001b[32m[I 2021-06-29 23:28:43,783]\u001b[0m Trial 15 finished with value: 0.6793870438891311 and parameters: {'max_depth': 7, 'learning_rate': 0.05, 'min_child_weight': 82, 'gamma': 0.0005236098762509509, 'alpha': 8.534785288532703, 'lambda': 0.024639716097464893, 'colsample_bytree': 0.4950477921495387, 'subsample': 0.6804397604243755}. Best is trial 12 with value: 0.6826002673431093.\u001b[0m\n"
     ]
    },
    {
     "name": "stdout",
     "output_type": "stream",
     "text": [
      "[23:28:43] WARNING: ../src/learner.cc:516: \n",
      "Parameters: { use_label_encoder } might not be used.\n",
      "\n",
      "  This may not be accurate due to some parameters are only used in language bindings but\n",
      "  passed down to XGBoost core.  Or some parameters are not used but slip through this\n",
      "  verification. Please open an issue if you find above cases.\n",
      "\n",
      "\n",
      "[0]\tvalidation_0-auc:0.58822\n",
      "Will train until validation_0-auc hasn't improved in 500 rounds.\n",
      "[200]\tvalidation_0-auc:0.66123\n",
      "[400]\tvalidation_0-auc:0.65968\n",
      "[600]\tvalidation_0-auc:0.65891\n",
      "Stopping. Best iteration:\n",
      "[145]\tvalidation_0-auc:0.66248\n",
      "\n"
     ]
    },
    {
     "name": "stderr",
     "output_type": "stream",
     "text": [
      "\u001b[32m[I 2021-06-29 23:28:47,633]\u001b[0m Trial 16 finished with value: 0.6624756774302966 and parameters: {'max_depth': 7, 'learning_rate': 0.05, 'min_child_weight': 131, 'gamma': 0.002474544956334694, 'alpha': 0.07569998098791339, 'lambda': 1.3839336067454613, 'colsample_bytree': 0.614395186109513, 'subsample': 0.797353226937207}. Best is trial 12 with value: 0.6826002673431093.\u001b[0m\n"
     ]
    },
    {
     "name": "stdout",
     "output_type": "stream",
     "text": [
      "[23:28:47] WARNING: ../src/learner.cc:516: \n",
      "Parameters: { use_label_encoder } might not be used.\n",
      "\n",
      "  This may not be accurate due to some parameters are only used in language bindings but\n",
      "  passed down to XGBoost core.  Or some parameters are not used but slip through this\n",
      "  verification. Please open an issue if you find above cases.\n",
      "\n",
      "\n",
      "[0]\tvalidation_0-auc:0.59616\n",
      "Will train until validation_0-auc hasn't improved in 500 rounds.\n",
      "[200]\tvalidation_0-auc:0.67658\n",
      "[400]\tvalidation_0-auc:0.67188\n",
      "[600]\tvalidation_0-auc:0.66926\n",
      "Stopping. Best iteration:\n",
      "[212]\tvalidation_0-auc:0.67787\n",
      "\n"
     ]
    },
    {
     "name": "stderr",
     "output_type": "stream",
     "text": [
      "\u001b[32m[I 2021-06-29 23:28:51,553]\u001b[0m Trial 17 finished with value: 0.6778697896815772 and parameters: {'max_depth': 10, 'learning_rate': 0.05, 'min_child_weight': 61, 'gamma': 0.00010062063472793491, 'alpha': 0.023737036983230597, 'lambda': 1.2981264915673212, 'colsample_bytree': 0.23954618192510932, 'subsample': 0.5699498562323291}. Best is trial 12 with value: 0.6826002673431093.\u001b[0m\n"
     ]
    },
    {
     "name": "stdout",
     "output_type": "stream",
     "text": [
      "[23:28:51] WARNING: ../src/learner.cc:516: \n",
      "Parameters: { use_label_encoder } might not be used.\n",
      "\n",
      "  This may not be accurate due to some parameters are only used in language bindings but\n",
      "  passed down to XGBoost core.  Or some parameters are not used but slip through this\n",
      "  verification. Please open an issue if you find above cases.\n",
      "\n",
      "\n",
      "[0]\tvalidation_0-auc:0.56842\n",
      "Will train until validation_0-auc hasn't improved in 500 rounds.\n",
      "[200]\tvalidation_0-auc:0.63385\n",
      "[400]\tvalidation_0-auc:0.63245\n",
      "Stopping. Best iteration:\n",
      "[88]\tvalidation_0-auc:0.63504\n",
      "\n"
     ]
    },
    {
     "name": "stderr",
     "output_type": "stream",
     "text": [
      "\u001b[32m[I 2021-06-29 23:28:54,512]\u001b[0m Trial 18 finished with value: 0.6350392717179804 and parameters: {'max_depth': 9, 'learning_rate': 0.1, 'min_child_weight': 163, 'gamma': 0.00028170255665735215, 'alpha': 0.2368638365209767, 'lambda': 0.004669638846572042, 'colsample_bytree': 0.6530825166197911, 'subsample': 0.3253069738488046}. Best is trial 12 with value: 0.6826002673431093.\u001b[0m\n"
     ]
    },
    {
     "name": "stdout",
     "output_type": "stream",
     "text": [
      "[23:28:54] WARNING: ../src/learner.cc:516: \n",
      "Parameters: { use_label_encoder } might not be used.\n",
      "\n",
      "  This may not be accurate due to some parameters are only used in language bindings but\n",
      "  passed down to XGBoost core.  Or some parameters are not used but slip through this\n",
      "  verification. Please open an issue if you find above cases.\n",
      "\n",
      "\n",
      "[0]\tvalidation_0-auc:0.60564\n",
      "Will train until validation_0-auc hasn't improved in 500 rounds.\n",
      "[200]\tvalidation_0-auc:0.67446\n",
      "[400]\tvalidation_0-auc:0.67526\n",
      "[600]\tvalidation_0-auc:0.67067\n",
      "[800]\tvalidation_0-auc:0.66749\n",
      "Stopping. Best iteration:\n",
      "[378]\tvalidation_0-auc:0.67632\n",
      "\n"
     ]
    },
    {
     "name": "stderr",
     "output_type": "stream",
     "text": [
      "\u001b[32m[I 2021-06-29 23:28:59,893]\u001b[0m Trial 19 finished with value: 0.676316063017111 and parameters: {'max_depth': 7, 'learning_rate': 0.05, 'min_child_weight': 105, 'gamma': 0.0014361258524944872, 'alpha': 0.00010569372671870288, 'lambda': 0.08159706909087355, 'colsample_bytree': 0.4518119540597396, 'subsample': 0.7242596983220431}. Best is trial 12 with value: 0.6826002673431093.\u001b[0m\n"
     ]
    },
    {
     "name": "stdout",
     "output_type": "stream",
     "text": [
      "[23:28:59] WARNING: ../src/learner.cc:516: \n",
      "Parameters: { use_label_encoder } might not be used.\n",
      "\n",
      "  This may not be accurate due to some parameters are only used in language bindings but\n",
      "  passed down to XGBoost core.  Or some parameters are not used but slip through this\n",
      "  verification. Please open an issue if you find above cases.\n",
      "\n",
      "\n",
      "[0]\tvalidation_0-auc:0.59078\n",
      "Will train until validation_0-auc hasn't improved in 500 rounds.\n",
      "[200]\tvalidation_0-auc:0.67535\n",
      "[400]\tvalidation_0-auc:0.67808\n",
      "[600]\tvalidation_0-auc:0.67395\n",
      "[800]\tvalidation_0-auc:0.67101\n",
      "Stopping. Best iteration:\n",
      "[369]\tvalidation_0-auc:0.67968\n",
      "\n"
     ]
    },
    {
     "name": "stderr",
     "output_type": "stream",
     "text": [
      "\u001b[32m[I 2021-06-29 23:29:05,584]\u001b[0m Trial 20 finished with value: 0.6796842944129667 and parameters: {'max_depth': 5, 'learning_rate': 0.05, 'min_child_weight': 47, 'gamma': 0.0057644799639757095, 'alpha': 6.365750956972426, 'lambda': 0.00012167679137426399, 'colsample_bytree': 0.5463203551662172, 'subsample': 0.5955578398065876}. Best is trial 12 with value: 0.6826002673431093.\u001b[0m\n"
     ]
    },
    {
     "name": "stdout",
     "output_type": "stream",
     "text": [
      "[23:29:05] WARNING: ../src/learner.cc:516: \n",
      "Parameters: { use_label_encoder } might not be used.\n",
      "\n",
      "  This may not be accurate due to some parameters are only used in language bindings but\n",
      "  passed down to XGBoost core.  Or some parameters are not used but slip through this\n",
      "  verification. Please open an issue if you find above cases.\n",
      "\n",
      "\n",
      "[0]\tvalidation_0-auc:0.53962\n",
      "Will train until validation_0-auc hasn't improved in 500 rounds.\n",
      "[200]\tvalidation_0-auc:0.67712\n",
      "[400]\tvalidation_0-auc:0.67427\n",
      "[600]\tvalidation_0-auc:0.67050\n",
      "Stopping. Best iteration:\n",
      "[211]\tvalidation_0-auc:0.67792\n",
      "\n"
     ]
    },
    {
     "name": "stderr",
     "output_type": "stream",
     "text": [
      "\u001b[32m[I 2021-06-29 23:29:10,288]\u001b[0m Trial 21 finished with value: 0.6779153802527177 and parameters: {'max_depth': 5, 'learning_rate': 0.05, 'min_child_weight': 36, 'gamma': 0.007907767734259122, 'alpha': 7.487996557407138, 'lambda': 0.00011484044102626084, 'colsample_bytree': 0.5319640348914446, 'subsample': 0.5928124253404433}. Best is trial 12 with value: 0.6826002673431093.\u001b[0m\n"
     ]
    },
    {
     "name": "stdout",
     "output_type": "stream",
     "text": [
      "[23:29:10] WARNING: ../src/learner.cc:516: \n",
      "Parameters: { use_label_encoder } might not be used.\n",
      "\n",
      "  This may not be accurate due to some parameters are only used in language bindings but\n",
      "  passed down to XGBoost core.  Or some parameters are not used but slip through this\n",
      "  verification. Please open an issue if you find above cases.\n",
      "\n",
      "\n",
      "[0]\tvalidation_0-auc:0.60152\n",
      "Will train until validation_0-auc hasn't improved in 500 rounds.\n",
      "[200]\tvalidation_0-auc:0.66713\n",
      "[400]\tvalidation_0-auc:0.66414\n",
      "[600]\tvalidation_0-auc:0.66419\n",
      "Stopping. Best iteration:\n",
      "[158]\tvalidation_0-auc:0.67055\n",
      "\n"
     ]
    },
    {
     "name": "stderr",
     "output_type": "stream",
     "text": [
      "\u001b[32m[I 2021-06-29 23:29:14,359]\u001b[0m Trial 22 finished with value: 0.6705461203335772 and parameters: {'max_depth': 5, 'learning_rate': 0.05, 'min_child_weight': 79, 'gamma': 0.02805495286372365, 'alpha': 0.004161998678541184, 'lambda': 0.0001278819283263864, 'colsample_bytree': 0.5906008914269232, 'subsample': 0.5245087257287949}. Best is trial 12 with value: 0.6826002673431093.\u001b[0m\n"
     ]
    },
    {
     "name": "stdout",
     "output_type": "stream",
     "text": [
      "[23:29:14] WARNING: ../src/learner.cc:516: \n",
      "Parameters: { use_label_encoder } might not be used.\n",
      "\n",
      "  This may not be accurate due to some parameters are only used in language bindings but\n",
      "  passed down to XGBoost core.  Or some parameters are not used but slip through this\n",
      "  verification. Please open an issue if you find above cases.\n",
      "\n",
      "\n",
      "[0]\tvalidation_0-auc:0.60477\n",
      "Will train until validation_0-auc hasn't improved in 500 rounds.\n",
      "[200]\tvalidation_0-auc:0.67559\n",
      "[400]\tvalidation_0-auc:0.66836\n",
      "[600]\tvalidation_0-auc:0.66641\n",
      "Stopping. Best iteration:\n",
      "[102]\tvalidation_0-auc:0.67810\n",
      "\n"
     ]
    },
    {
     "name": "stderr",
     "output_type": "stream",
     "text": [
      "\u001b[32m[I 2021-06-29 23:29:18,457]\u001b[0m Trial 23 finished with value: 0.6781013897829706 and parameters: {'max_depth': 6, 'learning_rate': 0.05, 'min_child_weight': 32, 'gamma': 0.004064577447423636, 'alpha': 2.6842912210529573, 'lambda': 2.355004506350457, 'colsample_bytree': 0.6711437192253834, 'subsample': 0.7364972089466824}. Best is trial 12 with value: 0.6826002673431093.\u001b[0m\n"
     ]
    },
    {
     "name": "stdout",
     "output_type": "stream",
     "text": [
      "[23:29:18] WARNING: ../src/learner.cc:516: \n",
      "Parameters: { use_label_encoder } might not be used.\n",
      "\n",
      "  This may not be accurate due to some parameters are only used in language bindings but\n",
      "  passed down to XGBoost core.  Or some parameters are not used but slip through this\n",
      "  verification. Please open an issue if you find above cases.\n",
      "\n",
      "\n",
      "[0]\tvalidation_0-auc:0.60568\n",
      "Will train until validation_0-auc hasn't improved in 500 rounds.\n",
      "[200]\tvalidation_0-auc:0.66078\n",
      "[400]\tvalidation_0-auc:0.66206\n",
      "[600]\tvalidation_0-auc:0.66065\n",
      "[800]\tvalidation_0-auc:0.65789\n",
      "[1000]\tvalidation_0-auc:0.65988\n",
      "Stopping. Best iteration:\n",
      "[525]\tvalidation_0-auc:0.66271\n",
      "\n"
     ]
    },
    {
     "name": "stderr",
     "output_type": "stream",
     "text": [
      "\u001b[32m[I 2021-06-29 23:29:24,677]\u001b[0m Trial 24 finished with value: 0.6627136602116497 and parameters: {'max_depth': 7, 'learning_rate': 0.05, 'min_child_weight': 104, 'gamma': 0.00031925064201403014, 'alpha': 0.0021360862349561484, 'lambda': 0.5296003754822393, 'colsample_bytree': 0.5117759927300543, 'subsample': 0.6480555313621057}. Best is trial 12 with value: 0.6826002673431093.\u001b[0m\n"
     ]
    },
    {
     "name": "stdout",
     "output_type": "stream",
     "text": [
      "[23:29:24] WARNING: ../src/learner.cc:516: \n",
      "Parameters: { use_label_encoder } might not be used.\n",
      "\n",
      "  This may not be accurate due to some parameters are only used in language bindings but\n",
      "  passed down to XGBoost core.  Or some parameters are not used but slip through this\n",
      "  verification. Please open an issue if you find above cases.\n",
      "\n",
      "\n",
      "[0]\tvalidation_0-auc:0.59727\n",
      "Will train until validation_0-auc hasn't improved in 500 rounds.\n",
      "[200]\tvalidation_0-auc:0.67389\n",
      "[400]\tvalidation_0-auc:0.67341\n",
      "[600]\tvalidation_0-auc:0.66903\n",
      "Stopping. Best iteration:\n",
      "[143]\tvalidation_0-auc:0.68014\n",
      "\n"
     ]
    },
    {
     "name": "stderr",
     "output_type": "stream",
     "text": [
      "\u001b[32m[I 2021-06-29 23:29:28,787]\u001b[0m Trial 25 finished with value: 0.680140200124371 and parameters: {'max_depth': 5, 'learning_rate': 0.08, 'min_child_weight': 60, 'gamma': 0.06618104109464146, 'alpha': 0.012977161381543804, 'lambda': 3.57903768885774, 'colsample_bytree': 0.5818516759411875, 'subsample': 0.7382931122917055}. Best is trial 12 with value: 0.6826002673431093.\u001b[0m\n"
     ]
    },
    {
     "name": "stdout",
     "output_type": "stream",
     "text": [
      "[23:29:28] WARNING: ../src/learner.cc:516: \n",
      "Parameters: { use_label_encoder } might not be used.\n",
      "\n",
      "  This may not be accurate due to some parameters are only used in language bindings but\n",
      "  passed down to XGBoost core.  Or some parameters are not used but slip through this\n",
      "  verification. Please open an issue if you find above cases.\n",
      "\n",
      "\n",
      "[0]\tvalidation_0-auc:0.60431\n",
      "Will train until validation_0-auc hasn't improved in 500 rounds.\n",
      "[200]\tvalidation_0-auc:0.65936\n",
      "[400]\tvalidation_0-auc:0.65651\n",
      "[600]\tvalidation_0-auc:0.65718\n",
      "Stopping. Best iteration:\n",
      "[156]\tvalidation_0-auc:0.66220\n",
      "\n"
     ]
    },
    {
     "name": "stderr",
     "output_type": "stream",
     "text": [
      "\u001b[32m[I 2021-06-29 23:29:32,608]\u001b[0m Trial 26 finished with value: 0.662201222192031 and parameters: {'max_depth': 8, 'learning_rate': 0.08, 'min_child_weight': 138, 'gamma': 0.08166356770254554, 'alpha': 0.016189487195055117, 'lambda': 3.5846294601656257, 'colsample_bytree': 0.41516424626111104, 'subsample': 0.7447660698891198}. Best is trial 12 with value: 0.6826002673431093.\u001b[0m\n"
     ]
    },
    {
     "name": "stdout",
     "output_type": "stream",
     "text": [
      "[23:29:32] WARNING: ../src/learner.cc:516: \n",
      "Parameters: { use_label_encoder } might not be used.\n",
      "\n",
      "  This may not be accurate due to some parameters are only used in language bindings but\n",
      "  passed down to XGBoost core.  Or some parameters are not used but slip through this\n",
      "  verification. Please open an issue if you find above cases.\n",
      "\n",
      "\n",
      "[0]\tvalidation_0-auc:0.61706\n",
      "Will train until validation_0-auc hasn't improved in 500 rounds.\n",
      "[200]\tvalidation_0-auc:0.67592\n",
      "[400]\tvalidation_0-auc:0.67153\n",
      "[600]\tvalidation_0-auc:0.66788\n",
      "Stopping. Best iteration:\n",
      "[133]\tvalidation_0-auc:0.67909\n",
      "\n"
     ]
    },
    {
     "name": "stderr",
     "output_type": "stream",
     "text": [
      "\u001b[32m[I 2021-06-29 23:29:36,192]\u001b[0m Trial 27 finished with value: 0.6790916169881409 and parameters: {'max_depth': 3, 'learning_rate': 0.08, 'min_child_weight': 63, 'gamma': 0.9883068257420011, 'alpha': 0.04573482564150491, 'lambda': 0.19781896195132376, 'colsample_bytree': 0.4523781536292475, 'subsample': 0.7942873989956264}. Best is trial 12 with value: 0.6826002673431093.\u001b[0m\n"
     ]
    },
    {
     "name": "stdout",
     "output_type": "stream",
     "text": [
      "[23:29:36] WARNING: ../src/learner.cc:516: \n",
      "Parameters: { use_label_encoder } might not be used.\n",
      "\n",
      "  This may not be accurate due to some parameters are only used in language bindings but\n",
      "  passed down to XGBoost core.  Or some parameters are not used but slip through this\n",
      "  verification. Please open an issue if you find above cases.\n",
      "\n",
      "\n",
      "[0]\tvalidation_0-auc:0.58545\n",
      "Will train until validation_0-auc hasn't improved in 500 rounds.\n",
      "[200]\tvalidation_0-auc:0.66069\n",
      "[400]\tvalidation_0-auc:0.65920\n",
      "[600]\tvalidation_0-auc:0.65814\n",
      "Stopping. Best iteration:\n",
      "[147]\tvalidation_0-auc:0.66247\n",
      "\n"
     ]
    },
    {
     "name": "stderr",
     "output_type": "stream",
     "text": [
      "\u001b[32m[I 2021-06-29 23:29:40,320]\u001b[0m Trial 28 finished with value: 0.6624692947503369 and parameters: {'max_depth': 6, 'learning_rate': 0.08, 'min_child_weight': 112, 'gamma': 0.026091905407054333, 'alpha': 0.013080861934760568, 'lambda': 7.849515396714662, 'colsample_bytree': 0.6873057890655508, 'subsample': 0.6920288286890998}. Best is trial 12 with value: 0.6826002673431093.\u001b[0m\n"
     ]
    },
    {
     "name": "stdout",
     "output_type": "stream",
     "text": [
      "[23:29:40] WARNING: ../src/learner.cc:516: \n",
      "Parameters: { use_label_encoder } might not be used.\n",
      "\n",
      "  This may not be accurate due to some parameters are only used in language bindings but\n",
      "  passed down to XGBoost core.  Or some parameters are not used but slip through this\n",
      "  verification. Please open an issue if you find above cases.\n",
      "\n",
      "\n",
      "[0]\tvalidation_0-auc:0.56842\n",
      "Will train until validation_0-auc hasn't improved in 500 rounds.\n",
      "[200]\tvalidation_0-auc:0.63726\n",
      "[400]\tvalidation_0-auc:0.63567\n",
      "[600]\tvalidation_0-auc:0.63379\n",
      "Stopping. Best iteration:\n",
      "[226]\tvalidation_0-auc:0.63834\n",
      "\n"
     ]
    },
    {
     "name": "stderr",
     "output_type": "stream",
     "text": [
      "\u001b[32m[I 2021-06-29 23:29:44,203]\u001b[0m Trial 29 finished with value: 0.6383409408799711 and parameters: {'max_depth': 9, 'learning_rate': 0.08, 'min_child_weight': 178, 'gamma': 0.01967070534893833, 'alpha': 0.0019119123789074469, 'lambda': 0.7109305520561955, 'colsample_bytree': 0.3112380129563468, 'subsample': 0.3667186549593857}. Best is trial 12 with value: 0.6826002673431093.\u001b[0m\n"
     ]
    },
    {
     "name": "stdout",
     "output_type": "stream",
     "text": [
      "[23:29:44] WARNING: ../src/learner.cc:516: \n",
      "Parameters: { use_label_encoder } might not be used.\n",
      "\n",
      "  This may not be accurate due to some parameters are only used in language bindings but\n",
      "  passed down to XGBoost core.  Or some parameters are not used but slip through this\n",
      "  verification. Please open an issue if you find above cases.\n",
      "\n",
      "\n",
      "[0]\tvalidation_0-auc:0.59736\n",
      "Will train until validation_0-auc hasn't improved in 500 rounds.\n",
      "[200]\tvalidation_0-auc:0.66744\n",
      "[400]\tvalidation_0-auc:0.66058\n",
      "[600]\tvalidation_0-auc:0.65367\n",
      "Stopping. Best iteration:\n",
      "[107]\tvalidation_0-auc:0.67664\n",
      "\n"
     ]
    },
    {
     "name": "stderr",
     "output_type": "stream",
     "text": [
      "\u001b[32m[I 2021-06-29 23:29:48,871]\u001b[0m Trial 30 finished with value: 0.6766388442607855 and parameters: {'max_depth': 7, 'learning_rate': 0.1, 'min_child_weight': 25, 'gamma': 0.08830232649713214, 'alpha': 0.242815324307716, 'lambda': 4.118803663913653, 'colsample_bytree': 0.5953762950492892, 'subsample': 0.7991119802858581}. Best is trial 12 with value: 0.6826002673431093.\u001b[0m\n"
     ]
    },
    {
     "name": "stdout",
     "output_type": "stream",
     "text": [
      "[23:29:48] WARNING: ../src/learner.cc:516: \n",
      "Parameters: { use_label_encoder } might not be used.\n",
      "\n",
      "  This may not be accurate due to some parameters are only used in language bindings but\n",
      "  passed down to XGBoost core.  Or some parameters are not used but slip through this\n",
      "  verification. Please open an issue if you find above cases.\n",
      "\n",
      "\n",
      "[0]\tvalidation_0-auc:0.63293\n",
      "Will train until validation_0-auc hasn't improved in 500 rounds.\n",
      "[200]\tvalidation_0-auc:0.66990\n",
      "[400]\tvalidation_0-auc:0.67032\n",
      "[600]\tvalidation_0-auc:0.66832\n",
      "[800]\tvalidation_0-auc:0.66613\n",
      "Stopping. Best iteration:\n",
      "[370]\tvalidation_0-auc:0.67457\n",
      "\n"
     ]
    },
    {
     "name": "stderr",
     "output_type": "stream",
     "text": [
      "\u001b[32m[I 2021-06-29 23:29:54,514]\u001b[0m Trial 31 finished with value: 0.6745672087081639 and parameters: {'max_depth': 5, 'learning_rate': 0.05, 'min_child_weight': 57, 'gamma': 0.04610268510091342, 'alpha': 0.005279492274928876, 'lambda': 0.0003346128092602553, 'colsample_bytree': 0.546214620196553, 'subsample': 0.5348429579340995}. Best is trial 12 with value: 0.6826002673431093.\u001b[0m\n"
     ]
    },
    {
     "name": "stdout",
     "output_type": "stream",
     "text": [
      "[23:29:54] WARNING: ../src/learner.cc:516: \n",
      "Parameters: { use_label_encoder } might not be used.\n",
      "\n",
      "  This may not be accurate due to some parameters are only used in language bindings but\n",
      "  passed down to XGBoost core.  Or some parameters are not used but slip through this\n",
      "  verification. Please open an issue if you find above cases.\n",
      "\n",
      "\n",
      "[0]\tvalidation_0-auc:0.60767\n",
      "Will train until validation_0-auc hasn't improved in 500 rounds.\n",
      "[200]\tvalidation_0-auc:0.67261\n",
      "[400]\tvalidation_0-auc:0.66885\n",
      "[600]\tvalidation_0-auc:0.66658\n",
      "Stopping. Best iteration:\n",
      "[145]\tvalidation_0-auc:0.67362\n",
      "\n"
     ]
    },
    {
     "name": "stderr",
     "output_type": "stream",
     "text": [
      "\u001b[32m[I 2021-06-29 23:29:58,796]\u001b[0m Trial 32 finished with value: 0.6736207484512884 and parameters: {'max_depth': 5, 'learning_rate': 0.08, 'min_child_weight': 89, 'gamma': 0.0008502621310677711, 'alpha': 0.0520230974233087, 'lambda': 0.0037309727630579774, 'colsample_bytree': 0.5896630677432196, 'subsample': 0.6494458751318617}. Best is trial 12 with value: 0.6826002673431093.\u001b[0m\n"
     ]
    },
    {
     "name": "stdout",
     "output_type": "stream",
     "text": [
      "[23:29:58] WARNING: ../src/learner.cc:516: \n",
      "Parameters: { use_label_encoder } might not be used.\n",
      "\n",
      "  This may not be accurate due to some parameters are only used in language bindings but\n",
      "  passed down to XGBoost core.  Or some parameters are not used but slip through this\n",
      "  verification. Please open an issue if you find above cases.\n",
      "\n",
      "\n",
      "[0]\tvalidation_0-auc:0.57168\n",
      "Will train until validation_0-auc hasn't improved in 500 rounds.\n",
      "[200]\tvalidation_0-auc:0.67734\n",
      "[400]\tvalidation_0-auc:0.67565\n",
      "[600]\tvalidation_0-auc:0.67385\n",
      "Stopping. Best iteration:\n",
      "[141]\tvalidation_0-auc:0.67985\n",
      "\n"
     ]
    },
    {
     "name": "stderr",
     "output_type": "stream",
     "text": [
      "\u001b[32m[I 2021-06-29 23:30:02,836]\u001b[0m Trial 33 finished with value: 0.679844773223381 and parameters: {'max_depth': 4, 'learning_rate': 0.05, 'min_child_weight': 46, 'gamma': 0.005183305469382548, 'alpha': 0.0011332178902782697, 'lambda': 9.62876649220968, 'colsample_bytree': 0.49093916045271835, 'subsample': 0.7501098457274393}. Best is trial 12 with value: 0.6826002673431093.\u001b[0m\n"
     ]
    },
    {
     "name": "stdout",
     "output_type": "stream",
     "text": [
      "[23:30:02] WARNING: ../src/learner.cc:516: \n",
      "Parameters: { use_label_encoder } might not be used.\n",
      "\n",
      "  This may not be accurate due to some parameters are only used in language bindings but\n",
      "  passed down to XGBoost core.  Or some parameters are not used but slip through this\n",
      "  verification. Please open an issue if you find above cases.\n",
      "\n",
      "\n",
      "[0]\tvalidation_0-auc:0.57591\n",
      "Will train until validation_0-auc hasn't improved in 500 rounds.\n",
      "[200]\tvalidation_0-auc:0.67696\n",
      "[400]\tvalidation_0-auc:0.67624\n",
      "[600]\tvalidation_0-auc:0.67699\n",
      "[800]\tvalidation_0-auc:0.67406\n",
      "[1000]\tvalidation_0-auc:0.67486\n",
      "Stopping. Best iteration:\n",
      "[562]\tvalidation_0-auc:0.67808\n",
      "\n"
     ]
    },
    {
     "name": "stderr",
     "output_type": "stream",
     "text": [
      "\u001b[32m[I 2021-06-29 23:30:09,348]\u001b[0m Trial 34 finished with value: 0.6780776826859777 and parameters: {'max_depth': 4, 'learning_rate': 0.05, 'min_child_weight': 71, 'gamma': 0.0010882573231562186, 'alpha': 0.0009421588107009569, 'lambda': 9.70493225142776, 'colsample_bytree': 0.486090699224996, 'subsample': 0.7384972139573787}. Best is trial 12 with value: 0.6826002673431093.\u001b[0m\n"
     ]
    },
    {
     "name": "stdout",
     "output_type": "stream",
     "text": [
      "[23:30:09] WARNING: ../src/learner.cc:516: \n",
      "Parameters: { use_label_encoder } might not be used.\n",
      "\n",
      "  This may not be accurate due to some parameters are only used in language bindings but\n",
      "  passed down to XGBoost core.  Or some parameters are not used but slip through this\n",
      "  verification. Please open an issue if you find above cases.\n",
      "\n",
      "\n",
      "[0]\tvalidation_0-auc:0.59770\n",
      "Will train until validation_0-auc hasn't improved in 500 rounds.\n",
      "[200]\tvalidation_0-auc:0.66627\n",
      "[400]\tvalidation_0-auc:0.66949\n",
      "[600]\tvalidation_0-auc:0.67372\n",
      "[800]\tvalidation_0-auc:0.67722\n",
      "[1000]\tvalidation_0-auc:0.67908\n",
      "[1200]\tvalidation_0-auc:0.68020\n",
      "[1400]\tvalidation_0-auc:0.68119\n",
      "[1600]\tvalidation_0-auc:0.68095\n",
      "[1800]\tvalidation_0-auc:0.68068\n",
      "[2000]\tvalidation_0-auc:0.68068\n",
      "Stopping. Best iteration:\n",
      "[1531]\tvalidation_0-auc:0.68146\n",
      "\n"
     ]
    },
    {
     "name": "stderr",
     "output_type": "stream",
     "text": [
      "\u001b[32m[I 2021-06-29 23:30:21,410]\u001b[0m Trial 35 finished with value: 0.6814550321960613 and parameters: {'max_depth': 4, 'learning_rate': 0.005, 'min_child_weight': 12, 'gamma': 0.0036068546108619912, 'alpha': 0.00038478034195463663, 'lambda': 1.4463290946062712, 'colsample_bytree': 0.4129580322140963, 'subsample': 0.7704427129395095}. Best is trial 12 with value: 0.6826002673431093.\u001b[0m\n"
     ]
    },
    {
     "name": "stdout",
     "output_type": "stream",
     "text": [
      "[23:30:21] WARNING: ../src/learner.cc:516: \n",
      "Parameters: { use_label_encoder } might not be used.\n",
      "\n",
      "  This may not be accurate due to some parameters are only used in language bindings but\n",
      "  passed down to XGBoost core.  Or some parameters are not used but slip through this\n",
      "  verification. Please open an issue if you find above cases.\n",
      "\n",
      "\n",
      "[0]\tvalidation_0-auc:0.60081\n",
      "Will train until validation_0-auc hasn't improved in 500 rounds.\n",
      "[200]\tvalidation_0-auc:0.66849\n",
      "[400]\tvalidation_0-auc:0.67259\n",
      "[600]\tvalidation_0-auc:0.67444\n",
      "[800]\tvalidation_0-auc:0.67575\n",
      "[1000]\tvalidation_0-auc:0.67673\n",
      "[1200]\tvalidation_0-auc:0.67655\n",
      "[1400]\tvalidation_0-auc:0.67621\n",
      "[1600]\tvalidation_0-auc:0.67546\n",
      "Stopping. Best iteration:\n",
      "[1108]\tvalidation_0-auc:0.67744\n",
      "\n"
     ]
    },
    {
     "name": "stderr",
     "output_type": "stream",
     "text": [
      "\u001b[32m[I 2021-06-29 23:30:31,851]\u001b[0m Trial 36 finished with value: 0.6774412383128572 and parameters: {'max_depth': 6, 'learning_rate': 0.005, 'min_child_weight': 16, 'gamma': 0.0027568420411945424, 'alpha': 0.0003767735281625585, 'lambda': 0.24471637744021105, 'colsample_bytree': 0.36919578361594785, 'subsample': 0.7035385994756689}. Best is trial 12 with value: 0.6826002673431093.\u001b[0m\n"
     ]
    },
    {
     "name": "stdout",
     "output_type": "stream",
     "text": [
      "[23:30:31] WARNING: ../src/learner.cc:516: \n",
      "Parameters: { use_label_encoder } might not be used.\n",
      "\n",
      "  This may not be accurate due to some parameters are only used in language bindings but\n",
      "  passed down to XGBoost core.  Or some parameters are not used but slip through this\n",
      "  verification. Please open an issue if you find above cases.\n",
      "\n",
      "\n",
      "[0]\tvalidation_0-auc:0.61053\n",
      "Will train until validation_0-auc hasn't improved in 500 rounds.\n",
      "[200]\tvalidation_0-auc:0.65149\n",
      "[400]\tvalidation_0-auc:0.65485\n",
      "[600]\tvalidation_0-auc:0.65742\n",
      "[800]\tvalidation_0-auc:0.66095\n",
      "[1000]\tvalidation_0-auc:0.66414\n",
      "[1200]\tvalidation_0-auc:0.66692\n",
      "[1400]\tvalidation_0-auc:0.66893\n",
      "[1600]\tvalidation_0-auc:0.67061\n",
      "[1800]\tvalidation_0-auc:0.67108\n",
      "[2000]\tvalidation_0-auc:0.67164\n",
      "[2200]\tvalidation_0-auc:0.67175\n",
      "[2400]\tvalidation_0-auc:0.67127\n",
      "[2600]\tvalidation_0-auc:0.67144\n",
      "Stopping. Best iteration:\n",
      "[2189]\tvalidation_0-auc:0.67185\n",
      "\n"
     ]
    },
    {
     "name": "stderr",
     "output_type": "stream",
     "text": [
      "\u001b[32m[I 2021-06-29 23:30:46,764]\u001b[0m Trial 37 finished with value: 0.6718463634225023 and parameters: {'max_depth': 4, 'learning_rate': 0.005, 'min_child_weight': 95, 'gamma': 0.0003783142050515528, 'alpha': 0.00013312433265496416, 'lambda': 1.807707984354602, 'colsample_bytree': 0.40681426800450954, 'subsample': 0.6541143355829155}. Best is trial 12 with value: 0.6826002673431093.\u001b[0m\n"
     ]
    },
    {
     "name": "stdout",
     "output_type": "stream",
     "text": [
      "[23:30:46] WARNING: ../src/learner.cc:516: \n",
      "Parameters: { use_label_encoder } might not be used.\n",
      "\n",
      "  This may not be accurate due to some parameters are only used in language bindings but\n",
      "  passed down to XGBoost core.  Or some parameters are not used but slip through this\n",
      "  verification. Please open an issue if you find above cases.\n",
      "\n",
      "\n",
      "[0]\tvalidation_0-auc:0.56842\n",
      "Will train until validation_0-auc hasn't improved in 500 rounds.\n",
      "[200]\tvalidation_0-auc:0.62081\n",
      "[400]\tvalidation_0-auc:0.62303\n",
      "[600]\tvalidation_0-auc:0.62857\n",
      "[800]\tvalidation_0-auc:0.63216\n",
      "[1000]\tvalidation_0-auc:0.63402\n",
      "[1200]\tvalidation_0-auc:0.63655\n",
      "[1400]\tvalidation_0-auc:0.63848\n",
      "[1600]\tvalidation_0-auc:0.64025\n",
      "[1800]\tvalidation_0-auc:0.64118\n",
      "[2000]\tvalidation_0-auc:0.64231\n",
      "[2200]\tvalidation_0-auc:0.64287\n",
      "[2400]\tvalidation_0-auc:0.64339\n",
      "[2600]\tvalidation_0-auc:0.64411\n",
      "[2800]\tvalidation_0-auc:0.64446\n",
      "[3000]\tvalidation_0-auc:0.64478\n",
      "[3200]\tvalidation_0-auc:0.64507\n",
      "[3400]\tvalidation_0-auc:0.64555\n",
      "[3600]\tvalidation_0-auc:0.64590\n",
      "[3800]\tvalidation_0-auc:0.64614\n",
      "[3999]\tvalidation_0-auc:0.64642\n"
     ]
    },
    {
     "name": "stderr",
     "output_type": "stream",
     "text": [
      "\u001b[32m[I 2021-06-29 23:31:08,555]\u001b[0m Trial 38 finished with value: 0.6464560625429691 and parameters: {'max_depth': 3, 'learning_rate': 0.005, 'min_child_weight': 293, 'gamma': 0.01523033919083343, 'alpha': 0.21214158240741252, 'lambda': 0.7867548837411026, 'colsample_bytree': 0.23638637056230666, 'subsample': 0.7665136024700158}. Best is trial 12 with value: 0.6826002673431093.\u001b[0m\n"
     ]
    },
    {
     "name": "stdout",
     "output_type": "stream",
     "text": [
      "[23:31:08] WARNING: ../src/learner.cc:516: \n",
      "Parameters: { use_label_encoder } might not be used.\n",
      "\n",
      "  This may not be accurate due to some parameters are only used in language bindings but\n",
      "  passed down to XGBoost core.  Or some parameters are not used but slip through this\n",
      "  verification. Please open an issue if you find above cases.\n",
      "\n",
      "\n",
      "[0]\tvalidation_0-auc:0.58800\n",
      "Will train until validation_0-auc hasn't improved in 500 rounds.\n",
      "[200]\tvalidation_0-auc:0.66336\n",
      "[400]\tvalidation_0-auc:0.66908\n",
      "[600]\tvalidation_0-auc:0.67191\n",
      "[800]\tvalidation_0-auc:0.67314\n",
      "[1000]\tvalidation_0-auc:0.67472\n",
      "[1200]\tvalidation_0-auc:0.67519\n",
      "[1400]\tvalidation_0-auc:0.67496\n",
      "[1600]\tvalidation_0-auc:0.67461\n",
      "Stopping. Best iteration:\n",
      "[1134]\tvalidation_0-auc:0.67559\n",
      "\n"
     ]
    },
    {
     "name": "stderr",
     "output_type": "stream",
     "text": [
      "\u001b[32m[I 2021-06-29 23:31:20,040]\u001b[0m Trial 39 finished with value: 0.6755866138788641 and parameters: {'max_depth': 8, 'learning_rate': 0.005, 'min_child_weight': 16, 'gamma': 0.0002101891650564089, 'alpha': 0.03273126158730686, 'lambda': 4.827590530552105, 'colsample_bytree': 0.34400516672837944, 'subsample': 0.7738977230249151}. Best is trial 12 with value: 0.6826002673431093.\u001b[0m\n"
     ]
    },
    {
     "name": "stdout",
     "output_type": "stream",
     "text": [
      "[23:31:20] WARNING: ../src/learner.cc:516: \n",
      "Parameters: { use_label_encoder } might not be used.\n",
      "\n",
      "  This may not be accurate due to some parameters are only used in language bindings but\n",
      "  passed down to XGBoost core.  Or some parameters are not used but slip through this\n",
      "  verification. Please open an issue if you find above cases.\n",
      "\n",
      "\n",
      "[0]\tvalidation_0-auc:0.59446\n",
      "Will train until validation_0-auc hasn't improved in 500 rounds.\n",
      "[200]\tvalidation_0-auc:0.65201\n",
      "[400]\tvalidation_0-auc:0.65455\n",
      "[600]\tvalidation_0-auc:0.65640\n",
      "[800]\tvalidation_0-auc:0.65542\n",
      "[1000]\tvalidation_0-auc:0.65504\n",
      "Stopping. Best iteration:\n",
      "[607]\tvalidation_0-auc:0.65669\n",
      "\n"
     ]
    },
    {
     "name": "stderr",
     "output_type": "stream",
     "text": [
      "\u001b[32m[I 2021-06-29 23:31:26,378]\u001b[0m Trial 40 finished with value: 0.6566920575754205 and parameters: {'max_depth': 7, 'learning_rate': 0.02, 'min_child_weight': 117, 'gamma': 0.0001439697937072644, 'alpha': 0.00042139124663281694, 'lambda': 0.12294212837885261, 'colsample_bytree': 0.7045298857962754, 'subsample': 0.43801119777005587}. Best is trial 12 with value: 0.6826002673431093.\u001b[0m\n"
     ]
    },
    {
     "name": "stdout",
     "output_type": "stream",
     "text": [
      "[23:31:26] WARNING: ../src/learner.cc:516: \n",
      "Parameters: { use_label_encoder } might not be used.\n",
      "\n",
      "  This may not be accurate due to some parameters are only used in language bindings but\n",
      "  passed down to XGBoost core.  Or some parameters are not used but slip through this\n",
      "  verification. Please open an issue if you find above cases.\n",
      "\n",
      "\n",
      "[0]\tvalidation_0-auc:0.58688\n",
      "Will train until validation_0-auc hasn't improved in 500 rounds.\n",
      "[200]\tvalidation_0-auc:0.67637\n",
      "[400]\tvalidation_0-auc:0.67875\n",
      "[600]\tvalidation_0-auc:0.67747\n",
      "[800]\tvalidation_0-auc:0.67691\n",
      "Stopping. Best iteration:\n",
      "[440]\tvalidation_0-auc:0.67961\n",
      "\n"
     ]
    },
    {
     "name": "stderr",
     "output_type": "stream",
     "text": [
      "\u001b[32m[I 2021-06-29 23:31:31,890]\u001b[0m Trial 41 finished with value: 0.6796077022534507 and parameters: {'max_depth': 4, 'learning_rate': 0.02, 'min_child_weight': 39, 'gamma': 0.004143995043057653, 'alpha': 0.0011929340926341635, 'lambda': 2.492662926303947, 'colsample_bytree': 0.4302985665663308, 'subsample': 0.7197985586338989}. Best is trial 12 with value: 0.6826002673431093.\u001b[0m\n"
     ]
    },
    {
     "name": "stdout",
     "output_type": "stream",
     "text": [
      "[23:31:31] WARNING: ../src/learner.cc:516: \n",
      "Parameters: { use_label_encoder } might not be used.\n",
      "\n",
      "  This may not be accurate due to some parameters are only used in language bindings but\n",
      "  passed down to XGBoost core.  Or some parameters are not used but slip through this\n",
      "  verification. Please open an issue if you find above cases.\n",
      "\n",
      "\n",
      "[0]\tvalidation_0-auc:0.57270\n",
      "Will train until validation_0-auc hasn't improved in 500 rounds.\n",
      "[200]\tvalidation_0-auc:0.65960\n",
      "[400]\tvalidation_0-auc:0.66867\n",
      "[600]\tvalidation_0-auc:0.67119\n",
      "[800]\tvalidation_0-auc:0.67293\n",
      "[1000]\tvalidation_0-auc:0.67355\n",
      "[1200]\tvalidation_0-auc:0.67561\n",
      "[1400]\tvalidation_0-auc:0.67732\n",
      "[1600]\tvalidation_0-auc:0.67750\n",
      "[1800]\tvalidation_0-auc:0.67805\n",
      "[2000]\tvalidation_0-auc:0.67852\n",
      "[2200]\tvalidation_0-auc:0.67818\n",
      "[2400]\tvalidation_0-auc:0.67778\n",
      "Stopping. Best iteration:\n",
      "[2013]\tvalidation_0-auc:0.67856\n",
      "\n"
     ]
    },
    {
     "name": "stderr",
     "output_type": "stream",
     "text": [
      "\u001b[32m[I 2021-06-29 23:31:47,950]\u001b[0m Trial 42 finished with value: 0.6785645899857575 and parameters: {'max_depth': 4, 'learning_rate': 0.005, 'min_child_weight': 48, 'gamma': 0.001785876639166048, 'alpha': 0.00368026053233087, 'lambda': 9.202631219281583, 'colsample_bytree': 0.5198179704470297, 'subsample': 0.7574165965993634}. Best is trial 12 with value: 0.6826002673431093.\u001b[0m\n"
     ]
    },
    {
     "name": "stdout",
     "output_type": "stream",
     "text": [
      "[23:31:47] WARNING: ../src/learner.cc:516: \n",
      "Parameters: { use_label_encoder } might not be used.\n",
      "\n",
      "  This may not be accurate due to some parameters are only used in language bindings but\n",
      "  passed down to XGBoost core.  Or some parameters are not used but slip through this\n",
      "  verification. Please open an issue if you find above cases.\n",
      "\n",
      "\n",
      "[0]\tvalidation_0-auc:0.59452\n",
      "Will train until validation_0-auc hasn't improved in 500 rounds.\n",
      "[200]\tvalidation_0-auc:0.67433\n",
      "[400]\tvalidation_0-auc:0.66810\n",
      "[600]\tvalidation_0-auc:0.66089\n",
      "Stopping. Best iteration:\n",
      "[101]\tvalidation_0-auc:0.67891\n",
      "\n"
     ]
    },
    {
     "name": "stderr",
     "output_type": "stream",
     "text": [
      "\u001b[32m[I 2021-06-29 23:31:51,754]\u001b[0m Trial 43 finished with value: 0.6789110783264248 and parameters: {'max_depth': 4, 'learning_rate': 0.08, 'min_child_weight': 6, 'gamma': 0.010286282646222283, 'alpha': 0.00022721259597949017, 'lambda': 4.829753650175131, 'colsample_bytree': 0.6282386329159082, 'subsample': 0.7965228121471916}. Best is trial 12 with value: 0.6826002673431093.\u001b[0m\n"
     ]
    },
    {
     "name": "stdout",
     "output_type": "stream",
     "text": [
      "[23:31:51] WARNING: ../src/learner.cc:516: \n",
      "Parameters: { use_label_encoder } might not be used.\n",
      "\n",
      "  This may not be accurate due to some parameters are only used in language bindings but\n",
      "  passed down to XGBoost core.  Or some parameters are not used but slip through this\n",
      "  verification. Please open an issue if you find above cases.\n",
      "\n",
      "\n",
      "[0]\tvalidation_0-auc:0.58849\n",
      "Will train until validation_0-auc hasn't improved in 500 rounds.\n",
      "[200]\tvalidation_0-auc:0.65109\n",
      "[400]\tvalidation_0-auc:0.65241\n",
      "[600]\tvalidation_0-auc:0.64617\n",
      "Stopping. Best iteration:\n",
      "[255]\tvalidation_0-auc:0.65567\n",
      "\n"
     ]
    },
    {
     "name": "stderr",
     "output_type": "stream",
     "text": [
      "\u001b[32m[I 2021-06-29 23:31:55,904]\u001b[0m Trial 44 finished with value: 0.6556717405932974 and parameters: {'max_depth': 3, 'learning_rate': 0.1, 'min_child_weight': 73, 'gamma': 0.003702514234139354, 'alpha': 0.010557280351862082, 'lambda': 0.33460856673003775, 'colsample_bytree': 0.4627468076778726, 'subsample': 0.2903167275068524}. Best is trial 12 with value: 0.6826002673431093.\u001b[0m\n"
     ]
    },
    {
     "name": "stdout",
     "output_type": "stream",
     "text": [
      "[23:31:55] WARNING: ../src/learner.cc:516: \n",
      "Parameters: { use_label_encoder } might not be used.\n",
      "\n",
      "  This may not be accurate due to some parameters are only used in language bindings but\n",
      "  passed down to XGBoost core.  Or some parameters are not used but slip through this\n",
      "  verification. Please open an issue if you find above cases.\n",
      "\n",
      "\n",
      "[0]\tvalidation_0-auc:0.63239\n",
      "Will train until validation_0-auc hasn't improved in 500 rounds.\n",
      "[200]\tvalidation_0-auc:0.67479\n",
      "[400]\tvalidation_0-auc:0.67088\n",
      "[600]\tvalidation_0-auc:0.66609\n",
      "Stopping. Best iteration:\n",
      "[114]\tvalidation_0-auc:0.67953\n",
      "\n"
     ]
    },
    {
     "name": "stderr",
     "output_type": "stream",
     "text": [
      "\u001b[32m[I 2021-06-29 23:32:00,399]\u001b[0m Trial 45 finished with value: 0.6795311100939349 and parameters: {'max_depth': 6, 'learning_rate': 0.05, 'min_child_weight': 22, 'gamma': 0.042211008804379696, 'alpha': 0.0005098562139638545, 'lambda': 0.9569190490554017, 'colsample_bytree': 0.576330378802993, 'subsample': 0.6785660227894023}. Best is trial 12 with value: 0.6826002673431093.\u001b[0m\n"
     ]
    },
    {
     "name": "stdout",
     "output_type": "stream",
     "text": [
      "[23:32:00] WARNING: ../src/learner.cc:516: \n",
      "Parameters: { use_label_encoder } might not be used.\n",
      "\n",
      "  This may not be accurate due to some parameters are only used in language bindings but\n",
      "  passed down to XGBoost core.  Or some parameters are not used but slip through this\n",
      "  verification. Please open an issue if you find above cases.\n",
      "\n",
      "\n",
      "[0]\tvalidation_0-auc:0.60526\n",
      "Will train until validation_0-auc hasn't improved in 500 rounds.\n",
      "[200]\tvalidation_0-auc:0.66262\n",
      "[400]\tvalidation_0-auc:0.66795\n",
      "[600]\tvalidation_0-auc:0.67423\n",
      "[800]\tvalidation_0-auc:0.67707\n",
      "[1000]\tvalidation_0-auc:0.67924\n",
      "[1200]\tvalidation_0-auc:0.68066\n",
      "[1400]\tvalidation_0-auc:0.68178\n",
      "[1600]\tvalidation_0-auc:0.68176\n",
      "[1800]\tvalidation_0-auc:0.68217\n",
      "[2000]\tvalidation_0-auc:0.68239\n",
      "[2200]\tvalidation_0-auc:0.68232\n",
      "Stopping. Best iteration:\n",
      "[1891]\tvalidation_0-auc:0.68261\n",
      "\n"
     ]
    },
    {
     "name": "stderr",
     "output_type": "stream",
     "text": [
      "\u001b[32m[I 2021-06-29 23:32:14,718]\u001b[0m Trial 46 finished with value: 0.6826075618344917 and parameters: {'max_depth': 3, 'learning_rate': 0.005, 'min_child_weight': 2, 'gamma': 0.14202669866387335, 'alpha': 0.00018522779651839022, 'lambda': 2.3871926653042683, 'colsample_bytree': 0.49615654732725956, 'subsample': 0.6274073027468293}. Best is trial 46 with value: 0.6826075618344917.\u001b[0m\n"
     ]
    },
    {
     "name": "stdout",
     "output_type": "stream",
     "text": [
      "[23:32:14] WARNING: ../src/learner.cc:516: \n",
      "Parameters: { use_label_encoder } might not be used.\n",
      "\n",
      "  This may not be accurate due to some parameters are only used in language bindings but\n",
      "  passed down to XGBoost core.  Or some parameters are not used but slip through this\n",
      "  verification. Please open an issue if you find above cases.\n",
      "\n",
      "\n",
      "[0]\tvalidation_0-auc:0.59727\n",
      "Will train until validation_0-auc hasn't improved in 500 rounds.\n",
      "[200]\tvalidation_0-auc:0.66349\n",
      "[400]\tvalidation_0-auc:0.66773\n",
      "[600]\tvalidation_0-auc:0.67459\n",
      "[800]\tvalidation_0-auc:0.67729\n",
      "[1000]\tvalidation_0-auc:0.67915\n",
      "[1200]\tvalidation_0-auc:0.68061\n",
      "[1400]\tvalidation_0-auc:0.68107\n",
      "[1600]\tvalidation_0-auc:0.68101\n",
      "[1800]\tvalidation_0-auc:0.68139\n",
      "[2000]\tvalidation_0-auc:0.68067\n",
      "[2200]\tvalidation_0-auc:0.68092\n",
      "Stopping. Best iteration:\n",
      "[1777]\tvalidation_0-auc:0.68152\n",
      "\n"
     ]
    },
    {
     "name": "stderr",
     "output_type": "stream",
     "text": [
      "\u001b[32m[I 2021-06-29 23:32:28,326]\u001b[0m Trial 47 finished with value: 0.681518858995658 and parameters: {'max_depth': 3, 'learning_rate': 0.005, 'min_child_weight': 5, 'gamma': 0.15384537810963997, 'alpha': 0.10679151123184374, 'lambda': 2.429880827308094, 'colsample_bytree': 0.521405306570704, 'subsample': 0.6200209779045291}. Best is trial 46 with value: 0.6826075618344917.\u001b[0m\n"
     ]
    },
    {
     "name": "stdout",
     "output_type": "stream",
     "text": [
      "[23:32:28] WARNING: ../src/learner.cc:516: \n",
      "Parameters: { use_label_encoder } might not be used.\n",
      "\n",
      "  This may not be accurate due to some parameters are only used in language bindings but\n",
      "  passed down to XGBoost core.  Or some parameters are not used but slip through this\n",
      "  verification. Please open an issue if you find above cases.\n",
      "\n",
      "\n",
      "[0]\tvalidation_0-auc:0.59743\n",
      "Will train until validation_0-auc hasn't improved in 500 rounds.\n",
      "[200]\tvalidation_0-auc:0.65778\n",
      "[400]\tvalidation_0-auc:0.66348\n",
      "[600]\tvalidation_0-auc:0.66895\n",
      "[800]\tvalidation_0-auc:0.67342\n",
      "[1000]\tvalidation_0-auc:0.67621\n",
      "[1200]\tvalidation_0-auc:0.67807\n",
      "[1400]\tvalidation_0-auc:0.67913\n",
      "[1600]\tvalidation_0-auc:0.68032\n",
      "[1800]\tvalidation_0-auc:0.68095\n",
      "[2000]\tvalidation_0-auc:0.68095\n",
      "[2200]\tvalidation_0-auc:0.68061\n",
      "[2400]\tvalidation_0-auc:0.68092\n",
      "[2600]\tvalidation_0-auc:0.68131\n",
      "[2800]\tvalidation_0-auc:0.68153\n",
      "[3000]\tvalidation_0-auc:0.68115\n",
      "[3200]\tvalidation_0-auc:0.68129\n",
      "Stopping. Best iteration:\n",
      "[2757]\tvalidation_0-auc:0.68169\n",
      "\n"
     ]
    },
    {
     "name": "stderr",
     "output_type": "stream",
     "text": [
      "\u001b[32m[I 2021-06-29 23:32:47,522]\u001b[0m Trial 48 finished with value: 0.6816939267888372 and parameters: {'max_depth': 3, 'learning_rate': 0.005, 'min_child_weight': 1, 'gamma': 0.14286745197014164, 'alpha': 0.42519093041764633, 'lambda': 1.930941142107692, 'colsample_bytree': 0.37224801045843847, 'subsample': 0.48970760973717264}. Best is trial 46 with value: 0.6826075618344917.\u001b[0m\n"
     ]
    },
    {
     "name": "stdout",
     "output_type": "stream",
     "text": [
      "[23:32:47] WARNING: ../src/learner.cc:516: \n",
      "Parameters: { use_label_encoder } might not be used.\n",
      "\n",
      "  This may not be accurate due to some parameters are only used in language bindings but\n",
      "  passed down to XGBoost core.  Or some parameters are not used but slip through this\n",
      "  verification. Please open an issue if you find above cases.\n",
      "\n",
      "\n",
      "[0]\tvalidation_0-auc:0.59561\n",
      "Will train until validation_0-auc hasn't improved in 500 rounds.\n",
      "[200]\tvalidation_0-auc:0.65800\n",
      "[400]\tvalidation_0-auc:0.66411\n",
      "[600]\tvalidation_0-auc:0.66942\n",
      "[800]\tvalidation_0-auc:0.67292\n",
      "[1000]\tvalidation_0-auc:0.67539\n",
      "[1200]\tvalidation_0-auc:0.67807\n",
      "[1400]\tvalidation_0-auc:0.67886\n",
      "[1600]\tvalidation_0-auc:0.67948\n",
      "[1800]\tvalidation_0-auc:0.67984\n",
      "[2000]\tvalidation_0-auc:0.67993\n",
      "[2200]\tvalidation_0-auc:0.68049\n",
      "[2400]\tvalidation_0-auc:0.68049\n",
      "[2600]\tvalidation_0-auc:0.68092\n",
      "[2800]\tvalidation_0-auc:0.68044\n",
      "[3000]\tvalidation_0-auc:0.68039\n",
      "Stopping. Best iteration:\n",
      "[2631]\tvalidation_0-auc:0.68117\n",
      "\n"
     ]
    },
    {
     "name": "stderr",
     "output_type": "stream",
     "text": [
      "\u001b[32m[I 2021-06-29 23:33:06,668]\u001b[0m Trial 49 finished with value: 0.6811687234092993 and parameters: {'max_depth': 3, 'learning_rate': 0.005, 'min_child_weight': 5, 'gamma': 0.40618650524936645, 'alpha': 0.5325224589445315, 'lambda': 2.2955919919753027, 'colsample_bytree': 0.35901904982487803, 'subsample': 0.4728170367687298}. Best is trial 46 with value: 0.6826075618344917.\u001b[0m\n"
     ]
    },
    {
     "name": "stdout",
     "output_type": "stream",
     "text": [
      "[23:33:06] WARNING: ../src/learner.cc:516: \n",
      "Parameters: { use_label_encoder } might not be used.\n",
      "\n",
      "  This may not be accurate due to some parameters are only used in language bindings but\n",
      "  passed down to XGBoost core.  Or some parameters are not used but slip through this\n",
      "  verification. Please open an issue if you find above cases.\n",
      "\n",
      "\n",
      "[0]\tvalidation_0-auc:0.59679\n",
      "Will train until validation_0-auc hasn't improved in 500 rounds.\n",
      "[200]\tvalidation_0-auc:0.66115\n",
      "[400]\tvalidation_0-auc:0.66517\n",
      "[600]\tvalidation_0-auc:0.66897\n",
      "[800]\tvalidation_0-auc:0.67268\n",
      "[1000]\tvalidation_0-auc:0.67577\n",
      "[1200]\tvalidation_0-auc:0.67808\n",
      "[1400]\tvalidation_0-auc:0.67943\n",
      "[1600]\tvalidation_0-auc:0.68068\n",
      "[1800]\tvalidation_0-auc:0.68126\n",
      "[2000]\tvalidation_0-auc:0.68153\n",
      "[2200]\tvalidation_0-auc:0.68210\n",
      "[2400]\tvalidation_0-auc:0.68261\n",
      "[2600]\tvalidation_0-auc:0.68246\n",
      "[2800]\tvalidation_0-auc:0.68292\n",
      "[3000]\tvalidation_0-auc:0.68304\n",
      "[3200]\tvalidation_0-auc:0.68284\n",
      "[3400]\tvalidation_0-auc:0.68239\n",
      "Stopping. Best iteration:\n",
      "[2924]\tvalidation_0-auc:0.68321\n",
      "\n"
     ]
    },
    {
     "name": "stderr",
     "output_type": "stream",
     "text": [
      "\u001b[32m[I 2021-06-29 23:33:27,201]\u001b[0m Trial 50 finished with value: 0.6832093573735455 and parameters: {'max_depth': 3, 'learning_rate': 0.005, 'min_child_weight': 1, 'gamma': 0.15327084909140368, 'alpha': 0.43168194746896577, 'lambda': 0.05795207726986036, 'colsample_bytree': 0.2649127706463853, 'subsample': 0.5212740674782604}. Best is trial 50 with value: 0.6832093573735455.\u001b[0m\n"
     ]
    },
    {
     "name": "stdout",
     "output_type": "stream",
     "text": [
      "[23:33:27] WARNING: ../src/learner.cc:516: \n",
      "Parameters: { use_label_encoder } might not be used.\n",
      "\n",
      "  This may not be accurate due to some parameters are only used in language bindings but\n",
      "  passed down to XGBoost core.  Or some parameters are not used but slip through this\n",
      "  verification. Please open an issue if you find above cases.\n",
      "\n",
      "\n",
      "[0]\tvalidation_0-auc:0.57552\n",
      "Will train until validation_0-auc hasn't improved in 500 rounds.\n",
      "[200]\tvalidation_0-auc:0.65712\n",
      "[400]\tvalidation_0-auc:0.65975\n",
      "[600]\tvalidation_0-auc:0.66369\n",
      "[800]\tvalidation_0-auc:0.66661\n",
      "[1000]\tvalidation_0-auc:0.66925\n",
      "[1200]\tvalidation_0-auc:0.67193\n",
      "[1400]\tvalidation_0-auc:0.67345\n",
      "[1600]\tvalidation_0-auc:0.67542\n",
      "[1800]\tvalidation_0-auc:0.67603\n",
      "[2000]\tvalidation_0-auc:0.67624\n",
      "[2200]\tvalidation_0-auc:0.67718\n",
      "[2400]\tvalidation_0-auc:0.67791\n",
      "[2600]\tvalidation_0-auc:0.67797\n",
      "[2800]\tvalidation_0-auc:0.67774\n",
      "[3000]\tvalidation_0-auc:0.67812\n",
      "[3200]\tvalidation_0-auc:0.67818\n",
      "[3400]\tvalidation_0-auc:0.67792\n",
      "[3600]\tvalidation_0-auc:0.67799\n",
      "[3800]\tvalidation_0-auc:0.67832\n",
      "[3999]\tvalidation_0-auc:0.67837\n"
     ]
    },
    {
     "name": "stderr",
     "output_type": "stream",
     "text": [
      "\u001b[32m[I 2021-06-29 23:33:51,783]\u001b[0m Trial 51 finished with value: 0.6784460545007924 and parameters: {'max_depth': 3, 'learning_rate': 0.005, 'min_child_weight': 6, 'gamma': 0.16696670865347468, 'alpha': 0.9889181465641346, 'lambda': 0.05800030362246784, 'colsample_bytree': 0.12005640317979005, 'subsample': 0.5238907857433911}. Best is trial 50 with value: 0.6832093573735455.\u001b[0m\n"
     ]
    },
    {
     "name": "stdout",
     "output_type": "stream",
     "text": [
      "[23:33:51] WARNING: ../src/learner.cc:516: \n",
      "Parameters: { use_label_encoder } might not be used.\n",
      "\n",
      "  This may not be accurate due to some parameters are only used in language bindings but\n",
      "  passed down to XGBoost core.  Or some parameters are not used but slip through this\n",
      "  verification. Please open an issue if you find above cases.\n",
      "\n",
      "\n",
      "[0]\tvalidation_0-auc:0.60058\n",
      "Will train until validation_0-auc hasn't improved in 500 rounds.\n",
      "[200]\tvalidation_0-auc:0.65640\n",
      "[400]\tvalidation_0-auc:0.66216\n",
      "[600]\tvalidation_0-auc:0.66482\n",
      "[800]\tvalidation_0-auc:0.66806\n",
      "[1000]\tvalidation_0-auc:0.67001\n",
      "[1200]\tvalidation_0-auc:0.67141\n",
      "[1400]\tvalidation_0-auc:0.67310\n",
      "[1600]\tvalidation_0-auc:0.67445\n",
      "[1800]\tvalidation_0-auc:0.67515\n",
      "[2000]\tvalidation_0-auc:0.67528\n",
      "[2200]\tvalidation_0-auc:0.67593\n",
      "[2400]\tvalidation_0-auc:0.67543\n",
      "[2600]\tvalidation_0-auc:0.67568\n",
      "Stopping. Best iteration:\n",
      "[2133]\tvalidation_0-auc:0.67608\n",
      "\n"
     ]
    },
    {
     "name": "stderr",
     "output_type": "stream",
     "text": [
      "\u001b[32m[I 2021-06-29 23:34:07,545]\u001b[0m Trial 52 finished with value: 0.6760844629157177 and parameters: {'max_depth': 3, 'learning_rate': 0.005, 'min_child_weight': 27, 'gamma': 0.12611017384430173, 'alpha': 0.34672668910396487, 'lambda': 1.0979319620247165, 'colsample_bytree': 0.2349767099778471, 'subsample': 0.42283193551758863}. Best is trial 50 with value: 0.6832093573735455.\u001b[0m\n"
     ]
    },
    {
     "name": "stdout",
     "output_type": "stream",
     "text": [
      "[23:34:07] WARNING: ../src/learner.cc:516: \n",
      "Parameters: { use_label_encoder } might not be used.\n",
      "\n",
      "  This may not be accurate due to some parameters are only used in language bindings but\n",
      "  passed down to XGBoost core.  Or some parameters are not used but slip through this\n",
      "  verification. Please open an issue if you find above cases.\n",
      "\n",
      "\n",
      "[0]\tvalidation_0-auc:0.59029\n",
      "Will train until validation_0-auc hasn't improved in 500 rounds.\n",
      "[200]\tvalidation_0-auc:0.66413\n",
      "[400]\tvalidation_0-auc:0.66288\n",
      "[600]\tvalidation_0-auc:0.66753\n",
      "[800]\tvalidation_0-auc:0.66989\n",
      "[1000]\tvalidation_0-auc:0.67217\n",
      "[1200]\tvalidation_0-auc:0.67421\n",
      "[1400]\tvalidation_0-auc:0.67551\n",
      "[1600]\tvalidation_0-auc:0.67690\n",
      "[1800]\tvalidation_0-auc:0.67753\n",
      "[2000]\tvalidation_0-auc:0.67834\n",
      "[2200]\tvalidation_0-auc:0.67939\n",
      "[2400]\tvalidation_0-auc:0.67999\n",
      "[2600]\tvalidation_0-auc:0.68044\n",
      "[2800]\tvalidation_0-auc:0.68084\n",
      "[3000]\tvalidation_0-auc:0.68051\n",
      "[3200]\tvalidation_0-auc:0.68102\n",
      "[3400]\tvalidation_0-auc:0.68033\n",
      "[3600]\tvalidation_0-auc:0.68073\n",
      "Stopping. Best iteration:\n",
      "[3213]\tvalidation_0-auc:0.68117\n",
      "\n"
     ]
    },
    {
     "name": "stderr",
     "output_type": "stream",
     "text": [
      "\u001b[32m[I 2021-06-29 23:34:29,039]\u001b[0m Trial 53 finished with value: 0.681170547032145 and parameters: {'max_depth': 3, 'learning_rate': 0.005, 'min_child_weight': 2, 'gamma': 0.932295448055129, 'alpha': 0.13440478301714087, 'lambda': 0.007918887496939996, 'colsample_bytree': 0.1998126720996805, 'subsample': 0.5493832112834827}. Best is trial 50 with value: 0.6832093573735455.\u001b[0m\n"
     ]
    },
    {
     "name": "stdout",
     "output_type": "stream",
     "text": [
      "[23:34:29] WARNING: ../src/learner.cc:516: \n",
      "Parameters: { use_label_encoder } might not be used.\n",
      "\n",
      "  This may not be accurate due to some parameters are only used in language bindings but\n",
      "  passed down to XGBoost core.  Or some parameters are not used but slip through this\n",
      "  verification. Please open an issue if you find above cases.\n",
      "\n",
      "\n",
      "[0]\tvalidation_0-auc:0.60795\n",
      "Will train until validation_0-auc hasn't improved in 500 rounds.\n",
      "[200]\tvalidation_0-auc:0.65957\n",
      "[400]\tvalidation_0-auc:0.66325\n",
      "[600]\tvalidation_0-auc:0.66736\n",
      "[800]\tvalidation_0-auc:0.67131\n",
      "[1000]\tvalidation_0-auc:0.67479\n",
      "[1200]\tvalidation_0-auc:0.67716\n",
      "[1400]\tvalidation_0-auc:0.67797\n",
      "[1600]\tvalidation_0-auc:0.67919\n",
      "[1800]\tvalidation_0-auc:0.67968\n",
      "[2000]\tvalidation_0-auc:0.67940\n",
      "[2200]\tvalidation_0-auc:0.67944\n",
      "Stopping. Best iteration:\n",
      "[1832]\tvalidation_0-auc:0.68003\n",
      "\n"
     ]
    },
    {
     "name": "stderr",
     "output_type": "stream",
     "text": [
      "\u001b[32m[I 2021-06-29 23:34:42,264]\u001b[0m Trial 54 finished with value: 0.6800326063764797 and parameters: {'max_depth': 3, 'learning_rate': 0.005, 'min_child_weight': 14, 'gamma': 0.3296008216154851, 'alpha': 1.1409090383241673, 'lambda': 0.014480250080756388, 'colsample_bytree': 0.2745144284600829, 'subsample': 0.4937504407029934}. Best is trial 50 with value: 0.6832093573735455.\u001b[0m\n"
     ]
    },
    {
     "name": "stdout",
     "output_type": "stream",
     "text": [
      "[23:34:42] WARNING: ../src/learner.cc:516: \n",
      "Parameters: { use_label_encoder } might not be used.\n",
      "\n",
      "  This may not be accurate due to some parameters are only used in language bindings but\n",
      "  passed down to XGBoost core.  Or some parameters are not used but slip through this\n",
      "  verification. Please open an issue if you find above cases.\n",
      "\n",
      "\n",
      "[0]\tvalidation_0-auc:0.59961\n",
      "Will train until validation_0-auc hasn't improved in 500 rounds.\n",
      "[200]\tvalidation_0-auc:0.65938\n",
      "[400]\tvalidation_0-auc:0.66466\n",
      "[600]\tvalidation_0-auc:0.66921\n",
      "[800]\tvalidation_0-auc:0.67318\n",
      "[1000]\tvalidation_0-auc:0.67664\n",
      "[1200]\tvalidation_0-auc:0.67797\n",
      "[1400]\tvalidation_0-auc:0.67920\n",
      "[1600]\tvalidation_0-auc:0.68024\n",
      "[1800]\tvalidation_0-auc:0.68054\n",
      "[2000]\tvalidation_0-auc:0.68077\n",
      "[2200]\tvalidation_0-auc:0.68093\n",
      "[2400]\tvalidation_0-auc:0.68088\n",
      "[2600]\tvalidation_0-auc:0.68073\n",
      "Stopping. Best iteration:\n",
      "[2291]\tvalidation_0-auc:0.68146\n",
      "\n"
     ]
    },
    {
     "name": "stderr",
     "output_type": "stream",
     "text": [
      "\u001b[32m[I 2021-06-29 23:34:58,247]\u001b[0m Trial 55 finished with value: 0.6814550321960614 and parameters: {'max_depth': 3, 'learning_rate': 0.005, 'min_child_weight': 15, 'gamma': 0.714844188902295, 'alpha': 2.6369954855621316, 'lambda': 0.001793388737224302, 'colsample_bytree': 0.31994688057635867, 'subsample': 0.6185916636213957}. Best is trial 50 with value: 0.6832093573735455.\u001b[0m\n"
     ]
    },
    {
     "name": "stdout",
     "output_type": "stream",
     "text": [
      "[23:34:58] WARNING: ../src/learner.cc:516: \n",
      "Parameters: { use_label_encoder } might not be used.\n",
      "\n",
      "  This may not be accurate due to some parameters are only used in language bindings but\n",
      "  passed down to XGBoost core.  Or some parameters are not used but slip through this\n",
      "  verification. Please open an issue if you find above cases.\n",
      "\n",
      "\n",
      "[0]\tvalidation_0-auc:0.58739\n",
      "Will train until validation_0-auc hasn't improved in 500 rounds.\n",
      "[200]\tvalidation_0-auc:0.65661\n",
      "[400]\tvalidation_0-auc:0.66419\n",
      "[600]\tvalidation_0-auc:0.66843\n",
      "[800]\tvalidation_0-auc:0.67103\n",
      "[1000]\tvalidation_0-auc:0.67325\n",
      "[1200]\tvalidation_0-auc:0.67459\n",
      "[1400]\tvalidation_0-auc:0.67543\n",
      "[1600]\tvalidation_0-auc:0.67679\n",
      "[1800]\tvalidation_0-auc:0.67746\n",
      "[2000]\tvalidation_0-auc:0.67802\n",
      "[2200]\tvalidation_0-auc:0.67809\n",
      "[2400]\tvalidation_0-auc:0.67769\n",
      "[2600]\tvalidation_0-auc:0.67779\n",
      "Stopping. Best iteration:\n",
      "[2280]\tvalidation_0-auc:0.67829\n",
      "\n"
     ]
    },
    {
     "name": "stderr",
     "output_type": "stream",
     "text": [
      "\u001b[32m[I 2021-06-29 23:35:13,877]\u001b[0m Trial 56 finished with value: 0.678294693804606 and parameters: {'max_depth': 3, 'learning_rate': 0.005, 'min_child_weight': 37, 'gamma': 0.6719577856656598, 'alpha': 3.858236285256535, 'lambda': 0.000936686421364964, 'colsample_bytree': 0.3343510589605511, 'subsample': 0.6163876801630808}. Best is trial 50 with value: 0.6832093573735455.\u001b[0m\n"
     ]
    },
    {
     "name": "stdout",
     "output_type": "stream",
     "text": [
      "[23:35:13] WARNING: ../src/learner.cc:516: \n",
      "Parameters: { use_label_encoder } might not be used.\n",
      "\n",
      "  This may not be accurate due to some parameters are only used in language bindings but\n",
      "  passed down to XGBoost core.  Or some parameters are not used but slip through this\n",
      "  verification. Please open an issue if you find above cases.\n",
      "\n",
      "\n",
      "[0]\tvalidation_0-auc:0.61241\n",
      "Will train until validation_0-auc hasn't improved in 500 rounds.\n",
      "[200]\tvalidation_0-auc:0.65852\n",
      "[400]\tvalidation_0-auc:0.66465\n",
      "[600]\tvalidation_0-auc:0.66839\n",
      "[800]\tvalidation_0-auc:0.67150\n",
      "[1000]\tvalidation_0-auc:0.67432\n",
      "[1200]\tvalidation_0-auc:0.67604\n",
      "[1400]\tvalidation_0-auc:0.67722\n",
      "[1600]\tvalidation_0-auc:0.67841\n",
      "[1800]\tvalidation_0-auc:0.67892\n",
      "[2000]\tvalidation_0-auc:0.67902\n",
      "[2200]\tvalidation_0-auc:0.67904\n",
      "[2400]\tvalidation_0-auc:0.67954\n",
      "[2600]\tvalidation_0-auc:0.67964\n",
      "[2800]\tvalidation_0-auc:0.67974\n",
      "[3000]\tvalidation_0-auc:0.67980\n",
      "[3200]\tvalidation_0-auc:0.67947\n",
      "[3400]\tvalidation_0-auc:0.67941\n",
      "Stopping. Best iteration:\n",
      "[2912]\tvalidation_0-auc:0.68004\n",
      "\n"
     ]
    },
    {
     "name": "stderr",
     "output_type": "stream",
     "text": [
      "\u001b[32m[I 2021-06-29 23:35:32,820]\u001b[0m Trial 57 finished with value: 0.6800417244907078 and parameters: {'max_depth': 3, 'learning_rate': 0.005, 'min_child_weight': 24, 'gamma': 0.6141136300387495, 'alpha': 1.8667367178807397, 'lambda': 0.0020898273140950176, 'colsample_bytree': 0.27489663966525085, 'subsample': 0.5012948710143678}. Best is trial 50 with value: 0.6832093573735455.\u001b[0m\n"
     ]
    },
    {
     "name": "stdout",
     "output_type": "stream",
     "text": [
      "[23:35:32] WARNING: ../src/learner.cc:516: \n",
      "Parameters: { use_label_encoder } might not be used.\n",
      "\n",
      "  This may not be accurate due to some parameters are only used in language bindings but\n",
      "  passed down to XGBoost core.  Or some parameters are not used but slip through this\n",
      "  verification. Please open an issue if you find above cases.\n",
      "\n",
      "\n",
      "[0]\tvalidation_0-auc:0.59832\n",
      "Will train until validation_0-auc hasn't improved in 500 rounds.\n",
      "[200]\tvalidation_0-auc:0.66295\n",
      "[400]\tvalidation_0-auc:0.66334\n",
      "[600]\tvalidation_0-auc:0.66765\n",
      "[800]\tvalidation_0-auc:0.67041\n",
      "[1000]\tvalidation_0-auc:0.67281\n",
      "[1200]\tvalidation_0-auc:0.67519\n",
      "[1400]\tvalidation_0-auc:0.67640\n",
      "[1600]\tvalidation_0-auc:0.67819\n",
      "[1800]\tvalidation_0-auc:0.67877\n",
      "[2000]\tvalidation_0-auc:0.67911\n",
      "[2200]\tvalidation_0-auc:0.67946\n",
      "[2400]\tvalidation_0-auc:0.67965\n",
      "[2600]\tvalidation_0-auc:0.67993\n",
      "[2800]\tvalidation_0-auc:0.68006\n",
      "[3000]\tvalidation_0-auc:0.67994\n",
      "Stopping. Best iteration:\n",
      "[2567]\tvalidation_0-auc:0.68026\n",
      "\n"
     ]
    },
    {
     "name": "stderr",
     "output_type": "stream",
     "text": [
      "\u001b[32m[I 2021-06-29 23:35:49,427]\u001b[0m Trial 58 finished with value: 0.6802569119864905 and parameters: {'max_depth': 3, 'learning_rate': 0.005, 'min_child_weight': 2, 'gamma': 0.2108359493860451, 'alpha': 0.5223093346073593, 'lambda': 0.012080900666955547, 'colsample_bytree': 0.19258419956541797, 'subsample': 0.5687225951212445}. Best is trial 50 with value: 0.6832093573735455.\u001b[0m\n"
     ]
    },
    {
     "name": "stdout",
     "output_type": "stream",
     "text": [
      "[23:35:49] WARNING: ../src/learner.cc:516: \n",
      "Parameters: { use_label_encoder } might not be used.\n",
      "\n",
      "  This may not be accurate due to some parameters are only used in language bindings but\n",
      "  passed down to XGBoost core.  Or some parameters are not used but slip through this\n",
      "  verification. Please open an issue if you find above cases.\n",
      "\n",
      "\n",
      "[0]\tvalidation_0-auc:0.58739\n",
      "Will train until validation_0-auc hasn't improved in 500 rounds.\n",
      "[200]\tvalidation_0-auc:0.66068\n",
      "[400]\tvalidation_0-auc:0.66810\n",
      "[600]\tvalidation_0-auc:0.67092\n",
      "[800]\tvalidation_0-auc:0.67320\n",
      "[1000]\tvalidation_0-auc:0.67518\n",
      "[1200]\tvalidation_0-auc:0.67625\n",
      "[1400]\tvalidation_0-auc:0.67756\n",
      "[1600]\tvalidation_0-auc:0.67775\n",
      "[1800]\tvalidation_0-auc:0.67828\n",
      "[2000]\tvalidation_0-auc:0.67844\n",
      "[2200]\tvalidation_0-auc:0.67847\n",
      "[2400]\tvalidation_0-auc:0.67798\n",
      "[2600]\tvalidation_0-auc:0.67729\n",
      "Stopping. Best iteration:\n",
      "[2218]\tvalidation_0-auc:0.67861\n",
      "\n"
     ]
    },
    {
     "name": "stderr",
     "output_type": "stream",
     "text": [
      "\u001b[32m[I 2021-06-29 23:36:06,794]\u001b[0m Trial 59 finished with value: 0.6786120041797435 and parameters: {'max_depth': 4, 'learning_rate': 0.005, 'min_child_weight': 33, 'gamma': 0.13634393153667299, 'alpha': 4.170748339011405, 'lambda': 0.03560750561480388, 'colsample_bytree': 0.38771162365974554, 'subsample': 0.6252371915543461}. Best is trial 50 with value: 0.6832093573735455.\u001b[0m\n"
     ]
    },
    {
     "name": "stdout",
     "output_type": "stream",
     "text": [
      "[23:36:06] WARNING: ../src/learner.cc:516: \n",
      "Parameters: { use_label_encoder } might not be used.\n",
      "\n",
      "  This may not be accurate due to some parameters are only used in language bindings but\n",
      "  passed down to XGBoost core.  Or some parameters are not used but slip through this\n",
      "  verification. Please open an issue if you find above cases.\n",
      "\n",
      "\n",
      "[0]\tvalidation_0-auc:0.57910\n",
      "Will train until validation_0-auc hasn't improved in 500 rounds.\n",
      "[200]\tvalidation_0-auc:0.62593\n",
      "[400]\tvalidation_0-auc:0.62855\n",
      "[600]\tvalidation_0-auc:0.63217\n",
      "[800]\tvalidation_0-auc:0.63371\n",
      "[1000]\tvalidation_0-auc:0.63601\n",
      "[1200]\tvalidation_0-auc:0.63841\n",
      "[1400]\tvalidation_0-auc:0.63985\n",
      "[1600]\tvalidation_0-auc:0.64097\n",
      "[1800]\tvalidation_0-auc:0.64198\n",
      "[2000]\tvalidation_0-auc:0.64298\n",
      "[2200]\tvalidation_0-auc:0.64341\n",
      "[2400]\tvalidation_0-auc:0.64389\n",
      "[2600]\tvalidation_0-auc:0.64432\n",
      "[2800]\tvalidation_0-auc:0.64461\n",
      "[3000]\tvalidation_0-auc:0.64477\n",
      "[3200]\tvalidation_0-auc:0.64516\n",
      "[3400]\tvalidation_0-auc:0.64539\n",
      "[3600]\tvalidation_0-auc:0.64540\n",
      "[3800]\tvalidation_0-auc:0.64548\n",
      "[3999]\tvalidation_0-auc:0.64563\n"
     ]
    },
    {
     "name": "stderr",
     "output_type": "stream",
     "text": [
      "\u001b[32m[I 2021-06-29 23:36:30,767]\u001b[0m Trial 60 finished with value: 0.6457794984672449 and parameters: {'max_depth': 3, 'learning_rate': 0.005, 'min_child_weight': 193, 'gamma': 0.3015210159212969, 'alpha': 0.3423398679588234, 'lambda': 0.0015086246152198576, 'colsample_bytree': 0.2917386752442889, 'subsample': 0.5737554430090405}. Best is trial 50 with value: 0.6832093573735455.\u001b[0m\n"
     ]
    },
    {
     "name": "stdout",
     "output_type": "stream",
     "text": [
      "[23:36:30] WARNING: ../src/learner.cc:516: \n",
      "Parameters: { use_label_encoder } might not be used.\n",
      "\n",
      "  This may not be accurate due to some parameters are only used in language bindings but\n",
      "  passed down to XGBoost core.  Or some parameters are not used but slip through this\n",
      "  verification. Please open an issue if you find above cases.\n",
      "\n",
      "\n",
      "[0]\tvalidation_0-auc:0.58525\n",
      "Will train until validation_0-auc hasn't improved in 500 rounds.\n",
      "[200]\tvalidation_0-auc:0.66636\n",
      "[400]\tvalidation_0-auc:0.67117\n",
      "[600]\tvalidation_0-auc:0.67588\n",
      "[800]\tvalidation_0-auc:0.67756\n",
      "[1000]\tvalidation_0-auc:0.67878\n",
      "[1200]\tvalidation_0-auc:0.68044\n",
      "[1400]\tvalidation_0-auc:0.68009\n",
      "[1600]\tvalidation_0-auc:0.68044\n",
      "Stopping. Best iteration:\n",
      "[1181]\tvalidation_0-auc:0.68085\n",
      "\n"
     ]
    },
    {
     "name": "stderr",
     "output_type": "stream",
     "text": [
      "\u001b[32m[I 2021-06-29 23:36:41,296]\u001b[0m Trial 61 finished with value: 0.6808532366570075 and parameters: {'max_depth': 4, 'learning_rate': 0.005, 'min_child_weight': 15, 'gamma': 0.11102160185085698, 'alpha': 0.00015926681678847366, 'lambda': 1.5735335819896312, 'colsample_bytree': 0.432879662121196, 'subsample': 0.4634211223112505}. Best is trial 50 with value: 0.6832093573735455.\u001b[0m\n"
     ]
    },
    {
     "name": "stdout",
     "output_type": "stream",
     "text": [
      "[23:36:41] WARNING: ../src/learner.cc:516: \n",
      "Parameters: { use_label_encoder } might not be used.\n",
      "\n",
      "  This may not be accurate due to some parameters are only used in language bindings but\n",
      "  passed down to XGBoost core.  Or some parameters are not used but slip through this\n",
      "  verification. Please open an issue if you find above cases.\n",
      "\n",
      "\n",
      "[0]\tvalidation_0-auc:0.60411\n",
      "Will train until validation_0-auc hasn't improved in 500 rounds.\n",
      "[200]\tvalidation_0-auc:0.66075\n",
      "[400]\tvalidation_0-auc:0.66578\n",
      "[600]\tvalidation_0-auc:0.67010\n",
      "[800]\tvalidation_0-auc:0.67300\n",
      "[1000]\tvalidation_0-auc:0.67541\n",
      "[1200]\tvalidation_0-auc:0.67793\n",
      "[1400]\tvalidation_0-auc:0.67948\n",
      "[1600]\tvalidation_0-auc:0.68035\n",
      "[1800]\tvalidation_0-auc:0.68046\n",
      "[2000]\tvalidation_0-auc:0.68045\n",
      "[2200]\tvalidation_0-auc:0.68041\n",
      "[2400]\tvalidation_0-auc:0.68000\n",
      "Stopping. Best iteration:\n",
      "[1915]\tvalidation_0-auc:0.68088\n",
      "\n"
     ]
    },
    {
     "name": "stderr",
     "output_type": "stream",
     "text": [
      "\u001b[32m[I 2021-06-29 23:36:55,189]\u001b[0m Trial 62 finished with value: 0.6808824146225374 and parameters: {'max_depth': 3, 'learning_rate': 0.005, 'min_child_weight': 10, 'gamma': 0.5518883081635434, 'alpha': 0.12096461966770702, 'lambda': 0.6232218025520464, 'colsample_bytree': 0.32287365681521407, 'subsample': 0.5933268470265511}. Best is trial 50 with value: 0.6832093573735455.\u001b[0m\n"
     ]
    },
    {
     "name": "stdout",
     "output_type": "stream",
     "text": [
      "[23:36:55] WARNING: ../src/learner.cc:516: \n",
      "Parameters: { use_label_encoder } might not be used.\n",
      "\n",
      "  This may not be accurate due to some parameters are only used in language bindings but\n",
      "  passed down to XGBoost core.  Or some parameters are not used but slip through this\n",
      "  verification. Please open an issue if you find above cases.\n",
      "\n",
      "\n",
      "[0]\tvalidation_0-auc:0.57786\n",
      "Will train until validation_0-auc hasn't improved in 500 rounds.\n",
      "[200]\tvalidation_0-auc:0.66023\n",
      "[400]\tvalidation_0-auc:0.66588\n",
      "[600]\tvalidation_0-auc:0.67144\n",
      "[800]\tvalidation_0-auc:0.67501\n",
      "[1000]\tvalidation_0-auc:0.67740\n",
      "[1200]\tvalidation_0-auc:0.67837\n",
      "[1400]\tvalidation_0-auc:0.67936\n",
      "[1600]\tvalidation_0-auc:0.67932\n",
      "[1800]\tvalidation_0-auc:0.67942\n",
      "[2000]\tvalidation_0-auc:0.67918\n",
      "Stopping. Best iteration:\n",
      "[1501]\tvalidation_0-auc:0.67993\n",
      "\n"
     ]
    },
    {
     "name": "stderr",
     "output_type": "stream",
     "text": [
      "\u001b[32m[I 2021-06-29 23:37:07,499]\u001b[0m Trial 63 finished with value: 0.6799341307428163 and parameters: {'max_depth': 4, 'learning_rate': 0.005, 'min_child_weight': 3, 'gamma': 0.05671810444768037, 'alpha': 1.6484348741565138, 'lambda': 0.36543345498481783, 'colsample_bytree': 0.3616012402851461, 'subsample': 0.4001328392230469}. Best is trial 50 with value: 0.6832093573735455.\u001b[0m\n"
     ]
    },
    {
     "name": "stdout",
     "output_type": "stream",
     "text": [
      "[23:37:07] WARNING: ../src/learner.cc:516: \n",
      "Parameters: { use_label_encoder } might not be used.\n",
      "\n",
      "  This may not be accurate due to some parameters are only used in language bindings but\n",
      "  passed down to XGBoost core.  Or some parameters are not used but slip through this\n",
      "  verification. Please open an issue if you find above cases.\n",
      "\n",
      "\n",
      "[0]\tvalidation_0-auc:0.60238\n",
      "Will train until validation_0-auc hasn't improved in 500 rounds.\n",
      "[200]\tvalidation_0-auc:0.65953\n",
      "[400]\tvalidation_0-auc:0.66648\n",
      "[600]\tvalidation_0-auc:0.67132\n",
      "[800]\tvalidation_0-auc:0.67501\n",
      "[1000]\tvalidation_0-auc:0.67732\n",
      "[1200]\tvalidation_0-auc:0.67926\n",
      "[1400]\tvalidation_0-auc:0.68031\n",
      "[1600]\tvalidation_0-auc:0.68063\n",
      "[1800]\tvalidation_0-auc:0.68062\n",
      "[2000]\tvalidation_0-auc:0.68039\n",
      "Stopping. Best iteration:\n",
      "[1585]\tvalidation_0-auc:0.68077\n",
      "\n"
     ]
    },
    {
     "name": "stderr",
     "output_type": "stream",
     "text": [
      "\u001b[32m[I 2021-06-29 23:37:19,507]\u001b[0m Trial 64 finished with value: 0.6807675263832635 and parameters: {'max_depth': 3, 'learning_rate': 0.005, 'min_child_weight': 21, 'gamma': 0.22124082999667802, 'alpha': 0.7468403739989505, 'lambda': 0.0003126550720557652, 'colsample_bytree': 0.3913255074015624, 'subsample': 0.6330680345133696}. Best is trial 50 with value: 0.6832093573735455.\u001b[0m\n"
     ]
    },
    {
     "name": "stdout",
     "output_type": "stream",
     "text": [
      "[23:37:19] WARNING: ../src/learner.cc:516: \n",
      "Parameters: { use_label_encoder } might not be used.\n",
      "\n",
      "  This may not be accurate due to some parameters are only used in language bindings but\n",
      "  passed down to XGBoost core.  Or some parameters are not used but slip through this\n",
      "  verification. Please open an issue if you find above cases.\n",
      "\n",
      "\n",
      "[0]\tvalidation_0-auc:0.59151\n",
      "Will train until validation_0-auc hasn't improved in 500 rounds.\n",
      "[200]\tvalidation_0-auc:0.65942\n",
      "[400]\tvalidation_0-auc:0.66474\n",
      "[600]\tvalidation_0-auc:0.66879\n",
      "[800]\tvalidation_0-auc:0.67128\n",
      "[1000]\tvalidation_0-auc:0.67272\n",
      "[1200]\tvalidation_0-auc:0.67435\n",
      "[1400]\tvalidation_0-auc:0.67508\n",
      "[1600]\tvalidation_0-auc:0.67534\n",
      "[1800]\tvalidation_0-auc:0.67554\n",
      "[2000]\tvalidation_0-auc:0.67558\n",
      "[2200]\tvalidation_0-auc:0.67539\n",
      "[2400]\tvalidation_0-auc:0.67488\n",
      "Stopping. Best iteration:\n",
      "[2031]\tvalidation_0-auc:0.67592\n",
      "\n"
     ]
    },
    {
     "name": "stderr",
     "output_type": "stream",
     "text": [
      "\u001b[32m[I 2021-06-29 23:37:34,390]\u001b[0m Trial 65 finished with value: 0.6759185132367664 and parameters: {'max_depth': 4, 'learning_rate': 0.005, 'min_child_weight': 41, 'gamma': 0.03614677536231441, 'alpha': 0.06141609890023623, 'lambda': 6.054790776089316, 'colsample_bytree': 0.42670152454431287, 'subsample': 0.5680457812763108}. Best is trial 50 with value: 0.6832093573735455.\u001b[0m\n"
     ]
    },
    {
     "name": "stdout",
     "output_type": "stream",
     "text": [
      "[23:37:34] WARNING: ../src/learner.cc:516: \n",
      "Parameters: { use_label_encoder } might not be used.\n",
      "\n",
      "  This may not be accurate due to some parameters are only used in language bindings but\n",
      "  passed down to XGBoost core.  Or some parameters are not used but slip through this\n",
      "  verification. Please open an issue if you find above cases.\n",
      "\n",
      "\n",
      "[0]\tvalidation_0-auc:0.59041\n",
      "Will train until validation_0-auc hasn't improved in 500 rounds.\n",
      "[200]\tvalidation_0-auc:0.65314\n",
      "[400]\tvalidation_0-auc:0.65839\n",
      "[600]\tvalidation_0-auc:0.66411\n",
      "[800]\tvalidation_0-auc:0.66678\n",
      "[1000]\tvalidation_0-auc:0.67007\n",
      "[1200]\tvalidation_0-auc:0.67300\n",
      "[1400]\tvalidation_0-auc:0.67497\n",
      "[1600]\tvalidation_0-auc:0.67589\n",
      "[1800]\tvalidation_0-auc:0.67640\n",
      "[2000]\tvalidation_0-auc:0.67679\n",
      "[2200]\tvalidation_0-auc:0.67663\n",
      "Stopping. Best iteration:\n",
      "[1898]\tvalidation_0-auc:0.67719\n",
      "\n"
     ]
    },
    {
     "name": "stderr",
     "output_type": "stream",
     "text": [
      "\u001b[32m[I 2021-06-29 23:37:48,015]\u001b[0m Trial 66 finished with value: 0.6771895783601618 and parameters: {'max_depth': 3, 'learning_rate': 0.005, 'min_child_weight': 55, 'gamma': 0.07728071541625547, 'alpha': 0.15181283772110754, 'lambda': 2.903063590702392, 'colsample_bytree': 0.46466987747447364, 'subsample': 0.5065863760266159}. Best is trial 50 with value: 0.6832093573735455.\u001b[0m\n"
     ]
    },
    {
     "name": "stdout",
     "output_type": "stream",
     "text": [
      "[23:37:48] WARNING: ../src/learner.cc:516: \n",
      "Parameters: { use_label_encoder } might not be used.\n",
      "\n",
      "  This may not be accurate due to some parameters are only used in language bindings but\n",
      "  passed down to XGBoost core.  Or some parameters are not used but slip through this\n",
      "  verification. Please open an issue if you find above cases.\n",
      "\n",
      "\n",
      "[0]\tvalidation_0-auc:0.61385\n",
      "Will train until validation_0-auc hasn't improved in 500 rounds.\n",
      "[200]\tvalidation_0-auc:0.66314\n",
      "[400]\tvalidation_0-auc:0.66873\n",
      "[600]\tvalidation_0-auc:0.67545\n",
      "[800]\tvalidation_0-auc:0.67781\n",
      "[1000]\tvalidation_0-auc:0.67948\n",
      "[1200]\tvalidation_0-auc:0.68035\n",
      "[1400]\tvalidation_0-auc:0.68081\n",
      "[1600]\tvalidation_0-auc:0.68198\n",
      "[1800]\tvalidation_0-auc:0.68282\n",
      "[2000]\tvalidation_0-auc:0.68257\n",
      "[2200]\tvalidation_0-auc:0.68223\n",
      "Stopping. Best iteration:\n",
      "[1879]\tvalidation_0-auc:0.68295\n",
      "\n"
     ]
    },
    {
     "name": "stderr",
     "output_type": "stream",
     "text": [
      "\u001b[32m[I 2021-06-29 23:38:01,961]\u001b[0m Trial 67 finished with value: 0.6829485793066221 and parameters: {'max_depth': 3, 'learning_rate': 0.005, 'min_child_weight': 1, 'gamma': 0.1643962526454301, 'alpha': 0.3680051416148689, 'lambda': 2.0817991831607494, 'colsample_bytree': 0.5130736492445372, 'subsample': 0.5388973038179008}. Best is trial 50 with value: 0.6832093573735455.\u001b[0m\n"
     ]
    },
    {
     "name": "stdout",
     "output_type": "stream",
     "text": [
      "[23:38:02] WARNING: ../src/learner.cc:516: \n",
      "Parameters: { use_label_encoder } might not be used.\n",
      "\n",
      "  This may not be accurate due to some parameters are only used in language bindings but\n",
      "  passed down to XGBoost core.  Or some parameters are not used but slip through this\n",
      "  verification. Please open an issue if you find above cases.\n",
      "\n",
      "\n",
      "[0]\tvalidation_0-auc:0.58497\n",
      "Will train until validation_0-auc hasn't improved in 500 rounds.\n",
      "[200]\tvalidation_0-auc:0.65339\n",
      "[400]\tvalidation_0-auc:0.66489\n",
      "[600]\tvalidation_0-auc:0.67302\n",
      "[800]\tvalidation_0-auc:0.67618\n",
      "[1000]\tvalidation_0-auc:0.67853\n",
      "[1200]\tvalidation_0-auc:0.68012\n",
      "[1400]\tvalidation_0-auc:0.68087\n",
      "[1600]\tvalidation_0-auc:0.68144\n",
      "[1800]\tvalidation_0-auc:0.68226\n",
      "[2000]\tvalidation_0-auc:0.68152\n",
      "[2200]\tvalidation_0-auc:0.68197\n",
      "Stopping. Best iteration:\n",
      "[1861]\tvalidation_0-auc:0.68233\n",
      "\n"
     ]
    },
    {
     "name": "stderr",
     "output_type": "stream",
     "text": [
      "\u001b[32m[I 2021-06-29 23:38:15,675]\u001b[0m Trial 68 finished with value: 0.6823285475391121 and parameters: {'max_depth': 3, 'learning_rate': 0.005, 'min_child_weight': 1, 'gamma': 0.4495314551075352, 'alpha': 0.3843523635335334, 'lambda': 6.552028485545919, 'colsample_bytree': 0.5561503114914749, 'subsample': 0.5324149977461178}. Best is trial 50 with value: 0.6832093573735455.\u001b[0m\n"
     ]
    },
    {
     "name": "stdout",
     "output_type": "stream",
     "text": [
      "[23:38:15] WARNING: ../src/learner.cc:516: \n",
      "Parameters: { use_label_encoder } might not be used.\n",
      "\n",
      "  This may not be accurate due to some parameters are only used in language bindings but\n",
      "  passed down to XGBoost core.  Or some parameters are not used but slip through this\n",
      "  verification. Please open an issue if you find above cases.\n",
      "\n",
      "\n",
      "[0]\tvalidation_0-auc:0.59041\n",
      "Will train until validation_0-auc hasn't improved in 500 rounds.\n",
      "[200]\tvalidation_0-auc:0.67336\n",
      "[400]\tvalidation_0-auc:0.67683\n",
      "[600]\tvalidation_0-auc:0.67937\n",
      "[800]\tvalidation_0-auc:0.67725\n",
      "[1000]\tvalidation_0-auc:0.67727\n",
      "Stopping. Best iteration:\n",
      "[526]\tvalidation_0-auc:0.68043\n",
      "\n"
     ]
    },
    {
     "name": "stderr",
     "output_type": "stream",
     "text": [
      "\u001b[32m[I 2021-06-29 23:38:21,754]\u001b[0m Trial 69 finished with value: 0.6804319797796698 and parameters: {'max_depth': 3, 'learning_rate': 0.02, 'min_child_weight': 31, 'gamma': 0.10139746415985895, 'alpha': 0.3747774586504977, 'lambda': 5.807317038222383, 'colsample_bytree': 0.5076181167576853, 'subsample': 0.5438639991356631}. Best is trial 50 with value: 0.6832093573735455.\u001b[0m\n"
     ]
    },
    {
     "name": "stdout",
     "output_type": "stream",
     "text": [
      "[23:38:21] WARNING: ../src/learner.cc:516: \n",
      "Parameters: { use_label_encoder } might not be used.\n",
      "\n",
      "  This may not be accurate due to some parameters are only used in language bindings but\n",
      "  passed down to XGBoost core.  Or some parameters are not used but slip through this\n",
      "  verification. Please open an issue if you find above cases.\n",
      "\n",
      "\n",
      "[0]\tvalidation_0-auc:0.59298\n",
      "Will train until validation_0-auc hasn't improved in 500 rounds.\n",
      "[200]\tvalidation_0-auc:0.66114\n",
      "[400]\tvalidation_0-auc:0.64954\n",
      "Stopping. Best iteration:\n",
      "[63]\tvalidation_0-auc:0.67501\n",
      "\n"
     ]
    },
    {
     "name": "stderr",
     "output_type": "stream",
     "text": [
      "\u001b[32m[I 2021-06-29 23:38:26,194]\u001b[0m Trial 70 finished with value: 0.6750067018139576 and parameters: {'max_depth': 7, 'learning_rate': 0.1, 'min_child_weight': 2, 'gamma': 0.1501877396394863, 'alpha': 0.09008951106897775, 'lambda': 2.0249302316841775, 'colsample_bytree': 0.5514424291017609, 'subsample': 0.4812275774275629}. Best is trial 50 with value: 0.6832093573735455.\u001b[0m\n"
     ]
    },
    {
     "name": "stdout",
     "output_type": "stream",
     "text": [
      "[23:38:26] WARNING: ../src/learner.cc:516: \n",
      "Parameters: { use_label_encoder } might not be used.\n",
      "\n",
      "  This may not be accurate due to some parameters are only used in language bindings but\n",
      "  passed down to XGBoost core.  Or some parameters are not used but slip through this\n",
      "  verification. Please open an issue if you find above cases.\n",
      "\n",
      "\n",
      "[0]\tvalidation_0-auc:0.58417\n",
      "Will train until validation_0-auc hasn't improved in 500 rounds.\n",
      "[200]\tvalidation_0-auc:0.66310\n",
      "[400]\tvalidation_0-auc:0.67041\n",
      "[600]\tvalidation_0-auc:0.67448\n",
      "[800]\tvalidation_0-auc:0.67672\n",
      "[1000]\tvalidation_0-auc:0.67790\n",
      "[1200]\tvalidation_0-auc:0.67914\n",
      "[1400]\tvalidation_0-auc:0.67991\n",
      "[1600]\tvalidation_0-auc:0.68038\n",
      "[1800]\tvalidation_0-auc:0.68056\n",
      "[2000]\tvalidation_0-auc:0.68018\n",
      "[2200]\tvalidation_0-auc:0.67994\n",
      "Stopping. Best iteration:\n",
      "[1806]\tvalidation_0-auc:0.68068\n",
      "\n"
     ]
    },
    {
     "name": "stderr",
     "output_type": "stream",
     "text": [
      "\u001b[32m[I 2021-06-29 23:38:39,741]\u001b[0m Trial 71 finished with value: 0.6806781688638284 and parameters: {'max_depth': 3, 'learning_rate': 0.005, 'min_child_weight': 23, 'gamma': 0.4285942720622691, 'alpha': 0.21051123510326383, 'lambda': 3.4938269920501956, 'colsample_bytree': 0.6127056065655222, 'subsample': 0.517829982649042}. Best is trial 50 with value: 0.6832093573735455.\u001b[0m\n"
     ]
    },
    {
     "name": "stdout",
     "output_type": "stream",
     "text": [
      "[23:38:39] WARNING: ../src/learner.cc:516: \n",
      "Parameters: { use_label_encoder } might not be used.\n",
      "\n",
      "  This may not be accurate due to some parameters are only used in language bindings but\n",
      "  passed down to XGBoost core.  Or some parameters are not used but slip through this\n",
      "  verification. Please open an issue if you find above cases.\n",
      "\n",
      "\n",
      "[0]\tvalidation_0-auc:0.60257\n",
      "Will train until validation_0-auc hasn't improved in 500 rounds.\n",
      "[200]\tvalidation_0-auc:0.66332\n",
      "[400]\tvalidation_0-auc:0.66709\n",
      "[600]\tvalidation_0-auc:0.67287\n",
      "[800]\tvalidation_0-auc:0.67551\n",
      "[1000]\tvalidation_0-auc:0.67720\n",
      "[1200]\tvalidation_0-auc:0.67870\n",
      "[1400]\tvalidation_0-auc:0.67961\n",
      "[1600]\tvalidation_0-auc:0.67969\n",
      "[1800]\tvalidation_0-auc:0.68047\n",
      "[2000]\tvalidation_0-auc:0.68030\n",
      "[2200]\tvalidation_0-auc:0.68056\n",
      "Stopping. Best iteration:\n",
      "[1828]\tvalidation_0-auc:0.68075\n",
      "\n"
     ]
    },
    {
     "name": "stderr",
     "output_type": "stream",
     "text": [
      "\u001b[32m[I 2021-06-29 23:38:53,483]\u001b[0m Trial 72 finished with value: 0.6807547610233441 and parameters: {'max_depth': 3, 'learning_rate': 0.005, 'min_child_weight': 2, 'gamma': 0.26229793770084175, 'alpha': 1.1752710390361918, 'lambda': 1.086941049978224, 'colsample_bytree': 0.5624761874223899, 'subsample': 0.4481824989830228}. Best is trial 50 with value: 0.6832093573735455.\u001b[0m\n"
     ]
    },
    {
     "name": "stdout",
     "output_type": "stream",
     "text": [
      "[23:38:53] WARNING: ../src/learner.cc:516: \n",
      "Parameters: { use_label_encoder } might not be used.\n",
      "\n",
      "  This may not be accurate due to some parameters are only used in language bindings but\n",
      "  passed down to XGBoost core.  Or some parameters are not used but slip through this\n",
      "  verification. Please open an issue if you find above cases.\n",
      "\n",
      "\n",
      "[0]\tvalidation_0-auc:0.61030\n",
      "Will train until validation_0-auc hasn't improved in 500 rounds.\n",
      "[200]\tvalidation_0-auc:0.66166\n",
      "[400]\tvalidation_0-auc:0.66740\n",
      "[600]\tvalidation_0-auc:0.67415\n",
      "[800]\tvalidation_0-auc:0.67762\n",
      "[1000]\tvalidation_0-auc:0.67919\n",
      "[1200]\tvalidation_0-auc:0.68043\n",
      "[1400]\tvalidation_0-auc:0.68100\n",
      "[1600]\tvalidation_0-auc:0.68136\n",
      "[1800]\tvalidation_0-auc:0.68139\n",
      "[2000]\tvalidation_0-auc:0.68090\n",
      "[2200]\tvalidation_0-auc:0.68131\n",
      "[2400]\tvalidation_0-auc:0.68143\n",
      "[2600]\tvalidation_0-auc:0.68131\n",
      "Stopping. Best iteration:\n",
      "[2280]\tvalidation_0-auc:0.68174\n",
      "\n"
     ]
    },
    {
     "name": "stderr",
     "output_type": "stream",
     "text": [
      "\u001b[32m[I 2021-06-29 23:39:09,381]\u001b[0m Trial 73 finished with value: 0.6817376937371322 and parameters: {'max_depth': 3, 'learning_rate': 0.005, 'min_child_weight': 13, 'gamma': 0.18187019247759867, 'alpha': 0.6432395564487842, 'lambda': 3.235267767225535, 'colsample_bytree': 0.5329158078333727, 'subsample': 0.5994436778282899}. Best is trial 50 with value: 0.6832093573735455.\u001b[0m\n"
     ]
    },
    {
     "name": "stdout",
     "output_type": "stream",
     "text": [
      "[23:39:09] WARNING: ../src/learner.cc:516: \n",
      "Parameters: { use_label_encoder } might not be used.\n",
      "\n",
      "  This may not be accurate due to some parameters are only used in language bindings but\n",
      "  passed down to XGBoost core.  Or some parameters are not used but slip through this\n",
      "  verification. Please open an issue if you find above cases.\n",
      "\n",
      "\n",
      "[0]\tvalidation_0-auc:0.58787\n",
      "Will train until validation_0-auc hasn't improved in 500 rounds.\n",
      "[200]\tvalidation_0-auc:0.65502\n",
      "[400]\tvalidation_0-auc:0.66660\n",
      "[600]\tvalidation_0-auc:0.67465\n",
      "[800]\tvalidation_0-auc:0.67773\n",
      "[1000]\tvalidation_0-auc:0.68023\n",
      "[1200]\tvalidation_0-auc:0.68167\n",
      "[1400]\tvalidation_0-auc:0.68320\n",
      "[1600]\tvalidation_0-auc:0.68321\n",
      "[1800]\tvalidation_0-auc:0.68330\n",
      "[2000]\tvalidation_0-auc:0.68263\n",
      "Stopping. Best iteration:\n",
      "[1528]\tvalidation_0-auc:0.68344\n",
      "\n"
     ]
    },
    {
     "name": "stderr",
     "output_type": "stream",
     "text": [
      "\u001b[32m[I 2021-06-29 23:39:21,090]\u001b[0m Trial 74 finished with value: 0.6834354866064021 and parameters: {'max_depth': 3, 'learning_rate': 0.005, 'min_child_weight': 1, 'gamma': 0.18542219115817699, 'alpha': 0.71116883276916, 'lambda': 6.634541244437152, 'colsample_bytree': 0.5336747773934475, 'subsample': 0.594644257911058}. Best is trial 74 with value: 0.6834354866064021.\u001b[0m\n"
     ]
    },
    {
     "name": "stdout",
     "output_type": "stream",
     "text": [
      "[23:39:21] WARNING: ../src/learner.cc:516: \n",
      "Parameters: { use_label_encoder } might not be used.\n",
      "\n",
      "  This may not be accurate due to some parameters are only used in language bindings but\n",
      "  passed down to XGBoost core.  Or some parameters are not used but slip through this\n",
      "  verification. Please open an issue if you find above cases.\n",
      "\n",
      "\n",
      "[0]\tvalidation_0-auc:0.56842\n",
      "Will train until validation_0-auc hasn't improved in 500 rounds.\n",
      "[200]\tvalidation_0-auc:0.62391\n",
      "[400]\tvalidation_0-auc:0.62684\n",
      "[600]\tvalidation_0-auc:0.63078\n",
      "[800]\tvalidation_0-auc:0.63453\n",
      "[1000]\tvalidation_0-auc:0.63627\n",
      "[1200]\tvalidation_0-auc:0.63749\n",
      "[1400]\tvalidation_0-auc:0.63868\n",
      "[1600]\tvalidation_0-auc:0.63939\n",
      "[1800]\tvalidation_0-auc:0.64027\n",
      "[2000]\tvalidation_0-auc:0.64066\n",
      "[2200]\tvalidation_0-auc:0.64071\n",
      "[2400]\tvalidation_0-auc:0.64062\n",
      "[2600]\tvalidation_0-auc:0.64084\n",
      "[2800]\tvalidation_0-auc:0.64101\n",
      "[3000]\tvalidation_0-auc:0.64116\n",
      "[3200]\tvalidation_0-auc:0.64116\n",
      "[3400]\tvalidation_0-auc:0.64136\n",
      "[3600]\tvalidation_0-auc:0.64119\n",
      "[3800]\tvalidation_0-auc:0.64109\n",
      "Stopping. Best iteration:\n",
      "[3411]\tvalidation_0-auc:0.64146\n",
      "\n"
     ]
    },
    {
     "name": "stderr",
     "output_type": "stream",
     "text": [
      "\u001b[32m[I 2021-06-29 23:39:42,873]\u001b[0m Trial 75 finished with value: 0.6414629831916683 and parameters: {'max_depth': 3, 'learning_rate': 0.005, 'min_child_weight': 257, 'gamma': 0.19887922476797532, 'alpha': 0.7030694285009538, 'lambda': 6.321139687942522, 'colsample_bytree': 0.5381877933711082, 'subsample': 0.5972070565295757}. Best is trial 74 with value: 0.6834354866064021.\u001b[0m\n"
     ]
    },
    {
     "name": "stdout",
     "output_type": "stream",
     "text": [
      "[23:39:42] WARNING: ../src/learner.cc:516: \n",
      "Parameters: { use_label_encoder } might not be used.\n",
      "\n",
      "  This may not be accurate due to some parameters are only used in language bindings but\n",
      "  passed down to XGBoost core.  Or some parameters are not used but slip through this\n",
      "  verification. Please open an issue if you find above cases.\n",
      "\n",
      "\n",
      "[0]\tvalidation_0-auc:0.61159\n",
      "Will train until validation_0-auc hasn't improved in 500 rounds.\n",
      "[200]\tvalidation_0-auc:0.66452\n",
      "[400]\tvalidation_0-auc:0.67032\n",
      "[600]\tvalidation_0-auc:0.67341\n",
      "[800]\tvalidation_0-auc:0.67533\n",
      "[1000]\tvalidation_0-auc:0.67689\n",
      "[1200]\tvalidation_0-auc:0.67782\n",
      "[1400]\tvalidation_0-auc:0.67864\n",
      "[1600]\tvalidation_0-auc:0.67850\n",
      "[1800]\tvalidation_0-auc:0.67847\n",
      "Stopping. Best iteration:\n",
      "[1413]\tvalidation_0-auc:0.67874\n",
      "\n"
     ]
    },
    {
     "name": "stderr",
     "output_type": "stream",
     "text": [
      "\u001b[32m[I 2021-06-29 23:39:54,760]\u001b[0m Trial 76 finished with value: 0.6787360105332455 and parameters: {'max_depth': 4, 'learning_rate': 0.005, 'min_child_weight': 29, 'gamma': 0.3529003587176811, 'alpha': 0.40129227096878706, 'lambda': 3.5392289132431847, 'colsample_bytree': 0.4753374960761607, 'subsample': 0.5535409265914439}. Best is trial 74 with value: 0.6834354866064021.\u001b[0m\n"
     ]
    },
    {
     "name": "stdout",
     "output_type": "stream",
     "text": [
      "[23:39:54] WARNING: ../src/learner.cc:516: \n",
      "Parameters: { use_label_encoder } might not be used.\n",
      "\n",
      "  This may not be accurate due to some parameters are only used in language bindings but\n",
      "  passed down to XGBoost core.  Or some parameters are not used but slip through this\n",
      "  verification. Please open an issue if you find above cases.\n",
      "\n",
      "\n",
      "[0]\tvalidation_0-auc:0.56842\n",
      "Will train until validation_0-auc hasn't improved in 500 rounds.\n",
      "[200]\tvalidation_0-auc:0.63518\n",
      "[400]\tvalidation_0-auc:0.64068\n",
      "[600]\tvalidation_0-auc:0.64470\n",
      "[800]\tvalidation_0-auc:0.64720\n",
      "[1000]\tvalidation_0-auc:0.64882\n",
      "[1200]\tvalidation_0-auc:0.65047\n",
      "[1400]\tvalidation_0-auc:0.65205\n",
      "[1600]\tvalidation_0-auc:0.65274\n",
      "[1800]\tvalidation_0-auc:0.65331\n",
      "[2000]\tvalidation_0-auc:0.65372\n",
      "[2200]\tvalidation_0-auc:0.65445\n",
      "[2400]\tvalidation_0-auc:0.65448\n",
      "[2600]\tvalidation_0-auc:0.65484\n",
      "[2800]\tvalidation_0-auc:0.65503\n",
      "[3000]\tvalidation_0-auc:0.65541\n",
      "[3200]\tvalidation_0-auc:0.65501\n",
      "[3400]\tvalidation_0-auc:0.65515\n",
      "Stopping. Best iteration:\n",
      "[2990]\tvalidation_0-auc:0.65544\n",
      "\n"
     ]
    },
    {
     "name": "stderr",
     "output_type": "stream",
     "text": [
      "\u001b[32m[I 2021-06-29 23:40:14,037]\u001b[0m Trial 77 finished with value: 0.6554392286804812 and parameters: {'max_depth': 3, 'learning_rate': 0.005, 'min_child_weight': 140, 'gamma': 0.5100107464871501, 'alpha': 1.3284691178832553, 'lambda': 4.122270958064026, 'colsample_bytree': 0.5003226128320547, 'subsample': 0.5814188796590618}. Best is trial 74 with value: 0.6834354866064021.\u001b[0m\n"
     ]
    },
    {
     "name": "stdout",
     "output_type": "stream",
     "text": [
      "[23:40:14] WARNING: ../src/learner.cc:516: \n",
      "Parameters: { use_label_encoder } might not be used.\n",
      "\n",
      "  This may not be accurate due to some parameters are only used in language bindings but\n",
      "  passed down to XGBoost core.  Or some parameters are not used but slip through this\n",
      "  verification. Please open an issue if you find above cases.\n",
      "\n",
      "\n",
      "[0]\tvalidation_0-auc:0.58369\n",
      "Will train until validation_0-auc hasn't improved in 500 rounds.\n",
      "[200]\tvalidation_0-auc:0.66188\n",
      "[400]\tvalidation_0-auc:0.66840\n",
      "[600]\tvalidation_0-auc:0.67044\n",
      "[800]\tvalidation_0-auc:0.67292\n",
      "[1000]\tvalidation_0-auc:0.67439\n",
      "[1200]\tvalidation_0-auc:0.67554\n",
      "[1400]\tvalidation_0-auc:0.67614\n",
      "[1600]\tvalidation_0-auc:0.67560\n",
      "[1800]\tvalidation_0-auc:0.67543\n",
      "Stopping. Best iteration:\n",
      "[1409]\tvalidation_0-auc:0.67622\n",
      "\n"
     ]
    },
    {
     "name": "stderr",
     "output_type": "stream",
     "text": [
      "\u001b[32m[I 2021-06-29 23:40:27,819]\u001b[0m Trial 78 finished with value: 0.6762175873834477 and parameters: {'max_depth': 8, 'learning_rate': 0.005, 'min_child_weight': 42, 'gamma': 0.06738131078467217, 'alpha': 0.800239648480357, 'lambda': 7.561210257167359, 'colsample_bytree': 0.6017233315705384, 'subsample': 0.6642113622115835}. Best is trial 74 with value: 0.6834354866064021.\u001b[0m\n"
     ]
    },
    {
     "name": "stdout",
     "output_type": "stream",
     "text": [
      "[23:40:27] WARNING: ../src/learner.cc:516: \n",
      "Parameters: { use_label_encoder } might not be used.\n",
      "\n",
      "  This may not be accurate due to some parameters are only used in language bindings but\n",
      "  passed down to XGBoost core.  Or some parameters are not used but slip through this\n",
      "  verification. Please open an issue if you find above cases.\n",
      "\n",
      "\n",
      "[0]\tvalidation_0-auc:0.57844\n",
      "Will train until validation_0-auc hasn't improved in 500 rounds.\n",
      "[200]\tvalidation_0-auc:0.65147\n",
      "[400]\tvalidation_0-auc:0.65753\n",
      "[600]\tvalidation_0-auc:0.66363\n",
      "[800]\tvalidation_0-auc:0.66748\n",
      "[1000]\tvalidation_0-auc:0.67017\n",
      "[1200]\tvalidation_0-auc:0.67266\n",
      "[1400]\tvalidation_0-auc:0.67484\n",
      "[1600]\tvalidation_0-auc:0.67590\n",
      "[1800]\tvalidation_0-auc:0.67617\n",
      "[2000]\tvalidation_0-auc:0.67609\n",
      "[2200]\tvalidation_0-auc:0.67631\n",
      "Stopping. Best iteration:\n",
      "[1892]\tvalidation_0-auc:0.67674\n",
      "\n"
     ]
    },
    {
     "name": "stderr",
     "output_type": "stream",
     "text": [
      "\u001b[32m[I 2021-06-29 23:40:42,858]\u001b[0m Trial 79 finished with value: 0.6767373198944487 and parameters: {'max_depth': 4, 'learning_rate': 0.005, 'min_child_weight': 52, 'gamma': 0.25673456240636755, 'alpha': 0.21544891461212798, 'lambda': 9.784852527362688, 'colsample_bytree': 0.5631441933687892, 'subsample': 0.5342353361320424}. Best is trial 74 with value: 0.6834354866064021.\u001b[0m\n"
     ]
    },
    {
     "name": "stdout",
     "output_type": "stream",
     "text": [
      "[23:40:42] WARNING: ../src/learner.cc:516: \n",
      "Parameters: { use_label_encoder } might not be used.\n",
      "\n",
      "  This may not be accurate due to some parameters are only used in language bindings but\n",
      "  passed down to XGBoost core.  Or some parameters are not used but slip through this\n",
      "  verification. Please open an issue if you find above cases.\n",
      "\n",
      "\n",
      "[0]\tvalidation_0-auc:0.58316\n",
      "Will train until validation_0-auc hasn't improved in 500 rounds.\n",
      "[200]\tvalidation_0-auc:0.65399\n",
      "[400]\tvalidation_0-auc:0.65925\n",
      "[600]\tvalidation_0-auc:0.66401\n",
      "[800]\tvalidation_0-auc:0.66693\n",
      "[1000]\tvalidation_0-auc:0.66875\n",
      "[1200]\tvalidation_0-auc:0.67080\n",
      "[1400]\tvalidation_0-auc:0.67285\n",
      "[1600]\tvalidation_0-auc:0.67348\n",
      "[1800]\tvalidation_0-auc:0.67337\n",
      "[2000]\tvalidation_0-auc:0.67335\n",
      "[2200]\tvalidation_0-auc:0.67297\n",
      "Stopping. Best iteration:\n",
      "[1896]\tvalidation_0-auc:0.67383\n",
      "\n"
     ]
    },
    {
     "name": "stderr",
     "output_type": "stream",
     "text": [
      "\u001b[32m[I 2021-06-29 23:40:58,147]\u001b[0m Trial 80 finished with value: 0.6738341123242256 and parameters: {'max_depth': 4, 'learning_rate': 0.005, 'min_child_weight': 67, 'gamma': 0.1819273119406531, 'alpha': 0.26578067075075695, 'lambda': 1.792423484974464, 'colsample_bytree': 0.6467221923000648, 'subsample': 0.4873475220594116}. Best is trial 74 with value: 0.6834354866064021.\u001b[0m\n"
     ]
    },
    {
     "name": "stdout",
     "output_type": "stream",
     "text": [
      "[23:40:58] WARNING: ../src/learner.cc:516: \n",
      "Parameters: { use_label_encoder } might not be used.\n",
      "\n",
      "  This may not be accurate due to some parameters are only used in language bindings but\n",
      "  passed down to XGBoost core.  Or some parameters are not used but slip through this\n",
      "  verification. Please open an issue if you find above cases.\n",
      "\n",
      "\n",
      "[0]\tvalidation_0-auc:0.60277\n",
      "Will train until validation_0-auc hasn't improved in 500 rounds.\n",
      "[200]\tvalidation_0-auc:0.66029\n",
      "[400]\tvalidation_0-auc:0.66879\n",
      "[600]\tvalidation_0-auc:0.67466\n",
      "[800]\tvalidation_0-auc:0.67754\n",
      "[1000]\tvalidation_0-auc:0.67934\n",
      "[1200]\tvalidation_0-auc:0.67995\n",
      "[1400]\tvalidation_0-auc:0.68068\n",
      "[1600]\tvalidation_0-auc:0.68103\n",
      "[1800]\tvalidation_0-auc:0.68109\n",
      "[2000]\tvalidation_0-auc:0.68114\n",
      "[2200]\tvalidation_0-auc:0.68075\n",
      "[2400]\tvalidation_0-auc:0.68018\n",
      "Stopping. Best iteration:\n",
      "[2028]\tvalidation_0-auc:0.68126\n",
      "\n"
     ]
    },
    {
     "name": "stderr",
     "output_type": "stream",
     "text": [
      "\u001b[32m[I 2021-06-29 23:41:12,359]\u001b[0m Trial 81 finished with value: 0.6812635517972715 and parameters: {'max_depth': 3, 'learning_rate': 0.005, 'min_child_weight': 11, 'gamma': 0.10561948308048867, 'alpha': 0.516468628450747, 'lambda': 2.788129962180532, 'colsample_bytree': 0.509074093522801, 'subsample': 0.5119515621317672}. Best is trial 74 with value: 0.6834354866064021.\u001b[0m\n"
     ]
    },
    {
     "name": "stdout",
     "output_type": "stream",
     "text": [
      "[23:41:12] WARNING: ../src/learner.cc:516: \n",
      "Parameters: { use_label_encoder } might not be used.\n",
      "\n",
      "  This may not be accurate due to some parameters are only used in language bindings but\n",
      "  passed down to XGBoost core.  Or some parameters are not used but slip through this\n",
      "  verification. Please open an issue if you find above cases.\n",
      "\n",
      "\n",
      "[0]\tvalidation_0-auc:0.60348\n",
      "Will train until validation_0-auc hasn't improved in 500 rounds.\n",
      "[200]\tvalidation_0-auc:0.66056\n",
      "[400]\tvalidation_0-auc:0.66877\n",
      "[600]\tvalidation_0-auc:0.67443\n",
      "[800]\tvalidation_0-auc:0.67726\n",
      "[1000]\tvalidation_0-auc:0.67942\n",
      "[1200]\tvalidation_0-auc:0.68083\n",
      "[1400]\tvalidation_0-auc:0.68160\n",
      "[1600]\tvalidation_0-auc:0.68165\n",
      "[1800]\tvalidation_0-auc:0.68182\n",
      "[2000]\tvalidation_0-auc:0.68191\n",
      "[2200]\tvalidation_0-auc:0.68177\n",
      "[2400]\tvalidation_0-auc:0.68112\n",
      "[2600]\tvalidation_0-auc:0.68114\n",
      "Stopping. Best iteration:\n",
      "[2129]\tvalidation_0-auc:0.68207\n",
      "\n"
     ]
    },
    {
     "name": "stderr",
     "output_type": "stream",
     "text": [
      "\u001b[32m[I 2021-06-29 23:41:27,656]\u001b[0m Trial 82 finished with value: 0.6820659458493432 and parameters: {'max_depth': 3, 'learning_rate': 0.005, 'min_child_weight': 1, 'gamma': 0.2724769399108034, 'alpha': 0.28201590424775413, 'lambda': 4.777718426422347, 'colsample_bytree': 0.5218803502682763, 'subsample': 0.6371977339336382}. Best is trial 74 with value: 0.6834354866064021.\u001b[0m\n"
     ]
    },
    {
     "name": "stdout",
     "output_type": "stream",
     "text": [
      "[23:41:27] WARNING: ../src/learner.cc:516: \n",
      "Parameters: { use_label_encoder } might not be used.\n",
      "\n",
      "  This may not be accurate due to some parameters are only used in language bindings but\n",
      "  passed down to XGBoost core.  Or some parameters are not used but slip through this\n",
      "  verification. Please open an issue if you find above cases.\n",
      "\n",
      "\n",
      "[0]\tvalidation_0-auc:0.61030\n",
      "Will train until validation_0-auc hasn't improved in 500 rounds.\n",
      "[200]\tvalidation_0-auc:0.65944\n",
      "[400]\tvalidation_0-auc:0.66692\n",
      "[600]\tvalidation_0-auc:0.67406\n",
      "[800]\tvalidation_0-auc:0.67744\n",
      "[1000]\tvalidation_0-auc:0.67916\n",
      "[1200]\tvalidation_0-auc:0.68040\n",
      "[1400]\tvalidation_0-auc:0.68158\n",
      "[1600]\tvalidation_0-auc:0.68192\n",
      "[1800]\tvalidation_0-auc:0.68226\n",
      "[2000]\tvalidation_0-auc:0.68201\n",
      "[2200]\tvalidation_0-auc:0.68199\n",
      "Stopping. Best iteration:\n",
      "[1881]\tvalidation_0-auc:0.68243\n",
      "\n"
     ]
    },
    {
     "name": "stderr",
     "output_type": "stream",
     "text": [
      "\u001b[32m[I 2021-06-29 23:41:41,746]\u001b[0m Trial 83 finished with value: 0.6824324940413123 and parameters: {'max_depth': 3, 'learning_rate': 0.005, 'min_child_weight': 1, 'gamma': 0.2570285340530796, 'alpha': 0.17045184290886772, 'lambda': 5.114311160242993, 'colsample_bytree': 0.5334122543095428, 'subsample': 0.5992869593655341}. Best is trial 74 with value: 0.6834354866064021.\u001b[0m\n"
     ]
    },
    {
     "name": "stdout",
     "output_type": "stream",
     "text": [
      "[23:41:41] WARNING: ../src/learner.cc:516: \n",
      "Parameters: { use_label_encoder } might not be used.\n",
      "\n",
      "  This may not be accurate due to some parameters are only used in language bindings but\n",
      "  passed down to XGBoost core.  Or some parameters are not used but slip through this\n",
      "  verification. Please open an issue if you find above cases.\n",
      "\n",
      "\n",
      "[0]\tvalidation_0-auc:0.58028\n",
      "Will train until validation_0-auc hasn't improved in 500 rounds.\n",
      "[200]\tvalidation_0-auc:0.65716\n",
      "[400]\tvalidation_0-auc:0.66572\n",
      "[600]\tvalidation_0-auc:0.67349\n",
      "[800]\tvalidation_0-auc:0.67742\n",
      "[1000]\tvalidation_0-auc:0.67896\n",
      "[1200]\tvalidation_0-auc:0.68037\n",
      "[1400]\tvalidation_0-auc:0.68114\n",
      "[1600]\tvalidation_0-auc:0.68167\n",
      "[1800]\tvalidation_0-auc:0.68183\n",
      "[2000]\tvalidation_0-auc:0.68172\n",
      "[2200]\tvalidation_0-auc:0.68177\n",
      "[2400]\tvalidation_0-auc:0.68202\n",
      "[2600]\tvalidation_0-auc:0.68193\n",
      "Stopping. Best iteration:\n",
      "[2297]\tvalidation_0-auc:0.68218\n",
      "\n"
     ]
    },
    {
     "name": "stderr",
     "output_type": "stream",
     "text": [
      "\u001b[32m[I 2021-06-29 23:41:58,213]\u001b[0m Trial 84 finished with value: 0.6821826577114628 and parameters: {'max_depth': 3, 'learning_rate': 0.005, 'min_child_weight': 10, 'gamma': 0.27616719513834465, 'alpha': 0.16852522935808908, 'lambda': 6.487333056013984, 'colsample_bytree': 0.5340990433073324, 'subsample': 0.6034839493938458}. Best is trial 74 with value: 0.6834354866064021.\u001b[0m\n"
     ]
    },
    {
     "name": "stdout",
     "output_type": "stream",
     "text": [
      "[23:41:58] WARNING: ../src/learner.cc:516: \n",
      "Parameters: { use_label_encoder } might not be used.\n",
      "\n",
      "  This may not be accurate due to some parameters are only used in language bindings but\n",
      "  passed down to XGBoost core.  Or some parameters are not used but slip through this\n",
      "  verification. Please open an issue if you find above cases.\n",
      "\n",
      "\n",
      "[0]\tvalidation_0-auc:0.59984\n",
      "Will train until validation_0-auc hasn't improved in 500 rounds.\n",
      "[200]\tvalidation_0-auc:0.66032\n",
      "[400]\tvalidation_0-auc:0.66815\n",
      "[600]\tvalidation_0-auc:0.67355\n",
      "[800]\tvalidation_0-auc:0.67579\n",
      "[1000]\tvalidation_0-auc:0.67736\n",
      "[1200]\tvalidation_0-auc:0.67836\n",
      "[1400]\tvalidation_0-auc:0.67962\n",
      "[1600]\tvalidation_0-auc:0.67938\n",
      "[1800]\tvalidation_0-auc:0.67953\n",
      "[2000]\tvalidation_0-auc:0.67970\n",
      "[2200]\tvalidation_0-auc:0.67984\n",
      "[2400]\tvalidation_0-auc:0.67935\n",
      "[2600]\tvalidation_0-auc:0.67902\n",
      "Stopping. Best iteration:\n",
      "[2199]\tvalidation_0-auc:0.67985\n",
      "\n"
     ]
    },
    {
     "name": "stderr",
     "output_type": "stream",
     "text": [
      "\u001b[32m[I 2021-06-29 23:42:13,514]\u001b[0m Trial 85 finished with value: 0.6798502440919179 and parameters: {'max_depth': 3, 'learning_rate': 0.005, 'min_child_weight': 23, 'gamma': 0.2984128993612057, 'alpha': 0.17043458846040194, 'lambda': 5.127257722929623, 'colsample_bytree': 0.5754579813636166, 'subsample': 0.6366364827925901}. Best is trial 74 with value: 0.6834354866064021.\u001b[0m\n"
     ]
    },
    {
     "name": "stdout",
     "output_type": "stream",
     "text": [
      "[23:42:13] WARNING: ../src/learner.cc:516: \n",
      "Parameters: { use_label_encoder } might not be used.\n",
      "\n",
      "  This may not be accurate due to some parameters are only used in language bindings but\n",
      "  passed down to XGBoost core.  Or some parameters are not used but slip through this\n",
      "  verification. Please open an issue if you find above cases.\n",
      "\n",
      "\n",
      "[0]\tvalidation_0-auc:0.59984\n",
      "Will train until validation_0-auc hasn't improved in 500 rounds.\n",
      "[200]\tvalidation_0-auc:0.67708\n",
      "[400]\tvalidation_0-auc:0.68134\n",
      "[600]\tvalidation_0-auc:0.68185\n",
      "[800]\tvalidation_0-auc:0.67963\n",
      "[1000]\tvalidation_0-auc:0.67997\n",
      "Stopping. Best iteration:\n",
      "[523]\tvalidation_0-auc:0.68298\n",
      "\n"
     ]
    },
    {
     "name": "stderr",
     "output_type": "stream",
     "text": [
      "\u001b[32m[I 2021-06-29 23:42:19,590]\u001b[0m Trial 86 finished with value: 0.6829795808949977 and parameters: {'max_depth': 3, 'learning_rate': 0.02, 'min_child_weight': 18, 'gamma': 0.8920875922216848, 'alpha': 0.07042828705604819, 'lambda': 4.898691707701447, 'colsample_bytree': 0.4911804038019537, 'subsample': 0.6701247867941921}. Best is trial 74 with value: 0.6834354866064021.\u001b[0m\n"
     ]
    },
    {
     "name": "stdout",
     "output_type": "stream",
     "text": [
      "[23:42:19] WARNING: ../src/learner.cc:516: \n",
      "Parameters: { use_label_encoder } might not be used.\n",
      "\n",
      "  This may not be accurate due to some parameters are only used in language bindings but\n",
      "  passed down to XGBoost core.  Or some parameters are not used but slip through this\n",
      "  verification. Please open an issue if you find above cases.\n",
      "\n",
      "\n",
      "[0]\tvalidation_0-auc:0.58344\n",
      "Will train until validation_0-auc hasn't improved in 500 rounds.\n",
      "[200]\tvalidation_0-auc:0.67582\n",
      "[400]\tvalidation_0-auc:0.67636\n",
      "[600]\tvalidation_0-auc:0.67394\n",
      "[800]\tvalidation_0-auc:0.67209\n",
      "Stopping. Best iteration:\n",
      "[362]\tvalidation_0-auc:0.67813\n",
      "\n"
     ]
    },
    {
     "name": "stderr",
     "output_type": "stream",
     "text": [
      "\u001b[32m[I 2021-06-29 23:42:25,849]\u001b[0m Trial 87 finished with value: 0.6781342149941918 and parameters: {'max_depth': 7, 'learning_rate': 0.02, 'min_child_weight': 17, 'gamma': 0.8891007121502016, 'alpha': 0.03840920230190081, 'lambda': 7.720740125336424, 'colsample_bytree': 0.4851850577012466, 'subsample': 0.60412100924807}. Best is trial 74 with value: 0.6834354866064021.\u001b[0m\n"
     ]
    },
    {
     "name": "stdout",
     "output_type": "stream",
     "text": [
      "[23:42:25] WARNING: ../src/learner.cc:516: \n",
      "Parameters: { use_label_encoder } might not be used.\n",
      "\n",
      "  This may not be accurate due to some parameters are only used in language bindings but\n",
      "  passed down to XGBoost core.  Or some parameters are not used but slip through this\n",
      "  verification. Please open an issue if you find above cases.\n",
      "\n",
      "\n",
      "[0]\tvalidation_0-auc:0.58321\n",
      "Will train until validation_0-auc hasn't improved in 500 rounds.\n",
      "[200]\tvalidation_0-auc:0.67511\n",
      "[400]\tvalidation_0-auc:0.67616\n",
      "[600]\tvalidation_0-auc:0.67555\n",
      "[800]\tvalidation_0-auc:0.67245\n",
      "Stopping. Best iteration:\n",
      "[362]\tvalidation_0-auc:0.67698\n",
      "\n"
     ]
    },
    {
     "name": "stderr",
     "output_type": "stream",
     "text": [
      "\u001b[32m[I 2021-06-29 23:42:32,464]\u001b[0m Trial 88 finished with value: 0.6769816853557615 and parameters: {'max_depth': 10, 'learning_rate': 0.02, 'min_child_weight': 30, 'gamma': 0.4497295269110118, 'alpha': 0.0852150366949662, 'lambda': 9.964606508887844, 'colsample_bytree': 0.5507790801393149, 'subsample': 0.6677682663650093}. Best is trial 74 with value: 0.6834354866064021.\u001b[0m\n"
     ]
    },
    {
     "name": "stdout",
     "output_type": "stream",
     "text": [
      "[23:42:32] WARNING: ../src/learner.cc:516: \n",
      "Parameters: { use_label_encoder } might not be used.\n",
      "\n",
      "  This may not be accurate due to some parameters are only used in language bindings but\n",
      "  passed down to XGBoost core.  Or some parameters are not used but slip through this\n",
      "  verification. Please open an issue if you find above cases.\n",
      "\n",
      "\n",
      "[0]\tvalidation_0-auc:0.58560\n",
      "Will train until validation_0-auc hasn't improved in 500 rounds.\n",
      "[200]\tvalidation_0-auc:0.67634\n",
      "[400]\tvalidation_0-auc:0.67957\n",
      "[600]\tvalidation_0-auc:0.68049\n",
      "[800]\tvalidation_0-auc:0.67899\n",
      "Stopping. Best iteration:\n",
      "[466]\tvalidation_0-auc:0.68137\n",
      "\n"
     ]
    },
    {
     "name": "stderr",
     "output_type": "stream",
     "text": [
      "\u001b[32m[I 2021-06-29 23:42:38,513]\u001b[0m Trial 89 finished with value: 0.681371145545163 and parameters: {'max_depth': 4, 'learning_rate': 0.02, 'min_child_weight': 9, 'gamma': 0.8033440038776382, 'alpha': 0.06319417784990058, 'lambda': 7.2624716009880546, 'colsample_bytree': 0.4490332697115582, 'subsample': 0.5534669522759346}. Best is trial 74 with value: 0.6834354866064021.\u001b[0m\n"
     ]
    },
    {
     "name": "stdout",
     "output_type": "stream",
     "text": [
      "[23:42:38] WARNING: ../src/learner.cc:516: \n",
      "Parameters: { use_label_encoder } might not be used.\n",
      "\n",
      "  This may not be accurate due to some parameters are only used in language bindings but\n",
      "  passed down to XGBoost core.  Or some parameters are not used but slip through this\n",
      "  verification. Please open an issue if you find above cases.\n",
      "\n",
      "\n",
      "[0]\tvalidation_0-auc:0.60998\n",
      "Will train until validation_0-auc hasn't improved in 500 rounds.\n",
      "[200]\tvalidation_0-auc:0.67495\n",
      "[400]\tvalidation_0-auc:0.67991\n",
      "[600]\tvalidation_0-auc:0.68173\n",
      "[800]\tvalidation_0-auc:0.67848\n",
      "[1000]\tvalidation_0-auc:0.67692\n",
      "Stopping. Best iteration:\n",
      "[525]\tvalidation_0-auc:0.68216\n",
      "\n"
     ]
    },
    {
     "name": "stderr",
     "output_type": "stream",
     "text": [
      "\u001b[32m[I 2021-06-29 23:42:44,662]\u001b[0m Trial 90 finished with value: 0.682162597860161 and parameters: {'max_depth': 3, 'learning_rate': 0.02, 'min_child_weight': 18, 'gamma': 0.3895116751706804, 'alpha': 0.027293320340364875, 'lambda': 4.367718030434174, 'colsample_bytree': 0.5003996371013306, 'subsample': 0.5814109663665208}. Best is trial 74 with value: 0.6834354866064021.\u001b[0m\n"
     ]
    },
    {
     "name": "stdout",
     "output_type": "stream",
     "text": [
      "[23:42:44] WARNING: ../src/learner.cc:516: \n",
      "Parameters: { use_label_encoder } might not be used.\n",
      "\n",
      "  This may not be accurate due to some parameters are only used in language bindings but\n",
      "  passed down to XGBoost core.  Or some parameters are not used but slip through this\n",
      "  verification. Please open an issue if you find above cases.\n",
      "\n",
      "\n",
      "[0]\tvalidation_0-auc:0.60868\n",
      "Will train until validation_0-auc hasn't improved in 500 rounds.\n",
      "[200]\tvalidation_0-auc:0.67528\n",
      "[400]\tvalidation_0-auc:0.67989\n",
      "[600]\tvalidation_0-auc:0.68012\n",
      "[800]\tvalidation_0-auc:0.67669\n",
      "[1000]\tvalidation_0-auc:0.67674\n",
      "Stopping. Best iteration:\n",
      "[526]\tvalidation_0-auc:0.68140\n",
      "\n"
     ]
    },
    {
     "name": "stderr",
     "output_type": "stream",
     "text": [
      "\u001b[32m[I 2021-06-29 23:42:50,765]\u001b[0m Trial 91 finished with value: 0.6814003235106929 and parameters: {'max_depth': 3, 'learning_rate': 0.02, 'min_child_weight': 19, 'gamma': 0.38363069516382725, 'alpha': 0.023909835220818923, 'lambda': 4.934905168773077, 'colsample_bytree': 0.5002246497542956, 'subsample': 0.5808474516058209}. Best is trial 74 with value: 0.6834354866064021.\u001b[0m\n"
     ]
    },
    {
     "name": "stdout",
     "output_type": "stream",
     "text": [
      "[23:42:50] WARNING: ../src/learner.cc:516: \n",
      "Parameters: { use_label_encoder } might not be used.\n",
      "\n",
      "  This may not be accurate due to some parameters are only used in language bindings but\n",
      "  passed down to XGBoost core.  Or some parameters are not used but slip through this\n",
      "  verification. Please open an issue if you find above cases.\n",
      "\n",
      "\n",
      "[0]\tvalidation_0-auc:0.60740\n",
      "Will train until validation_0-auc hasn't improved in 500 rounds.\n",
      "[200]\tvalidation_0-auc:0.67502\n",
      "[400]\tvalidation_0-auc:0.68138\n",
      "[600]\tvalidation_0-auc:0.68042\n",
      "[800]\tvalidation_0-auc:0.67981\n",
      "Stopping. Best iteration:\n",
      "[493]\tvalidation_0-auc:0.68229\n",
      "\n"
     ]
    },
    {
     "name": "stderr",
     "output_type": "stream",
     "text": [
      "\u001b[32m[I 2021-06-29 23:42:56,417]\u001b[0m Trial 92 finished with value: 0.6822884278365087 and parameters: {'max_depth': 3, 'learning_rate': 0.02, 'min_child_weight': 36, 'gamma': 0.22892900436835567, 'alpha': 0.019389138522360037, 'lambda': 1.401874727459561, 'colsample_bytree': 0.4727077937529767, 'subsample': 0.6929819669995744}. Best is trial 74 with value: 0.6834354866064021.\u001b[0m\n"
     ]
    },
    {
     "name": "stdout",
     "output_type": "stream",
     "text": [
      "[23:42:56] WARNING: ../src/learner.cc:516: \n",
      "Parameters: { use_label_encoder } might not be used.\n",
      "\n",
      "  This may not be accurate due to some parameters are only used in language bindings but\n",
      "  passed down to XGBoost core.  Or some parameters are not used but slip through this\n",
      "  verification. Please open an issue if you find above cases.\n",
      "\n",
      "\n",
      "[0]\tvalidation_0-auc:0.61441\n",
      "Will train until validation_0-auc hasn't improved in 500 rounds.\n",
      "[200]\tvalidation_0-auc:0.67624\n",
      "[400]\tvalidation_0-auc:0.68106\n",
      "[600]\tvalidation_0-auc:0.68013\n",
      "[800]\tvalidation_0-auc:0.67941\n",
      "Stopping. Best iteration:\n",
      "[494]\tvalidation_0-auc:0.68196\n",
      "\n"
     ]
    },
    {
     "name": "stderr",
     "output_type": "stream",
     "text": [
      "\u001b[32m[I 2021-06-29 23:43:02,025]\u001b[0m Trial 93 finished with value: 0.6819565284786062 and parameters: {'max_depth': 3, 'learning_rate': 0.02, 'min_child_weight': 35, 'gamma': 0.2316635363631848, 'alpha': 0.1779760821733239, 'lambda': 0.8105475074605635, 'colsample_bytree': 0.4707204260820036, 'subsample': 0.7072217794777441}. Best is trial 74 with value: 0.6834354866064021.\u001b[0m\n"
     ]
    },
    {
     "name": "stdout",
     "output_type": "stream",
     "text": [
      "[23:43:02] WARNING: ../src/learner.cc:516: \n",
      "Parameters: { use_label_encoder } might not be used.\n",
      "\n",
      "  This may not be accurate due to some parameters are only used in language bindings but\n",
      "  passed down to XGBoost core.  Or some parameters are not used but slip through this\n",
      "  verification. Please open an issue if you find above cases.\n",
      "\n",
      "\n",
      "[0]\tvalidation_0-auc:0.59415\n",
      "Will train until validation_0-auc hasn't improved in 500 rounds.\n",
      "[200]\tvalidation_0-auc:0.67383\n",
      "[400]\tvalidation_0-auc:0.67952\n",
      "[600]\tvalidation_0-auc:0.67987\n",
      "[800]\tvalidation_0-auc:0.67868\n",
      "Stopping. Best iteration:\n",
      "[493]\tvalidation_0-auc:0.68098\n",
      "\n"
     ]
    },
    {
     "name": "stderr",
     "output_type": "stream",
     "text": [
      "\u001b[32m[I 2021-06-29 23:43:08,321]\u001b[0m Trial 94 finished with value: 0.6809790666333551 and parameters: {'max_depth': 3, 'learning_rate': 0.02, 'min_child_weight': 44, 'gamma': 0.501507486511502, 'alpha': 0.11344304068854733, 'lambda': 1.278888299579136, 'colsample_bytree': 0.44510574559888477, 'subsample': 0.6931943252007511}. Best is trial 74 with value: 0.6834354866064021.\u001b[0m\n"
     ]
    },
    {
     "name": "stdout",
     "output_type": "stream",
     "text": [
      "[23:43:08] WARNING: ../src/learner.cc:516: \n",
      "Parameters: { use_label_encoder } might not be used.\n",
      "\n",
      "  This may not be accurate due to some parameters are only used in language bindings but\n",
      "  passed down to XGBoost core.  Or some parameters are not used but slip through this\n",
      "  verification. Please open an issue if you find above cases.\n",
      "\n",
      "\n",
      "[0]\tvalidation_0-auc:0.60927\n",
      "Will train until validation_0-auc hasn't improved in 500 rounds.\n",
      "[200]\tvalidation_0-auc:0.67513\n",
      "[400]\tvalidation_0-auc:0.68194\n",
      "[600]\tvalidation_0-auc:0.68396\n",
      "[800]\tvalidation_0-auc:0.68153\n",
      "[1000]\tvalidation_0-auc:0.67922\n",
      "Stopping. Best iteration:\n",
      "[528]\tvalidation_0-auc:0.68437\n",
      "\n"
     ]
    },
    {
     "name": "stderr",
     "output_type": "stream",
     "text": [
      "\u001b[32m[I 2021-06-29 23:43:14,588]\u001b[0m Trial 95 finished with value: 0.6843746523718951 and parameters: {'max_depth': 3, 'learning_rate': 0.02, 'min_child_weight': 10, 'gamma': 0.12487138744037914, 'alpha': 0.007718996888540387, 'lambda': 2.521669474319811, 'colsample_bytree': 0.5283287072561758, 'subsample': 0.6558271955692543}. Best is trial 95 with value: 0.6843746523718951.\u001b[0m\n"
     ]
    },
    {
     "name": "stdout",
     "output_type": "stream",
     "text": [
      "[23:43:14] WARNING: ../src/learner.cc:516: \n",
      "Parameters: { use_label_encoder } might not be used.\n",
      "\n",
      "  This may not be accurate due to some parameters are only used in language bindings but\n",
      "  passed down to XGBoost core.  Or some parameters are not used but slip through this\n",
      "  verification. Please open an issue if you find above cases.\n",
      "\n",
      "\n",
      "[0]\tvalidation_0-auc:0.59984\n",
      "Will train until validation_0-auc hasn't improved in 500 rounds.\n",
      "[200]\tvalidation_0-auc:0.67657\n",
      "[400]\tvalidation_0-auc:0.68214\n",
      "[600]\tvalidation_0-auc:0.68237\n",
      "[800]\tvalidation_0-auc:0.68104\n",
      "[1000]\tvalidation_0-auc:0.67847\n",
      "Stopping. Best iteration:\n",
      "[535]\tvalidation_0-auc:0.68391\n",
      "\n"
     ]
    },
    {
     "name": "stderr",
     "output_type": "stream",
     "text": [
      "\u001b[32m[I 2021-06-29 23:43:20,874]\u001b[0m Trial 96 finished with value: 0.683907804923417 and parameters: {'max_depth': 3, 'learning_rate': 0.02, 'min_child_weight': 27, 'gamma': 0.09009446117880342, 'alpha': 0.018355540753676465, 'lambda': 2.371834921990782, 'colsample_bytree': 0.5677440129416096, 'subsample': 0.6669804332766289}. Best is trial 95 with value: 0.6843746523718951.\u001b[0m\n"
     ]
    },
    {
     "name": "stdout",
     "output_type": "stream",
     "text": [
      "[23:43:20] WARNING: ../src/learner.cc:516: \n",
      "Parameters: { use_label_encoder } might not be used.\n",
      "\n",
      "  This may not be accurate due to some parameters are only used in language bindings but\n",
      "  passed down to XGBoost core.  Or some parameters are not used but slip through this\n",
      "  verification. Please open an issue if you find above cases.\n",
      "\n",
      "\n",
      "[0]\tvalidation_0-auc:0.60896\n",
      "Will train until validation_0-auc hasn't improved in 500 rounds.\n",
      "[200]\tvalidation_0-auc:0.67673\n",
      "[400]\tvalidation_0-auc:0.68081\n",
      "[600]\tvalidation_0-auc:0.68225\n",
      "[800]\tvalidation_0-auc:0.68045\n",
      "[1000]\tvalidation_0-auc:0.67953\n",
      "Stopping. Best iteration:\n",
      "[508]\tvalidation_0-auc:0.68295\n",
      "\n"
     ]
    },
    {
     "name": "stderr",
     "output_type": "stream",
     "text": [
      "\u001b[32m[I 2021-06-29 23:43:27,488]\u001b[0m Trial 97 finished with value: 0.682954050175159 and parameters: {'max_depth': 4, 'learning_rate': 0.02, 'min_child_weight': 1, 'gamma': 0.12426646437847383, 'alpha': 0.0055767318643564975, 'lambda': 2.5753274552386305, 'colsample_bytree': 0.628279685220064, 'subsample': 0.6466338671435712}. Best is trial 95 with value: 0.6843746523718951.\u001b[0m\n"
     ]
    },
    {
     "name": "stdout",
     "output_type": "stream",
     "text": [
      "[23:43:27] WARNING: ../src/learner.cc:516: \n",
      "Parameters: { use_label_encoder } might not be used.\n",
      "\n",
      "  This may not be accurate due to some parameters are only used in language bindings but\n",
      "  passed down to XGBoost core.  Or some parameters are not used but slip through this\n",
      "  verification. Please open an issue if you find above cases.\n",
      "\n",
      "\n",
      "[0]\tvalidation_0-auc:0.60854\n",
      "Will train until validation_0-auc hasn't improved in 500 rounds.\n",
      "[200]\tvalidation_0-auc:0.67757\n",
      "[400]\tvalidation_0-auc:0.67934\n",
      "[600]\tvalidation_0-auc:0.67910\n",
      "[800]\tvalidation_0-auc:0.67709\n",
      "Stopping. Best iteration:\n",
      "[446]\tvalidation_0-auc:0.68060\n",
      "\n"
     ]
    },
    {
     "name": "stderr",
     "output_type": "stream",
     "text": [
      "\u001b[32m[I 2021-06-29 23:43:33,522]\u001b[0m Trial 98 finished with value: 0.6806034003271579 and parameters: {'max_depth': 4, 'learning_rate': 0.02, 'min_child_weight': 28, 'gamma': 0.08663416961616785, 'alpha': 0.007584621087497687, 'lambda': 2.159378039622527, 'colsample_bytree': 0.6682904906528497, 'subsample': 0.6510011851287841}. Best is trial 95 with value: 0.6843746523718951.\u001b[0m\n"
     ]
    },
    {
     "name": "stdout",
     "output_type": "stream",
     "text": [
      "[23:43:33] WARNING: ../src/learner.cc:516: \n",
      "Parameters: { use_label_encoder } might not be used.\n",
      "\n",
      "  This may not be accurate due to some parameters are only used in language bindings but\n",
      "  passed down to XGBoost core.  Or some parameters are not used but slip through this\n",
      "  verification. Please open an issue if you find above cases.\n",
      "\n",
      "\n",
      "[0]\tvalidation_0-auc:0.61779\n",
      "Will train until validation_0-auc hasn't improved in 500 rounds.\n",
      "[200]\tvalidation_0-auc:0.67816\n",
      "[400]\tvalidation_0-auc:0.68132\n",
      "[600]\tvalidation_0-auc:0.68339\n",
      "[800]\tvalidation_0-auc:0.68031\n",
      "Stopping. Best iteration:\n",
      "[491]\tvalidation_0-auc:0.68433\n",
      "\n"
     ]
    },
    {
     "name": "stderr",
     "output_type": "stream",
     "text": [
      "\u001b[32m[I 2021-06-29 23:43:40,023]\u001b[0m Trial 99 finished with value: 0.6843290618007546 and parameters: {'max_depth': 4, 'learning_rate': 0.02, 'min_child_weight': 9, 'gamma': 0.12392699053245994, 'alpha': 0.0065828676008719, 'lambda': 2.52910033420053, 'colsample_bytree': 0.6153982519064601, 'subsample': 0.6742547245794639}. Best is trial 95 with value: 0.6843746523718951.\u001b[0m\n"
     ]
    },
    {
     "name": "stdout",
     "output_type": "stream",
     "text": [
      "[23:43:40] WARNING: ../src/learner.cc:516: \n",
      "Parameters: { use_label_encoder } might not be used.\n",
      "\n",
      "  This may not be accurate due to some parameters are only used in language bindings but\n",
      "  passed down to XGBoost core.  Or some parameters are not used but slip through this\n",
      "  verification. Please open an issue if you find above cases.\n",
      "\n",
      "\n",
      "[0]\tvalidation_0-auc:0.60462\n",
      "Will train until validation_0-auc hasn't improved in 500 rounds.\n",
      "[200]\tvalidation_0-auc:0.67483\n",
      "[400]\tvalidation_0-auc:0.67544\n",
      "[600]\tvalidation_0-auc:0.67580\n",
      "[800]\tvalidation_0-auc:0.67310\n",
      "Stopping. Best iteration:\n",
      "[446]\tvalidation_0-auc:0.67696\n",
      "\n"
     ]
    },
    {
     "name": "stderr",
     "output_type": "stream",
     "text": [
      "\u001b[32m[I 2021-06-29 23:43:46,562]\u001b[0m Trial 100 finished with value: 0.6769598018816141 and parameters: {'max_depth': 5, 'learning_rate': 0.02, 'min_child_weight': 8, 'gamma': 0.05280501073287369, 'alpha': 0.005470663559886377, 'lambda': 2.6751194009608645, 'colsample_bytree': 0.6304084549320287, 'subsample': 0.6709726594666432}. Best is trial 95 with value: 0.6843746523718951.\u001b[0m\n"
     ]
    },
    {
     "name": "stdout",
     "output_type": "stream",
     "text": [
      "[23:43:46] WARNING: ../src/learner.cc:516: \n",
      "Parameters: { use_label_encoder } might not be used.\n",
      "\n",
      "  This may not be accurate due to some parameters are only used in language bindings but\n",
      "  passed down to XGBoost core.  Or some parameters are not used but slip through this\n",
      "  verification. Please open an issue if you find above cases.\n",
      "\n",
      "\n",
      "[0]\tvalidation_0-auc:0.61090\n",
      "Will train until validation_0-auc hasn't improved in 500 rounds.\n",
      "[200]\tvalidation_0-auc:0.67546\n",
      "[400]\tvalidation_0-auc:0.68039\n",
      "[600]\tvalidation_0-auc:0.68089\n",
      "[800]\tvalidation_0-auc:0.67890\n",
      "Stopping. Best iteration:\n",
      "[356]\tvalidation_0-auc:0.68129\n",
      "\n"
     ]
    },
    {
     "name": "stderr",
     "output_type": "stream",
     "text": [
      "\u001b[32m[I 2021-06-29 23:43:51,940]\u001b[0m Trial 101 finished with value: 0.681294553385647 and parameters: {'max_depth': 4, 'learning_rate': 0.02, 'min_child_weight': 9, 'gamma': 0.09504109181778816, 'alpha': 0.011539152231645061, 'lambda': 2.9670480083496296, 'colsample_bytree': 0.5779293863391505, 'subsample': 0.7152892076233031}. Best is trial 95 with value: 0.6843746523718951.\u001b[0m\n"
     ]
    },
    {
     "name": "stdout",
     "output_type": "stream",
     "text": [
      "[23:43:51] WARNING: ../src/learner.cc:516: \n",
      "Parameters: { use_label_encoder } might not be used.\n",
      "\n",
      "  This may not be accurate due to some parameters are only used in language bindings but\n",
      "  passed down to XGBoost core.  Or some parameters are not used but slip through this\n",
      "  verification. Please open an issue if you find above cases.\n",
      "\n",
      "\n",
      "[0]\tvalidation_0-auc:0.62068\n",
      "Will train until validation_0-auc hasn't improved in 500 rounds.\n",
      "[200]\tvalidation_0-auc:0.67719\n",
      "[400]\tvalidation_0-auc:0.67964\n",
      "[600]\tvalidation_0-auc:0.67946\n",
      "[800]\tvalidation_0-auc:0.67889\n",
      "[1000]\tvalidation_0-auc:0.67880\n",
      "Stopping. Best iteration:\n",
      "[530]\tvalidation_0-auc:0.68132\n",
      "\n"
     ]
    },
    {
     "name": "stderr",
     "output_type": "stream",
     "text": [
      "\u001b[32m[I 2021-06-29 23:43:58,919]\u001b[0m Trial 102 finished with value: 0.6813164368597945 and parameters: {'max_depth': 5, 'learning_rate': 0.02, 'min_child_weight': 1, 'gamma': 0.12852945946680683, 'alpha': 0.0028403862328842725, 'lambda': 1.578857165278271, 'colsample_bytree': 0.6064475512740335, 'subsample': 0.6563525776498073}. Best is trial 95 with value: 0.6843746523718951.\u001b[0m\n"
     ]
    },
    {
     "name": "stdout",
     "output_type": "stream",
     "text": [
      "[23:43:58] WARNING: ../src/learner.cc:516: \n",
      "Parameters: { use_label_encoder } might not be used.\n",
      "\n",
      "  This may not be accurate due to some parameters are only used in language bindings but\n",
      "  passed down to XGBoost core.  Or some parameters are not used but slip through this\n",
      "  verification. Please open an issue if you find above cases.\n",
      "\n",
      "\n",
      "[0]\tvalidation_0-auc:0.61767\n",
      "Will train until validation_0-auc hasn't improved in 500 rounds.\n",
      "[200]\tvalidation_0-auc:0.67262\n",
      "[400]\tvalidation_0-auc:0.67412\n",
      "[600]\tvalidation_0-auc:0.67246\n",
      "Stopping. Best iteration:\n",
      "[261]\tvalidation_0-auc:0.67575\n",
      "\n"
     ]
    },
    {
     "name": "stderr",
     "output_type": "stream",
     "text": [
      "\u001b[32m[I 2021-06-29 23:44:04,851]\u001b[0m Trial 103 finished with value: 0.6757452690664327 and parameters: {'max_depth': 8, 'learning_rate': 0.02, 'min_child_weight': 22, 'gamma': 0.06908342513906546, 'alpha': 0.014799651949070628, 'lambda': 1.0445035862796916, 'colsample_bytree': 0.6215490521724754, 'subsample': 0.6378417324271203}. Best is trial 95 with value: 0.6843746523718951.\u001b[0m\n"
     ]
    },
    {
     "name": "stdout",
     "output_type": "stream",
     "text": [
      "[23:44:04] WARNING: ../src/learner.cc:516: \n",
      "Parameters: { use_label_encoder } might not be used.\n",
      "\n",
      "  This may not be accurate due to some parameters are only used in language bindings but\n",
      "  passed down to XGBoost core.  Or some parameters are not used but slip through this\n",
      "  verification. Please open an issue if you find above cases.\n",
      "\n",
      "\n",
      "[0]\tvalidation_0-auc:0.63102\n",
      "Will train until validation_0-auc hasn't improved in 500 rounds.\n",
      "[200]\tvalidation_0-auc:0.67827\n",
      "[400]\tvalidation_0-auc:0.68000\n",
      "[600]\tvalidation_0-auc:0.67787\n",
      "[800]\tvalidation_0-auc:0.67548\n",
      "Stopping. Best iteration:\n",
      "[360]\tvalidation_0-auc:0.68128\n",
      "\n"
     ]
    },
    {
     "name": "stderr",
     "output_type": "stream",
     "text": [
      "\u001b[32m[I 2021-06-29 23:44:10,326]\u001b[0m Trial 104 finished with value: 0.6812799644028821 and parameters: {'max_depth': 4, 'learning_rate': 0.02, 'min_child_weight': 17, 'gamma': 0.11731511984099174, 'alpha': 0.007719408109180852, 'lambda': 0.5246609463026574, 'colsample_bytree': 0.5918245011940592, 'subsample': 0.6761849321982574}. Best is trial 95 with value: 0.6843746523718951.\u001b[0m\n"
     ]
    },
    {
     "name": "stdout",
     "output_type": "stream",
     "text": [
      "[23:44:10] WARNING: ../src/learner.cc:516: \n",
      "Parameters: { use_label_encoder } might not be used.\n",
      "\n",
      "  This may not be accurate due to some parameters are only used in language bindings but\n",
      "  passed down to XGBoost core.  Or some parameters are not used but slip through this\n",
      "  verification. Please open an issue if you find above cases.\n",
      "\n",
      "\n",
      "[0]\tvalidation_0-auc:0.61662\n",
      "Will train until validation_0-auc hasn't improved in 500 rounds.\n",
      "[200]\tvalidation_0-auc:0.67614\n",
      "[400]\tvalidation_0-auc:0.67088\n",
      "[600]\tvalidation_0-auc:0.66700\n",
      "Stopping. Best iteration:\n",
      "[200]\tvalidation_0-auc:0.67614\n",
      "\n"
     ]
    },
    {
     "name": "stderr",
     "output_type": "stream",
     "text": [
      "\u001b[32m[I 2021-06-29 23:44:15,846]\u001b[0m Trial 105 finished with value: 0.6761373479782405 and parameters: {'max_depth': 7, 'learning_rate': 0.02, 'min_child_weight': 8, 'gamma': 0.1826897003316242, 'alpha': 0.005698533827944547, 'lambda': 2.16631333680858, 'colsample_bytree': 0.6478213688454829, 'subsample': 0.6163565316592037}. Best is trial 95 with value: 0.6843746523718951.\u001b[0m\n"
     ]
    },
    {
     "name": "stdout",
     "output_type": "stream",
     "text": [
      "[23:44:15] WARNING: ../src/learner.cc:516: \n",
      "Parameters: { use_label_encoder } might not be used.\n",
      "\n",
      "  This may not be accurate due to some parameters are only used in language bindings but\n",
      "  passed down to XGBoost core.  Or some parameters are not used but slip through this\n",
      "  verification. Please open an issue if you find above cases.\n",
      "\n",
      "\n",
      "[0]\tvalidation_0-auc:0.58935\n",
      "Will train until validation_0-auc hasn't improved in 500 rounds.\n",
      "[200]\tvalidation_0-auc:0.66628\n",
      "[400]\tvalidation_0-auc:0.67443\n",
      "[600]\tvalidation_0-auc:0.67624\n",
      "[800]\tvalidation_0-auc:0.67562\n",
      "[1000]\tvalidation_0-auc:0.67532\n",
      "Stopping. Best iteration:\n",
      "[541]\tvalidation_0-auc:0.67705\n",
      "\n"
     ]
    },
    {
     "name": "stderr",
     "output_type": "stream",
     "text": [
      "\u001b[32m[I 2021-06-29 23:44:22,102]\u001b[0m Trial 106 finished with value: 0.6770455121553581 and parameters: {'max_depth': 3, 'learning_rate': 0.02, 'min_child_weight': 98, 'gamma': 0.141077424834695, 'alpha': 0.019007561345121698, 'lambda': 3.811641437194285, 'colsample_bytree': 0.7417850824868062, 'subsample': 0.6837472077484416}. Best is trial 95 with value: 0.6843746523718951.\u001b[0m\n"
     ]
    },
    {
     "name": "stdout",
     "output_type": "stream",
     "text": [
      "[23:44:22] WARNING: ../src/learner.cc:516: \n",
      "Parameters: { use_label_encoder } might not be used.\n",
      "\n",
      "  This may not be accurate due to some parameters are only used in language bindings but\n",
      "  passed down to XGBoost core.  Or some parameters are not used but slip through this\n",
      "  verification. Please open an issue if you find above cases.\n",
      "\n",
      "\n",
      "[0]\tvalidation_0-auc:0.62379\n",
      "Will train until validation_0-auc hasn't improved in 500 rounds.\n",
      "[200]\tvalidation_0-auc:0.68020\n",
      "[400]\tvalidation_0-auc:0.67494\n",
      "[600]\tvalidation_0-auc:0.66888\n",
      "Stopping. Best iteration:\n",
      "[183]\tvalidation_0-auc:0.68268\n",
      "\n"
     ]
    },
    {
     "name": "stderr",
     "output_type": "stream",
     "text": [
      "\u001b[32m[I 2021-06-29 23:44:26,795]\u001b[0m Trial 107 finished with value: 0.6826750358797795 and parameters: {'max_depth': 6, 'learning_rate': 0.05, 'min_child_weight': 28, 'gamma': 0.08359349574365893, 'alpha': 0.0040635327819222855, 'lambda': 0.9083064776353953, 'colsample_bytree': 0.5208070263995227, 'subsample': 0.6462079953719362}. Best is trial 95 with value: 0.6843746523718951.\u001b[0m\n"
     ]
    },
    {
     "name": "stdout",
     "output_type": "stream",
     "text": [
      "[23:44:26] WARNING: ../src/learner.cc:516: \n",
      "Parameters: { use_label_encoder } might not be used.\n",
      "\n",
      "  This may not be accurate due to some parameters are only used in language bindings but\n",
      "  passed down to XGBoost core.  Or some parameters are not used but slip through this\n",
      "  verification. Please open an issue if you find above cases.\n",
      "\n",
      "\n",
      "[0]\tvalidation_0-auc:0.61999\n",
      "Will train until validation_0-auc hasn't improved in 500 rounds.\n",
      "[200]\tvalidation_0-auc:0.67444\n",
      "[400]\tvalidation_0-auc:0.67044\n",
      "[600]\tvalidation_0-auc:0.66942\n",
      "Stopping. Best iteration:\n",
      "[132]\tvalidation_0-auc:0.67784\n",
      "\n"
     ]
    },
    {
     "name": "stderr",
     "output_type": "stream",
     "text": [
      "\u001b[32m[I 2021-06-29 23:44:31,322]\u001b[0m Trial 108 finished with value: 0.6778406117160474 and parameters: {'max_depth': 5, 'learning_rate': 0.05, 'min_child_weight': 27, 'gamma': 0.030938115320657992, 'alpha': 0.0038186950383456066, 'lambda': 0.8479273704633226, 'colsample_bytree': 0.7854190353641193, 'subsample': 0.7278226254094551}. Best is trial 95 with value: 0.6843746523718951.\u001b[0m\n"
     ]
    },
    {
     "name": "stdout",
     "output_type": "stream",
     "text": [
      "[23:44:31] WARNING: ../src/learner.cc:516: \n",
      "Parameters: { use_label_encoder } might not be used.\n",
      "\n",
      "  This may not be accurate due to some parameters are only used in language bindings but\n",
      "  passed down to XGBoost core.  Or some parameters are not used but slip through this\n",
      "  verification. Please open an issue if you find above cases.\n",
      "\n",
      "\n",
      "[0]\tvalidation_0-auc:0.63131\n",
      "Will train until validation_0-auc hasn't improved in 500 rounds.\n",
      "[200]\tvalidation_0-auc:0.67785\n",
      "[400]\tvalidation_0-auc:0.67264\n",
      "[600]\tvalidation_0-auc:0.66944\n",
      "Stopping. Best iteration:\n",
      "[161]\tvalidation_0-auc:0.68039\n",
      "\n"
     ]
    },
    {
     "name": "stderr",
     "output_type": "stream",
     "text": [
      "\u001b[32m[I 2021-06-29 23:44:35,755]\u001b[0m Trial 109 finished with value: 0.6803955073227576 and parameters: {'max_depth': 6, 'learning_rate': 0.05, 'min_child_weight': 49, 'gamma': 0.06040058808558584, 'alpha': 0.009906780150835636, 'lambda': 0.6806027923756955, 'colsample_bytree': 0.5707375296096158, 'subsample': 0.6279797344128362}. Best is trial 95 with value: 0.6843746523718951.\u001b[0m\n"
     ]
    },
    {
     "name": "stdout",
     "output_type": "stream",
     "text": [
      "[23:44:35] WARNING: ../src/learner.cc:516: \n",
      "Parameters: { use_label_encoder } might not be used.\n",
      "\n",
      "  This may not be accurate due to some parameters are only used in language bindings but\n",
      "  passed down to XGBoost core.  Or some parameters are not used but slip through this\n",
      "  verification. Please open an issue if you find above cases.\n",
      "\n",
      "\n",
      "[0]\tvalidation_0-auc:0.63305\n",
      "Will train until validation_0-auc hasn't improved in 500 rounds.\n",
      "[200]\tvalidation_0-auc:0.67802\n",
      "[400]\tvalidation_0-auc:0.67543\n",
      "[600]\tvalidation_0-auc:0.67275\n",
      "Stopping. Best iteration:\n",
      "[193]\tvalidation_0-auc:0.67874\n",
      "\n"
     ]
    },
    {
     "name": "stderr",
     "output_type": "stream",
     "text": [
      "\u001b[32m[I 2021-06-29 23:44:40,285]\u001b[0m Trial 110 finished with value: 0.6787414814017825 and parameters: {'max_depth': 6, 'learning_rate': 0.05, 'min_child_weight': 81, 'gamma': 0.07988091190817283, 'alpha': 0.0019825493328298294, 'lambda': 1.2074120327406317, 'colsample_bytree': 0.519664097055766, 'subsample': 0.7037405763692848}. Best is trial 95 with value: 0.6843746523718951.\u001b[0m\n"
     ]
    },
    {
     "name": "stdout",
     "output_type": "stream",
     "text": [
      "[23:44:40] WARNING: ../src/learner.cc:516: \n",
      "Parameters: { use_label_encoder } might not be used.\n",
      "\n",
      "  This may not be accurate due to some parameters are only used in language bindings but\n",
      "  passed down to XGBoost core.  Or some parameters are not used but slip through this\n",
      "  verification. Please open an issue if you find above cases.\n",
      "\n",
      "\n",
      "[0]\tvalidation_0-auc:0.60927\n",
      "Will train until validation_0-auc hasn't improved in 500 rounds.\n",
      "[200]\tvalidation_0-auc:0.67813\n",
      "[400]\tvalidation_0-auc:0.67374\n",
      "[600]\tvalidation_0-auc:0.67304\n",
      "Stopping. Best iteration:\n",
      "[193]\tvalidation_0-auc:0.67827\n",
      "\n"
     ]
    },
    {
     "name": "stderr",
     "output_type": "stream",
     "text": [
      "\u001b[32m[I 2021-06-29 23:44:44,389]\u001b[0m Trial 111 finished with value: 0.6782746339533043 and parameters: {'max_depth': 3, 'learning_rate': 0.05, 'min_child_weight': 13, 'gamma': 0.1539416288992132, 'alpha': 0.036590953144984235, 'lambda': 1.8533758557727604, 'colsample_bytree': 0.5354200914284485, 'subsample': 0.6555766440723648}. Best is trial 95 with value: 0.6843746523718951.\u001b[0m\n"
     ]
    },
    {
     "name": "stdout",
     "output_type": "stream",
     "text": [
      "[23:44:44] WARNING: ../src/learner.cc:516: \n",
      "Parameters: { use_label_encoder } might not be used.\n",
      "\n",
      "  This may not be accurate due to some parameters are only used in language bindings but\n",
      "  passed down to XGBoost core.  Or some parameters are not used but slip through this\n",
      "  verification. Please open an issue if you find above cases.\n",
      "\n",
      "\n",
      "[0]\tvalidation_0-auc:0.61207\n",
      "Will train until validation_0-auc hasn't improved in 500 rounds.\n",
      "[200]\tvalidation_0-auc:0.67880\n",
      "[400]\tvalidation_0-auc:0.67519\n",
      "[600]\tvalidation_0-auc:0.67234\n",
      "Stopping. Best iteration:\n",
      "[173]\tvalidation_0-auc:0.67968\n",
      "\n"
     ]
    },
    {
     "name": "stderr",
     "output_type": "stream",
     "text": [
      "\u001b[32m[I 2021-06-29 23:44:49,344]\u001b[0m Trial 112 finished with value: 0.67967882354443 and parameters: {'max_depth': 7, 'learning_rate': 0.02, 'min_child_weight': 20, 'gamma': 0.11588676876380773, 'alpha': 0.0047896150906495075, 'lambda': 0.13086125677708393, 'colsample_bytree': 0.5464151194723232, 'subsample': 0.6432281355455686}. Best is trial 95 with value: 0.6843746523718951.\u001b[0m\n"
     ]
    },
    {
     "name": "stdout",
     "output_type": "stream",
     "text": [
      "[23:44:49] WARNING: ../src/learner.cc:516: \n",
      "Parameters: { use_label_encoder } might not be used.\n",
      "\n",
      "  This may not be accurate due to some parameters are only used in language bindings but\n",
      "  passed down to XGBoost core.  Or some parameters are not used but slip through this\n",
      "  verification. Please open an issue if you find above cases.\n",
      "\n",
      "\n",
      "[0]\tvalidation_0-auc:0.59984\n",
      "Will train until validation_0-auc hasn't improved in 500 rounds.\n",
      "[200]\tvalidation_0-auc:0.67514\n",
      "[400]\tvalidation_0-auc:0.67698\n",
      "[600]\tvalidation_0-auc:0.67438\n",
      "Stopping. Best iteration:\n",
      "[104]\tvalidation_0-auc:0.68097\n",
      "\n"
     ]
    },
    {
     "name": "stderr",
     "output_type": "stream",
     "text": [
      "\u001b[32m[I 2021-06-29 23:44:52,830]\u001b[0m Trial 113 finished with value: 0.6809681248962813 and parameters: {'max_depth': 3, 'learning_rate': 0.1, 'min_child_weight': 33, 'gamma': 0.04091701850796094, 'alpha': 0.0027429016385509134, 'lambda': 3.3242372572629146, 'colsample_bytree': 0.49411340015994915, 'subsample': 0.6627944558439968}. Best is trial 95 with value: 0.6843746523718951.\u001b[0m\n"
     ]
    },
    {
     "name": "stdout",
     "output_type": "stream",
     "text": [
      "[23:44:52] WARNING: ../src/learner.cc:516: \n",
      "Parameters: { use_label_encoder } might not be used.\n",
      "\n",
      "  This may not be accurate due to some parameters are only used in language bindings but\n",
      "  passed down to XGBoost core.  Or some parameters are not used but slip through this\n",
      "  verification. Please open an issue if you find above cases.\n",
      "\n",
      "\n",
      "[0]\tvalidation_0-auc:0.61030\n",
      "Will train until validation_0-auc hasn't improved in 500 rounds.\n",
      "[200]\tvalidation_0-auc:0.68217\n",
      "[400]\tvalidation_0-auc:0.67672\n",
      "[600]\tvalidation_0-auc:0.67733\n",
      "Stopping. Best iteration:\n",
      "[173]\tvalidation_0-auc:0.68327\n",
      "\n"
     ]
    },
    {
     "name": "stderr",
     "output_type": "stream",
     "text": [
      "\u001b[32m[I 2021-06-29 23:44:56,899]\u001b[0m Trial 114 finished with value: 0.6832658896817596 and parameters: {'max_depth': 3, 'learning_rate': 0.05, 'min_child_weight': 1, 'gamma': 0.09685929369770369, 'alpha': 0.007938283251831798, 'lambda': 2.7094333808744304, 'colsample_bytree': 0.5150374829267731, 'subsample': 0.612186947743879}. Best is trial 95 with value: 0.6843746523718951.\u001b[0m\n"
     ]
    },
    {
     "name": "stdout",
     "output_type": "stream",
     "text": [
      "[23:44:56] WARNING: ../src/learner.cc:516: \n",
      "Parameters: { use_label_encoder } might not be used.\n",
      "\n",
      "  This may not be accurate due to some parameters are only used in language bindings but\n",
      "  passed down to XGBoost core.  Or some parameters are not used but slip through this\n",
      "  verification. Please open an issue if you find above cases.\n",
      "\n",
      "\n",
      "[0]\tvalidation_0-auc:0.61565\n",
      "Will train until validation_0-auc hasn't improved in 500 rounds.\n",
      "[200]\tvalidation_0-auc:0.67602\n",
      "[400]\tvalidation_0-auc:0.66947\n",
      "[600]\tvalidation_0-auc:0.66530\n",
      "Stopping. Best iteration:\n",
      "[146]\tvalidation_0-auc:0.68019\n",
      "\n"
     ]
    },
    {
     "name": "stderr",
     "output_type": "stream",
     "text": [
      "\u001b[32m[I 2021-06-29 23:45:01,064]\u001b[0m Trial 115 finished with value: 0.6801912615640484 and parameters: {'max_depth': 4, 'learning_rate': 0.05, 'min_child_weight': 25, 'gamma': 0.021555285685020756, 'alpha': 0.007060719045181128, 'lambda': 2.584358653116151, 'colsample_bytree': 0.5835015566830483, 'subsample': 0.5675865474992197}. Best is trial 95 with value: 0.6843746523718951.\u001b[0m\n"
     ]
    },
    {
     "name": "stdout",
     "output_type": "stream",
     "text": [
      "[23:45:01] WARNING: ../src/learner.cc:516: \n",
      "Parameters: { use_label_encoder } might not be used.\n",
      "\n",
      "  This may not be accurate due to some parameters are only used in language bindings but\n",
      "  passed down to XGBoost core.  Or some parameters are not used but slip through this\n",
      "  verification. Please open an issue if you find above cases.\n",
      "\n",
      "\n",
      "[0]\tvalidation_0-auc:0.61441\n",
      "Will train until validation_0-auc hasn't improved in 500 rounds.\n",
      "[200]\tvalidation_0-auc:0.68141\n",
      "[400]\tvalidation_0-auc:0.67533\n",
      "[600]\tvalidation_0-auc:0.67249\n",
      "Stopping. Best iteration:\n",
      "[211]\tvalidation_0-auc:0.68266\n",
      "\n"
     ]
    },
    {
     "name": "stderr",
     "output_type": "stream",
     "text": [
      "\u001b[32m[I 2021-06-29 23:45:05,245]\u001b[0m Trial 116 finished with value: 0.6826640941427058 and parameters: {'max_depth': 3, 'learning_rate': 0.05, 'min_child_weight': 6, 'gamma': 0.053214469144733864, 'alpha': 0.0014744412927691303, 'lambda': 1.6192227976269273, 'colsample_bytree': 0.5159226745629469, 'subsample': 0.6232953536887824}. Best is trial 95 with value: 0.6843746523718951.\u001b[0m\n"
     ]
    },
    {
     "name": "stdout",
     "output_type": "stream",
     "text": [
      "[23:45:05] WARNING: ../src/learner.cc:516: \n",
      "Parameters: { use_label_encoder } might not be used.\n",
      "\n",
      "  This may not be accurate due to some parameters are only used in language bindings but\n",
      "  passed down to XGBoost core.  Or some parameters are not used but slip through this\n",
      "  verification. Please open an issue if you find above cases.\n",
      "\n",
      "\n",
      "[0]\tvalidation_0-auc:0.61441\n",
      "Will train until validation_0-auc hasn't improved in 500 rounds.\n",
      "[200]\tvalidation_0-auc:0.68005\n",
      "[400]\tvalidation_0-auc:0.67751\n",
      "[600]\tvalidation_0-auc:0.67340\n",
      "Stopping. Best iteration:\n",
      "[205]\tvalidation_0-auc:0.68104\n",
      "\n"
     ]
    },
    {
     "name": "stderr",
     "output_type": "stream",
     "text": [
      "\u001b[32m[I 2021-06-29 23:45:09,323]\u001b[0m Trial 117 finished with value: 0.6810392461872606 and parameters: {'max_depth': 3, 'learning_rate': 0.05, 'min_child_weight': 7, 'gamma': 0.05409512860128184, 'alpha': 0.0015405313219113423, 'lambda': 1.5607501047677088, 'colsample_bytree': 0.4840466341051719, 'subsample': 0.6160764492802986}. Best is trial 95 with value: 0.6843746523718951.\u001b[0m\n"
     ]
    },
    {
     "name": "stdout",
     "output_type": "stream",
     "text": [
      "[23:45:09] WARNING: ../src/learner.cc:516: \n",
      "Parameters: { use_label_encoder } might not be used.\n",
      "\n",
      "  This may not be accurate due to some parameters are only used in language bindings but\n",
      "  passed down to XGBoost core.  Or some parameters are not used but slip through this\n",
      "  verification. Please open an issue if you find above cases.\n",
      "\n",
      "\n",
      "[0]\tvalidation_0-auc:0.60927\n",
      "Will train until validation_0-auc hasn't improved in 500 rounds.\n",
      "[200]\tvalidation_0-auc:0.68085\n",
      "[400]\tvalidation_0-auc:0.68029\n",
      "[600]\tvalidation_0-auc:0.67808\n",
      "[800]\tvalidation_0-auc:0.67437\n",
      "Stopping. Best iteration:\n",
      "[362]\tvalidation_0-auc:0.68167\n",
      "\n"
     ]
    },
    {
     "name": "stderr",
     "output_type": "stream",
     "text": [
      "\u001b[32m[I 2021-06-29 23:45:14,285]\u001b[0m Trial 118 finished with value: 0.6816729551261127 and parameters: {'max_depth': 3, 'learning_rate': 0.05, 'min_child_weight': 13, 'gamma': 0.09328321814718937, 'alpha': 0.0035408936084123837, 'lambda': 2.201255866230772, 'colsample_bytree': 0.5113004980984353, 'subsample': 0.6467719692921414}. Best is trial 95 with value: 0.6843746523718951.\u001b[0m\n"
     ]
    },
    {
     "name": "stdout",
     "output_type": "stream",
     "text": [
      "[23:45:14] WARNING: ../src/learner.cc:516: \n",
      "Parameters: { use_label_encoder } might not be used.\n",
      "\n",
      "  This may not be accurate due to some parameters are only used in language bindings but\n",
      "  passed down to XGBoost core.  Or some parameters are not used but slip through this\n",
      "  verification. Please open an issue if you find above cases.\n",
      "\n",
      "\n",
      "[0]\tvalidation_0-auc:0.63297\n",
      "Will train until validation_0-auc hasn't improved in 500 rounds.\n",
      "[200]\tvalidation_0-auc:0.67098\n",
      "[400]\tvalidation_0-auc:0.67146\n",
      "[600]\tvalidation_0-auc:0.67358\n",
      "[800]\tvalidation_0-auc:0.67129\n",
      "[1000]\tvalidation_0-auc:0.66867\n",
      "Stopping. Best iteration:\n",
      "[665]\tvalidation_0-auc:0.67484\n",
      "\n"
     ]
    },
    {
     "name": "stderr",
     "output_type": "stream",
     "text": [
      "\u001b[32m[I 2021-06-29 23:45:21,831]\u001b[0m Trial 119 finished with value: 0.674842575757852 and parameters: {'max_depth': 4, 'learning_rate': 0.05, 'min_child_weight': 1, 'gamma': 0.07059925604149413, 'alpha': 0.0006534431668851638, 'lambda': 0.29214018340093356, 'colsample_bytree': 0.6649531341084212, 'subsample': 0.6839301380144651}. Best is trial 95 with value: 0.6843746523718951.\u001b[0m\n"
     ]
    },
    {
     "name": "stdout",
     "output_type": "stream",
     "text": [
      "[23:45:21] WARNING: ../src/learner.cc:516: \n",
      "Parameters: { use_label_encoder } might not be used.\n",
      "\n",
      "  This may not be accurate due to some parameters are only used in language bindings but\n",
      "  passed down to XGBoost core.  Or some parameters are not used but slip through this\n",
      "  verification. Please open an issue if you find above cases.\n",
      "\n",
      "\n",
      "[0]\tvalidation_0-auc:0.61441\n",
      "Will train until validation_0-auc hasn't improved in 500 rounds.\n",
      "[200]\tvalidation_0-auc:0.67586\n",
      "[400]\tvalidation_0-auc:0.68059\n",
      "[600]\tvalidation_0-auc:0.68175\n",
      "[800]\tvalidation_0-auc:0.67841\n",
      "[1000]\tvalidation_0-auc:0.67724\n",
      "Stopping. Best iteration:\n",
      "[525]\tvalidation_0-auc:0.68297\n",
      "\n"
     ]
    },
    {
     "name": "stderr",
     "output_type": "stream",
     "text": [
      "\u001b[32m[I 2021-06-29 23:45:27,835]\u001b[0m Trial 120 finished with value: 0.6829649919122327 and parameters: {'max_depth': 3, 'learning_rate': 0.02, 'min_child_weight': 39, 'gamma': 0.04829082041482965, 'alpha': 0.0064307554870629054, 'lambda': 0.04007497822433707, 'colsample_bytree': 0.6920385813718227, 'subsample': 0.6250283959851246}. Best is trial 95 with value: 0.6843746523718951.\u001b[0m\n"
     ]
    },
    {
     "name": "stdout",
     "output_type": "stream",
     "text": [
      "[23:45:27] WARNING: ../src/learner.cc:516: \n",
      "Parameters: { use_label_encoder } might not be used.\n",
      "\n",
      "  This may not be accurate due to some parameters are only used in language bindings but\n",
      "  passed down to XGBoost core.  Or some parameters are not used but slip through this\n",
      "  verification. Please open an issue if you find above cases.\n",
      "\n",
      "\n",
      "[0]\tvalidation_0-auc:0.60253\n",
      "Will train until validation_0-auc hasn't improved in 500 rounds.\n",
      "[200]\tvalidation_0-auc:0.67635\n",
      "[400]\tvalidation_0-auc:0.68031\n",
      "[600]\tvalidation_0-auc:0.68030\n",
      "[800]\tvalidation_0-auc:0.67763\n",
      "[1000]\tvalidation_0-auc:0.67444\n",
      "Stopping. Best iteration:\n",
      "[512]\tvalidation_0-auc:0.68245\n",
      "\n"
     ]
    },
    {
     "name": "stderr",
     "output_type": "stream",
     "text": [
      "\u001b[32m[I 2021-06-29 23:45:34,057]\u001b[0m Trial 121 finished with value: 0.6824525538926142 and parameters: {'max_depth': 3, 'learning_rate': 0.02, 'min_child_weight': 18, 'gamma': 0.05121650139574548, 'alpha': 0.008660747224172857, 'lambda': 0.02251308597047716, 'colsample_bytree': 0.7190792222841553, 'subsample': 0.6286974522193887}. Best is trial 95 with value: 0.6843746523718951.\u001b[0m\n"
     ]
    },
    {
     "name": "stdout",
     "output_type": "stream",
     "text": [
      "[23:45:34] WARNING: ../src/learner.cc:516: \n",
      "Parameters: { use_label_encoder } might not be used.\n",
      "\n",
      "  This may not be accurate due to some parameters are only used in language bindings but\n",
      "  passed down to XGBoost core.  Or some parameters are not used but slip through this\n",
      "  verification. Please open an issue if you find above cases.\n",
      "\n",
      "\n",
      "[0]\tvalidation_0-auc:0.60253\n",
      "Will train until validation_0-auc hasn't improved in 500 rounds.\n",
      "[200]\tvalidation_0-auc:0.67636\n",
      "[400]\tvalidation_0-auc:0.68101\n",
      "[600]\tvalidation_0-auc:0.68039\n",
      "[800]\tvalidation_0-auc:0.67773\n",
      "Stopping. Best iteration:\n",
      "[370]\tvalidation_0-auc:0.68217\n",
      "\n"
     ]
    },
    {
     "name": "stderr",
     "output_type": "stream",
     "text": [
      "\u001b[32m[I 2021-06-29 23:45:39,504]\u001b[0m Trial 122 finished with value: 0.6821680687286977 and parameters: {'max_depth': 3, 'learning_rate': 0.02, 'min_child_weight': 41, 'gamma': 0.10463794640513298, 'alpha': 0.006100786942091505, 'lambda': 0.9604693614620914, 'colsample_bytree': 0.7157235981170627, 'subsample': 0.6111646160421451}. Best is trial 95 with value: 0.6843746523718951.\u001b[0m\n"
     ]
    },
    {
     "name": "stdout",
     "output_type": "stream",
     "text": [
      "[23:45:39] WARNING: ../src/learner.cc:516: \n",
      "Parameters: { use_label_encoder } might not be used.\n",
      "\n",
      "  This may not be accurate due to some parameters are only used in language bindings but\n",
      "  passed down to XGBoost core.  Or some parameters are not used but slip through this\n",
      "  verification. Please open an issue if you find above cases.\n",
      "\n",
      "\n",
      "[0]\tvalidation_0-auc:0.61441\n",
      "Will train until validation_0-auc hasn't improved in 500 rounds.\n",
      "[200]\tvalidation_0-auc:0.67907\n",
      "[400]\tvalidation_0-auc:0.68397\n",
      "[600]\tvalidation_0-auc:0.68479\n",
      "[800]\tvalidation_0-auc:0.68402\n",
      "Stopping. Best iteration:\n",
      "[479]\tvalidation_0-auc:0.68630\n",
      "\n"
     ]
    },
    {
     "name": "stderr",
     "output_type": "stream",
     "text": [
      "\u001b[32m[I 2021-06-29 23:45:45,627]\u001b[0m Trial 123 finished with value: 0.6863022217197128 and parameters: {'max_depth': 3, 'learning_rate': 0.02, 'min_child_weight': 1, 'gamma': 0.08248852923063967, 'alpha': 0.012622226322407304, 'lambda': 0.04713744983326092, 'colsample_bytree': 0.6978348228450022, 'subsample': 0.6686334434592767}. Best is trial 123 with value: 0.6863022217197128.\u001b[0m\n"
     ]
    },
    {
     "name": "stdout",
     "output_type": "stream",
     "text": [
      "[23:45:45] WARNING: ../src/learner.cc:516: \n",
      "Parameters: { use_label_encoder } might not be used.\n",
      "\n",
      "  This may not be accurate due to some parameters are only used in language bindings but\n",
      "  passed down to XGBoost core.  Or some parameters are not used but slip through this\n",
      "  verification. Please open an issue if you find above cases.\n",
      "\n",
      "\n",
      "[0]\tvalidation_0-auc:0.61441\n",
      "Will train until validation_0-auc hasn't improved in 500 rounds.\n",
      "[200]\tvalidation_0-auc:0.67708\n",
      "[400]\tvalidation_0-auc:0.68203\n",
      "[600]\tvalidation_0-auc:0.68330\n",
      "[800]\tvalidation_0-auc:0.68162\n",
      "[1000]\tvalidation_0-auc:0.68200\n",
      "Stopping. Best iteration:\n",
      "[616]\tvalidation_0-auc:0.68374\n",
      "\n"
     ]
    },
    {
     "name": "stderr",
     "output_type": "stream",
     "text": [
      "\u001b[32m[I 2021-06-29 23:45:53,044]\u001b[0m Trial 124 finished with value: 0.6837382079987746 and parameters: {'max_depth': 3, 'learning_rate': 0.02, 'min_child_weight': 6, 'gamma': 0.03196345481487578, 'alpha': 0.017191837036139575, 'lambda': 0.08541734152252188, 'colsample_bytree': 0.6818631157563556, 'subsample': 0.6731385660688627}. Best is trial 123 with value: 0.6863022217197128.\u001b[0m\n"
     ]
    },
    {
     "name": "stdout",
     "output_type": "stream",
     "text": [
      "[23:45:53] WARNING: ../src/learner.cc:516: \n",
      "Parameters: { use_label_encoder } might not be used.\n",
      "\n",
      "  This may not be accurate due to some parameters are only used in language bindings but\n",
      "  passed down to XGBoost core.  Or some parameters are not used but slip through this\n",
      "  verification. Please open an issue if you find above cases.\n",
      "\n",
      "\n",
      "[0]\tvalidation_0-auc:0.60253\n",
      "Will train until validation_0-auc hasn't improved in 500 rounds.\n",
      "[200]\tvalidation_0-auc:0.67874\n",
      "[400]\tvalidation_0-auc:0.68252\n",
      "[600]\tvalidation_0-auc:0.68259\n",
      "[800]\tvalidation_0-auc:0.68018\n",
      "[1000]\tvalidation_0-auc:0.67811\n",
      "Stopping. Best iteration:\n",
      "[525]\tvalidation_0-auc:0.68391\n",
      "\n"
     ]
    },
    {
     "name": "stderr",
     "output_type": "stream",
     "text": [
      "\u001b[32m[I 2021-06-29 23:45:59,482]\u001b[0m Trial 125 finished with value: 0.6839096285462626 and parameters: {'max_depth': 3, 'learning_rate': 0.02, 'min_child_weight': 26, 'gamma': 0.04136313007760893, 'alpha': 0.0158106675625022, 'lambda': 0.046814864805715894, 'colsample_bytree': 0.7593642264350916, 'subsample': 0.6679985328148912}. Best is trial 123 with value: 0.6863022217197128.\u001b[0m\n"
     ]
    },
    {
     "name": "stdout",
     "output_type": "stream",
     "text": [
      "[23:45:59] WARNING: ../src/learner.cc:516: \n",
      "Parameters: { use_label_encoder } might not be used.\n",
      "\n",
      "  This may not be accurate due to some parameters are only used in language bindings but\n",
      "  passed down to XGBoost core.  Or some parameters are not used but slip through this\n",
      "  verification. Please open an issue if you find above cases.\n",
      "\n",
      "\n",
      "[0]\tvalidation_0-auc:0.61441\n",
      "Will train until validation_0-auc hasn't improved in 500 rounds.\n",
      "[200]\tvalidation_0-auc:0.67793\n",
      "[400]\tvalidation_0-auc:0.68248\n",
      "[600]\tvalidation_0-auc:0.68452\n",
      "[800]\tvalidation_0-auc:0.68138\n",
      "[1000]\tvalidation_0-auc:0.67998\n",
      "Stopping. Best iteration:\n",
      "[613]\tvalidation_0-auc:0.68490\n",
      "\n"
     ]
    },
    {
     "name": "stderr",
     "output_type": "stream",
     "text": [
      "\u001b[32m[I 2021-06-29 23:46:06,709]\u001b[0m Trial 126 finished with value: 0.6848980321285872 and parameters: {'max_depth': 3, 'learning_rate': 0.02, 'min_child_weight': 14, 'gamma': 0.013915162675027319, 'alpha': 0.014146727444233242, 'lambda': 0.04009751526615299, 'colsample_bytree': 0.696067786209393, 'subsample': 0.6745376115921771}. Best is trial 123 with value: 0.6863022217197128.\u001b[0m\n"
     ]
    },
    {
     "name": "stdout",
     "output_type": "stream",
     "text": [
      "[23:46:06] WARNING: ../src/learner.cc:516: \n",
      "Parameters: { use_label_encoder } might not be used.\n",
      "\n",
      "  This may not be accurate due to some parameters are only used in language bindings but\n",
      "  passed down to XGBoost core.  Or some parameters are not used but slip through this\n",
      "  verification. Please open an issue if you find above cases.\n",
      "\n",
      "\n",
      "[0]\tvalidation_0-auc:0.60253\n",
      "Will train until validation_0-auc hasn't improved in 500 rounds.\n",
      "[200]\tvalidation_0-auc:0.67826\n",
      "[400]\tvalidation_0-auc:0.68220\n",
      "[600]\tvalidation_0-auc:0.68449\n",
      "[800]\tvalidation_0-auc:0.68295\n",
      "[1000]\tvalidation_0-auc:0.68219\n",
      "Stopping. Best iteration:\n",
      "[522]\tvalidation_0-auc:0.68542\n",
      "\n"
     ]
    },
    {
     "name": "stderr",
     "output_type": "stream",
     "text": [
      "\u001b[32m[I 2021-06-29 23:46:13,090]\u001b[0m Trial 127 finished with value: 0.6854232355081251 and parameters: {'max_depth': 3, 'learning_rate': 0.02, 'min_child_weight': 13, 'gamma': 0.01591731194304444, 'alpha': 0.017178577274716007, 'lambda': 0.06535411718041152, 'colsample_bytree': 0.7000176807788338, 'subsample': 0.6693842591726549}. Best is trial 123 with value: 0.6863022217197128.\u001b[0m\n"
     ]
    },
    {
     "name": "stdout",
     "output_type": "stream",
     "text": [
      "[23:46:13] WARNING: ../src/learner.cc:516: \n",
      "Parameters: { use_label_encoder } might not be used.\n",
      "\n",
      "  This may not be accurate due to some parameters are only used in language bindings but\n",
      "  passed down to XGBoost core.  Or some parameters are not used but slip through this\n",
      "  verification. Please open an issue if you find above cases.\n",
      "\n",
      "\n",
      "[0]\tvalidation_0-auc:0.61441\n",
      "Will train until validation_0-auc hasn't improved in 500 rounds.\n",
      "[200]\tvalidation_0-auc:0.67611\n",
      "[400]\tvalidation_0-auc:0.68070\n",
      "[600]\tvalidation_0-auc:0.68163\n",
      "[800]\tvalidation_0-auc:0.68000\n",
      "[1000]\tvalidation_0-auc:0.67806\n",
      "Stopping. Best iteration:\n",
      "[546]\tvalidation_0-auc:0.68205\n",
      "\n"
     ]
    },
    {
     "name": "stderr",
     "output_type": "stream",
     "text": [
      "\u001b[32m[I 2021-06-29 23:46:19,090]\u001b[0m Trial 128 finished with value: 0.6820458859980413 and parameters: {'max_depth': 3, 'learning_rate': 0.02, 'min_child_weight': 35, 'gamma': 0.018899752142650193, 'alpha': 0.014748262352797643, 'lambda': 0.04093885892953948, 'colsample_bytree': 0.6884958565059572, 'subsample': 0.7150271071168769}. Best is trial 123 with value: 0.6863022217197128.\u001b[0m\n"
     ]
    },
    {
     "name": "stdout",
     "output_type": "stream",
     "text": [
      "[23:46:19] WARNING: ../src/learner.cc:516: \n",
      "Parameters: { use_label_encoder } might not be used.\n",
      "\n",
      "  This may not be accurate due to some parameters are only used in language bindings but\n",
      "  passed down to XGBoost core.  Or some parameters are not used but slip through this\n",
      "  verification. Please open an issue if you find above cases.\n",
      "\n",
      "\n",
      "[0]\tvalidation_0-auc:0.61441\n",
      "Will train until validation_0-auc hasn't improved in 500 rounds.\n",
      "[200]\tvalidation_0-auc:0.67519\n",
      "[400]\tvalidation_0-auc:0.68157\n",
      "[600]\tvalidation_0-auc:0.68203\n",
      "[800]\tvalidation_0-auc:0.67951\n",
      "[1000]\tvalidation_0-auc:0.67795\n",
      "Stopping. Best iteration:\n",
      "[502]\tvalidation_0-auc:0.68309\n",
      "\n"
     ]
    },
    {
     "name": "stderr",
     "output_type": "stream",
     "text": [
      "\u001b[32m[I 2021-06-29 23:46:25,132]\u001b[0m Trial 129 finished with value: 0.6830889982657348 and parameters: {'max_depth': 3, 'learning_rate': 0.02, 'min_child_weight': 23, 'gamma': 0.014116102523865094, 'alpha': 0.01922393304410216, 'lambda': 0.06283073466874307, 'colsample_bytree': 0.6985590160316635, 'subsample': 0.6926273196475969}. Best is trial 123 with value: 0.6863022217197128.\u001b[0m\n"
     ]
    },
    {
     "name": "stdout",
     "output_type": "stream",
     "text": [
      "[23:46:25] WARNING: ../src/learner.cc:516: \n",
      "Parameters: { use_label_encoder } might not be used.\n",
      "\n",
      "  This may not be accurate due to some parameters are only used in language bindings but\n",
      "  passed down to XGBoost core.  Or some parameters are not used but slip through this\n",
      "  verification. Please open an issue if you find above cases.\n",
      "\n",
      "\n",
      "[0]\tvalidation_0-auc:0.60253\n",
      "Will train until validation_0-auc hasn't improved in 500 rounds.\n",
      "[200]\tvalidation_0-auc:0.67585\n",
      "[400]\tvalidation_0-auc:0.67901\n",
      "[600]\tvalidation_0-auc:0.67942\n",
      "[800]\tvalidation_0-auc:0.67841\n",
      "Stopping. Best iteration:\n",
      "[467]\tvalidation_0-auc:0.68002\n",
      "\n"
     ]
    },
    {
     "name": "stderr",
     "output_type": "stream",
     "text": [
      "\u001b[32m[I 2021-06-29 23:46:30,747]\u001b[0m Trial 130 finished with value: 0.6800180173937147 and parameters: {'max_depth': 3, 'learning_rate': 0.02, 'min_child_weight': 15, 'gamma': 0.012540698639340491, 'alpha': 0.020253815457854686, 'lambda': 0.05509111364903998, 'colsample_bytree': 0.7715417029261115, 'subsample': 0.7026726022358182}. Best is trial 123 with value: 0.6863022217197128.\u001b[0m\n"
     ]
    },
    {
     "name": "stdout",
     "output_type": "stream",
     "text": [
      "[23:46:30] WARNING: ../src/learner.cc:516: \n",
      "Parameters: { use_label_encoder } might not be used.\n",
      "\n",
      "  This may not be accurate due to some parameters are only used in language bindings but\n",
      "  passed down to XGBoost core.  Or some parameters are not used but slip through this\n",
      "  verification. Please open an issue if you find above cases.\n",
      "\n",
      "\n",
      "[0]\tvalidation_0-auc:0.61441\n",
      "Will train until validation_0-auc hasn't improved in 500 rounds.\n",
      "[200]\tvalidation_0-auc:0.67631\n",
      "[400]\tvalidation_0-auc:0.68130\n",
      "[600]\tvalidation_0-auc:0.68322\n",
      "[800]\tvalidation_0-auc:0.68121\n",
      "[1000]\tvalidation_0-auc:0.67901\n",
      "Stopping. Best iteration:\n",
      "[523]\tvalidation_0-auc:0.68371\n",
      "\n"
     ]
    },
    {
     "name": "stderr",
     "output_type": "stream",
     "text": [
      "\u001b[32m[I 2021-06-29 23:46:36,704]\u001b[0m Trial 131 finished with value: 0.6837108536560903 and parameters: {'max_depth': 3, 'learning_rate': 0.02, 'min_child_weight': 23, 'gamma': 0.008210790873060675, 'alpha': 0.017532284815882277, 'lambda': 0.0832051878377054, 'colsample_bytree': 0.6937069055081577, 'subsample': 0.6749763027061731}. Best is trial 123 with value: 0.6863022217197128.\u001b[0m\n"
     ]
    },
    {
     "name": "stdout",
     "output_type": "stream",
     "text": [
      "[23:46:36] WARNING: ../src/learner.cc:516: \n",
      "Parameters: { use_label_encoder } might not be used.\n",
      "\n",
      "  This may not be accurate due to some parameters are only used in language bindings but\n",
      "  passed down to XGBoost core.  Or some parameters are not used but slip through this\n",
      "  verification. Please open an issue if you find above cases.\n",
      "\n",
      "\n",
      "[0]\tvalidation_0-auc:0.60253\n",
      "Will train until validation_0-auc hasn't improved in 500 rounds.\n",
      "[200]\tvalidation_0-auc:0.67810\n",
      "[400]\tvalidation_0-auc:0.68140\n",
      "[600]\tvalidation_0-auc:0.68216\n",
      "[800]\tvalidation_0-auc:0.67978\n",
      "[1000]\tvalidation_0-auc:0.67724\n",
      "Stopping. Best iteration:\n",
      "[518]\tvalidation_0-auc:0.68367\n",
      "\n"
     ]
    },
    {
     "name": "stderr",
     "output_type": "stream",
     "text": [
      "\u001b[32m[I 2021-06-29 23:46:42,808]\u001b[0m Trial 132 finished with value: 0.683674381199178 and parameters: {'max_depth': 3, 'learning_rate': 0.02, 'min_child_weight': 21, 'gamma': 0.008257010768700052, 'alpha': 0.011544384061407289, 'lambda': 0.08751266298254785, 'colsample_bytree': 0.7262466268371177, 'subsample': 0.6693054097526201}. Best is trial 123 with value: 0.6863022217197128.\u001b[0m\n"
     ]
    },
    {
     "name": "stdout",
     "output_type": "stream",
     "text": [
      "[23:46:42] WARNING: ../src/learner.cc:516: \n",
      "Parameters: { use_label_encoder } might not be used.\n",
      "\n",
      "  This may not be accurate due to some parameters are only used in language bindings but\n",
      "  passed down to XGBoost core.  Or some parameters are not used but slip through this\n",
      "  verification. Please open an issue if you find above cases.\n",
      "\n",
      "\n",
      "[0]\tvalidation_0-auc:0.60253\n",
      "Will train until validation_0-auc hasn't improved in 500 rounds.\n",
      "[200]\tvalidation_0-auc:0.67594\n",
      "[400]\tvalidation_0-auc:0.67850\n",
      "[600]\tvalidation_0-auc:0.67925\n",
      "[800]\tvalidation_0-auc:0.67687\n",
      "Stopping. Best iteration:\n",
      "[479]\tvalidation_0-auc:0.68008\n",
      "\n"
     ]
    },
    {
     "name": "stderr",
     "output_type": "stream",
     "text": [
      "\u001b[32m[I 2021-06-29 23:46:48,840]\u001b[0m Trial 133 finished with value: 0.6800800205704658 and parameters: {'max_depth': 3, 'learning_rate': 0.02, 'min_child_weight': 24, 'gamma': 0.008104125700029332, 'alpha': 0.012626061588780298, 'lambda': 0.08578451970756654, 'colsample_bytree': 0.7544546882115399, 'subsample': 0.7329676469234798}. Best is trial 123 with value: 0.6863022217197128.\u001b[0m\n"
     ]
    },
    {
     "name": "stdout",
     "output_type": "stream",
     "text": [
      "[23:46:48] WARNING: ../src/learner.cc:516: \n",
      "Parameters: { use_label_encoder } might not be used.\n",
      "\n",
      "  This may not be accurate due to some parameters are only used in language bindings but\n",
      "  passed down to XGBoost core.  Or some parameters are not used but slip through this\n",
      "  verification. Please open an issue if you find above cases.\n",
      "\n",
      "\n",
      "[0]\tvalidation_0-auc:0.60253\n",
      "Will train until validation_0-auc hasn't improved in 500 rounds.\n",
      "[200]\tvalidation_0-auc:0.67741\n",
      "[400]\tvalidation_0-auc:0.68075\n",
      "[600]\tvalidation_0-auc:0.68393\n",
      "[800]\tvalidation_0-auc:0.68239\n",
      "[1000]\tvalidation_0-auc:0.68145\n",
      "Stopping. Best iteration:\n",
      "[599]\tvalidation_0-auc:0.68409\n",
      "\n"
     ]
    },
    {
     "name": "stderr",
     "output_type": "stream",
     "text": [
      "\u001b[32m[I 2021-06-29 23:46:55,421]\u001b[0m Trial 134 finished with value: 0.6840938144536699 and parameters: {'max_depth': 3, 'learning_rate': 0.02, 'min_child_weight': 11, 'gamma': 0.010757269758920981, 'alpha': 0.026553277849694502, 'lambda': 0.06252051805563927, 'colsample_bytree': 0.7267276378458944, 'subsample': 0.6888569658694302}. Best is trial 123 with value: 0.6863022217197128.\u001b[0m\n"
     ]
    },
    {
     "name": "stdout",
     "output_type": "stream",
     "text": [
      "[23:46:55] WARNING: ../src/learner.cc:516: \n",
      "Parameters: { use_label_encoder } might not be used.\n",
      "\n",
      "  This may not be accurate due to some parameters are only used in language bindings but\n",
      "  passed down to XGBoost core.  Or some parameters are not used but slip through this\n",
      "  verification. Please open an issue if you find above cases.\n",
      "\n",
      "\n",
      "[0]\tvalidation_0-auc:0.60253\n",
      "Will train until validation_0-auc hasn't improved in 500 rounds.\n",
      "[200]\tvalidation_0-auc:0.67877\n",
      "[400]\tvalidation_0-auc:0.68188\n",
      "[600]\tvalidation_0-auc:0.68325\n",
      "[800]\tvalidation_0-auc:0.68048\n",
      "[1000]\tvalidation_0-auc:0.67970\n",
      "Stopping. Best iteration:\n",
      "[586]\tvalidation_0-auc:0.68404\n",
      "\n"
     ]
    },
    {
     "name": "stderr",
     "output_type": "stream",
     "text": [
      "\u001b[32m[I 2021-06-29 23:47:02,025]\u001b[0m Trial 135 finished with value: 0.684040929391147 and parameters: {'max_depth': 3, 'learning_rate': 0.02, 'min_child_weight': 11, 'gamma': 0.005826916298305746, 'alpha': 0.02961650093009946, 'lambda': 0.10822827871366708, 'colsample_bytree': 0.730375445154467, 'subsample': 0.6745414513974781}. Best is trial 123 with value: 0.6863022217197128.\u001b[0m\n"
     ]
    },
    {
     "name": "stdout",
     "output_type": "stream",
     "text": [
      "[23:47:02] WARNING: ../src/learner.cc:516: \n",
      "Parameters: { use_label_encoder } might not be used.\n",
      "\n",
      "  This may not be accurate due to some parameters are only used in language bindings but\n",
      "  passed down to XGBoost core.  Or some parameters are not used but slip through this\n",
      "  verification. Please open an issue if you find above cases.\n",
      "\n",
      "\n",
      "[0]\tvalidation_0-auc:0.60253\n",
      "Will train until validation_0-auc hasn't improved in 500 rounds.\n",
      "[200]\tvalidation_0-auc:0.67789\n",
      "[400]\tvalidation_0-auc:0.68111\n",
      "[600]\tvalidation_0-auc:0.68282\n",
      "[800]\tvalidation_0-auc:0.68118\n",
      "[1000]\tvalidation_0-auc:0.67925\n",
      "Stopping. Best iteration:\n",
      "[585]\tvalidation_0-auc:0.68327\n",
      "\n"
     ]
    },
    {
     "name": "stderr",
     "output_type": "stream",
     "text": [
      "\u001b[32m[I 2021-06-29 23:47:08,797]\u001b[0m Trial 136 finished with value: 0.6832658896817596 and parameters: {'max_depth': 3, 'learning_rate': 0.02, 'min_child_weight': 10, 'gamma': 0.006031154456297395, 'alpha': 0.027764285212110787, 'lambda': 0.1176609847418984, 'colsample_bytree': 0.7597119374536703, 'subsample': 0.6819443569826457}. Best is trial 123 with value: 0.6863022217197128.\u001b[0m\n"
     ]
    },
    {
     "name": "stdout",
     "output_type": "stream",
     "text": [
      "[23:47:08] WARNING: ../src/learner.cc:516: \n",
      "Parameters: { use_label_encoder } might not be used.\n",
      "\n",
      "  This may not be accurate due to some parameters are only used in language bindings but\n",
      "  passed down to XGBoost core.  Or some parameters are not used but slip through this\n",
      "  verification. Please open an issue if you find above cases.\n",
      "\n",
      "\n",
      "[0]\tvalidation_0-auc:0.60253\n",
      "Will train until validation_0-auc hasn't improved in 500 rounds.\n",
      "[200]\tvalidation_0-auc:0.67794\n",
      "[400]\tvalidation_0-auc:0.68261\n",
      "[600]\tvalidation_0-auc:0.68161\n",
      "[800]\tvalidation_0-auc:0.67930\n",
      "Stopping. Best iteration:\n",
      "[430]\tvalidation_0-auc:0.68353\n",
      "\n"
     ]
    },
    {
     "name": "stderr",
     "output_type": "stream",
     "text": [
      "\u001b[32m[I 2021-06-29 23:47:14,083]\u001b[0m Trial 137 finished with value: 0.6835339622400654 and parameters: {'max_depth': 3, 'learning_rate': 0.02, 'min_child_weight': 30, 'gamma': 0.006240990245981354, 'alpha': 0.05146375494686831, 'lambda': 0.06788922951531089, 'colsample_bytree': 0.7207681975038545, 'subsample': 0.6655915244535574}. Best is trial 123 with value: 0.6863022217197128.\u001b[0m\n"
     ]
    },
    {
     "name": "stdout",
     "output_type": "stream",
     "text": [
      "[23:47:14] WARNING: ../src/learner.cc:516: \n",
      "Parameters: { use_label_encoder } might not be used.\n",
      "\n",
      "  This may not be accurate due to some parameters are only used in language bindings but\n",
      "  passed down to XGBoost core.  Or some parameters are not used but slip through this\n",
      "  verification. Please open an issue if you find above cases.\n",
      "\n",
      "\n",
      "[0]\tvalidation_0-auc:0.60591\n",
      "Will train until validation_0-auc hasn't improved in 500 rounds.\n",
      "[200]\tvalidation_0-auc:0.67726\n",
      "[400]\tvalidation_0-auc:0.68245\n",
      "[600]\tvalidation_0-auc:0.68230\n",
      "[800]\tvalidation_0-auc:0.68050\n",
      "Stopping. Best iteration:\n",
      "[481]\tvalidation_0-auc:0.68382\n",
      "\n"
     ]
    },
    {
     "name": "stderr",
     "output_type": "stream",
     "text": [
      "\u001b[32m[I 2021-06-29 23:47:19,929]\u001b[0m Trial 138 finished with value: 0.6838239182725185 and parameters: {'max_depth': 3, 'learning_rate': 0.02, 'min_child_weight': 30, 'gamma': 0.009173506352286481, 'alpha': 0.015390737025062048, 'lambda': 0.027709248464227357, 'colsample_bytree': 0.7285905878113956, 'subsample': 0.7463021388439303}. Best is trial 123 with value: 0.6863022217197128.\u001b[0m\n"
     ]
    },
    {
     "name": "stdout",
     "output_type": "stream",
     "text": [
      "[23:47:19] WARNING: ../src/learner.cc:516: \n",
      "Parameters: { use_label_encoder } might not be used.\n",
      "\n",
      "  This may not be accurate due to some parameters are only used in language bindings but\n",
      "  passed down to XGBoost core.  Or some parameters are not used but slip through this\n",
      "  verification. Please open an issue if you find above cases.\n",
      "\n",
      "\n",
      "[0]\tvalidation_0-auc:0.60591\n",
      "Will train until validation_0-auc hasn't improved in 500 rounds.\n",
      "[200]\tvalidation_0-auc:0.67768\n",
      "[400]\tvalidation_0-auc:0.68144\n",
      "[600]\tvalidation_0-auc:0.68255\n",
      "[800]\tvalidation_0-auc:0.68054\n",
      "Stopping. Best iteration:\n",
      "[474]\tvalidation_0-auc:0.68293\n",
      "\n"
     ]
    },
    {
     "name": "stderr",
     "output_type": "stream",
     "text": [
      "\u001b[32m[I 2021-06-29 23:47:25,805]\u001b[0m Trial 139 finished with value: 0.6829248722096292 and parameters: {'max_depth': 3, 'learning_rate': 0.02, 'min_child_weight': 30, 'gamma': 0.010137408691425494, 'alpha': 0.044431962779201695, 'lambda': 0.16611110386625272, 'colsample_bytree': 0.7250032854971588, 'subsample': 0.7509385464087314}. Best is trial 123 with value: 0.6863022217197128.\u001b[0m\n"
     ]
    },
    {
     "name": "stdout",
     "output_type": "stream",
     "text": [
      "[23:47:25] WARNING: ../src/learner.cc:516: \n",
      "Parameters: { use_label_encoder } might not be used.\n",
      "\n",
      "  This may not be accurate due to some parameters are only used in language bindings but\n",
      "  passed down to XGBoost core.  Or some parameters are not used but slip through this\n",
      "  verification. Please open an issue if you find above cases.\n",
      "\n",
      "\n",
      "[0]\tvalidation_0-auc:0.60885\n",
      "Will train until validation_0-auc hasn't improved in 500 rounds.\n",
      "[200]\tvalidation_0-auc:0.67453\n",
      "[400]\tvalidation_0-auc:0.67924\n",
      "[600]\tvalidation_0-auc:0.68002\n",
      "[800]\tvalidation_0-auc:0.67882\n",
      "[1000]\tvalidation_0-auc:0.67687\n",
      "Stopping. Best iteration:\n",
      "[546]\tvalidation_0-auc:0.68027\n",
      "\n"
     ]
    },
    {
     "name": "stderr",
     "output_type": "stream",
     "text": [
      "\u001b[32m[I 2021-06-29 23:47:32,055]\u001b[0m Trial 140 finished with value: 0.6802715009692556 and parameters: {'max_depth': 3, 'learning_rate': 0.02, 'min_child_weight': 58, 'gamma': 0.006926664709259595, 'alpha': 0.029596917839505583, 'lambda': 0.02773129345631409, 'colsample_bytree': 0.7342504387488452, 'subsample': 0.7217931472844583}. Best is trial 123 with value: 0.6863022217197128.\u001b[0m\n"
     ]
    },
    {
     "name": "stdout",
     "output_type": "stream",
     "text": [
      "[23:47:32] WARNING: ../src/learner.cc:516: \n",
      "Parameters: { use_label_encoder } might not be used.\n",
      "\n",
      "  This may not be accurate due to some parameters are only used in language bindings but\n",
      "  passed down to XGBoost core.  Or some parameters are not used but slip through this\n",
      "  verification. Please open an issue if you find above cases.\n",
      "\n",
      "\n",
      "[0]\tvalidation_0-auc:0.60253\n",
      "Will train until validation_0-auc hasn't improved in 500 rounds.\n",
      "[200]\tvalidation_0-auc:0.67405\n",
      "[400]\tvalidation_0-auc:0.67997\n",
      "[600]\tvalidation_0-auc:0.67915\n",
      "[800]\tvalidation_0-auc:0.67839\n",
      "[1000]\tvalidation_0-auc:0.67674\n",
      "Stopping. Best iteration:\n",
      "[547]\tvalidation_0-auc:0.68075\n",
      "\n"
     ]
    },
    {
     "name": "stderr",
     "output_type": "stream",
     "text": [
      "\u001b[32m[I 2021-06-29 23:47:38,365]\u001b[0m Trial 141 finished with value: 0.6807456429091161 and parameters: {'max_depth': 3, 'learning_rate': 0.02, 'min_child_weight': 47, 'gamma': 0.008813984438193319, 'alpha': 0.010626770032376108, 'lambda': 0.07644345200483026, 'colsample_bytree': 0.7988395587194698, 'subsample': 0.6659646153746643}. Best is trial 123 with value: 0.6863022217197128.\u001b[0m\n"
     ]
    },
    {
     "name": "stdout",
     "output_type": "stream",
     "text": [
      "[23:47:38] WARNING: ../src/learner.cc:516: \n",
      "Parameters: { use_label_encoder } might not be used.\n",
      "\n",
      "  This may not be accurate due to some parameters are only used in language bindings but\n",
      "  passed down to XGBoost core.  Or some parameters are not used but slip through this\n",
      "  verification. Please open an issue if you find above cases.\n",
      "\n",
      "\n",
      "[0]\tvalidation_0-auc:0.59676\n",
      "Will train until validation_0-auc hasn't improved in 500 rounds.\n",
      "[200]\tvalidation_0-auc:0.67567\n",
      "[400]\tvalidation_0-auc:0.67967\n",
      "[600]\tvalidation_0-auc:0.67954\n",
      "[800]\tvalidation_0-auc:0.67820\n",
      "Stopping. Best iteration:\n",
      "[466]\tvalidation_0-auc:0.68105\n",
      "\n"
     ]
    },
    {
     "name": "stderr",
     "output_type": "stream",
     "text": [
      "\u001b[32m[I 2021-06-29 23:47:43,930]\u001b[0m Trial 142 finished with value: 0.6810465406786429 and parameters: {'max_depth': 3, 'learning_rate': 0.02, 'min_child_weight': 32, 'gamma': 0.00505498229165304, 'alpha': 0.016777340805529325, 'lambda': 0.04692681139078985, 'colsample_bytree': 0.7294612581339645, 'subsample': 0.7816419055759591}. Best is trial 123 with value: 0.6863022217197128.\u001b[0m\n"
     ]
    },
    {
     "name": "stdout",
     "output_type": "stream",
     "text": [
      "[23:47:43] WARNING: ../src/learner.cc:516: \n",
      "Parameters: { use_label_encoder } might not be used.\n",
      "\n",
      "  This may not be accurate due to some parameters are only used in language bindings but\n",
      "  passed down to XGBoost core.  Or some parameters are not used but slip through this\n",
      "  verification. Please open an issue if you find above cases.\n",
      "\n",
      "\n",
      "[0]\tvalidation_0-auc:0.61441\n",
      "Will train until validation_0-auc hasn't improved in 500 rounds.\n",
      "[200]\tvalidation_0-auc:0.67610\n",
      "[400]\tvalidation_0-auc:0.68112\n",
      "[600]\tvalidation_0-auc:0.68191\n",
      "[800]\tvalidation_0-auc:0.68080\n",
      "[1000]\tvalidation_0-auc:0.67824\n",
      "Stopping. Best iteration:\n",
      "[547]\tvalidation_0-auc:0.68254\n",
      "\n"
     ]
    },
    {
     "name": "stderr",
     "output_type": "stream",
     "text": [
      "\u001b[32m[I 2021-06-29 23:47:49,844]\u001b[0m Trial 143 finished with value: 0.6825400877892038 and parameters: {'max_depth': 3, 'learning_rate': 0.02, 'min_child_weight': 14, 'gamma': 0.011557061687289085, 'alpha': 0.023385144837941216, 'lambda': 0.01918026807967311, 'colsample_bytree': 0.6760006828810355, 'subsample': 0.701654581341431}. Best is trial 123 with value: 0.6863022217197128.\u001b[0m\n"
     ]
    },
    {
     "name": "stdout",
     "output_type": "stream",
     "text": [
      "[23:47:49] WARNING: ../src/learner.cc:516: \n",
      "Parameters: { use_label_encoder } might not be used.\n",
      "\n",
      "  This may not be accurate due to some parameters are only used in language bindings but\n",
      "  passed down to XGBoost core.  Or some parameters are not used but slip through this\n",
      "  verification. Please open an issue if you find above cases.\n",
      "\n",
      "\n",
      "[0]\tvalidation_0-auc:0.60253\n",
      "Will train until validation_0-auc hasn't improved in 500 rounds.\n",
      "[200]\tvalidation_0-auc:0.67651\n",
      "[400]\tvalidation_0-auc:0.68214\n",
      "[600]\tvalidation_0-auc:0.68367\n",
      "[800]\tvalidation_0-auc:0.68085\n",
      "[1000]\tvalidation_0-auc:0.67888\n",
      "Stopping. Best iteration:\n",
      "[523]\tvalidation_0-auc:0.68464\n",
      "\n"
     ]
    },
    {
     "name": "stderr",
     "output_type": "stream",
     "text": [
      "\u001b[32m[I 2021-06-29 23:47:55,855]\u001b[0m Trial 144 finished with value: 0.6846445485530465 and parameters: {'max_depth': 3, 'learning_rate': 0.02, 'min_child_weight': 21, 'gamma': 0.016691195403009604, 'alpha': 0.013692173002634532, 'lambda': 0.10294400122513497, 'colsample_bytree': 0.7091478796437454, 'subsample': 0.6727666611514636}. Best is trial 123 with value: 0.6863022217197128.\u001b[0m\n"
     ]
    },
    {
     "name": "stdout",
     "output_type": "stream",
     "text": [
      "[23:47:55] WARNING: ../src/learner.cc:516: \n",
      "Parameters: { use_label_encoder } might not be used.\n",
      "\n",
      "  This may not be accurate due to some parameters are only used in language bindings but\n",
      "  passed down to XGBoost core.  Or some parameters are not used but slip through this\n",
      "  verification. Please open an issue if you find above cases.\n",
      "\n",
      "\n",
      "[0]\tvalidation_0-auc:0.60253\n",
      "Will train until validation_0-auc hasn't improved in 500 rounds.\n",
      "[200]\tvalidation_0-auc:0.67593\n",
      "[400]\tvalidation_0-auc:0.68106\n",
      "[600]\tvalidation_0-auc:0.68097\n",
      "[800]\tvalidation_0-auc:0.67861\n",
      "Stopping. Best iteration:\n",
      "[362]\tvalidation_0-auc:0.68172\n",
      "\n"
     ]
    },
    {
     "name": "stderr",
     "output_type": "stream",
     "text": [
      "\u001b[32m[I 2021-06-29 23:48:00,869]\u001b[0m Trial 145 finished with value: 0.6817176338858303 and parameters: {'max_depth': 3, 'learning_rate': 0.02, 'min_child_weight': 22, 'gamma': 0.015562031929851946, 'alpha': 0.013607194033257537, 'lambda': 0.10145822155433021, 'colsample_bytree': 0.6999341493416485, 'subsample': 0.6847939499749619}. Best is trial 123 with value: 0.6863022217197128.\u001b[0m\n"
     ]
    },
    {
     "name": "stdout",
     "output_type": "stream",
     "text": [
      "[23:48:00] WARNING: ../src/learner.cc:516: \n",
      "Parameters: { use_label_encoder } might not be used.\n",
      "\n",
      "  This may not be accurate due to some parameters are only used in language bindings but\n",
      "  passed down to XGBoost core.  Or some parameters are not used but slip through this\n",
      "  verification. Please open an issue if you find above cases.\n",
      "\n",
      "\n",
      "[0]\tvalidation_0-auc:0.60253\n",
      "Will train until validation_0-auc hasn't improved in 500 rounds.\n",
      "[200]\tvalidation_0-auc:0.67535\n",
      "[400]\tvalidation_0-auc:0.68128\n",
      "[600]\tvalidation_0-auc:0.68037\n",
      "[800]\tvalidation_0-auc:0.67689\n",
      "[1000]\tvalidation_0-auc:0.67475\n",
      "Stopping. Best iteration:\n",
      "[523]\tvalidation_0-auc:0.68227\n",
      "\n"
     ]
    },
    {
     "name": "stderr",
     "output_type": "stream",
     "text": [
      "\u001b[32m[I 2021-06-29 23:48:06,803]\u001b[0m Trial 146 finished with value: 0.6822647207395156 and parameters: {'max_depth': 3, 'learning_rate': 0.02, 'min_child_weight': 40, 'gamma': 0.024149992812716604, 'alpha': 0.01579177570005942, 'lambda': 0.07228264175375422, 'colsample_bytree': 0.7514958117015229, 'subsample': 0.6636014371170992}. Best is trial 123 with value: 0.6863022217197128.\u001b[0m\n"
     ]
    },
    {
     "name": "stdout",
     "output_type": "stream",
     "text": [
      "[23:48:06] WARNING: ../src/learner.cc:516: \n",
      "Parameters: { use_label_encoder } might not be used.\n",
      "\n",
      "  This may not be accurate due to some parameters are only used in language bindings but\n",
      "  passed down to XGBoost core.  Or some parameters are not used but slip through this\n",
      "  verification. Please open an issue if you find above cases.\n",
      "\n",
      "\n",
      "[0]\tvalidation_0-auc:0.61441\n",
      "Will train until validation_0-auc hasn't improved in 500 rounds.\n",
      "[200]\tvalidation_0-auc:0.67671\n",
      "[400]\tvalidation_0-auc:0.68086\n",
      "[600]\tvalidation_0-auc:0.68274\n",
      "[800]\tvalidation_0-auc:0.68004\n",
      "[1000]\tvalidation_0-auc:0.67853\n",
      "Stopping. Best iteration:\n",
      "[614]\tvalidation_0-auc:0.68280\n",
      "\n"
     ]
    },
    {
     "name": "stderr",
     "output_type": "stream",
     "text": [
      "\u001b[32m[I 2021-06-29 23:48:13,205]\u001b[0m Trial 147 finished with value: 0.6828026894789727 and parameters: {'max_depth': 3, 'learning_rate': 0.02, 'min_child_weight': 26, 'gamma': 0.01698898800203353, 'alpha': 0.05119105895198175, 'lambda': 0.03178869818407362, 'colsample_bytree': 0.6745150874017627, 'subsample': 0.6753711932946619}. Best is trial 123 with value: 0.6863022217197128.\u001b[0m\n"
     ]
    },
    {
     "name": "stdout",
     "output_type": "stream",
     "text": [
      "[23:48:13] WARNING: ../src/learner.cc:516: \n",
      "Parameters: { use_label_encoder } might not be used.\n",
      "\n",
      "  This may not be accurate due to some parameters are only used in language bindings but\n",
      "  passed down to XGBoost core.  Or some parameters are not used but slip through this\n",
      "  verification. Please open an issue if you find above cases.\n",
      "\n",
      "\n",
      "[0]\tvalidation_0-auc:0.60253\n",
      "Will train until validation_0-auc hasn't improved in 500 rounds.\n",
      "[200]\tvalidation_0-auc:0.67612\n",
      "[400]\tvalidation_0-auc:0.68003\n",
      "[600]\tvalidation_0-auc:0.68118\n",
      "[800]\tvalidation_0-auc:0.67921\n",
      "Stopping. Best iteration:\n",
      "[362]\tvalidation_0-auc:0.68135\n",
      "\n"
     ]
    },
    {
     "name": "stderr",
     "output_type": "stream",
     "text": [
      "\u001b[32m[I 2021-06-29 23:48:17,980]\u001b[0m Trial 148 finished with value: 0.6813529093167068 and parameters: {'max_depth': 3, 'learning_rate': 0.02, 'min_child_weight': 19, 'gamma': 0.0070000025638998365, 'alpha': 0.03542225500566538, 'lambda': 0.15932398872329268, 'colsample_bytree': 0.7056024501721085, 'subsample': 0.7095740766386555}. Best is trial 123 with value: 0.6863022217197128.\u001b[0m\n"
     ]
    },
    {
     "name": "stdout",
     "output_type": "stream",
     "text": [
      "[23:48:18] WARNING: ../src/learner.cc:516: \n",
      "Parameters: { use_label_encoder } might not be used.\n",
      "\n",
      "  This may not be accurate due to some parameters are only used in language bindings but\n",
      "  passed down to XGBoost core.  Or some parameters are not used but slip through this\n",
      "  verification. Please open an issue if you find above cases.\n",
      "\n",
      "\n",
      "[0]\tvalidation_0-auc:0.60591\n",
      "Will train until validation_0-auc hasn't improved in 500 rounds.\n",
      "[200]\tvalidation_0-auc:0.67786\n",
      "[400]\tvalidation_0-auc:0.68289\n",
      "[600]\tvalidation_0-auc:0.68158\n",
      "[800]\tvalidation_0-auc:0.68052\n",
      "Stopping. Best iteration:\n",
      "[479]\tvalidation_0-auc:0.68341\n",
      "\n"
     ]
    },
    {
     "name": "stderr",
     "output_type": "stream",
     "text": [
      "\u001b[32m[I 2021-06-29 23:48:23,475]\u001b[0m Trial 149 finished with value: 0.6834044850180265 and parameters: {'max_depth': 3, 'learning_rate': 0.02, 'min_child_weight': 34, 'gamma': 0.004918882871292245, 'alpha': 0.023026731412657923, 'lambda': 0.22695145738371125, 'colsample_bytree': 0.7687176441313981, 'subsample': 0.7430304742107315}. Best is trial 123 with value: 0.6863022217197128.\u001b[0m\n"
     ]
    },
    {
     "name": "stdout",
     "output_type": "stream",
     "text": [
      "[23:48:23] WARNING: ../src/learner.cc:516: \n",
      "Parameters: { use_label_encoder } might not be used.\n",
      "\n",
      "  This may not be accurate due to some parameters are only used in language bindings but\n",
      "  passed down to XGBoost core.  Or some parameters are not used but slip through this\n",
      "  verification. Please open an issue if you find above cases.\n",
      "\n",
      "\n",
      "[0]\tvalidation_0-auc:0.60253\n",
      "Will train until validation_0-auc hasn't improved in 500 rounds.\n",
      "[200]\tvalidation_0-auc:0.67957\n",
      "[400]\tvalidation_0-auc:0.68216\n",
      "[600]\tvalidation_0-auc:0.68377\n",
      "[800]\tvalidation_0-auc:0.68235\n",
      "[1000]\tvalidation_0-auc:0.68064\n",
      "Stopping. Best iteration:\n",
      "[509]\tvalidation_0-auc:0.68447\n",
      "\n"
     ]
    },
    {
     "name": "stderr",
     "output_type": "stream",
     "text": [
      "\u001b[32m[I 2021-06-29 23:48:29,229]\u001b[0m Trial 150 finished with value: 0.684465833514176 and parameters: {'max_depth': 3, 'learning_rate': 0.02, 'min_child_weight': 11, 'gamma': 0.009026090667869725, 'alpha': 0.011328321714564408, 'lambda': 0.04891095121178469, 'colsample_bytree': 0.7356861876175209, 'subsample': 0.6883306351275251}. Best is trial 123 with value: 0.6863022217197128.\u001b[0m\n"
     ]
    },
    {
     "name": "stdout",
     "output_type": "stream",
     "text": [
      "[23:48:29] WARNING: ../src/learner.cc:516: \n",
      "Parameters: { use_label_encoder } might not be used.\n",
      "\n",
      "  This may not be accurate due to some parameters are only used in language bindings but\n",
      "  passed down to XGBoost core.  Or some parameters are not used but slip through this\n",
      "  verification. Please open an issue if you find above cases.\n",
      "\n",
      "\n",
      "[0]\tvalidation_0-auc:0.60253\n",
      "Will train until validation_0-auc hasn't improved in 500 rounds.\n",
      "[200]\tvalidation_0-auc:0.67809\n",
      "[400]\tvalidation_0-auc:0.68168\n",
      "[600]\tvalidation_0-auc:0.68266\n",
      "[800]\tvalidation_0-auc:0.68025\n",
      "[1000]\tvalidation_0-auc:0.68027\n",
      "Stopping. Best iteration:\n",
      "[545]\tvalidation_0-auc:0.68335\n",
      "\n"
     ]
    },
    {
     "name": "stderr",
     "output_type": "stream",
     "text": [
      "\u001b[32m[I 2021-06-29 23:48:35,427]\u001b[0m Trial 151 finished with value: 0.683349776332658 and parameters: {'max_depth': 3, 'learning_rate': 0.02, 'min_child_weight': 11, 'gamma': 0.00925086833622133, 'alpha': 0.011210665302673626, 'lambda': 0.045531821492679384, 'colsample_bytree': 0.7109212479180045, 'subsample': 0.6959375988997857}. Best is trial 123 with value: 0.6863022217197128.\u001b[0m\n"
     ]
    },
    {
     "name": "stdout",
     "output_type": "stream",
     "text": [
      "[23:48:35] WARNING: ../src/learner.cc:516: \n",
      "Parameters: { use_label_encoder } might not be used.\n",
      "\n",
      "  This may not be accurate due to some parameters are only used in language bindings but\n",
      "  passed down to XGBoost core.  Or some parameters are not used but slip through this\n",
      "  verification. Please open an issue if you find above cases.\n",
      "\n",
      "\n",
      "[0]\tvalidation_0-auc:0.60253\n",
      "Will train until validation_0-auc hasn't improved in 500 rounds.\n",
      "[200]\tvalidation_0-auc:0.68124\n",
      "[400]\tvalidation_0-auc:0.68569\n",
      "[600]\tvalidation_0-auc:0.68554\n",
      "[800]\tvalidation_0-auc:0.68346\n",
      "[1000]\tvalidation_0-auc:0.68031\n",
      "Stopping. Best iteration:\n",
      "[525]\tvalidation_0-auc:0.68684\n",
      "\n"
     ]
    },
    {
     "name": "stderr",
     "output_type": "stream",
     "text": [
      "\u001b[32m[I 2021-06-29 23:48:41,275]\u001b[0m Trial 152 finished with value: 0.6868420140820156 and parameters: {'max_depth': 3, 'learning_rate': 0.02, 'min_child_weight': 17, 'gamma': 0.01148929705175991, 'alpha': 0.009719091603078605, 'lambda': 0.09040081707298754, 'colsample_bytree': 0.7400807757751622, 'subsample': 0.6585236971873303}. Best is trial 152 with value: 0.6868420140820156.\u001b[0m\n"
     ]
    },
    {
     "name": "stdout",
     "output_type": "stream",
     "text": [
      "[23:48:41] WARNING: ../src/learner.cc:516: \n",
      "Parameters: { use_label_encoder } might not be used.\n",
      "\n",
      "  This may not be accurate due to some parameters are only used in language bindings but\n",
      "  passed down to XGBoost core.  Or some parameters are not used but slip through this\n",
      "  verification. Please open an issue if you find above cases.\n",
      "\n",
      "\n",
      "[0]\tvalidation_0-auc:0.60253\n",
      "Will train until validation_0-auc hasn't improved in 500 rounds.\n",
      "[200]\tvalidation_0-auc:0.67999\n",
      "[400]\tvalidation_0-auc:0.68389\n",
      "[600]\tvalidation_0-auc:0.68386\n",
      "[800]\tvalidation_0-auc:0.68137\n",
      "[1000]\tvalidation_0-auc:0.67881\n",
      "Stopping. Best iteration:\n",
      "[536]\tvalidation_0-auc:0.68438\n",
      "\n"
     ]
    },
    {
     "name": "stderr",
     "output_type": "stream",
     "text": [
      "\u001b[32m[I 2021-06-29 23:48:47,509]\u001b[0m Trial 153 finished with value: 0.6843782996175862 and parameters: {'max_depth': 3, 'learning_rate': 0.02, 'min_child_weight': 15, 'gamma': 0.0122358458066424, 'alpha': 0.009973313016613609, 'lambda': 0.10593183737362602, 'colsample_bytree': 0.7450533765635735, 'subsample': 0.6828082850630457}. Best is trial 152 with value: 0.6868420140820156.\u001b[0m\n"
     ]
    },
    {
     "name": "stdout",
     "output_type": "stream",
     "text": [
      "[23:48:47] WARNING: ../src/learner.cc:516: \n",
      "Parameters: { use_label_encoder } might not be used.\n",
      "\n",
      "  This may not be accurate due to some parameters are only used in language bindings but\n",
      "  passed down to XGBoost core.  Or some parameters are not used but slip through this\n",
      "  verification. Please open an issue if you find above cases.\n",
      "\n",
      "\n",
      "[0]\tvalidation_0-auc:0.60253\n",
      "Will train until validation_0-auc hasn't improved in 500 rounds.\n",
      "[200]\tvalidation_0-auc:0.67949\n",
      "[400]\tvalidation_0-auc:0.68315\n",
      "[600]\tvalidation_0-auc:0.68486\n",
      "[800]\tvalidation_0-auc:0.68319\n",
      "[1000]\tvalidation_0-auc:0.68246\n",
      "Stopping. Best iteration:\n",
      "[547]\tvalidation_0-auc:0.68556\n",
      "\n"
     ]
    },
    {
     "name": "stderr",
     "output_type": "stream",
     "text": [
      "\u001b[32m[I 2021-06-29 23:48:53,754]\u001b[0m Trial 154 finished with value: 0.6855563599758553 and parameters: {'max_depth': 3, 'learning_rate': 0.02, 'min_child_weight': 8, 'gamma': 0.0275641044048105, 'alpha': 0.009638274223028685, 'lambda': 0.1040419164390613, 'colsample_bytree': 0.7459587191241189, 'subsample': 0.6848388226715797}. Best is trial 152 with value: 0.6868420140820156.\u001b[0m\n"
     ]
    },
    {
     "name": "stdout",
     "output_type": "stream",
     "text": [
      "[23:48:53] WARNING: ../src/learner.cc:516: \n",
      "Parameters: { use_label_encoder } might not be used.\n",
      "\n",
      "  This may not be accurate due to some parameters are only used in language bindings but\n",
      "  passed down to XGBoost core.  Or some parameters are not used but slip through this\n",
      "  verification. Please open an issue if you find above cases.\n",
      "\n",
      "\n",
      "[0]\tvalidation_0-auc:0.60253\n",
      "Will train until validation_0-auc hasn't improved in 500 rounds.\n",
      "[200]\tvalidation_0-auc:0.67797\n",
      "[400]\tvalidation_0-auc:0.68243\n",
      "[600]\tvalidation_0-auc:0.68371\n",
      "[800]\tvalidation_0-auc:0.68162\n",
      "[1000]\tvalidation_0-auc:0.68106\n",
      "Stopping. Best iteration:\n",
      "[534]\tvalidation_0-auc:0.68391\n",
      "\n"
     ]
    },
    {
     "name": "stderr",
     "output_type": "stream",
     "text": [
      "\u001b[32m[I 2021-06-29 23:49:00,229]\u001b[0m Trial 155 finished with value: 0.6839132757919538 and parameters: {'max_depth': 3, 'learning_rate': 0.02, 'min_child_weight': 7, 'gamma': 0.03288122583655153, 'alpha': 0.009423083542956338, 'lambda': 0.108468818090481, 'colsample_bytree': 0.742337324084544, 'subsample': 0.6893060327153142}. Best is trial 152 with value: 0.6868420140820156.\u001b[0m\n"
     ]
    },
    {
     "name": "stdout",
     "output_type": "stream",
     "text": [
      "[23:49:00] WARNING: ../src/learner.cc:516: \n",
      "Parameters: { use_label_encoder } might not be used.\n",
      "\n",
      "  This may not be accurate due to some parameters are only used in language bindings but\n",
      "  passed down to XGBoost core.  Or some parameters are not used but slip through this\n",
      "  verification. Please open an issue if you find above cases.\n",
      "\n",
      "\n",
      "[0]\tvalidation_0-auc:0.60253\n",
      "Will train until validation_0-auc hasn't improved in 500 rounds.\n",
      "[200]\tvalidation_0-auc:0.67902\n",
      "[400]\tvalidation_0-auc:0.68047\n",
      "[600]\tvalidation_0-auc:0.68003\n",
      "[800]\tvalidation_0-auc:0.67721\n",
      "Stopping. Best iteration:\n",
      "[477]\tvalidation_0-auc:0.68140\n",
      "\n"
     ]
    },
    {
     "name": "stderr",
     "output_type": "stream",
     "text": [
      "\u001b[32m[I 2021-06-29 23:49:06,020]\u001b[0m Trial 156 finished with value: 0.6814039707563839 and parameters: {'max_depth': 3, 'learning_rate': 0.02, 'min_child_weight': 13, 'gamma': 0.011349568634471337, 'alpha': 0.008985547007667724, 'lambda': 0.13582551215464791, 'colsample_bytree': 0.7801934349809105, 'subsample': 0.761044891024282}. Best is trial 152 with value: 0.6868420140820156.\u001b[0m\n"
     ]
    },
    {
     "name": "stdout",
     "output_type": "stream",
     "text": [
      "[23:49:06] WARNING: ../src/learner.cc:516: \n",
      "Parameters: { use_label_encoder } might not be used.\n",
      "\n",
      "  This may not be accurate due to some parameters are only used in language bindings but\n",
      "  passed down to XGBoost core.  Or some parameters are not used but slip through this\n",
      "  verification. Please open an issue if you find above cases.\n",
      "\n",
      "\n",
      "[0]\tvalidation_0-auc:0.60253\n",
      "Will train until validation_0-auc hasn't improved in 500 rounds.\n",
      "[200]\tvalidation_0-auc:0.67843\n",
      "[400]\tvalidation_0-auc:0.67979\n",
      "[600]\tvalidation_0-auc:0.68105\n",
      "[800]\tvalidation_0-auc:0.67827\n",
      "[1000]\tvalidation_0-auc:0.67709\n",
      "Stopping. Best iteration:\n",
      "[605]\tvalidation_0-auc:0.68124\n",
      "\n"
     ]
    },
    {
     "name": "stderr",
     "output_type": "stream",
     "text": [
      "\u001b[32m[I 2021-06-29 23:49:12,899]\u001b[0m Trial 157 finished with value: 0.6812361974545873 and parameters: {'max_depth': 3, 'learning_rate': 0.02, 'min_child_weight': 6, 'gamma': 0.025828006942555663, 'alpha': 0.008766890519461727, 'lambda': 0.014080367420508982, 'colsample_bytree': 0.7444589926697107, 'subsample': 0.7259742716938669}. Best is trial 152 with value: 0.6868420140820156.\u001b[0m\n"
     ]
    },
    {
     "name": "stdout",
     "output_type": "stream",
     "text": [
      "[23:49:12] WARNING: ../src/learner.cc:516: \n",
      "Parameters: { use_label_encoder } might not be used.\n",
      "\n",
      "  This may not be accurate due to some parameters are only used in language bindings but\n",
      "  passed down to XGBoost core.  Or some parameters are not used but slip through this\n",
      "  verification. Please open an issue if you find above cases.\n",
      "\n",
      "\n",
      "[0]\tvalidation_0-auc:0.60253\n",
      "Will train until validation_0-auc hasn't improved in 500 rounds.\n",
      "[200]\tvalidation_0-auc:0.67798\n",
      "[400]\tvalidation_0-auc:0.68112\n",
      "[600]\tvalidation_0-auc:0.68143\n",
      "[800]\tvalidation_0-auc:0.67870\n",
      "Stopping. Best iteration:\n",
      "[483]\tvalidation_0-auc:0.68178\n",
      "\n"
     ]
    },
    {
     "name": "stderr",
     "output_type": "stream",
     "text": [
      "\u001b[32m[I 2021-06-29 23:49:18,787]\u001b[0m Trial 158 finished with value: 0.6817814606854269 and parameters: {'max_depth': 3, 'learning_rate': 0.02, 'min_child_weight': 15, 'gamma': 0.012959225390023, 'alpha': 0.013468294127948397, 'lambda': 0.05283229852472021, 'colsample_bytree': 0.7409580205225892, 'subsample': 0.6948567494156654}. Best is trial 152 with value: 0.6868420140820156.\u001b[0m\n"
     ]
    },
    {
     "name": "stdout",
     "output_type": "stream",
     "text": [
      "[23:49:18] WARNING: ../src/learner.cc:516: \n",
      "Parameters: { use_label_encoder } might not be used.\n",
      "\n",
      "  This may not be accurate due to some parameters are only used in language bindings but\n",
      "  passed down to XGBoost core.  Or some parameters are not used but slip through this\n",
      "  verification. Please open an issue if you find above cases.\n",
      "\n",
      "\n",
      "[0]\tvalidation_0-auc:0.60253\n",
      "Will train until validation_0-auc hasn't improved in 500 rounds.\n",
      "[200]\tvalidation_0-auc:0.68028\n",
      "[400]\tvalidation_0-auc:0.68282\n",
      "[600]\tvalidation_0-auc:0.68347\n",
      "[800]\tvalidation_0-auc:0.68204\n",
      "[1000]\tvalidation_0-auc:0.68027\n",
      "Stopping. Best iteration:\n",
      "[512]\tvalidation_0-auc:0.68405\n",
      "\n"
     ]
    },
    {
     "name": "stderr",
     "output_type": "stream",
     "text": [
      "\u001b[32m[I 2021-06-29 23:49:24,999]\u001b[0m Trial 159 finished with value: 0.6840500475053751 and parameters: {'max_depth': 3, 'learning_rate': 0.02, 'min_child_weight': 9, 'gamma': 0.018742697274724614, 'alpha': 0.00940648741040858, 'lambda': 0.03339532139081631, 'colsample_bytree': 0.7624699972574829, 'subsample': 0.6556898581948046}. Best is trial 152 with value: 0.6868420140820156.\u001b[0m\n"
     ]
    },
    {
     "name": "stdout",
     "output_type": "stream",
     "text": [
      "[23:49:25] WARNING: ../src/learner.cc:516: \n",
      "Parameters: { use_label_encoder } might not be used.\n",
      "\n",
      "  This may not be accurate due to some parameters are only used in language bindings but\n",
      "  passed down to XGBoost core.  Or some parameters are not used but slip through this\n",
      "  verification. Please open an issue if you find above cases.\n",
      "\n",
      "\n",
      "[0]\tvalidation_0-auc:0.60253\n",
      "Will train until validation_0-auc hasn't improved in 500 rounds.\n",
      "[200]\tvalidation_0-auc:0.67925\n",
      "[400]\tvalidation_0-auc:0.68116\n",
      "[600]\tvalidation_0-auc:0.68042\n",
      "[800]\tvalidation_0-auc:0.67794\n",
      "Stopping. Best iteration:\n",
      "[422]\tvalidation_0-auc:0.68161\n",
      "\n"
     ]
    },
    {
     "name": "stderr",
     "output_type": "stream",
     "text": [
      "\u001b[32m[I 2021-06-29 23:49:30,574]\u001b[0m Trial 160 finished with value: 0.6816100401379388 and parameters: {'max_depth': 3, 'learning_rate': 0.02, 'min_child_weight': 8, 'gamma': 0.021509161938564128, 'alpha': 0.009373120091464706, 'lambda': 0.10323549203864593, 'colsample_bytree': 0.7932817417802542, 'subsample': 0.6580821138906656}. Best is trial 152 with value: 0.6868420140820156.\u001b[0m\n"
     ]
    },
    {
     "name": "stdout",
     "output_type": "stream",
     "text": [
      "[23:49:30] WARNING: ../src/learner.cc:516: \n",
      "Parameters: { use_label_encoder } might not be used.\n",
      "\n",
      "  This may not be accurate due to some parameters are only used in language bindings but\n",
      "  passed down to XGBoost core.  Or some parameters are not used but slip through this\n",
      "  verification. Please open an issue if you find above cases.\n",
      "\n",
      "\n",
      "[0]\tvalidation_0-auc:0.60253\n",
      "Will train until validation_0-auc hasn't improved in 500 rounds.\n",
      "[200]\tvalidation_0-auc:0.67908\n",
      "[400]\tvalidation_0-auc:0.68083\n",
      "[600]\tvalidation_0-auc:0.68102\n",
      "[800]\tvalidation_0-auc:0.67852\n",
      "Stopping. Best iteration:\n",
      "[483]\tvalidation_0-auc:0.68175\n",
      "\n"
     ]
    },
    {
     "name": "stderr",
     "output_type": "stream",
     "text": [
      "\u001b[32m[I 2021-06-29 23:49:36,685]\u001b[0m Trial 161 finished with value: 0.6817504590970513 and parameters: {'max_depth': 3, 'learning_rate': 0.02, 'min_child_weight': 16, 'gamma': 0.016109532904754035, 'alpha': 0.01283418813596223, 'lambda': 0.03253343797847444, 'colsample_bytree': 0.7647599204922703, 'subsample': 0.6880336125888113}. Best is trial 152 with value: 0.6868420140820156.\u001b[0m\n"
     ]
    },
    {
     "name": "stdout",
     "output_type": "stream",
     "text": [
      "[23:49:36] WARNING: ../src/learner.cc:516: \n",
      "Parameters: { use_label_encoder } might not be used.\n",
      "\n",
      "  This may not be accurate due to some parameters are only used in language bindings but\n",
      "  passed down to XGBoost core.  Or some parameters are not used but slip through this\n",
      "  verification. Please open an issue if you find above cases.\n",
      "\n",
      "\n",
      "[0]\tvalidation_0-auc:0.60253\n",
      "Will train until validation_0-auc hasn't improved in 500 rounds.\n",
      "[200]\tvalidation_0-auc:0.67761\n",
      "[400]\tvalidation_0-auc:0.67957\n",
      "[600]\tvalidation_0-auc:0.68065\n",
      "[800]\tvalidation_0-auc:0.67834\n",
      "[1000]\tvalidation_0-auc:0.67755\n",
      "Stopping. Best iteration:\n",
      "[593]\tvalidation_0-auc:0.68079\n",
      "\n"
     ]
    },
    {
     "name": "stderr",
     "output_type": "stream",
     "text": [
      "\u001b[32m[I 2021-06-29 23:49:43,307]\u001b[0m Trial 162 finished with value: 0.680789409857411 and parameters: {'max_depth': 3, 'learning_rate': 0.02, 'min_child_weight': 10, 'gamma': 0.019103066413348697, 'alpha': 0.007440273761471371, 'lambda': 0.020836678544806194, 'colsample_bytree': 0.7391341407391013, 'subsample': 0.712321277208296}. Best is trial 152 with value: 0.6868420140820156.\u001b[0m\n"
     ]
    },
    {
     "name": "stdout",
     "output_type": "stream",
     "text": [
      "[23:49:43] WARNING: ../src/learner.cc:516: \n",
      "Parameters: { use_label_encoder } might not be used.\n",
      "\n",
      "  This may not be accurate due to some parameters are only used in language bindings but\n",
      "  passed down to XGBoost core.  Or some parameters are not used but slip through this\n",
      "  verification. Please open an issue if you find above cases.\n",
      "\n",
      "\n",
      "[0]\tvalidation_0-auc:0.60253\n",
      "Will train until validation_0-auc hasn't improved in 500 rounds.\n",
      "[200]\tvalidation_0-auc:0.68026\n",
      "[400]\tvalidation_0-auc:0.68276\n",
      "[600]\tvalidation_0-auc:0.68479\n",
      "[800]\tvalidation_0-auc:0.68183\n",
      "[1000]\tvalidation_0-auc:0.67901\n",
      "Stopping. Best iteration:\n",
      "[524]\tvalidation_0-auc:0.68517\n",
      "\n"
     ]
    },
    {
     "name": "stderr",
     "output_type": "stream",
     "text": [
      "\u001b[32m[I 2021-06-29 23:49:49,399]\u001b[0m Trial 163 finished with value: 0.6851752228011211 and parameters: {'max_depth': 3, 'learning_rate': 0.02, 'min_child_weight': 18, 'gamma': 0.01055206211037153, 'alpha': 0.02358784584358118, 'lambda': 0.02652431521923763, 'colsample_bytree': 0.755006479083683, 'subsample': 0.6481665562590916}. Best is trial 152 with value: 0.6868420140820156.\u001b[0m\n"
     ]
    },
    {
     "name": "stdout",
     "output_type": "stream",
     "text": [
      "[23:49:49] WARNING: ../src/learner.cc:516: \n",
      "Parameters: { use_label_encoder } might not be used.\n",
      "\n",
      "  This may not be accurate due to some parameters are only used in language bindings but\n",
      "  passed down to XGBoost core.  Or some parameters are not used but slip through this\n",
      "  verification. Please open an issue if you find above cases.\n",
      "\n",
      "\n",
      "[0]\tvalidation_0-auc:0.60253\n",
      "Will train until validation_0-auc hasn't improved in 500 rounds.\n",
      "[200]\tvalidation_0-auc:0.68045\n",
      "[400]\tvalidation_0-auc:0.68283\n",
      "[600]\tvalidation_0-auc:0.68334\n",
      "[800]\tvalidation_0-auc:0.68205\n",
      "[1000]\tvalidation_0-auc:0.67924\n",
      "Stopping. Best iteration:\n",
      "[526]\tvalidation_0-auc:0.68497\n",
      "\n"
     ]
    },
    {
     "name": "stderr",
     "output_type": "stream",
     "text": [
      "\u001b[32m[I 2021-06-29 23:49:55,645]\u001b[0m Trial 164 finished with value: 0.684970977042412 and parameters: {'max_depth': 3, 'learning_rate': 0.02, 'min_child_weight': 19, 'gamma': 0.014451133630507615, 'alpha': 0.023854666713392616, 'lambda': 0.05456743785501593, 'colsample_bytree': 0.7533002541981427, 'subsample': 0.6452596569428944}. Best is trial 152 with value: 0.6868420140820156.\u001b[0m\n"
     ]
    },
    {
     "name": "stdout",
     "output_type": "stream",
     "text": [
      "[23:49:55] WARNING: ../src/learner.cc:516: \n",
      "Parameters: { use_label_encoder } might not be used.\n",
      "\n",
      "  This may not be accurate due to some parameters are only used in language bindings but\n",
      "  passed down to XGBoost core.  Or some parameters are not used but slip through this\n",
      "  verification. Please open an issue if you find above cases.\n",
      "\n",
      "\n",
      "[0]\tvalidation_0-auc:0.60253\n",
      "Will train until validation_0-auc hasn't improved in 500 rounds.\n",
      "[200]\tvalidation_0-auc:0.67946\n",
      "[400]\tvalidation_0-auc:0.68229\n",
      "[600]\tvalidation_0-auc:0.68254\n",
      "[800]\tvalidation_0-auc:0.68083\n",
      "Stopping. Best iteration:\n",
      "[446]\tvalidation_0-auc:0.68379\n",
      "\n"
     ]
    },
    {
     "name": "stderr",
     "output_type": "stream",
     "text": [
      "\u001b[32m[I 2021-06-29 23:50:01,062]\u001b[0m Trial 165 finished with value: 0.6837856221927606 and parameters: {'max_depth': 3, 'learning_rate': 0.02, 'min_child_weight': 18, 'gamma': 0.037581650718206974, 'alpha': 0.023585135501116895, 'lambda': 0.036368574215123954, 'colsample_bytree': 0.7812234043387054, 'subsample': 0.6530463161108715}. Best is trial 152 with value: 0.6868420140820156.\u001b[0m\n"
     ]
    },
    {
     "name": "stdout",
     "output_type": "stream",
     "text": [
      "[23:50:01] WARNING: ../src/learner.cc:516: \n",
      "Parameters: { use_label_encoder } might not be used.\n",
      "\n",
      "  This may not be accurate due to some parameters are only used in language bindings but\n",
      "  passed down to XGBoost core.  Or some parameters are not used but slip through this\n",
      "  verification. Please open an issue if you find above cases.\n",
      "\n",
      "\n",
      "[0]\tvalidation_0-auc:0.60253\n",
      "Will train until validation_0-auc hasn't improved in 500 rounds.\n",
      "[200]\tvalidation_0-auc:0.68043\n",
      "[400]\tvalidation_0-auc:0.68297\n",
      "[600]\tvalidation_0-auc:0.68498\n",
      "[800]\tvalidation_0-auc:0.68347\n",
      "[1000]\tvalidation_0-auc:0.68078\n",
      "Stopping. Best iteration:\n",
      "[615]\tvalidation_0-auc:0.68516\n",
      "\n"
     ]
    },
    {
     "name": "stderr",
     "output_type": "stream",
     "text": [
      "\u001b[32m[I 2021-06-29 23:50:07,561]\u001b[0m Trial 166 finished with value: 0.6851642810640475 and parameters: {'max_depth': 3, 'learning_rate': 0.02, 'min_child_weight': 6, 'gamma': 0.012815623318026494, 'alpha': 0.031226712358502672, 'lambda': 0.05816246541616387, 'colsample_bytree': 0.7473614703823972, 'subsample': 0.644877474874738}. Best is trial 152 with value: 0.6868420140820156.\u001b[0m\n"
     ]
    },
    {
     "name": "stdout",
     "output_type": "stream",
     "text": [
      "[23:50:07] WARNING: ../src/learner.cc:516: \n",
      "Parameters: { use_label_encoder } might not be used.\n",
      "\n",
      "  This may not be accurate due to some parameters are only used in language bindings but\n",
      "  passed down to XGBoost core.  Or some parameters are not used but slip through this\n",
      "  verification. Please open an issue if you find above cases.\n",
      "\n",
      "\n",
      "[0]\tvalidation_0-auc:0.60253\n",
      "Will train until validation_0-auc hasn't improved in 500 rounds.\n",
      "[200]\tvalidation_0-auc:0.68020\n",
      "[400]\tvalidation_0-auc:0.68468\n",
      "[600]\tvalidation_0-auc:0.68535\n",
      "[800]\tvalidation_0-auc:0.68353\n",
      "Stopping. Best iteration:\n",
      "[479]\tvalidation_0-auc:0.68599\n",
      "\n"
     ]
    },
    {
     "name": "stderr",
     "output_type": "stream",
     "text": [
      "\u001b[32m[I 2021-06-29 23:50:13,516]\u001b[0m Trial 167 finished with value: 0.6859903822131121 and parameters: {'max_depth': 3, 'learning_rate': 0.02, 'min_child_weight': 1, 'gamma': 0.013764023992354064, 'alpha': 0.02978628286544429, 'lambda': 0.19685367216739294, 'colsample_bytree': 0.7548811296942158, 'subsample': 0.6384279733419828}. Best is trial 152 with value: 0.6868420140820156.\u001b[0m\n"
     ]
    },
    {
     "name": "stdout",
     "output_type": "stream",
     "text": [
      "[23:50:13] WARNING: ../src/learner.cc:516: \n",
      "Parameters: { use_label_encoder } might not be used.\n",
      "\n",
      "  This may not be accurate due to some parameters are only used in language bindings but\n",
      "  passed down to XGBoost core.  Or some parameters are not used but slip through this\n",
      "  verification. Please open an issue if you find above cases.\n",
      "\n",
      "\n",
      "[0]\tvalidation_0-auc:0.60253\n",
      "Will train until validation_0-auc hasn't improved in 500 rounds.\n",
      "[200]\tvalidation_0-auc:0.67692\n",
      "[400]\tvalidation_0-auc:0.67786\n",
      "[600]\tvalidation_0-auc:0.67764\n",
      "Stopping. Best iteration:\n",
      "[104]\tvalidation_0-auc:0.68347\n",
      "\n"
     ]
    },
    {
     "name": "stderr",
     "output_type": "stream",
     "text": [
      "\u001b[32m[I 2021-06-29 23:50:17,056]\u001b[0m Trial 168 finished with value: 0.6834683118176231 and parameters: {'max_depth': 3, 'learning_rate': 0.08, 'min_child_weight': 4, 'gamma': 0.014490546412446799, 'alpha': 0.0322380476917015, 'lambda': 0.05990892657953264, 'colsample_bytree': 0.7123870809152815, 'subsample': 0.6384960736642431}. Best is trial 152 with value: 0.6868420140820156.\u001b[0m\n"
     ]
    },
    {
     "name": "stdout",
     "output_type": "stream",
     "text": [
      "[23:50:17] WARNING: ../src/learner.cc:516: \n",
      "Parameters: { use_label_encoder } might not be used.\n",
      "\n",
      "  This may not be accurate due to some parameters are only used in language bindings but\n",
      "  passed down to XGBoost core.  Or some parameters are not used but slip through this\n",
      "  verification. Please open an issue if you find above cases.\n",
      "\n",
      "\n",
      "[0]\tvalidation_0-auc:0.60253\n",
      "Will train until validation_0-auc hasn't improved in 500 rounds.\n",
      "[200]\tvalidation_0-auc:0.68081\n",
      "[400]\tvalidation_0-auc:0.68514\n",
      "[600]\tvalidation_0-auc:0.68510\n",
      "[800]\tvalidation_0-auc:0.68288\n",
      "Stopping. Best iteration:\n",
      "[478]\tvalidation_0-auc:0.68688\n",
      "\n"
     ]
    },
    {
     "name": "stderr",
     "output_type": "stream",
     "text": [
      "\u001b[32m[I 2021-06-29 23:50:22,865]\u001b[0m Trial 169 finished with value: 0.6868748392932368 and parameters: {'max_depth': 3, 'learning_rate': 0.02, 'min_child_weight': 1, 'gamma': 0.011132512279870051, 'alpha': 0.03879526249469129, 'lambda': 0.195405861457111, 'colsample_bytree': 0.7526650426357426, 'subsample': 0.6482962798259683}. Best is trial 169 with value: 0.6868748392932368.\u001b[0m\n"
     ]
    },
    {
     "name": "stdout",
     "output_type": "stream",
     "text": [
      "[23:50:22] WARNING: ../src/learner.cc:516: \n",
      "Parameters: { use_label_encoder } might not be used.\n",
      "\n",
      "  This may not be accurate due to some parameters are only used in language bindings but\n",
      "  passed down to XGBoost core.  Or some parameters are not used but slip through this\n",
      "  verification. Please open an issue if you find above cases.\n",
      "\n",
      "\n",
      "[0]\tvalidation_0-auc:0.60253\n",
      "Will train until validation_0-auc hasn't improved in 500 rounds.\n",
      "[200]\tvalidation_0-auc:0.67957\n",
      "[400]\tvalidation_0-auc:0.68378\n",
      "[600]\tvalidation_0-auc:0.68371\n",
      "[800]\tvalidation_0-auc:0.68257\n",
      "Stopping. Best iteration:\n",
      "[487]\tvalidation_0-auc:0.68548\n",
      "\n"
     ]
    },
    {
     "name": "stderr",
     "output_type": "stream",
     "text": [
      "\u001b[32m[I 2021-06-29 23:50:28,855]\u001b[0m Trial 170 finished with value: 0.6854779441934936 and parameters: {'max_depth': 3, 'learning_rate': 0.02, 'min_child_weight': 1, 'gamma': 0.01118046449731403, 'alpha': 0.040110943495490686, 'lambda': 0.20327437915246863, 'colsample_bytree': 0.7552173609495315, 'subsample': 0.6439001525233101}. Best is trial 169 with value: 0.6868748392932368.\u001b[0m\n"
     ]
    },
    {
     "name": "stdout",
     "output_type": "stream",
     "text": [
      "[23:50:28] WARNING: ../src/learner.cc:516: \n",
      "Parameters: { use_label_encoder } might not be used.\n",
      "\n",
      "  This may not be accurate due to some parameters are only used in language bindings but\n",
      "  passed down to XGBoost core.  Or some parameters are not used but slip through this\n",
      "  verification. Please open an issue if you find above cases.\n",
      "\n",
      "\n",
      "[0]\tvalidation_0-auc:0.60253\n",
      "Will train until validation_0-auc hasn't improved in 500 rounds.\n",
      "[200]\tvalidation_0-auc:0.68045\n",
      "[400]\tvalidation_0-auc:0.68378\n",
      "[600]\tvalidation_0-auc:0.68391\n",
      "[800]\tvalidation_0-auc:0.68232\n",
      "Stopping. Best iteration:\n",
      "[487]\tvalidation_0-auc:0.68581\n",
      "\n"
     ]
    },
    {
     "name": "stderr",
     "output_type": "stream",
     "text": [
      "\u001b[32m[I 2021-06-29 23:50:34,536]\u001b[0m Trial 171 finished with value: 0.6858080199285504 and parameters: {'max_depth': 3, 'learning_rate': 0.02, 'min_child_weight': 2, 'gamma': 0.01148504530614236, 'alpha': 0.046770136460675814, 'lambda': 0.21824321512049594, 'colsample_bytree': 0.7535267574360274, 'subsample': 0.6447581134141002}. Best is trial 169 with value: 0.6868748392932368.\u001b[0m\n"
     ]
    },
    {
     "name": "stdout",
     "output_type": "stream",
     "text": [
      "[23:50:34] WARNING: ../src/learner.cc:516: \n",
      "Parameters: { use_label_encoder } might not be used.\n",
      "\n",
      "  This may not be accurate due to some parameters are only used in language bindings but\n",
      "  passed down to XGBoost core.  Or some parameters are not used but slip through this\n",
      "  verification. Please open an issue if you find above cases.\n",
      "\n",
      "\n",
      "[0]\tvalidation_0-auc:0.60253\n",
      "Will train until validation_0-auc hasn't improved in 500 rounds.\n",
      "[200]\tvalidation_0-auc:0.67994\n",
      "[400]\tvalidation_0-auc:0.68392\n",
      "[600]\tvalidation_0-auc:0.68514\n",
      "[800]\tvalidation_0-auc:0.68457\n",
      "[1000]\tvalidation_0-auc:0.68305\n",
      "Stopping. Best iteration:\n",
      "[525]\tvalidation_0-auc:0.68526\n",
      "\n"
     ]
    },
    {
     "name": "stderr",
     "output_type": "stream",
     "text": [
      "\u001b[32m[I 2021-06-29 23:50:40,550]\u001b[0m Trial 172 finished with value: 0.6852572858291741 and parameters: {'max_depth': 3, 'learning_rate': 0.02, 'min_child_weight': 1, 'gamma': 0.010949548318647612, 'alpha': 0.04275261811315904, 'lambda': 0.19459103319765778, 'colsample_bytree': 0.7998437625666146, 'subsample': 0.649339240504103}. Best is trial 169 with value: 0.6868748392932368.\u001b[0m\n"
     ]
    },
    {
     "name": "stdout",
     "output_type": "stream",
     "text": [
      "[23:50:40] WARNING: ../src/learner.cc:516: \n",
      "Parameters: { use_label_encoder } might not be used.\n",
      "\n",
      "  This may not be accurate due to some parameters are only used in language bindings but\n",
      "  passed down to XGBoost core.  Or some parameters are not used but slip through this\n",
      "  verification. Please open an issue if you find above cases.\n",
      "\n",
      "\n",
      "[0]\tvalidation_0-auc:0.60253\n",
      "Will train until validation_0-auc hasn't improved in 500 rounds.\n",
      "[200]\tvalidation_0-auc:0.68190\n",
      "[400]\tvalidation_0-auc:0.68333\n",
      "[600]\tvalidation_0-auc:0.68368\n",
      "[800]\tvalidation_0-auc:0.68143\n",
      "Stopping. Best iteration:\n",
      "[477]\tvalidation_0-auc:0.68461\n",
      "\n"
     ]
    },
    {
     "name": "stderr",
     "output_type": "stream",
     "text": [
      "\u001b[32m[I 2021-06-29 23:50:46,333]\u001b[0m Trial 173 finished with value: 0.6846062524732885 and parameters: {'max_depth': 3, 'learning_rate': 0.02, 'min_child_weight': 4, 'gamma': 0.013119222334771002, 'alpha': 0.06178850570443485, 'lambda': 0.20975159096973361, 'colsample_bytree': 0.7960075654972313, 'subsample': 0.6430161787951516}. Best is trial 169 with value: 0.6868748392932368.\u001b[0m\n"
     ]
    },
    {
     "name": "stdout",
     "output_type": "stream",
     "text": [
      "[23:50:46] WARNING: ../src/learner.cc:516: \n",
      "Parameters: { use_label_encoder } might not be used.\n",
      "\n",
      "  This may not be accurate due to some parameters are only used in language bindings but\n",
      "  passed down to XGBoost core.  Or some parameters are not used but slip through this\n",
      "  verification. Please open an issue if you find above cases.\n",
      "\n",
      "\n",
      "[0]\tvalidation_0-auc:0.60253\n",
      "Will train until validation_0-auc hasn't improved in 500 rounds.\n",
      "[200]\tvalidation_0-auc:0.68021\n",
      "[400]\tvalidation_0-auc:0.68200\n",
      "[600]\tvalidation_0-auc:0.68175\n",
      "[800]\tvalidation_0-auc:0.68097\n",
      "Stopping. Best iteration:\n",
      "[479]\tvalidation_0-auc:0.68367\n",
      "\n"
     ]
    },
    {
     "name": "stderr",
     "output_type": "stream",
     "text": [
      "\u001b[32m[I 2021-06-29 23:50:52,251]\u001b[0m Trial 174 finished with value: 0.6836670867077954 and parameters: {'max_depth': 3, 'learning_rate': 0.02, 'min_child_weight': 1, 'gamma': 0.012460679984095752, 'alpha': 0.04621932269388925, 'lambda': 0.22756415264844465, 'colsample_bytree': 0.7997893162340696, 'subsample': 0.6380703870483335}. Best is trial 169 with value: 0.6868748392932368.\u001b[0m\n"
     ]
    },
    {
     "name": "stdout",
     "output_type": "stream",
     "text": [
      "[23:50:52] WARNING: ../src/learner.cc:516: \n",
      "Parameters: { use_label_encoder } might not be used.\n",
      "\n",
      "  This may not be accurate due to some parameters are only used in language bindings but\n",
      "  passed down to XGBoost core.  Or some parameters are not used but slip through this\n",
      "  verification. Please open an issue if you find above cases.\n",
      "\n",
      "\n",
      "[0]\tvalidation_0-auc:0.60253\n",
      "Will train until validation_0-auc hasn't improved in 500 rounds.\n",
      "[200]\tvalidation_0-auc:0.68025\n",
      "[400]\tvalidation_0-auc:0.68306\n",
      "[600]\tvalidation_0-auc:0.68474\n",
      "[800]\tvalidation_0-auc:0.68335\n",
      "Stopping. Best iteration:\n",
      "[479]\tvalidation_0-auc:0.68595\n",
      "\n"
     ]
    },
    {
     "name": "stderr",
     "output_type": "stream",
     "text": [
      "\u001b[32m[I 2021-06-29 23:50:58,229]\u001b[0m Trial 175 finished with value: 0.6859447916419719 and parameters: {'max_depth': 3, 'learning_rate': 0.02, 'min_child_weight': 1, 'gamma': 0.010482620235625663, 'alpha': 0.06497496234156785, 'lambda': 0.4049146113951568, 'colsample_bytree': 0.7767511238860503, 'subsample': 0.6441744218536749}. Best is trial 169 with value: 0.6868748392932368.\u001b[0m\n"
     ]
    },
    {
     "name": "stdout",
     "output_type": "stream",
     "text": [
      "[23:50:58] WARNING: ../src/learner.cc:516: \n",
      "Parameters: { use_label_encoder } might not be used.\n",
      "\n",
      "  This may not be accurate due to some parameters are only used in language bindings but\n",
      "  passed down to XGBoost core.  Or some parameters are not used but slip through this\n",
      "  verification. Please open an issue if you find above cases.\n",
      "\n",
      "\n",
      "[0]\tvalidation_0-auc:0.60253\n",
      "Will train until validation_0-auc hasn't improved in 500 rounds.\n",
      "[200]\tvalidation_0-auc:0.68114\n",
      "[400]\tvalidation_0-auc:0.68370\n",
      "[600]\tvalidation_0-auc:0.68410\n",
      "[800]\tvalidation_0-auc:0.68319\n",
      "Stopping. Best iteration:\n",
      "[479]\tvalidation_0-auc:0.68612\n",
      "\n"
     ]
    },
    {
     "name": "stderr",
     "output_type": "stream",
     "text": [
      "\u001b[32m[I 2021-06-29 23:51:04,178]\u001b[0m Trial 176 finished with value: 0.6861198594351511 and parameters: {'max_depth': 3, 'learning_rate': 0.02, 'min_child_weight': 1, 'gamma': 0.013557481278233832, 'alpha': 0.06933459252415146, 'lambda': 0.34398595550603855, 'colsample_bytree': 0.7847494265204268, 'subsample': 0.6355895826367861}. Best is trial 169 with value: 0.6868748392932368.\u001b[0m\n"
     ]
    },
    {
     "name": "stdout",
     "output_type": "stream",
     "text": [
      "[23:51:04] WARNING: ../src/learner.cc:516: \n",
      "Parameters: { use_label_encoder } might not be used.\n",
      "\n",
      "  This may not be accurate due to some parameters are only used in language bindings but\n",
      "  passed down to XGBoost core.  Or some parameters are not used but slip through this\n",
      "  verification. Please open an issue if you find above cases.\n",
      "\n",
      "\n",
      "[0]\tvalidation_0-auc:0.60253\n",
      "Will train until validation_0-auc hasn't improved in 500 rounds.\n",
      "[200]\tvalidation_0-auc:0.68094\n",
      "[400]\tvalidation_0-auc:0.68281\n",
      "[600]\tvalidation_0-auc:0.68284\n",
      "[800]\tvalidation_0-auc:0.68163\n",
      "Stopping. Best iteration:\n",
      "[476]\tvalidation_0-auc:0.68421\n",
      "\n"
     ]
    },
    {
     "name": "stderr",
     "output_type": "stream",
     "text": [
      "\u001b[32m[I 2021-06-29 23:51:10,069]\u001b[0m Trial 177 finished with value: 0.6842087026929438 and parameters: {'max_depth': 3, 'learning_rate': 0.02, 'min_child_weight': 3, 'gamma': 0.0164397295458839, 'alpha': 0.08549582674565892, 'lambda': 0.28763071579878213, 'colsample_bytree': 0.7765174226053941, 'subsample': 0.641707245701816}. Best is trial 169 with value: 0.6868748392932368.\u001b[0m\n"
     ]
    },
    {
     "name": "stdout",
     "output_type": "stream",
     "text": [
      "[23:51:10] WARNING: ../src/learner.cc:516: \n",
      "Parameters: { use_label_encoder } might not be used.\n",
      "\n",
      "  This may not be accurate due to some parameters are only used in language bindings but\n",
      "  passed down to XGBoost core.  Or some parameters are not used but slip through this\n",
      "  verification. Please open an issue if you find above cases.\n",
      "\n",
      "\n",
      "[0]\tvalidation_0-auc:0.60253\n",
      "Will train until validation_0-auc hasn't improved in 500 rounds.\n",
      "[200]\tvalidation_0-auc:0.68149\n",
      "[400]\tvalidation_0-auc:0.68328\n",
      "[600]\tvalidation_0-auc:0.68403\n",
      "[800]\tvalidation_0-auc:0.68175\n",
      "Stopping. Best iteration:\n",
      "[487]\tvalidation_0-auc:0.68574\n",
      "\n"
     ]
    },
    {
     "name": "stderr",
     "output_type": "stream",
     "text": [
      "\u001b[32m[I 2021-06-29 23:51:15,967]\u001b[0m Trial 178 finished with value: 0.6857441931289538 and parameters: {'max_depth': 3, 'learning_rate': 0.02, 'min_child_weight': 1, 'gamma': 0.010314500718408651, 'alpha': 0.06346542748803716, 'lambda': 0.18657452050746448, 'colsample_bytree': 0.7887214532592107, 'subsample': 0.6314032830686198}. Best is trial 169 with value: 0.6868748392932368.\u001b[0m\n"
     ]
    },
    {
     "name": "stdout",
     "output_type": "stream",
     "text": [
      "[23:51:16] WARNING: ../src/learner.cc:516: \n",
      "Parameters: { use_label_encoder } might not be used.\n",
      "\n",
      "  This may not be accurate due to some parameters are only used in language bindings but\n",
      "  passed down to XGBoost core.  Or some parameters are not used but slip through this\n",
      "  verification. Please open an issue if you find above cases.\n",
      "\n",
      "\n",
      "[0]\tvalidation_0-auc:0.59475\n",
      "Will train until validation_0-auc hasn't improved in 500 rounds.\n",
      "[200]\tvalidation_0-auc:0.66593\n",
      "[400]\tvalidation_0-auc:0.66213\n",
      "[600]\tvalidation_0-auc:0.66234\n",
      "Stopping. Best iteration:\n",
      "[243]\tvalidation_0-auc:0.66756\n",
      "\n"
     ]
    },
    {
     "name": "stderr",
     "output_type": "stream",
     "text": [
      "\u001b[32m[I 2021-06-29 23:51:23,385]\u001b[0m Trial 179 finished with value: 0.6675572024896099 and parameters: {'max_depth': 9, 'learning_rate': 0.02, 'min_child_weight': 1, 'gamma': 0.013730201252101544, 'alpha': 0.06223944973202714, 'lambda': 0.46334799033746893, 'colsample_bytree': 0.7884030965816933, 'subsample': 0.6271726919772229}. Best is trial 169 with value: 0.6868748392932368.\u001b[0m\n"
     ]
    },
    {
     "name": "stdout",
     "output_type": "stream",
     "text": [
      "[23:51:23] WARNING: ../src/learner.cc:516: \n",
      "Parameters: { use_label_encoder } might not be used.\n",
      "\n",
      "  This may not be accurate due to some parameters are only used in language bindings but\n",
      "  passed down to XGBoost core.  Or some parameters are not used but slip through this\n",
      "  verification. Please open an issue if you find above cases.\n",
      "\n",
      "\n",
      "[0]\tvalidation_0-auc:0.60253\n",
      "Will train until validation_0-auc hasn't improved in 500 rounds.\n",
      "[200]\tvalidation_0-auc:0.67917\n",
      "[400]\tvalidation_0-auc:0.68346\n",
      "[600]\tvalidation_0-auc:0.68287\n",
      "[800]\tvalidation_0-auc:0.68178\n",
      "Stopping. Best iteration:\n",
      "[479]\tvalidation_0-auc:0.68549\n",
      "\n"
     ]
    },
    {
     "name": "stderr",
     "output_type": "stream",
     "text": [
      "\u001b[32m[I 2021-06-29 23:51:29,118]\u001b[0m Trial 180 finished with value: 0.6854888859305673 and parameters: {'max_depth': 3, 'learning_rate': 0.02, 'min_child_weight': 1, 'gamma': 0.010382933082444687, 'alpha': 0.03926225892633966, 'lambda': 0.19049514471997364, 'colsample_bytree': 0.7972762770463748, 'subsample': 0.6366159533123892}. Best is trial 169 with value: 0.6868748392932368.\u001b[0m\n"
     ]
    },
    {
     "name": "stdout",
     "output_type": "stream",
     "text": [
      "[23:51:29] WARNING: ../src/learner.cc:516: \n",
      "Parameters: { use_label_encoder } might not be used.\n",
      "\n",
      "  This may not be accurate due to some parameters are only used in language bindings but\n",
      "  passed down to XGBoost core.  Or some parameters are not used but slip through this\n",
      "  verification. Please open an issue if you find above cases.\n",
      "\n",
      "\n",
      "[0]\tvalidation_0-auc:0.60253\n",
      "Will train until validation_0-auc hasn't improved in 500 rounds.\n",
      "[200]\tvalidation_0-auc:0.68005\n",
      "[400]\tvalidation_0-auc:0.68283\n",
      "[600]\tvalidation_0-auc:0.68381\n",
      "[800]\tvalidation_0-auc:0.68214\n",
      "Stopping. Best iteration:\n",
      "[478]\tvalidation_0-auc:0.68469\n",
      "\n"
     ]
    },
    {
     "name": "stderr",
     "output_type": "stream",
     "text": [
      "\u001b[32m[I 2021-06-29 23:51:34,649]\u001b[0m Trial 181 finished with value: 0.6846937863698781 and parameters: {'max_depth': 3, 'learning_rate': 0.02, 'min_child_weight': 2, 'gamma': 0.01036243037455499, 'alpha': 0.039678206613147735, 'lambda': 0.3673508225798449, 'colsample_bytree': 0.7744451810501574, 'subsample': 0.6412335990116831}. Best is trial 169 with value: 0.6868748392932368.\u001b[0m\n"
     ]
    },
    {
     "name": "stdout",
     "output_type": "stream",
     "text": [
      "[23:51:34] WARNING: ../src/learner.cc:516: \n",
      "Parameters: { use_label_encoder } might not be used.\n",
      "\n",
      "  This may not be accurate due to some parameters are only used in language bindings but\n",
      "  passed down to XGBoost core.  Or some parameters are not used but slip through this\n",
      "  verification. Please open an issue if you find above cases.\n",
      "\n",
      "\n",
      "[0]\tvalidation_0-auc:0.60253\n",
      "Will train until validation_0-auc hasn't improved in 500 rounds.\n",
      "[200]\tvalidation_0-auc:0.67949\n",
      "[400]\tvalidation_0-auc:0.68408\n",
      "[600]\tvalidation_0-auc:0.68494\n",
      "[800]\tvalidation_0-auc:0.68371\n",
      "[1000]\tvalidation_0-auc:0.68304\n",
      "Stopping. Best iteration:\n",
      "[534]\tvalidation_0-auc:0.68601\n",
      "\n"
     ]
    },
    {
     "name": "stderr",
     "output_type": "stream",
     "text": [
      "\u001b[32m[I 2021-06-29 23:51:40,862]\u001b[0m Trial 182 finished with value: 0.6860067948187227 and parameters: {'max_depth': 3, 'learning_rate': 0.02, 'min_child_weight': 1, 'gamma': 0.01539355296542304, 'alpha': 0.03770091453513596, 'lambda': 0.3630031345116408, 'colsample_bytree': 0.772855079290748, 'subsample': 0.6306033777351242}. Best is trial 169 with value: 0.6868748392932368.\u001b[0m\n"
     ]
    },
    {
     "name": "stdout",
     "output_type": "stream",
     "text": [
      "[23:51:40] WARNING: ../src/learner.cc:516: \n",
      "Parameters: { use_label_encoder } might not be used.\n",
      "\n",
      "  This may not be accurate due to some parameters are only used in language bindings but\n",
      "  passed down to XGBoost core.  Or some parameters are not used but slip through this\n",
      "  verification. Please open an issue if you find above cases.\n",
      "\n",
      "\n",
      "[0]\tvalidation_0-auc:0.60253\n",
      "Will train until validation_0-auc hasn't improved in 500 rounds.\n",
      "[200]\tvalidation_0-auc:0.67977\n",
      "[400]\tvalidation_0-auc:0.68378\n",
      "[600]\tvalidation_0-auc:0.68500\n",
      "[800]\tvalidation_0-auc:0.68385\n",
      "[1000]\tvalidation_0-auc:0.68253\n",
      "Stopping. Best iteration:\n",
      "[572]\tvalidation_0-auc:0.68562\n",
      "\n"
     ]
    },
    {
     "name": "stderr",
     "output_type": "stream",
     "text": [
      "\u001b[32m[I 2021-06-29 23:51:47,429]\u001b[0m Trial 183 finished with value: 0.6856165395297605 and parameters: {'max_depth': 3, 'learning_rate': 0.02, 'min_child_weight': 1, 'gamma': 0.010278454762034615, 'alpha': 0.03760946470999401, 'lambda': 0.37089475396735677, 'colsample_bytree': 0.7645426483919058, 'subsample': 0.608517476765777}. Best is trial 169 with value: 0.6868748392932368.\u001b[0m\n"
     ]
    },
    {
     "name": "stdout",
     "output_type": "stream",
     "text": [
      "[23:51:47] WARNING: ../src/learner.cc:516: \n",
      "Parameters: { use_label_encoder } might not be used.\n",
      "\n",
      "  This may not be accurate due to some parameters are only used in language bindings but\n",
      "  passed down to XGBoost core.  Or some parameters are not used but slip through this\n",
      "  verification. Please open an issue if you find above cases.\n",
      "\n",
      "\n",
      "[0]\tvalidation_0-auc:0.60253\n",
      "Will train until validation_0-auc hasn't improved in 500 rounds.\n",
      "[200]\tvalidation_0-auc:0.67867\n",
      "[400]\tvalidation_0-auc:0.68213\n",
      "[600]\tvalidation_0-auc:0.68515\n",
      "[800]\tvalidation_0-auc:0.68456\n",
      "[1000]\tvalidation_0-auc:0.68297\n",
      "Stopping. Best iteration:\n",
      "[548]\tvalidation_0-auc:0.68562\n",
      "\n"
     ]
    },
    {
     "name": "stderr",
     "output_type": "stream",
     "text": [
      "\u001b[32m[I 2021-06-29 23:51:54,057]\u001b[0m Trial 184 finished with value: 0.6856220103982975 and parameters: {'max_depth': 3, 'learning_rate': 0.02, 'min_child_weight': 2, 'gamma': 0.010273049601150788, 'alpha': 0.03795893519202282, 'lambda': 0.2742757996134575, 'colsample_bytree': 0.7582316352090419, 'subsample': 0.609525880616641}. Best is trial 169 with value: 0.6868748392932368.\u001b[0m\n"
     ]
    },
    {
     "name": "stdout",
     "output_type": "stream",
     "text": [
      "[23:51:54] WARNING: ../src/learner.cc:516: \n",
      "Parameters: { use_label_encoder } might not be used.\n",
      "\n",
      "  This may not be accurate due to some parameters are only used in language bindings but\n",
      "  passed down to XGBoost core.  Or some parameters are not used but slip through this\n",
      "  verification. Please open an issue if you find above cases.\n",
      "\n",
      "\n",
      "[0]\tvalidation_0-auc:0.60253\n",
      "Will train until validation_0-auc hasn't improved in 500 rounds.\n",
      "[200]\tvalidation_0-auc:0.68177\n",
      "[400]\tvalidation_0-auc:0.68528\n",
      "[600]\tvalidation_0-auc:0.68644\n",
      "[800]\tvalidation_0-auc:0.68552\n",
      "[1000]\tvalidation_0-auc:0.68346\n",
      "Stopping. Best iteration:\n",
      "[670]\tvalidation_0-auc:0.68685\n",
      "\n"
     ]
    },
    {
     "name": "stderr",
     "output_type": "stream",
     "text": [
      "\u001b[32m[I 2021-06-29 23:52:01,408]\u001b[0m Trial 185 finished with value: 0.6868456613277069 and parameters: {'max_depth': 3, 'learning_rate': 0.02, 'min_child_weight': 2, 'gamma': 0.010658611575899708, 'alpha': 0.040318044291779404, 'lambda': 0.18422280464280982, 'colsample_bytree': 0.756096735956346, 'subsample': 0.6045613398742263}. Best is trial 169 with value: 0.6868748392932368.\u001b[0m\n"
     ]
    },
    {
     "name": "stdout",
     "output_type": "stream",
     "text": [
      "[23:52:01] WARNING: ../src/learner.cc:516: \n",
      "Parameters: { use_label_encoder } might not be used.\n",
      "\n",
      "  This may not be accurate due to some parameters are only used in language bindings but\n",
      "  passed down to XGBoost core.  Or some parameters are not used but slip through this\n",
      "  verification. Please open an issue if you find above cases.\n",
      "\n",
      "\n",
      "[0]\tvalidation_0-auc:0.60253\n",
      "Will train until validation_0-auc hasn't improved in 500 rounds.\n",
      "[200]\tvalidation_0-auc:0.68238\n",
      "[400]\tvalidation_0-auc:0.67958\n",
      "[600]\tvalidation_0-auc:0.67150\n",
      "Stopping. Best iteration:\n",
      "[178]\tvalidation_0-auc:0.68478\n",
      "\n"
     ]
    },
    {
     "name": "stderr",
     "output_type": "stream",
     "text": [
      "\u001b[32m[I 2021-06-29 23:52:05,679]\u001b[0m Trial 186 finished with value: 0.684784967512159 and parameters: {'max_depth': 3, 'learning_rate': 0.1, 'min_child_weight': 1, 'gamma': 0.007440640957686722, 'alpha': 0.0420549851340555, 'lambda': 0.2796563969423895, 'colsample_bytree': 0.7994350896384592, 'subsample': 0.606795484715841}. Best is trial 169 with value: 0.6868748392932368.\u001b[0m\n"
     ]
    },
    {
     "name": "stdout",
     "output_type": "stream",
     "text": [
      "[23:52:05] WARNING: ../src/learner.cc:516: \n",
      "Parameters: { use_label_encoder } might not be used.\n",
      "\n",
      "  This may not be accurate due to some parameters are only used in language bindings but\n",
      "  passed down to XGBoost core.  Or some parameters are not used but slip through this\n",
      "  verification. Please open an issue if you find above cases.\n",
      "\n",
      "\n",
      "[0]\tvalidation_0-auc:0.60253\n",
      "Will train until validation_0-auc hasn't improved in 500 rounds.\n",
      "[200]\tvalidation_0-auc:0.68096\n",
      "[400]\tvalidation_0-auc:0.68405\n",
      "[600]\tvalidation_0-auc:0.68469\n",
      "[800]\tvalidation_0-auc:0.68380\n",
      "Stopping. Best iteration:\n",
      "[483]\tvalidation_0-auc:0.68536\n",
      "\n"
     ]
    },
    {
     "name": "stderr",
     "output_type": "stream",
     "text": [
      "\u001b[32m[I 2021-06-29 23:52:11,753]\u001b[0m Trial 187 finished with value: 0.6853557614628373 and parameters: {'max_depth': 3, 'learning_rate': 0.02, 'min_child_weight': 1, 'gamma': 0.010645485375566666, 'alpha': 0.07563253984179721, 'lambda': 0.16833936389613907, 'colsample_bytree': 0.7690421189873834, 'subsample': 0.5865075322437222}. Best is trial 169 with value: 0.6868748392932368.\u001b[0m\n"
     ]
    },
    {
     "name": "stdout",
     "output_type": "stream",
     "text": [
      "[23:52:11] WARNING: ../src/learner.cc:516: \n",
      "Parameters: { use_label_encoder } might not be used.\n",
      "\n",
      "  This may not be accurate due to some parameters are only used in language bindings but\n",
      "  passed down to XGBoost core.  Or some parameters are not used but slip through this\n",
      "  verification. Please open an issue if you find above cases.\n",
      "\n",
      "\n",
      "[0]\tvalidation_0-auc:0.60253\n",
      "Will train until validation_0-auc hasn't improved in 500 rounds.\n",
      "[200]\tvalidation_0-auc:0.68221\n",
      "[400]\tvalidation_0-auc:0.68460\n",
      "[600]\tvalidation_0-auc:0.68741\n",
      "[800]\tvalidation_0-auc:0.68792\n",
      "[1000]\tvalidation_0-auc:0.68529\n",
      "Stopping. Best iteration:\n",
      "[554]\tvalidation_0-auc:0.68893\n",
      "\n"
     ]
    },
    {
     "name": "stderr",
     "output_type": "stream",
     "text": [
      "\u001b[32m[I 2021-06-29 23:52:18,380]\u001b[0m Trial 188 finished with value: 0.688933709485939 and parameters: {'max_depth': 3, 'learning_rate': 0.02, 'min_child_weight': 2, 'gamma': 0.010010010032161685, 'alpha': 0.07555727884275291, 'lambda': 0.19644337110203833, 'colsample_bytree': 0.7692586157354884, 'subsample': 0.6151419888333265}. Best is trial 188 with value: 0.688933709485939.\u001b[0m\n"
     ]
    },
    {
     "name": "stdout",
     "output_type": "stream",
     "text": [
      "[23:52:18] WARNING: ../src/learner.cc:516: \n",
      "Parameters: { use_label_encoder } might not be used.\n",
      "\n",
      "  This may not be accurate due to some parameters are only used in language bindings but\n",
      "  passed down to XGBoost core.  Or some parameters are not used but slip through this\n",
      "  verification. Please open an issue if you find above cases.\n",
      "\n",
      "\n",
      "[0]\tvalidation_0-auc:0.60253\n",
      "Will train until validation_0-auc hasn't improved in 500 rounds.\n",
      "[200]\tvalidation_0-auc:0.68177\n",
      "[400]\tvalidation_0-auc:0.68530\n",
      "[600]\tvalidation_0-auc:0.68636\n",
      "[800]\tvalidation_0-auc:0.68742\n",
      "[1000]\tvalidation_0-auc:0.68465\n",
      "[1200]\tvalidation_0-auc:0.68357\n",
      "Stopping. Best iteration:\n",
      "[802]\tvalidation_0-auc:0.68754\n",
      "\n"
     ]
    },
    {
     "name": "stderr",
     "output_type": "stream",
     "text": [
      "\u001b[32m[I 2021-06-29 23:52:26,470]\u001b[0m Trial 189 finished with value: 0.6875349907633503 and parameters: {'max_depth': 3, 'learning_rate': 0.02, 'min_child_weight': 2, 'gamma': 0.010334088966694981, 'alpha': 0.0701685776974451, 'lambda': 0.17268864230120282, 'colsample_bytree': 0.7839737346785545, 'subsample': 0.5886462950424092}. Best is trial 188 with value: 0.688933709485939.\u001b[0m\n"
     ]
    },
    {
     "name": "stdout",
     "output_type": "stream",
     "text": [
      "[23:52:26] WARNING: ../src/learner.cc:516: \n",
      "Parameters: { use_label_encoder } might not be used.\n",
      "\n",
      "  This may not be accurate due to some parameters are only used in language bindings but\n",
      "  passed down to XGBoost core.  Or some parameters are not used but slip through this\n",
      "  verification. Please open an issue if you find above cases.\n",
      "\n",
      "\n",
      "[0]\tvalidation_0-auc:0.60253\n",
      "Will train until validation_0-auc hasn't improved in 500 rounds.\n",
      "[200]\tvalidation_0-auc:0.68079\n",
      "[400]\tvalidation_0-auc:0.68490\n",
      "[600]\tvalidation_0-auc:0.68486\n",
      "[800]\tvalidation_0-auc:0.68490\n",
      "Stopping. Best iteration:\n",
      "[487]\tvalidation_0-auc:0.68612\n",
      "\n"
     ]
    },
    {
     "name": "stderr",
     "output_type": "stream",
     "text": [
      "\u001b[32m[I 2021-06-29 23:52:32,585]\u001b[0m Trial 190 finished with value: 0.6861253303036879 and parameters: {'max_depth': 3, 'learning_rate': 0.02, 'min_child_weight': 1, 'gamma': 0.009730601065481861, 'alpha': 0.07478138692010178, 'lambda': 0.4118238649816831, 'colsample_bytree': 0.7709628695994174, 'subsample': 0.603036855009517}. Best is trial 188 with value: 0.688933709485939.\u001b[0m\n"
     ]
    },
    {
     "name": "stdout",
     "output_type": "stream",
     "text": [
      "[23:52:32] WARNING: ../src/learner.cc:516: \n",
      "Parameters: { use_label_encoder } might not be used.\n",
      "\n",
      "  This may not be accurate due to some parameters are only used in language bindings but\n",
      "  passed down to XGBoost core.  Or some parameters are not used but slip through this\n",
      "  verification. Please open an issue if you find above cases.\n",
      "\n",
      "\n",
      "[0]\tvalidation_0-auc:0.60253\n",
      "Will train until validation_0-auc hasn't improved in 500 rounds.\n",
      "[200]\tvalidation_0-auc:0.68091\n",
      "[400]\tvalidation_0-auc:0.68434\n",
      "[600]\tvalidation_0-auc:0.68575\n",
      "[800]\tvalidation_0-auc:0.68521\n",
      "Stopping. Best iteration:\n",
      "[487]\tvalidation_0-auc:0.68649\n",
      "\n"
     ]
    },
    {
     "name": "stderr",
     "output_type": "stream",
     "text": [
      "\u001b[32m[I 2021-06-29 23:52:38,713]\u001b[0m Trial 191 finished with value: 0.6864864076271203 and parameters: {'max_depth': 3, 'learning_rate': 0.02, 'min_child_weight': 2, 'gamma': 0.007035519337945681, 'alpha': 0.09879384149652462, 'lambda': 0.3442015565481914, 'colsample_bytree': 0.7763554265581636, 'subsample': 0.6049997736649402}. Best is trial 188 with value: 0.688933709485939.\u001b[0m\n"
     ]
    },
    {
     "name": "stdout",
     "output_type": "stream",
     "text": [
      "[23:52:38] WARNING: ../src/learner.cc:516: \n",
      "Parameters: { use_label_encoder } might not be used.\n",
      "\n",
      "  This may not be accurate due to some parameters are only used in language bindings but\n",
      "  passed down to XGBoost core.  Or some parameters are not used but slip through this\n",
      "  verification. Please open an issue if you find above cases.\n",
      "\n",
      "\n",
      "[0]\tvalidation_0-auc:0.60253\n",
      "Will train until validation_0-auc hasn't improved in 500 rounds.\n",
      "[200]\tvalidation_0-auc:0.68118\n",
      "[400]\tvalidation_0-auc:0.68568\n",
      "[600]\tvalidation_0-auc:0.68666\n",
      "[800]\tvalidation_0-auc:0.68626\n",
      "[1000]\tvalidation_0-auc:0.68525\n",
      "Stopping. Best iteration:\n",
      "[544]\tvalidation_0-auc:0.68785\n",
      "\n"
     ]
    },
    {
     "name": "stderr",
     "output_type": "stream",
     "text": [
      "\u001b[32m[I 2021-06-29 23:52:45,039]\u001b[0m Trial 192 finished with value: 0.687846830269951 and parameters: {'max_depth': 3, 'learning_rate': 0.02, 'min_child_weight': 1, 'gamma': 0.006973510804038975, 'alpha': 0.12058452125272831, 'lambda': 0.3880933340606485, 'colsample_bytree': 0.7805002290065531, 'subsample': 0.6083545591909216}. Best is trial 188 with value: 0.688933709485939.\u001b[0m\n"
     ]
    },
    {
     "name": "stdout",
     "output_type": "stream",
     "text": [
      "[23:52:45] WARNING: ../src/learner.cc:516: \n",
      "Parameters: { use_label_encoder } might not be used.\n",
      "\n",
      "  This may not be accurate due to some parameters are only used in language bindings but\n",
      "  passed down to XGBoost core.  Or some parameters are not used but slip through this\n",
      "  verification. Please open an issue if you find above cases.\n",
      "\n",
      "\n",
      "[0]\tvalidation_0-auc:0.60603\n",
      "Will train until validation_0-auc hasn't improved in 500 rounds.\n",
      "[200]\tvalidation_0-auc:0.68062\n",
      "[400]\tvalidation_0-auc:0.68387\n",
      "[600]\tvalidation_0-auc:0.68598\n",
      "[800]\tvalidation_0-auc:0.68680\n",
      "[1000]\tvalidation_0-auc:0.68372\n",
      "[1200]\tvalidation_0-auc:0.68287\n",
      "Stopping. Best iteration:\n",
      "[715]\tvalidation_0-auc:0.68694\n",
      "\n"
     ]
    },
    {
     "name": "stderr",
     "output_type": "stream",
     "text": [
      "\u001b[32m[I 2021-06-29 23:52:52,621]\u001b[0m Trial 193 finished with value: 0.6869368424699878 and parameters: {'max_depth': 3, 'learning_rate': 0.02, 'min_child_weight': 2, 'gamma': 0.008743639601780952, 'alpha': 0.10217829064203594, 'lambda': 0.3820381769954783, 'colsample_bytree': 0.7854202435080028, 'subsample': 0.5931423575555989}. Best is trial 188 with value: 0.688933709485939.\u001b[0m\n"
     ]
    },
    {
     "name": "stdout",
     "output_type": "stream",
     "text": [
      "[23:52:52] WARNING: ../src/learner.cc:516: \n",
      "Parameters: { use_label_encoder } might not be used.\n",
      "\n",
      "  This may not be accurate due to some parameters are only used in language bindings but\n",
      "  passed down to XGBoost core.  Or some parameters are not used but slip through this\n",
      "  verification. Please open an issue if you find above cases.\n",
      "\n",
      "\n",
      "[0]\tvalidation_0-auc:0.60603\n",
      "Will train until validation_0-auc hasn't improved in 500 rounds.\n",
      "[200]\tvalidation_0-auc:0.68096\n",
      "[400]\tvalidation_0-auc:0.68420\n",
      "[600]\tvalidation_0-auc:0.68469\n",
      "[800]\tvalidation_0-auc:0.68567\n",
      "Stopping. Best iteration:\n",
      "[490]\tvalidation_0-auc:0.68602\n",
      "\n"
     ]
    },
    {
     "name": "stderr",
     "output_type": "stream",
     "text": [
      "\u001b[32m[I 2021-06-29 23:52:58,457]\u001b[0m Trial 194 finished with value: 0.6860177365557966 and parameters: {'max_depth': 3, 'learning_rate': 0.02, 'min_child_weight': 1, 'gamma': 0.007391198660268758, 'alpha': 0.08982043275549903, 'lambda': 0.390094855509886, 'colsample_bytree': 0.7804343352962165, 'subsample': 0.592510445755684}. Best is trial 188 with value: 0.688933709485939.\u001b[0m\n"
     ]
    },
    {
     "name": "stdout",
     "output_type": "stream",
     "text": [
      "[23:52:58] WARNING: ../src/learner.cc:516: \n",
      "Parameters: { use_label_encoder } might not be used.\n",
      "\n",
      "  This may not be accurate due to some parameters are only used in language bindings but\n",
      "  passed down to XGBoost core.  Or some parameters are not used but slip through this\n",
      "  verification. Please open an issue if you find above cases.\n",
      "\n",
      "\n",
      "[0]\tvalidation_0-auc:0.60253\n",
      "Will train until validation_0-auc hasn't improved in 500 rounds.\n",
      "[200]\tvalidation_0-auc:0.68059\n",
      "[400]\tvalidation_0-auc:0.68566\n",
      "[600]\tvalidation_0-auc:0.68597\n",
      "[800]\tvalidation_0-auc:0.68776\n",
      "[1000]\tvalidation_0-auc:0.68551\n",
      "[1200]\tvalidation_0-auc:0.68439\n",
      "Stopping. Best iteration:\n",
      "[808]\tvalidation_0-auc:0.68806\n",
      "\n"
     ]
    },
    {
     "name": "stderr",
     "output_type": "stream",
     "text": [
      "\u001b[32m[I 2021-06-29 23:53:06,417]\u001b[0m Trial 195 finished with value: 0.6880620177657337 and parameters: {'max_depth': 3, 'learning_rate': 0.02, 'min_child_weight': 1, 'gamma': 0.004286370428857163, 'alpha': 0.09861988108615197, 'lambda': 0.385178256047065, 'colsample_bytree': 0.7847046408180762, 'subsample': 0.5991076300730931}. Best is trial 188 with value: 0.688933709485939.\u001b[0m\n"
     ]
    },
    {
     "name": "stdout",
     "output_type": "stream",
     "text": [
      "[23:53:06] WARNING: ../src/learner.cc:516: \n",
      "Parameters: { use_label_encoder } might not be used.\n",
      "\n",
      "  This may not be accurate due to some parameters are only used in language bindings but\n",
      "  passed down to XGBoost core.  Or some parameters are not used but slip through this\n",
      "  verification. Please open an issue if you find above cases.\n",
      "\n",
      "\n",
      "[0]\tvalidation_0-auc:0.60253\n",
      "Will train until validation_0-auc hasn't improved in 500 rounds.\n",
      "[200]\tvalidation_0-auc:0.68160\n",
      "[400]\tvalidation_0-auc:0.68167\n",
      "[600]\tvalidation_0-auc:0.68495\n",
      "[800]\tvalidation_0-auc:0.68414\n",
      "[1000]\tvalidation_0-auc:0.68060\n",
      "Stopping. Best iteration:\n",
      "[600]\tvalidation_0-auc:0.68495\n",
      "\n"
     ]
    },
    {
     "name": "stderr",
     "output_type": "stream",
     "text": [
      "\u001b[32m[I 2021-06-29 23:53:13,142]\u001b[0m Trial 196 finished with value: 0.6849454463225734 and parameters: {'max_depth': 3, 'learning_rate': 0.02, 'min_child_weight': 2, 'gamma': 0.0034730239119464797, 'alpha': 0.1009202296044864, 'lambda': 0.3694025532783259, 'colsample_bytree': 0.7830469594446345, 'subsample': 0.5624577968924843}. Best is trial 188 with value: 0.688933709485939.\u001b[0m\n"
     ]
    },
    {
     "name": "stdout",
     "output_type": "stream",
     "text": [
      "[23:53:13] WARNING: ../src/learner.cc:516: \n",
      "Parameters: { use_label_encoder } might not be used.\n",
      "\n",
      "  This may not be accurate due to some parameters are only used in language bindings but\n",
      "  passed down to XGBoost core.  Or some parameters are not used but slip through this\n",
      "  verification. Please open an issue if you find above cases.\n",
      "\n",
      "\n",
      "[0]\tvalidation_0-auc:0.60603\n",
      "Will train until validation_0-auc hasn't improved in 500 rounds.\n",
      "[200]\tvalidation_0-auc:0.68113\n",
      "[400]\tvalidation_0-auc:0.68196\n",
      "[600]\tvalidation_0-auc:0.68156\n",
      "[800]\tvalidation_0-auc:0.68193\n",
      "Stopping. Best iteration:\n",
      "[459]\tvalidation_0-auc:0.68345\n",
      "\n"
     ]
    },
    {
     "name": "stderr",
     "output_type": "stream",
     "text": [
      "\u001b[32m[I 2021-06-29 23:53:19,094]\u001b[0m Trial 197 finished with value: 0.6834537228348582 and parameters: {'max_depth': 3, 'learning_rate': 0.02, 'min_child_weight': 6, 'gamma': 0.004539014398112562, 'alpha': 0.12570666302968864, 'lambda': 0.5780752640847729, 'colsample_bytree': 0.779258158441311, 'subsample': 0.5919403281793976}. Best is trial 188 with value: 0.688933709485939.\u001b[0m\n"
     ]
    },
    {
     "name": "stdout",
     "output_type": "stream",
     "text": [
      "[23:53:19] WARNING: ../src/learner.cc:516: \n",
      "Parameters: { use_label_encoder } might not be used.\n",
      "\n",
      "  This may not be accurate due to some parameters are only used in language bindings but\n",
      "  passed down to XGBoost core.  Or some parameters are not used but slip through this\n",
      "  verification. Please open an issue if you find above cases.\n",
      "\n",
      "\n",
      "[0]\tvalidation_0-auc:0.60253\n",
      "Will train until validation_0-auc hasn't improved in 500 rounds.\n",
      "[200]\tvalidation_0-auc:0.67948\n",
      "[400]\tvalidation_0-auc:0.68410\n",
      "[600]\tvalidation_0-auc:0.68604\n",
      "[800]\tvalidation_0-auc:0.68610\n",
      "[1000]\tvalidation_0-auc:0.68373\n",
      "[1200]\tvalidation_0-auc:0.68332\n",
      "Stopping. Best iteration:\n",
      "[836]\tvalidation_0-auc:0.68709\n",
      "\n"
     ]
    },
    {
     "name": "stderr",
     "output_type": "stream",
     "text": [
      "\u001b[32m[I 2021-06-29 23:53:27,432]\u001b[0m Trial 198 finished with value: 0.6870918504118653 and parameters: {'max_depth': 3, 'learning_rate': 0.02, 'min_child_weight': 1, 'gamma': 0.0065038995459749255, 'alpha': 0.07448823153044307, 'lambda': 0.4133029408723748, 'colsample_bytree': 0.7693553442654418, 'subsample': 0.6080631884816563}. Best is trial 188 with value: 0.688933709485939.\u001b[0m\n"
     ]
    },
    {
     "name": "stdout",
     "output_type": "stream",
     "text": [
      "[23:53:27] WARNING: ../src/learner.cc:516: \n",
      "Parameters: { use_label_encoder } might not be used.\n",
      "\n",
      "  This may not be accurate due to some parameters are only used in language bindings but\n",
      "  passed down to XGBoost core.  Or some parameters are not used but slip through this\n",
      "  verification. Please open an issue if you find above cases.\n",
      "\n",
      "\n",
      "[0]\tvalidation_0-auc:0.56842\n",
      "Will train until validation_0-auc hasn't improved in 500 rounds.\n",
      "[200]\tvalidation_0-auc:0.63901\n",
      "[400]\tvalidation_0-auc:0.64420\n",
      "[600]\tvalidation_0-auc:0.64567\n",
      "[800]\tvalidation_0-auc:0.64559\n",
      "[1000]\tvalidation_0-auc:0.64554\n",
      "Stopping. Best iteration:\n",
      "[548]\tvalidation_0-auc:0.64617\n",
      "\n"
     ]
    },
    {
     "name": "stderr",
     "output_type": "stream",
     "text": [
      "\u001b[32m[I 2021-06-29 23:53:33,379]\u001b[0m Trial 199 finished with value: 0.6461697537562071 and parameters: {'max_depth': 3, 'learning_rate': 0.02, 'min_child_weight': 232, 'gamma': 0.0029467951088421418, 'alpha': 0.10051573818225734, 'lambda': 0.44716995355419153, 'colsample_bytree': 0.7834431762335994, 'subsample': 0.5864310746516647}. Best is trial 188 with value: 0.688933709485939.\u001b[0m\n"
     ]
    },
    {
     "name": "stdout",
     "output_type": "stream",
     "text": [
      "Number of finished trials: 200\n",
      "Best trial: {'max_depth': 3, 'learning_rate': 0.02, 'min_child_weight': 2, 'gamma': 0.010010010032161685, 'alpha': 0.07555727884275291, 'lambda': 0.19644337110203833, 'colsample_bytree': 0.7692586157354884, 'subsample': 0.6151419888333265}\n",
      "Best value: 0.688933709485939\n",
      "CPU times: user 2h 54min 14s, sys: 18min 49s, total: 3h 13min 3s\n",
      "Wall time: 26min 40s\n"
     ]
    }
   ],
   "source": [
    "%%time\n",
    "study = optuna.create_study(direction = 'maximize')\n",
    "study.optimize(objective, n_trials = 200)\n",
    "print('Number of finished trials:', len(study.trials))\n",
    "print('Best trial:', study.best_trial.params)\n",
    "print('Best value:', study.best_value)"
   ]
  },
  {
   "cell_type": "code",
   "execution_count": 108,
   "metadata": {},
   "outputs": [],
   "source": [
    "df = pd.DataFrame()\n",
    "df['value'] = [i.value for i in study.trials]\n",
    "df['number'] = [i.number for i in study.trials]"
   ]
  },
  {
   "cell_type": "code",
   "execution_count": 109,
   "metadata": {},
   "outputs": [
    {
     "data": {
      "text/html": [
       "<div>\n",
       "<style scoped>\n",
       "    .dataframe tbody tr th:only-of-type {\n",
       "        vertical-align: middle;\n",
       "    }\n",
       "\n",
       "    .dataframe tbody tr th {\n",
       "        vertical-align: top;\n",
       "    }\n",
       "\n",
       "    .dataframe thead th {\n",
       "        text-align: right;\n",
       "    }\n",
       "</style>\n",
       "<table border=\"1\" class=\"dataframe\">\n",
       "  <thead>\n",
       "    <tr style=\"text-align: right;\">\n",
       "      <th></th>\n",
       "      <th>value</th>\n",
       "      <th>number</th>\n",
       "    </tr>\n",
       "  </thead>\n",
       "  <tbody>\n",
       "    <tr>\n",
       "      <th>3</th>\n",
       "      <td>0.500000</td>\n",
       "      <td>3</td>\n",
       "    </tr>\n",
       "    <tr>\n",
       "      <th>4</th>\n",
       "      <td>0.500000</td>\n",
       "      <td>4</td>\n",
       "    </tr>\n",
       "    <tr>\n",
       "      <th>8</th>\n",
       "      <td>0.500000</td>\n",
       "      <td>8</td>\n",
       "    </tr>\n",
       "    <tr>\n",
       "      <th>9</th>\n",
       "      <td>0.500000</td>\n",
       "      <td>9</td>\n",
       "    </tr>\n",
       "    <tr>\n",
       "      <th>0</th>\n",
       "      <td>0.626599</td>\n",
       "      <td>0</td>\n",
       "    </tr>\n",
       "    <tr>\n",
       "      <th>...</th>\n",
       "      <td>...</td>\n",
       "      <td>...</td>\n",
       "    </tr>\n",
       "    <tr>\n",
       "      <th>198</th>\n",
       "      <td>0.687092</td>\n",
       "      <td>198</td>\n",
       "    </tr>\n",
       "    <tr>\n",
       "      <th>189</th>\n",
       "      <td>0.687535</td>\n",
       "      <td>189</td>\n",
       "    </tr>\n",
       "    <tr>\n",
       "      <th>192</th>\n",
       "      <td>0.687847</td>\n",
       "      <td>192</td>\n",
       "    </tr>\n",
       "    <tr>\n",
       "      <th>195</th>\n",
       "      <td>0.688062</td>\n",
       "      <td>195</td>\n",
       "    </tr>\n",
       "    <tr>\n",
       "      <th>188</th>\n",
       "      <td>0.688934</td>\n",
       "      <td>188</td>\n",
       "    </tr>\n",
       "  </tbody>\n",
       "</table>\n",
       "<p>200 rows × 2 columns</p>\n",
       "</div>"
      ],
      "text/plain": [
       "        value  number\n",
       "3    0.500000       3\n",
       "4    0.500000       4\n",
       "8    0.500000       8\n",
       "9    0.500000       9\n",
       "0    0.626599       0\n",
       "..        ...     ...\n",
       "198  0.687092     198\n",
       "189  0.687535     189\n",
       "192  0.687847     192\n",
       "195  0.688062     195\n",
       "188  0.688934     188\n",
       "\n",
       "[200 rows x 2 columns]"
      ]
     },
     "execution_count": 109,
     "metadata": {},
     "output_type": "execute_result"
    }
   ],
   "source": [
    "df.sort_values('value')"
   ]
  },
  {
   "cell_type": "code",
   "execution_count": 110,
   "metadata": {},
   "outputs": [],
   "source": [
    "top_5_params = study.trials[198].params\n",
    "top_4_params = study.trials[189].params\n",
    "top_3_params = study.trials[192].params\n",
    "top_2_params = study.trials[195].params\n",
    "top_1_params = study.trials[188].params"
   ]
  },
  {
   "cell_type": "code",
   "execution_count": 111,
   "metadata": {},
   "outputs": [
    {
     "data": {
      "text/plain": [
       "{'max_depth': 3,\n",
       " 'learning_rate': 0.02,\n",
       " 'min_child_weight': 2,\n",
       " 'gamma': 0.010010010032161685,\n",
       " 'alpha': 0.07555727884275291,\n",
       " 'lambda': 0.19644337110203833,\n",
       " 'colsample_bytree': 0.7692586157354884,\n",
       " 'subsample': 0.6151419888333265}"
      ]
     },
     "execution_count": 111,
     "metadata": {},
     "output_type": "execute_result"
    }
   ],
   "source": [
    "top_1_params"
   ]
  },
  {
   "cell_type": "code",
   "execution_count": 112,
   "metadata": {},
   "outputs": [],
   "source": [
    "def display_importances(feature_importance_df_):\n",
    "    cols = feature_importance_df_[[\"feature\", \"importance\"]].groupby(\"feature\").mean().sort_values(by=\"importance\", ascending=False)[:40].index\n",
    "    best_features = feature_importance_df_.loc[feature_importance_df_.feature.isin(cols)]\n",
    "    plt.figure(figsize=(8, 10))\n",
    "    sns.barplot(x=\"importance\", y=\"feature\", data=best_features.sort_values(by=\"importance\", ascending=False))\n",
    "    plt.title('Catboost Features (avg over folds)')\n",
    "    plt.tight_layout()"
   ]
  },
  {
   "cell_type": "code",
   "execution_count": 113,
   "metadata": {},
   "outputs": [],
   "source": [
    "import gc\n",
    "from sklearn.metrics import confusion_matrix\n",
    "\n",
    "def brier_score(y_true, y_pred):\n",
    "    return np.square(np.subtract(y_pred,y_true)).mean()\n",
    "\n",
    "def false_positive_rate(y_true, y_pred):\n",
    "    tn, fp, fn, tp = confusion_matrix(y_true, y_pred).ravel()\n",
    "    return fp/(fp+tn)\n",
    "    \n",
    "def fairness(y_true, y_pred):\n",
    "    y_pred[y_pred>0.5] = 1\n",
    "    y_pred[y_pred<0.5] = 0\n",
    "    fpw = false_positive_rate(y_true[valid_x['Race'] == 1], y_pred[valid_x['Race'] == 1])\n",
    "    fpb = false_positive_rate(y_true[valid_x['Race'] == 0], y_pred[valid_x['Race'] == 0])\n",
    "    return (1-np.abs(fpw-fpb))\n",
    "\n",
    "def fairness_accurate(y_true, y_pred): \n",
    "    bs = brier_score(y_true, y_pred)\n",
    "    fp = fairness(y_true, y_pred)\n",
    "    return \"Fair&Accuare\", 1-np.multiply((1-bs),fp), False\n",
    "\n",
    "def fairness_accurate_output(y_true, y_pred): \n",
    "    bs = brier_score(y_true, y_pred)\n",
    "    fp = fairness(y_true, y_pred)\n",
    "    return 1-np.multiply((1-bs),fp)"
   ]
  },
  {
   "cell_type": "code",
   "execution_count": 114,
   "metadata": {},
   "outputs": [],
   "source": [
    "def kfold_xgboost(df, num_folds, best_params):\n",
    "    train_df = train[train['Recidivism_Arrest_Year3'].notnull()]\n",
    "    test_df = train[train['Recidivism_Arrest_Year3'].isnull()]\n",
    "    print(\"Starting LightGBM. Train shape: {}, test shape: {}\".format(train_df.shape, test_df.shape))\n",
    "    folds = StratifiedKFold(n_splits= num_folds, shuffle=True, random_state=1001)\n",
    "\n",
    "    oof_preds = np.zeros(train_df.shape[0])\n",
    "    sub_preds = np.zeros(test_df.shape[0])\n",
    "    feature_importance_df = pd.DataFrame()\n",
    "    feats = [f for f in train_df.columns if f not in ['Recidivism_Arrest_Year3','ID']]\n",
    "    \n",
    "    for n_fold, (train_idx, valid_idx) in enumerate(folds.split(train_df[feats], train_df['Recidivism_Arrest_Year3'])):\n",
    "        global valid_x\n",
    "        train_x, train_y = train_df[feats].iloc[train_idx], train_df['Recidivism_Arrest_Year3'].iloc[train_idx]\n",
    "        valid_x, valid_y = train_df[feats].iloc[valid_idx], train_df['Recidivism_Arrest_Year3'].iloc[valid_idx]\n",
    "        # LightGBM parameters found by Bayesian optimization\n",
    "        clf = XGBClassifier(\n",
    "            **best_params,\n",
    "            n_estimators =4000,\n",
    "            metric = 'auc'\n",
    "        )\n",
    "        clf.fit(train_x, train_y, eval_set=[(valid_x, valid_y)], eval_metric= 'auc',verbose= 200, early_stopping_rounds= 500)\n",
    "\n",
    "        oof_preds[valid_idx] = clf.predict_proba(valid_x)[:, 1]\n",
    "        sub_preds += clf.predict_proba(test_df[feats])[:, 1] / folds.n_splits\n",
    "        fold_importance_df = pd.DataFrame()\n",
    "        fold_importance_df[\"feature\"] = feats\n",
    "        fold_importance_df[\"importance\"] = clf.feature_importances_\n",
    "        fold_importance_df[\"fold\"] = n_fold + 1\n",
    "        feature_importance_df = pd.concat([feature_importance_df, fold_importance_df], axis=0)\n",
    "        gc.collect()\n",
    "    print('Full F&A score %.6f' % roc_auc_score(train_df['Recidivism_Arrest_Year3'], oof_preds))\n",
    "    display_importances(feature_importance_df)\n",
    "    return sub_preds, oof_preds"
   ]
  },
  {
   "cell_type": "code",
   "execution_count": 115,
   "metadata": {},
   "outputs": [],
   "source": [
    "from sklearn.model_selection import KFold, StratifiedKFold\n",
    "import matplotlib.pyplot as plt\n",
    "import seaborn as sns"
   ]
  },
  {
   "cell_type": "code",
   "execution_count": 116,
   "metadata": {},
   "outputs": [
    {
     "name": "stdout",
     "output_type": "stream",
     "text": [
      "Starting LightGBM. Train shape: (9398, 85), test shape: (4146, 85)\n",
      "[23:57:14] WARNING: ../src/learner.cc:516: \n",
      "Parameters: { metric } might not be used.\n",
      "\n",
      "  This may not be accurate due to some parameters are only used in language bindings but\n",
      "  passed down to XGBoost core.  Or some parameters are not used but slip through this\n",
      "  verification. Please open an issue if you find above cases.\n",
      "\n",
      "\n",
      "[0]\tvalidation_0-auc:0.59091\n",
      "Will train until validation_0-auc hasn't improved in 500 rounds.\n",
      "[200]\tvalidation_0-auc:0.70140\n",
      "[400]\tvalidation_0-auc:0.71146\n",
      "[600]\tvalidation_0-auc:0.71226\n",
      "[800]\tvalidation_0-auc:0.71195\n",
      "[1000]\tvalidation_0-auc:0.70963\n",
      "[1200]\tvalidation_0-auc:0.71181\n",
      "Stopping. Best iteration:\n",
      "[756]\tvalidation_0-auc:0.71324\n",
      "\n",
      "[23:57:23] WARNING: ../src/learner.cc:516: \n",
      "Parameters: { metric } might not be used.\n",
      "\n",
      "  This may not be accurate due to some parameters are only used in language bindings but\n",
      "  passed down to XGBoost core.  Or some parameters are not used but slip through this\n",
      "  verification. Please open an issue if you find above cases.\n",
      "\n",
      "\n",
      "[0]\tvalidation_0-auc:0.60728\n",
      "Will train until validation_0-auc hasn't improved in 500 rounds.\n",
      "[200]\tvalidation_0-auc:0.67522\n",
      "[400]\tvalidation_0-auc:0.68238\n",
      "[600]\tvalidation_0-auc:0.68437\n",
      "[800]\tvalidation_0-auc:0.68516\n",
      "[1000]\tvalidation_0-auc:0.68519\n",
      "[1200]\tvalidation_0-auc:0.68531\n",
      "[1400]\tvalidation_0-auc:0.68353\n",
      "[1600]\tvalidation_0-auc:0.68203\n",
      "Stopping. Best iteration:\n",
      "[1140]\tvalidation_0-auc:0.68639\n",
      "\n",
      "[23:57:33] WARNING: ../src/learner.cc:516: \n",
      "Parameters: { metric } might not be used.\n",
      "\n",
      "  This may not be accurate due to some parameters are only used in language bindings but\n",
      "  passed down to XGBoost core.  Or some parameters are not used but slip through this\n",
      "  verification. Please open an issue if you find above cases.\n",
      "\n",
      "\n",
      "[0]\tvalidation_0-auc:0.60533\n",
      "Will train until validation_0-auc hasn't improved in 500 rounds.\n",
      "[200]\tvalidation_0-auc:0.67914\n",
      "[400]\tvalidation_0-auc:0.68359\n",
      "[600]\tvalidation_0-auc:0.68807\n",
      "[800]\tvalidation_0-auc:0.68720\n",
      "[1000]\tvalidation_0-auc:0.68759\n",
      "Stopping. Best iteration:\n",
      "[578]\tvalidation_0-auc:0.68869\n",
      "\n",
      "[23:57:39] WARNING: ../src/learner.cc:516: \n",
      "Parameters: { metric } might not be used.\n",
      "\n",
      "  This may not be accurate due to some parameters are only used in language bindings but\n",
      "  passed down to XGBoost core.  Or some parameters are not used but slip through this\n",
      "  verification. Please open an issue if you find above cases.\n",
      "\n",
      "\n",
      "[0]\tvalidation_0-auc:0.61456\n",
      "Will train until validation_0-auc hasn't improved in 500 rounds.\n",
      "[200]\tvalidation_0-auc:0.70401\n",
      "[400]\tvalidation_0-auc:0.70824\n",
      "[600]\tvalidation_0-auc:0.70863\n",
      "[800]\tvalidation_0-auc:0.70711\n",
      "Stopping. Best iteration:\n",
      "[378]\tvalidation_0-auc:0.70952\n",
      "\n",
      "[23:57:45] WARNING: ../src/learner.cc:516: \n",
      "Parameters: { metric } might not be used.\n",
      "\n",
      "  This may not be accurate due to some parameters are only used in language bindings but\n",
      "  passed down to XGBoost core.  Or some parameters are not used but slip through this\n",
      "  verification. Please open an issue if you find above cases.\n",
      "\n",
      "\n",
      "[0]\tvalidation_0-auc:0.59983\n",
      "Will train until validation_0-auc hasn't improved in 500 rounds.\n",
      "[200]\tvalidation_0-auc:0.69637\n",
      "[400]\tvalidation_0-auc:0.70967\n",
      "[600]\tvalidation_0-auc:0.71100\n",
      "[800]\tvalidation_0-auc:0.70937\n",
      "Stopping. Best iteration:\n",
      "[482]\tvalidation_0-auc:0.71184\n",
      "\n",
      "Full F&A score 0.700582\n",
      "Starting LightGBM. Train shape: (9398, 85), test shape: (4146, 85)\n",
      "[23:57:52] WARNING: ../src/learner.cc:516: \n",
      "Parameters: { metric } might not be used.\n",
      "\n",
      "  This may not be accurate due to some parameters are only used in language bindings but\n",
      "  passed down to XGBoost core.  Or some parameters are not used but slip through this\n",
      "  verification. Please open an issue if you find above cases.\n",
      "\n",
      "\n",
      "[0]\tvalidation_0-auc:0.61823\n",
      "Will train until validation_0-auc hasn't improved in 500 rounds.\n",
      "[200]\tvalidation_0-auc:0.70033\n",
      "[400]\tvalidation_0-auc:0.70920\n",
      "[600]\tvalidation_0-auc:0.71271\n",
      "[800]\tvalidation_0-auc:0.71036\n",
      "[1000]\tvalidation_0-auc:0.70788\n",
      "Stopping. Best iteration:\n",
      "[621]\tvalidation_0-auc:0.71297\n",
      "\n",
      "[23:57:59] WARNING: ../src/learner.cc:516: \n",
      "Parameters: { metric } might not be used.\n",
      "\n",
      "  This may not be accurate due to some parameters are only used in language bindings but\n",
      "  passed down to XGBoost core.  Or some parameters are not used but slip through this\n",
      "  verification. Please open an issue if you find above cases.\n",
      "\n",
      "\n",
      "[0]\tvalidation_0-auc:0.60192\n",
      "Will train until validation_0-auc hasn't improved in 500 rounds.\n",
      "[200]\tvalidation_0-auc:0.67270\n",
      "[400]\tvalidation_0-auc:0.67968\n",
      "[600]\tvalidation_0-auc:0.68276\n",
      "[800]\tvalidation_0-auc:0.68359\n",
      "[1000]\tvalidation_0-auc:0.68432\n",
      "[1200]\tvalidation_0-auc:0.68401\n",
      "[1400]\tvalidation_0-auc:0.68367\n",
      "Stopping. Best iteration:\n",
      "[1055]\tvalidation_0-auc:0.68481\n",
      "\n",
      "[23:58:09] WARNING: ../src/learner.cc:516: \n",
      "Parameters: { metric } might not be used.\n",
      "\n",
      "  This may not be accurate due to some parameters are only used in language bindings but\n",
      "  passed down to XGBoost core.  Or some parameters are not used but slip through this\n",
      "  verification. Please open an issue if you find above cases.\n",
      "\n",
      "\n",
      "[0]\tvalidation_0-auc:0.60448\n",
      "Will train until validation_0-auc hasn't improved in 500 rounds.\n",
      "[200]\tvalidation_0-auc:0.68109\n",
      "[400]\tvalidation_0-auc:0.68470\n",
      "[600]\tvalidation_0-auc:0.68714\n",
      "[800]\tvalidation_0-auc:0.68713\n",
      "[1000]\tvalidation_0-auc:0.68632\n",
      "Stopping. Best iteration:\n",
      "[621]\tvalidation_0-auc:0.68819\n",
      "\n",
      "[23:58:16] WARNING: ../src/learner.cc:516: \n",
      "Parameters: { metric } might not be used.\n",
      "\n",
      "  This may not be accurate due to some parameters are only used in language bindings but\n",
      "  passed down to XGBoost core.  Or some parameters are not used but slip through this\n",
      "  verification. Please open an issue if you find above cases.\n",
      "\n",
      "\n",
      "[0]\tvalidation_0-auc:0.61456\n",
      "Will train until validation_0-auc hasn't improved in 500 rounds.\n",
      "[200]\tvalidation_0-auc:0.70607\n",
      "[400]\tvalidation_0-auc:0.70973\n",
      "[600]\tvalidation_0-auc:0.70946\n",
      "[800]\tvalidation_0-auc:0.70681\n",
      "[1000]\tvalidation_0-auc:0.70563\n",
      "Stopping. Best iteration:\n",
      "[515]\tvalidation_0-auc:0.71106\n",
      "\n",
      "[23:58:23] WARNING: ../src/learner.cc:516: \n",
      "Parameters: { metric } might not be used.\n",
      "\n",
      "  This may not be accurate due to some parameters are only used in language bindings but\n",
      "  passed down to XGBoost core.  Or some parameters are not used but slip through this\n",
      "  verification. Please open an issue if you find above cases.\n",
      "\n",
      "\n",
      "[0]\tvalidation_0-auc:0.59983\n",
      "Will train until validation_0-auc hasn't improved in 500 rounds.\n",
      "[200]\tvalidation_0-auc:0.69614\n",
      "[400]\tvalidation_0-auc:0.70795\n",
      "[600]\tvalidation_0-auc:0.71062\n",
      "[800]\tvalidation_0-auc:0.70984\n",
      "[1000]\tvalidation_0-auc:0.70773\n",
      "Stopping. Best iteration:\n",
      "[561]\tvalidation_0-auc:0.71141\n",
      "\n",
      "Full F&A score 0.700488\n",
      "Starting LightGBM. Train shape: (9398, 85), test shape: (4146, 85)\n",
      "[23:58:31] WARNING: ../src/learner.cc:516: \n",
      "Parameters: { metric } might not be used.\n",
      "\n",
      "  This may not be accurate due to some parameters are only used in language bindings but\n",
      "  passed down to XGBoost core.  Or some parameters are not used but slip through this\n",
      "  verification. Please open an issue if you find above cases.\n",
      "\n",
      "\n",
      "[0]\tvalidation_0-auc:0.59033\n",
      "Will train until validation_0-auc hasn't improved in 500 rounds.\n",
      "[200]\tvalidation_0-auc:0.70127\n",
      "[400]\tvalidation_0-auc:0.71145\n",
      "[600]\tvalidation_0-auc:0.71183\n",
      "[800]\tvalidation_0-auc:0.71037\n",
      "[1000]\tvalidation_0-auc:0.70897\n",
      "Stopping. Best iteration:\n",
      "[606]\tvalidation_0-auc:0.71200\n",
      "\n",
      "[23:58:39] WARNING: ../src/learner.cc:516: \n",
      "Parameters: { metric } might not be used.\n",
      "\n",
      "  This may not be accurate due to some parameters are only used in language bindings but\n",
      "  passed down to XGBoost core.  Or some parameters are not used but slip through this\n",
      "  verification. Please open an issue if you find above cases.\n",
      "\n",
      "\n",
      "[0]\tvalidation_0-auc:0.60728\n",
      "Will train until validation_0-auc hasn't improved in 500 rounds.\n",
      "[200]\tvalidation_0-auc:0.67521\n",
      "[400]\tvalidation_0-auc:0.68198\n",
      "[600]\tvalidation_0-auc:0.68357\n",
      "[800]\tvalidation_0-auc:0.68406\n",
      "[1000]\tvalidation_0-auc:0.68420\n",
      "[1200]\tvalidation_0-auc:0.68426\n",
      "Stopping. Best iteration:\n",
      "[728]\tvalidation_0-auc:0.68541\n",
      "\n",
      "[23:58:47] WARNING: ../src/learner.cc:516: \n",
      "Parameters: { metric } might not be used.\n",
      "\n",
      "  This may not be accurate due to some parameters are only used in language bindings but\n",
      "  passed down to XGBoost core.  Or some parameters are not used but slip through this\n",
      "  verification. Please open an issue if you find above cases.\n",
      "\n",
      "\n",
      "[0]\tvalidation_0-auc:0.60533\n"
     ]
    },
    {
     "name": "stdout",
     "output_type": "stream",
     "text": [
      "Will train until validation_0-auc hasn't improved in 500 rounds.\n",
      "[200]\tvalidation_0-auc:0.67963\n",
      "[400]\tvalidation_0-auc:0.68257\n",
      "[600]\tvalidation_0-auc:0.68768\n",
      "[800]\tvalidation_0-auc:0.68560\n",
      "[1000]\tvalidation_0-auc:0.68621\n",
      "Stopping. Best iteration:\n",
      "[626]\tvalidation_0-auc:0.68802\n",
      "\n",
      "[23:58:54] WARNING: ../src/learner.cc:516: \n",
      "Parameters: { metric } might not be used.\n",
      "\n",
      "  This may not be accurate due to some parameters are only used in language bindings but\n",
      "  passed down to XGBoost core.  Or some parameters are not used but slip through this\n",
      "  verification. Please open an issue if you find above cases.\n",
      "\n",
      "\n",
      "[0]\tvalidation_0-auc:0.61456\n",
      "Will train until validation_0-auc hasn't improved in 500 rounds.\n",
      "[200]\tvalidation_0-auc:0.70415\n",
      "[400]\tvalidation_0-auc:0.70798\n",
      "[600]\tvalidation_0-auc:0.70794\n",
      "Stopping. Best iteration:\n",
      "[299]\tvalidation_0-auc:0.70938\n",
      "\n",
      "[23:58:59] WARNING: ../src/learner.cc:516: \n",
      "Parameters: { metric } might not be used.\n",
      "\n",
      "  This may not be accurate due to some parameters are only used in language bindings but\n",
      "  passed down to XGBoost core.  Or some parameters are not used but slip through this\n",
      "  verification. Please open an issue if you find above cases.\n",
      "\n",
      "\n",
      "[0]\tvalidation_0-auc:0.59983\n",
      "Will train until validation_0-auc hasn't improved in 500 rounds.\n",
      "[200]\tvalidation_0-auc:0.69548\n",
      "[400]\tvalidation_0-auc:0.70898\n",
      "[600]\tvalidation_0-auc:0.71179\n",
      "[800]\tvalidation_0-auc:0.71065\n",
      "[1000]\tvalidation_0-auc:0.70896\n",
      "Stopping. Best iteration:\n",
      "[544]\tvalidation_0-auc:0.71229\n",
      "\n",
      "Full F&A score 0.699870\n",
      "Starting LightGBM. Train shape: (9398, 85), test shape: (4146, 85)\n",
      "[23:59:07] WARNING: ../src/learner.cc:516: \n",
      "Parameters: { metric } might not be used.\n",
      "\n",
      "  This may not be accurate due to some parameters are only used in language bindings but\n",
      "  passed down to XGBoost core.  Or some parameters are not used but slip through this\n",
      "  verification. Please open an issue if you find above cases.\n",
      "\n",
      "\n",
      "[0]\tvalidation_0-auc:0.61823\n",
      "Will train until validation_0-auc hasn't improved in 500 rounds.\n",
      "[200]\tvalidation_0-auc:0.70165\n",
      "[400]\tvalidation_0-auc:0.70991\n",
      "[600]\tvalidation_0-auc:0.71027\n",
      "[800]\tvalidation_0-auc:0.70923\n",
      "[1000]\tvalidation_0-auc:0.70706\n",
      "Stopping. Best iteration:\n",
      "[621]\tvalidation_0-auc:0.71079\n",
      "\n",
      "[23:59:14] WARNING: ../src/learner.cc:516: \n",
      "Parameters: { metric } might not be used.\n",
      "\n",
      "  This may not be accurate due to some parameters are only used in language bindings but\n",
      "  passed down to XGBoost core.  Or some parameters are not used but slip through this\n",
      "  verification. Please open an issue if you find above cases.\n",
      "\n",
      "\n",
      "[0]\tvalidation_0-auc:0.60728\n",
      "Will train until validation_0-auc hasn't improved in 500 rounds.\n",
      "[200]\tvalidation_0-auc:0.67620\n",
      "[400]\tvalidation_0-auc:0.68390\n",
      "[600]\tvalidation_0-auc:0.68402\n",
      "[800]\tvalidation_0-auc:0.68168\n",
      "Stopping. Best iteration:\n",
      "[474]\tvalidation_0-auc:0.68567\n",
      "\n",
      "[23:59:20] WARNING: ../src/learner.cc:516: \n",
      "Parameters: { metric } might not be used.\n",
      "\n",
      "  This may not be accurate due to some parameters are only used in language bindings but\n",
      "  passed down to XGBoost core.  Or some parameters are not used but slip through this\n",
      "  verification. Please open an issue if you find above cases.\n",
      "\n",
      "\n",
      "[0]\tvalidation_0-auc:0.60448\n",
      "Will train until validation_0-auc hasn't improved in 500 rounds.\n",
      "[200]\tvalidation_0-auc:0.68099\n",
      "[400]\tvalidation_0-auc:0.68288\n",
      "[600]\tvalidation_0-auc:0.68705\n",
      "[800]\tvalidation_0-auc:0.68581\n",
      "[1000]\tvalidation_0-auc:0.68601\n",
      "Stopping. Best iteration:\n",
      "[608]\tvalidation_0-auc:0.68746\n",
      "\n",
      "[23:59:28] WARNING: ../src/learner.cc:516: \n",
      "Parameters: { metric } might not be used.\n",
      "\n",
      "  This may not be accurate due to some parameters are only used in language bindings but\n",
      "  passed down to XGBoost core.  Or some parameters are not used but slip through this\n",
      "  verification. Please open an issue if you find above cases.\n",
      "\n",
      "\n",
      "[0]\tvalidation_0-auc:0.61456\n",
      "Will train until validation_0-auc hasn't improved in 500 rounds.\n",
      "[200]\tvalidation_0-auc:0.70483\n",
      "[400]\tvalidation_0-auc:0.70875\n",
      "[600]\tvalidation_0-auc:0.70702\n",
      "[800]\tvalidation_0-auc:0.70330\n",
      "Stopping. Best iteration:\n",
      "[353]\tvalidation_0-auc:0.71050\n",
      "\n",
      "[23:59:33] WARNING: ../src/learner.cc:516: \n",
      "Parameters: { metric } might not be used.\n",
      "\n",
      "  This may not be accurate due to some parameters are only used in language bindings but\n",
      "  passed down to XGBoost core.  Or some parameters are not used but slip through this\n",
      "  verification. Please open an issue if you find above cases.\n",
      "\n",
      "\n",
      "[0]\tvalidation_0-auc:0.59983\n",
      "Will train until validation_0-auc hasn't improved in 500 rounds.\n",
      "[200]\tvalidation_0-auc:0.69732\n",
      "[400]\tvalidation_0-auc:0.71288\n",
      "[600]\tvalidation_0-auc:0.71297\n",
      "[800]\tvalidation_0-auc:0.71151\n",
      "Stopping. Best iteration:\n",
      "[482]\tvalidation_0-auc:0.71528\n",
      "\n",
      "Full F&A score 0.700785\n",
      "Starting LightGBM. Train shape: (9398, 85), test shape: (4146, 85)\n",
      "[23:59:41] WARNING: ../src/learner.cc:516: \n",
      "Parameters: { metric } might not be used.\n",
      "\n",
      "  This may not be accurate due to some parameters are only used in language bindings but\n",
      "  passed down to XGBoost core.  Or some parameters are not used but slip through this\n",
      "  verification. Please open an issue if you find above cases.\n",
      "\n",
      "\n",
      "[0]\tvalidation_0-auc:0.58989\n",
      "Will train until validation_0-auc hasn't improved in 500 rounds.\n",
      "[200]\tvalidation_0-auc:0.69976\n",
      "[400]\tvalidation_0-auc:0.71089\n",
      "[600]\tvalidation_0-auc:0.71226\n",
      "[800]\tvalidation_0-auc:0.71033\n",
      "[1000]\tvalidation_0-auc:0.70885\n",
      "Stopping. Best iteration:\n",
      "[621]\tvalidation_0-auc:0.71255\n",
      "\n",
      "[23:59:48] WARNING: ../src/learner.cc:516: \n",
      "Parameters: { metric } might not be used.\n",
      "\n",
      "  This may not be accurate due to some parameters are only used in language bindings but\n",
      "  passed down to XGBoost core.  Or some parameters are not used but slip through this\n",
      "  verification. Please open an issue if you find above cases.\n",
      "\n",
      "\n",
      "[0]\tvalidation_0-auc:0.58802\n",
      "Will train until validation_0-auc hasn't improved in 500 rounds.\n",
      "[200]\tvalidation_0-auc:0.67381\n",
      "[400]\tvalidation_0-auc:0.68247\n",
      "[600]\tvalidation_0-auc:0.68568\n",
      "[800]\tvalidation_0-auc:0.68572\n",
      "[1000]\tvalidation_0-auc:0.68585\n",
      "[1200]\tvalidation_0-auc:0.68617\n",
      "Stopping. Best iteration:\n",
      "[728]\tvalidation_0-auc:0.68679\n",
      "\n",
      "[23:59:56] WARNING: ../src/learner.cc:516: \n",
      "Parameters: { metric } might not be used.\n",
      "\n",
      "  This may not be accurate due to some parameters are only used in language bindings but\n",
      "  passed down to XGBoost core.  Or some parameters are not used but slip through this\n",
      "  verification. Please open an issue if you find above cases.\n",
      "\n",
      "\n",
      "[0]\tvalidation_0-auc:0.60533\n",
      "Will train until validation_0-auc hasn't improved in 500 rounds.\n",
      "[200]\tvalidation_0-auc:0.68127\n",
      "[400]\tvalidation_0-auc:0.68292\n",
      "[600]\tvalidation_0-auc:0.68754\n",
      "[800]\tvalidation_0-auc:0.68747\n",
      "[1000]\tvalidation_0-auc:0.68841\n",
      "[1200]\tvalidation_0-auc:0.68855\n",
      "[1400]\tvalidation_0-auc:0.68925\n",
      "[1600]\tvalidation_0-auc:0.68889\n",
      "[1800]\tvalidation_0-auc:0.68993\n",
      "[2000]\tvalidation_0-auc:0.68946\n",
      "Stopping. Best iteration:\n",
      "[1501]\tvalidation_0-auc:0.69040\n",
      "\n",
      "[00:00:09] WARNING: ../src/learner.cc:516: \n",
      "Parameters: { metric } might not be used.\n",
      "\n",
      "  This may not be accurate due to some parameters are only used in language bindings but\n",
      "  passed down to XGBoost core.  Or some parameters are not used but slip through this\n",
      "  verification. Please open an issue if you find above cases.\n",
      "\n",
      "\n",
      "[0]\tvalidation_0-auc:0.61456\n",
      "Will train until validation_0-auc hasn't improved in 500 rounds.\n",
      "[200]\tvalidation_0-auc:0.70298\n",
      "[400]\tvalidation_0-auc:0.70700\n",
      "[600]\tvalidation_0-auc:0.70722\n",
      "[800]\tvalidation_0-auc:0.70549\n",
      "[1000]\tvalidation_0-auc:0.70419\n",
      "Stopping. Best iteration:\n",
      "[517]\tvalidation_0-auc:0.70805\n",
      "\n",
      "[00:00:15] WARNING: ../src/learner.cc:516: \n",
      "Parameters: { metric } might not be used.\n",
      "\n",
      "  This may not be accurate due to some parameters are only used in language bindings but\n",
      "  passed down to XGBoost core.  Or some parameters are not used but slip through this\n",
      "  verification. Please open an issue if you find above cases.\n",
      "\n",
      "\n",
      "[0]\tvalidation_0-auc:0.61180\n",
      "Will train until validation_0-auc hasn't improved in 500 rounds.\n",
      "[200]\tvalidation_0-auc:0.69565\n",
      "[400]\tvalidation_0-auc:0.70929\n",
      "[600]\tvalidation_0-auc:0.71036\n",
      "[800]\tvalidation_0-auc:0.70861\n",
      "[1000]\tvalidation_0-auc:0.70575\n",
      "Stopping. Best iteration:\n",
      "[513]\tvalidation_0-auc:0.71145\n",
      "\n",
      "Full F&A score 0.700306\n"
     ]
    },
    {
     "data": {
      "image/png": "[encoded data removed]",
      "text/plain": [
       "<Figure size 576x720 with 1 Axes>"
      ]
     },
     "metadata": {
      "needs_background": "light"
     },
     "output_type": "display_data"
    },
    {
     "data": {
      "image/png": "[encoded data removed]",
      "text/plain": [
       "<Figure size 576x720 with 1 Axes>"
      ]
     },
     "metadata": {
      "needs_background": "light"
     },
     "output_type": "display_data"
    },
    {
     "data": {
      "image/png": "[encoded data removed]",
      "text/plain": [
       "<Figure size 576x720 with 1 Axes>"
      ]
     },
     "metadata": {
      "needs_background": "light"
     },
     "output_type": "display_data"
    },
    {
     "data": {
      "image/png": "[encoded data removed]",
      "text/plain": [
       "<Figure size 576x720 with 1 Axes>"
      ]
     },
     "metadata": {
      "needs_background": "light"
     },
     "output_type": "display_data"
    },
    {
     "data": {
      "image/png": "[encoded data removed]",
      "text/plain": [
       "<Figure size 576x720 with 1 Axes>"
      ]
     },
     "metadata": {
      "needs_background": "light"
     },
     "output_type": "display_data"
    }
   ],
   "source": [
    "pred_5, oof_preds_5 = kfold_xgboost(train, 5, top_5_params)\n",
    "pred_4, oof_preds_4 = kfold_xgboost(train, 5, top_4_params)\n",
    "pred_3, oof_preds_3 = kfold_xgboost(train, 5, top_3_params)\n",
    "pred_2, oof_preds_2 = kfold_xgboost(train, 5, top_2_params)\n",
    "pred_1, oof_preds_1 = kfold_xgboost(train, 5, top_1_params)"
   ]
  },
  {
   "cell_type": "code",
   "execution_count": 117,
   "metadata": {},
   "outputs": [],
   "source": [
    "xgb_train = pd.DataFrame(data={\n",
    "    \"xgb_1\": oof_preds_1.tolist(),\n",
    "    \"xgb_2\": oof_preds_2.tolist(),\n",
    "    \"xgb_3\": oof_preds_3.tolist(),\n",
    "    \"xgb_4\": oof_preds_4.tolist(),\n",
    "    \"xgb_5\": oof_preds_5.tolist(),\n",
    "})\n",
    "xgb_test = pd.DataFrame(data={\n",
    "    \"xgb_1\": pred_1.tolist(),\n",
    "    \"xgb_2\": pred_2.tolist(),\n",
    "    \"xgb_3\": pred_3.tolist(),\n",
    "    \"xgb_4\": pred_4.tolist(),\n",
    "    \"xgb_5\": pred_5.tolist(),\n",
    "})"
   ]
  },
  {
   "cell_type": "code",
   "execution_count": 118,
   "metadata": {},
   "outputs": [],
   "source": [
    "xgb_train.to_csv('xgb_train.csv', index = False)\n",
    "xgb_test.to_csv('xgb_test.csv', index = False)"
   ]
  },
  {
   "cell_type": "code",
   "execution_count": null,
   "metadata": {},
   "outputs": [],
   "source": []
  }
 ],
 "metadata": {
  "kernelspec": {
   "display_name": "Python 3",
   "language": "python",
   "name": "python3"
  },
  "language_info": {
   "codemirror_mode": {
    "name": "ipython",
    "version": 3
   },
   "file_extension": ".py",
   "mimetype": "text/x-python",
   "name": "python",
   "nbconvert_exporter": "python",
   "pygments_lexer": "ipython3",
   "version": "3.6.8"
  }
 },
 "nbformat": 4,
 "nbformat_minor": 4
}
