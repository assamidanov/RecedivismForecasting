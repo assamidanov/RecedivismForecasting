{
 "cells": [
  {
   "cell_type": "code",
   "execution_count": 1,
   "metadata": {},
   "outputs": [],
   "source": [
    "import pandas as pd\n",
    "import numpy as np\n",
    "train = pd.read_csv('/SharedHDD/Code/ML/Recidivism Project/NIJ_s_Recidivism_Challenge_Training_Dataset.csv')\n",
    "train = train[(train['Recidivism_Arrest_Year1']==False) & (train['Recidivism_Arrest_Year2']==False)]\n",
    "test = pd.read_csv('/SharedHDD/Code/ML/Recidivism Project/NIJ_s_Recidivism_Challenge_Test_Dataset3.csv')\n",
    "train  = pd.concat([train[test.columns], train['Recidivism_Arrest_Year3']], axis =1)\n",
    "train = pd.concat([train,test]).reset_index(drop=True)\n",
    "\n",
    "\n",
    "for i in train.columns:\n",
    "    if train[i].dtypes == 'object':\n",
    "        train[i] = train[i].astype(str).str.replace(' or more', '').replace('nan', np.nan)\n",
    "\n",
    "\n",
    "int_variables = ['Prior_Arrest_Episodes_Felony', 'Prior_Arrest_Episodes_Misd', 'Prior_Arrest_Episodes_Violent', 'Prior_Arrest_Episodes_Property',\\\n",
    "'Prior_Arrest_Episodes_Drug', 'Prior_Arrest_Episodes_PPViolationCharges', 'Prior_Conviction_Episodes_Felony',\\\n",
    "'Prior_Conviction_Episodes_Misd', 'Prior_Conviction_Episodes_Prop', 'Prior_Conviction_Episodes_Drug', 'Delinquency_Reports',\\\n",
    "                'Program_Attendances', 'Program_UnexcusedAbsences','Residence_Changes']\n",
    "for i in int_variables:\n",
    "    train[i] = train[i].astype('int')\n",
    "    \n",
    "bool_variables = [i for i in train.columns if train[i].dtypes == 'bool']\n",
    "\n",
    "\n",
    "from sklearn.preprocessing import LabelEncoder\n",
    "labelencoder = LabelEncoder()\n",
    "nan_variables = ['Gang_Affiliated', 'Supervision_Risk_Score_First', 'Supervision_Level_First', 'Prison_Offense', \\\n",
    "                 'Recidivism_Arrest_Year3', 'Avg_Days_per_DrugTest', 'DrugTests_THC_Positive','DrugTests_Cocaine_Positive', \\\n",
    "                 'DrugTests_Meth_Positive', 'DrugTests_Other_Positive', 'Percent_Days_Employed', 'Jobs_Per_Year']\n",
    "cat_var = ['Gender', 'Race', 'Age_at_Release','Residence_PUMA', 'Education_Level', 'Dependents', 'Prison_Years']\n",
    "\n",
    "\n",
    "for i in cat_var + bool_variables:\n",
    "    train[i] = labelencoder.fit_transform(train[i])\n",
    "\n",
    "for i in nan_variables:\n",
    "    train[nan_variables] = train[nan_variables].replace('nan', np.nan)\n",
    "\n",
    "original = train[nan_variables]\n",
    "mask = train[nan_variables].isnull()\n",
    "\n",
    "for i in nan_variables:\n",
    "    if train[i].dtypes == 'object':\n",
    "        train[i] = labelencoder.fit_transform(train[i].astype('str'))\n",
    "\n",
    "train[nan_variables] = train[nan_variables].where(~mask, original)\n",
    "\n",
    "train[nan_variables] = train[nan_variables].astype('float')\n",
    "\n",
    "for i in cat_var:\n",
    "     train[i] = train[i].astype('category')\n",
    "train['Recidivism_Arrest_Year3'] = train['Recidivism_Arrest_Year3'].astype('float')"
   ]
  },
  {
   "cell_type": "code",
   "execution_count": 2,
   "metadata": {},
   "outputs": [
    {
     "name": "stdout",
     "output_type": "stream",
     "text": [
      "CPU times: user 992 ms, sys: 588 ms, total: 1.58 s\n",
      "Wall time: 2.54 s\n"
     ]
    }
   ],
   "source": [
    "%%time\n",
    "import warnings\n",
    "warnings.filterwarnings('ignore')\n",
    "import pandas as pd\n",
    "import numpy as np\n",
    "import os\n",
    "import random\n",
    "from optuna.samplers import TPESampler\n",
    "import multiprocessing\n",
    "import catboost as cat\n",
    "import optuna\n",
    "from sklearn.model_selection import train_test_split\n",
    "from sklearn.metrics import roc_auc_score\n",
    "import pickle\n",
    "from sklearn.utils import resample\n",
    "from catboost import Pool\n",
    "import sklearn.metrics"
   ]
  },
  {
   "cell_type": "code",
   "execution_count": 3,
   "metadata": {},
   "outputs": [
    {
     "name": "stdout",
     "output_type": "stream",
     "text": [
      "CPU times: user 6 µs, sys: 3 µs, total: 9 µs\n",
      "Wall time: 17.9 µs\n"
     ]
    }
   ],
   "source": [
    "%%time\n",
    "n_trials = int(100)\n",
    "SEED = 123"
   ]
  },
  {
   "cell_type": "code",
   "execution_count": 4,
   "metadata": {},
   "outputs": [],
   "source": [
    "train_df = train[train['Recidivism_Arrest_Year3'].notnull()]\n",
    "test_df = train[train['Recidivism_Arrest_Year3'].isnull()]\n",
    "feats = [f for f in train_df.columns if f not in ['Recidivism_Arrest_Year3','ID']]\n",
    "\n",
    "\n",
    "\n",
    "\n",
    "X = train_df[feats]\n",
    "y  = train_df['Recidivism_Arrest_Year3']"
   ]
  },
  {
   "cell_type": "code",
   "execution_count": 5,
   "metadata": {},
   "outputs": [],
   "source": [
    "cat_nums = [i for i in range(0,len(X.columns)) if (X.iloc[:,i].dtypes != 'int') & (X.iloc[:,i].dtypes != 'float')]"
   ]
  },
  {
   "cell_type": "code",
   "execution_count": 6,
   "metadata": {},
   "outputs": [],
   "source": [
    "nan_variables = [i for i in nan_variables if i!= 'Recidivism_Arrest_Year3']"
   ]
  },
  {
   "cell_type": "code",
   "execution_count": 7,
   "metadata": {},
   "outputs": [],
   "source": [
    "X.loc[:,nan_variables] = X.loc[:,nan_variables].astype(float)\n",
    "X.loc[:,nan_variables] = X.loc[:,nan_variables].fillna(-1)\n",
    "X.loc[:,nan_variables] = X.loc[:,nan_variables].astype(int)\n",
    "X.loc[:,nan_variables] = X.loc[:,nan_variables].astype(str)\n",
    "X.loc[:,nan_variables] = X.loc[:,nan_variables].replace('-1', 'nan')"
   ]
  },
  {
   "cell_type": "code",
   "execution_count": 10,
   "metadata": {},
   "outputs": [],
   "source": [
    "\n",
    "def objective(trial):\n",
    "    train_x, valid_x, train_y, valid_y = train_test_split(X,y, test_size=0.3)\n",
    "    \n",
    "    # Parameters\n",
    "    params = {                        \n",
    "        'depth' : trial.suggest_int('depth', 4, 10),                                       \n",
    "        'learning_rate' : trial.suggest_loguniform('learning_rate', 0.01, 0.3),               \n",
    "        'random_strength' :trial.suggest_int('random_strength', 0, 100),                       \n",
    "        #'bagging_temperature' :trial.suggest_loguniform('bagging_temperature', 0.01, 100.00),\n",
    "        'learning_rate' :trial.suggest_loguniform('learning_rate', 1e-3, 1e-1),\n",
    "        'od_type': trial.suggest_categorical('od_type', ['IncToDec', 'Iter']),\n",
    "        'eval_metric': 'Accuracy',\n",
    "        \"colsample_bylevel\": trial.suggest_float(\"colsample_bylevel\", 0.01, 0.1),\n",
    "        \"boosting_type\": trial.suggest_categorical(\"boosting_type\", [\"Ordered\", \"Plain\"]),\n",
    "        \"bootstrap_type\": trial.suggest_categorical(\n",
    "            \"bootstrap_type\", [\"Bayesian\", \"Bernoulli\", \"MVS\"]\n",
    "        ),\n",
    "        #\"used_ram_limit\": \"3gb\",\n",
    "    }\n",
    "\n",
    "    \n",
    "    if params[\"bootstrap_type\"] == \"Bayesian\":\n",
    "        params[\"bagging_temperature\"] = trial.suggest_float(\"bagging_temperature\", 0, 10)\n",
    "    elif params[\"bootstrap_type\"] == \"Bernoulli\":\n",
    "        params[\"subsample\"] = trial.suggest_float(\"subsample\", 0.1, 1)\n",
    "    # Learning\n",
    "    model = cat.CatBoostClassifier(\n",
    "        l2_leaf_reg=50,\n",
    "        random_seed=SEED,\n",
    "        border_count=64,\n",
    "        n_estimators = 4000,\n",
    "        **params\n",
    "    )        \n",
    "    model.fit(train_x, train_y, cat_features=cat_nums, eval_set=[(valid_x, valid_y)], verbose=200, early_stopping_rounds=500)\n",
    "    # Predict\n",
    "    \n",
    "    y_pred = model.predict_proba(valid_x)[:,1]\n",
    "    roc_auc = roc_auc_score(valid_y, y_pred)\n",
    "    return roc_auc"
   ]
  },
  {
   "cell_type": "code",
   "execution_count": 12,
   "metadata": {},
   "outputs": [
    {
     "name": "stderr",
     "output_type": "stream",
     "text": [
      "\u001b[32m[I 2021-08-25 16:03:27,116]\u001b[0m A new study created in memory with name: no-name-caa3313e-3a6d-4ad2-9ae9-41da722ef6e4\u001b[0m\n"
     ]
    },
    {
     "name": "stdout",
     "output_type": "stream",
     "text": [
      "0:\tlearn: 0.8113408\ttest: 0.8063830\tbest: 0.8063830 (0)\ttotal: 13.8ms\tremaining: 55s\n",
      "200:\tlearn: 0.8488902\ttest: 0.8067376\tbest: 0.8099291 (169)\ttotal: 731ms\tremaining: 13.8s\n",
      "400:\tlearn: 0.9198845\ttest: 0.8031915\tbest: 0.8099291 (169)\ttotal: 1.43s\tremaining: 12.9s\n",
      "600:\tlearn: 0.9613864\ttest: 0.8003546\tbest: 0.8099291 (169)\ttotal: 2.08s\tremaining: 11.8s\n"
     ]
    },
    {
     "name": "stderr",
     "output_type": "stream",
     "text": [
      "\u001b[32m[I 2021-08-25 16:03:29,598]\u001b[0m Trial 0 finished with value: 0.6392741246728346 and parameters: {'depth': 9, 'learning_rate': 0.1648902268411761, 'random_strength': 94, 'od_type': 'IncToDec', 'colsample_bylevel': 0.04045539169327829, 'boosting_type': 'Plain', 'bootstrap_type': 'Bayesian', 'bagging_temperature': 9.85621804419225}. Best is trial 0 with value: 0.6392741246728346.\u001b[0m\n"
     ]
    },
    {
     "name": "stdout",
     "output_type": "stream",
     "text": [
      "Stopped by overfitting detector  (500 iterations wait)\n",
      "\n",
      "bestTest = 0.809929078\n",
      "bestIteration = 169\n",
      "\n",
      "Shrink model to first 170 iterations.\n",
      "0:\tlearn: 0.8133171\ttest: 0.8003546\tbest: 0.8003546 (0)\ttotal: 2.97ms\tremaining: 11.9s\n",
      "200:\tlearn: 0.8165096\ttest: 0.8010638\tbest: 0.8010638 (191)\ttotal: 516ms\tremaining: 9.75s\n",
      "400:\tlearn: 0.8309517\ttest: 0.7968085\tbest: 0.8017730 (206)\ttotal: 1.24s\tremaining: 11.2s\n",
      "600:\tlearn: 0.8403770\ttest: 0.7964539\tbest: 0.8017730 (206)\ttotal: 1.9s\tremaining: 10.7s\n"
     ]
    },
    {
     "name": "stderr",
     "output_type": "stream",
     "text": [
      "\u001b[32m[I 2021-08-25 16:03:31,940]\u001b[0m Trial 1 finished with value: 0.6645093102886539 and parameters: {'depth': 10, 'learning_rate': 0.2395495078126601, 'random_strength': 37, 'od_type': 'Iter', 'colsample_bylevel': 0.020762325707282706, 'boosting_type': 'Ordered', 'bootstrap_type': 'MVS'}. Best is trial 1 with value: 0.6645093102886539.\u001b[0m\n"
     ]
    },
    {
     "name": "stdout",
     "output_type": "stream",
     "text": [
      "Stopped by overfitting detector  (500 iterations wait)\n",
      "\n",
      "bestTest = 0.8017730496\n",
      "bestIteration = 206\n",
      "\n",
      "Shrink model to first 207 iterations.\n",
      "0:\tlearn: 0.8131651\ttest: 0.8024823\tbest: 0.8024823 (0)\ttotal: 14.7ms\tremaining: 58.9s\n",
      "200:\tlearn: 0.8131651\ttest: 0.8028369\tbest: 0.8031915 (187)\ttotal: 2.25s\tremaining: 42.5s\n",
      "400:\tlearn: 0.8286713\ttest: 0.8024823\tbest: 0.8042553 (322)\ttotal: 6.28s\tremaining: 56.4s\n",
      "600:\tlearn: 0.8475220\ttest: 0.8014184\tbest: 0.8042553 (322)\ttotal: 10.2s\tremaining: 57.6s\n",
      "800:\tlearn: 0.8621161\ttest: 0.7989362\tbest: 0.8042553 (322)\ttotal: 14.3s\tremaining: 57s\n"
     ]
    },
    {
     "name": "stderr",
     "output_type": "stream",
     "text": [
      "\u001b[32m[I 2021-08-25 16:03:46,776]\u001b[0m Trial 2 finished with value: 0.6682594322371203 and parameters: {'depth': 9, 'learning_rate': 0.06856837540823599, 'random_strength': 70, 'od_type': 'IncToDec', 'colsample_bylevel': 0.09454686391598882, 'boosting_type': 'Ordered', 'bootstrap_type': 'MVS'}. Best is trial 2 with value: 0.6682594322371203.\u001b[0m\n"
     ]
    },
    {
     "name": "stdout",
     "output_type": "stream",
     "text": [
      "Stopped by overfitting detector  (500 iterations wait)\n",
      "\n",
      "bestTest = 0.8042553191\n",
      "bestIteration = 322\n",
      "\n",
      "Shrink model to first 323 iterations.\n",
      "0:\tlearn: 0.8107327\ttest: 0.8063830\tbest: 0.8063830 (0)\ttotal: 4.86ms\tremaining: 19.4s\n",
      "200:\tlearn: 0.8107327\ttest: 0.8063830\tbest: 0.8063830 (0)\ttotal: 712ms\tremaining: 13.5s\n",
      "400:\tlearn: 0.8107327\ttest: 0.8063830\tbest: 0.8063830 (0)\ttotal: 1.35s\tremaining: 12.1s\n"
     ]
    },
    {
     "name": "stderr",
     "output_type": "stream",
     "text": [
      "\u001b[32m[I 2021-08-25 16:03:48,579]\u001b[0m Trial 3 finished with value: 0.591492537073012 and parameters: {'depth': 4, 'learning_rate': 0.015605006708060466, 'random_strength': 1, 'od_type': 'IncToDec', 'colsample_bylevel': 0.07220156133856241, 'boosting_type': 'Ordered', 'bootstrap_type': 'Bayesian', 'bagging_temperature': 5.374048825483414}. Best is trial 2 with value: 0.6682594322371203.\u001b[0m\n"
     ]
    },
    {
     "name": "stdout",
     "output_type": "stream",
     "text": [
      "Stopped by overfitting detector  (500 iterations wait)\n",
      "\n",
      "bestTest = 0.8063829787\n",
      "bestIteration = 0\n",
      "\n",
      "Shrink model to first 1 iterations.\n",
      "0:\tlearn: 0.8101247\ttest: 0.8078014\tbest: 0.8078014 (0)\ttotal: 2.87ms\tremaining: 11.5s\n",
      "200:\tlearn: 0.8108848\ttest: 0.8078014\tbest: 0.8081560 (194)\ttotal: 979ms\tremaining: 18.5s\n",
      "400:\tlearn: 0.8192460\ttest: 0.8092199\tbest: 0.8095745 (381)\ttotal: 2.13s\tremaining: 19.1s\n",
      "600:\tlearn: 0.8311037\ttest: 0.8070922\tbest: 0.8102837 (403)\ttotal: 3.32s\tremaining: 18.8s\n",
      "800:\tlearn: 0.8402250\ttest: 0.8056738\tbest: 0.8102837 (403)\ttotal: 4.46s\tremaining: 17.8s\n"
     ]
    },
    {
     "name": "stderr",
     "output_type": "stream",
     "text": [
      "\u001b[32m[I 2021-08-25 16:03:53,847]\u001b[0m Trial 4 finished with value: 0.6795847655579277 and parameters: {'depth': 7, 'learning_rate': 0.06563492865841733, 'random_strength': 64, 'od_type': 'Iter', 'colsample_bylevel': 0.06606154267083032, 'boosting_type': 'Ordered', 'bootstrap_type': 'MVS'}. Best is trial 4 with value: 0.6795847655579277.\u001b[0m\n"
     ]
    },
    {
     "name": "stdout",
     "output_type": "stream",
     "text": [
      "Stopped by overfitting detector  (500 iterations wait)\n",
      "\n",
      "bestTest = 0.8102836879\n",
      "bestIteration = 403\n",
      "\n",
      "Shrink model to first 404 iterations.\n",
      "0:\tlearn: 0.8060201\ttest: 0.8173759\tbest: 0.8173759 (0)\ttotal: 3.7ms\tremaining: 14.8s\n",
      "200:\tlearn: 0.9300699\ttest: 0.8109929\tbest: 0.8173759 (0)\ttotal: 1.42s\tremaining: 26.8s\n",
      "400:\tlearn: 0.9957434\ttest: 0.8099291\tbest: 0.8173759 (0)\ttotal: 2.93s\tremaining: 26.3s\n"
     ]
    },
    {
     "name": "stderr",
     "output_type": "stream",
     "text": [
      "\u001b[32m[I 2021-08-25 16:03:57,722]\u001b[0m Trial 5 finished with value: 0.5403314870585262 and parameters: {'depth': 10, 'learning_rate': 0.1781270794945021, 'random_strength': 14, 'od_type': 'Iter', 'colsample_bylevel': 0.08162807180045173, 'boosting_type': 'Plain', 'bootstrap_type': 'Bernoulli', 'subsample': 0.812388901750588}. Best is trial 4 with value: 0.6795847655579277.\u001b[0m\n"
     ]
    },
    {
     "name": "stdout",
     "output_type": "stream",
     "text": [
      "Stopped by overfitting detector  (500 iterations wait)\n",
      "\n",
      "bestTest = 0.8173758865\n",
      "bestIteration = 0\n",
      "\n",
      "Shrink model to first 1 iterations.\n",
      "0:\tlearn: 0.8075403\ttest: 0.8138298\tbest: 0.8138298 (0)\ttotal: 4.75ms\tremaining: 19s\n",
      "200:\tlearn: 0.8075403\ttest: 0.8138298\tbest: 0.8138298 (0)\ttotal: 646ms\tremaining: 12.2s\n",
      "400:\tlearn: 0.8075403\ttest: 0.8138298\tbest: 0.8138298 (0)\ttotal: 1.26s\tremaining: 11.4s\n"
     ]
    },
    {
     "name": "stderr",
     "output_type": "stream",
     "text": [
      "\u001b[32m[I 2021-08-25 16:03:59,468]\u001b[0m Trial 6 finished with value: 0.5591152609191825 and parameters: {'depth': 4, 'learning_rate': 0.02596625640791654, 'random_strength': 79, 'od_type': 'Iter', 'colsample_bylevel': 0.07439700602545131, 'boosting_type': 'Ordered', 'bootstrap_type': 'MVS'}. Best is trial 4 with value: 0.6795847655579277.\u001b[0m\n"
     ]
    },
    {
     "name": "stdout",
     "output_type": "stream",
     "text": [
      "Stopped by overfitting detector  (500 iterations wait)\n",
      "\n",
      "bestTest = 0.8138297872\n",
      "bestIteration = 0\n",
      "\n",
      "Shrink model to first 1 iterations.\n",
      "0:\tlearn: 0.8034357\ttest: 0.8234043\tbest: 0.8234043 (0)\ttotal: 2.7ms\tremaining: 10.8s\n",
      "200:\tlearn: 0.8136212\ttest: 0.8237589\tbest: 0.8241135 (150)\ttotal: 497ms\tremaining: 9.4s\n",
      "400:\tlearn: 0.8376406\ttest: 0.8209220\tbest: 0.8241135 (150)\ttotal: 1.05s\tremaining: 9.41s\n"
     ]
    },
    {
     "name": "stderr",
     "output_type": "stream",
     "text": [
      "\u001b[32m[I 2021-08-25 16:04:01,240]\u001b[0m Trial 7 finished with value: 0.6649120167145759 and parameters: {'depth': 7, 'learning_rate': 0.13819095856092267, 'random_strength': 67, 'od_type': 'IncToDec', 'colsample_bylevel': 0.03259831472369065, 'boosting_type': 'Plain', 'bootstrap_type': 'Bayesian', 'bagging_temperature': 6.693350747686361}. Best is trial 4 with value: 0.6795847655579277.\u001b[0m\n"
     ]
    },
    {
     "name": "stdout",
     "output_type": "stream",
     "text": [
      "600:\tlearn: 0.8578595\ttest: 0.8184397\tbest: 0.8241135 (150)\ttotal: 1.52s\tremaining: 8.63s\n",
      "Stopped by overfitting detector  (500 iterations wait)\n",
      "\n",
      "bestTest = 0.8241134752\n",
      "bestIteration = 150\n",
      "\n",
      "Shrink model to first 151 iterations.\n",
      "0:\tlearn: 0.8089085\ttest: 0.8109929\tbest: 0.8109929 (0)\ttotal: 12.1ms\tremaining: 48.2s\n",
      "200:\tlearn: 0.8394649\ttest: 0.8056738\tbest: 0.8120567 (77)\ttotal: 687ms\tremaining: 13s\n",
      "400:\tlearn: 0.8961690\ttest: 0.8017730\tbest: 0.8120567 (77)\ttotal: 1.42s\tremaining: 12.8s\n"
     ]
    },
    {
     "name": "stderr",
     "output_type": "stream",
     "text": [
      "\u001b[32m[I 2021-08-25 16:04:03,405]\u001b[0m Trial 8 finished with value: 0.6756198465755133 and parameters: {'depth': 6, 'learning_rate': 0.19337586471751958, 'random_strength': 42, 'od_type': 'Iter', 'colsample_bylevel': 0.08153962261735195, 'boosting_type': 'Plain', 'bootstrap_type': 'MVS'}. Best is trial 4 with value: 0.6795847655579277.\u001b[0m\n"
     ]
    },
    {
     "name": "stdout",
     "output_type": "stream",
     "text": [
      "Stopped by overfitting detector  (500 iterations wait)\n",
      "\n",
      "bestTest = 0.8120567376\n",
      "bestIteration = 77\n",
      "\n",
      "Shrink model to first 78 iterations.\n",
      "0:\tlearn: 0.8099726\ttest: 0.8092199\tbest: 0.8092199 (0)\ttotal: 33ms\tremaining: 2m 11s\n",
      "200:\tlearn: 0.8052600\ttest: 0.8191489\tbest: 0.8191489 (2)\ttotal: 3.48s\tremaining: 1m 5s\n",
      "400:\tlearn: 0.8063241\ttest: 0.8191489\tbest: 0.8191489 (2)\ttotal: 6.48s\tremaining: 58.2s\n"
     ]
    },
    {
     "name": "stderr",
     "output_type": "stream",
     "text": [
      "\u001b[32m[I 2021-08-25 16:04:11,705]\u001b[0m Trial 9 finished with value: 0.6187645361174773 and parameters: {'depth': 9, 'learning_rate': 0.024305780844462846, 'random_strength': 15, 'od_type': 'Iter', 'colsample_bylevel': 0.07347902765999782, 'boosting_type': 'Ordered', 'bootstrap_type': 'Bayesian', 'bagging_temperature': 6.1211072452090844}. Best is trial 4 with value: 0.6795847655579277.\u001b[0m\n"
     ]
    },
    {
     "name": "stdout",
     "output_type": "stream",
     "text": [
      "Stopped by overfitting detector  (500 iterations wait)\n",
      "\n",
      "bestTest = 0.8191489362\n",
      "bestIteration = 2\n",
      "\n",
      "Shrink model to first 3 iterations.\n",
      "0:\tlearn: 0.8067802\ttest: 0.8156028\tbest: 0.8156028 (0)\ttotal: 3.94ms\tremaining: 15.8s\n",
      "200:\tlearn: 0.8067802\ttest: 0.8156028\tbest: 0.8156028 (0)\ttotal: 707ms\tremaining: 13.4s\n",
      "400:\tlearn: 0.8117969\ttest: 0.8141844\tbest: 0.8163121 (260)\ttotal: 1.49s\tremaining: 13.4s\n",
      "600:\tlearn: 0.8178778\ttest: 0.8138298\tbest: 0.8163121 (260)\ttotal: 2.29s\tremaining: 13s\n"
     ]
    },
    {
     "name": "stderr",
     "output_type": "stream",
     "text": [
      "\u001b[32m[I 2021-08-25 16:04:14,825]\u001b[0m Trial 10 finished with value: 0.6856153846153847 and parameters: {'depth': 6, 'learning_rate': 0.06635933240226112, 'random_strength': 97, 'od_type': 'Iter', 'colsample_bylevel': 0.05293550394470139, 'boosting_type': 'Ordered', 'bootstrap_type': 'Bernoulli', 'subsample': 0.15081724157518023}. Best is trial 10 with value: 0.6856153846153847.\u001b[0m\n"
     ]
    },
    {
     "name": "stdout",
     "output_type": "stream",
     "text": [
      "Stopped by overfitting detector  (500 iterations wait)\n",
      "\n",
      "bestTest = 0.8163120567\n",
      "bestIteration = 260\n",
      "\n",
      "Shrink model to first 261 iterations.\n",
      "0:\tlearn: 0.8087565\ttest: 0.8113475\tbest: 0.8113475 (0)\ttotal: 5.56ms\tremaining: 22.2s\n",
      "200:\tlearn: 0.8090605\ttest: 0.8109929\tbest: 0.8113475 (0)\ttotal: 691ms\tremaining: 13.1s\n",
      "400:\tlearn: 0.8125570\ttest: 0.8117021\tbest: 0.8120567 (372)\ttotal: 1.46s\tremaining: 13.1s\n",
      "600:\tlearn: 0.8209182\ttest: 0.8127660\tbest: 0.8131206 (553)\ttotal: 2.25s\tremaining: 12.7s\n",
      "800:\tlearn: 0.8329279\ttest: 0.8117021\tbest: 0.8138298 (698)\ttotal: 3.05s\tremaining: 12.2s\n",
      "1000:\tlearn: 0.8415932\ttest: 0.8099291\tbest: 0.8138298 (698)\ttotal: 3.87s\tremaining: 11.6s\n"
     ]
    },
    {
     "name": "stderr",
     "output_type": "stream",
     "text": [
      "\u001b[32m[I 2021-08-25 16:04:19,710]\u001b[0m Trial 11 finished with value: 0.6601367382617382 and parameters: {'depth': 6, 'learning_rate': 0.07046870410509527, 'random_strength': 98, 'od_type': 'Iter', 'colsample_bylevel': 0.055010147609373984, 'boosting_type': 'Ordered', 'bootstrap_type': 'Bernoulli', 'subsample': 0.11210223553880644}. Best is trial 10 with value: 0.6856153846153847.\u001b[0m\n"
     ]
    },
    {
     "name": "stdout",
     "output_type": "stream",
     "text": [
      "Stopped by overfitting detector  (500 iterations wait)\n",
      "\n",
      "bestTest = 0.8138297872\n",
      "bestIteration = 698\n",
      "\n",
      "Shrink model to first 699 iterations.\n",
      "0:\tlearn: 0.8107327\ttest: 0.8063830\tbest: 0.8063830 (0)\ttotal: 4.01ms\tremaining: 16s\n",
      "200:\tlearn: 0.8107327\ttest: 0.8063830\tbest: 0.8063830 (0)\ttotal: 784ms\tremaining: 14.8s\n",
      "400:\tlearn: 0.8113408\ttest: 0.8063830\tbest: 0.8063830 (0)\ttotal: 1.67s\tremaining: 15s\n"
     ]
    },
    {
     "name": "stderr",
     "output_type": "stream",
     "text": [
      "\u001b[32m[I 2021-08-25 16:04:22,042]\u001b[0m Trial 12 finished with value: 0.5459059410246745 and parameters: {'depth': 7, 'learning_rate': 0.04403257242238583, 'random_strength': 57, 'od_type': 'Iter', 'colsample_bylevel': 0.05364263953861764, 'boosting_type': 'Ordered', 'bootstrap_type': 'Bernoulli', 'subsample': 0.1375503686240762}. Best is trial 10 with value: 0.6856153846153847.\u001b[0m\n"
     ]
    },
    {
     "name": "stdout",
     "output_type": "stream",
     "text": [
      "Stopped by overfitting detector  (500 iterations wait)\n",
      "\n",
      "bestTest = 0.8063829787\n",
      "bestIteration = 0\n",
      "\n",
      "Shrink model to first 1 iterations.\n",
      "0:\tlearn: 0.8107327\ttest: 0.8060284\tbest: 0.8060284 (0)\ttotal: 6.1ms\tremaining: 24.4s\n",
      "200:\tlearn: 0.8122530\ttest: 0.8078014\tbest: 0.8078014 (167)\ttotal: 763ms\tremaining: 14.4s\n",
      "400:\tlearn: 0.8204621\ttest: 0.8056738\tbest: 0.8085106 (303)\ttotal: 1.59s\tremaining: 14.2s\n",
      "600:\tlearn: 0.8311037\ttest: 0.8039007\tbest: 0.8085106 (303)\ttotal: 2.43s\tremaining: 13.8s\n"
     ]
    },
    {
     "name": "stderr",
     "output_type": "stream",
     "text": [
      "\u001b[32m[I 2021-08-25 16:04:25,509]\u001b[0m Trial 13 finished with value: 0.6891985100279128 and parameters: {'depth': 6, 'learning_rate': 0.09636712275998431, 'random_strength': 86, 'od_type': 'Iter', 'colsample_bylevel': 0.05478990171144061, 'boosting_type': 'Ordered', 'bootstrap_type': 'Bernoulli', 'subsample': 0.445066838996252}. Best is trial 13 with value: 0.6891985100279128.\u001b[0m\n"
     ]
    },
    {
     "name": "stdout",
     "output_type": "stream",
     "text": [
      "800:\tlearn: 0.8456978\ttest: 0.8035461\tbest: 0.8085106 (303)\ttotal: 3.29s\tremaining: 13.2s\n",
      "Stopped by overfitting detector  (500 iterations wait)\n",
      "\n",
      "bestTest = 0.8085106383\n",
      "bestIteration = 303\n",
      "\n",
      "Shrink model to first 304 iterations.\n",
      "0:\tlearn: 0.8105807\ttest: 0.8067376\tbest: 0.8067376 (0)\ttotal: 3.57ms\tremaining: 14.3s\n",
      "200:\tlearn: 0.8116449\ttest: 0.8060284\tbest: 0.8067376 (0)\ttotal: 663ms\tremaining: 12.5s\n",
      "400:\tlearn: 0.8204621\ttest: 0.8060284\tbest: 0.8067376 (0)\ttotal: 1.31s\tremaining: 11.8s\n"
     ]
    },
    {
     "name": "stderr",
     "output_type": "stream",
     "text": [
      "\u001b[32m[I 2021-08-25 16:04:27,293]\u001b[0m Trial 14 finished with value: 0.5459364855328158 and parameters: {'depth': 5, 'learning_rate': 0.10575547019513316, 'random_strength': 87, 'od_type': 'Iter', 'colsample_bylevel': 0.047638329711917816, 'boosting_type': 'Ordered', 'bootstrap_type': 'Bernoulli', 'subsample': 0.4167770973648519}. Best is trial 13 with value: 0.6891985100279128.\u001b[0m\n"
     ]
    },
    {
     "name": "stdout",
     "output_type": "stream",
     "text": [
      "Stopped by overfitting detector  (500 iterations wait)\n",
      "\n",
      "bestTest = 0.8067375887\n",
      "bestIteration = 0\n",
      "\n",
      "Shrink model to first 1 iterations.\n",
      "0:\tlearn: 0.8111888\ttest: 0.8053191\tbest: 0.8053191 (0)\ttotal: 2.75ms\tremaining: 11s\n",
      "200:\tlearn: 0.8111888\ttest: 0.8053191\tbest: 0.8053191 (0)\ttotal: 496ms\tremaining: 9.38s\n",
      "400:\tlearn: 0.8114929\ttest: 0.8053191\tbest: 0.8053191 (0)\ttotal: 1.03s\tremaining: 9.25s\n"
     ]
    },
    {
     "name": "stderr",
     "output_type": "stream",
     "text": [
      "\u001b[32m[I 2021-08-25 16:04:28,734]\u001b[0m Trial 15 finished with value: 0.541774043354917 and parameters: {'depth': 6, 'learning_rate': 0.04145872275553715, 'random_strength': 99, 'od_type': 'Iter', 'colsample_bylevel': 0.027520784850006235, 'boosting_type': 'Ordered', 'bootstrap_type': 'Bernoulli', 'subsample': 0.43203410599919356}. Best is trial 13 with value: 0.6891985100279128.\u001b[0m\n"
     ]
    },
    {
     "name": "stdout",
     "output_type": "stream",
     "text": [
      "Stopped by overfitting detector  (500 iterations wait)\n",
      "\n",
      "bestTest = 0.8053191489\n",
      "bestIteration = 0\n",
      "\n",
      "Shrink model to first 1 iterations.\n",
      "0:\tlearn: 0.8105807\ttest: 0.8067376\tbest: 0.8067376 (0)\ttotal: 2.15ms\tremaining: 8.62s\n",
      "200:\tlearn: 0.8105807\ttest: 0.8067376\tbest: 0.8067376 (0)\ttotal: 382ms\tremaining: 7.22s\n",
      "400:\tlearn: 0.8105807\ttest: 0.8067376\tbest: 0.8067376 (0)\ttotal: 763ms\tremaining: 6.85s\n",
      "Stopped by overfitting detector  (500 iterations wait)\n",
      "\n",
      "bestTest = 0.8067375887\n",
      "bestIteration = 0\n",
      "\n",
      "Shrink model to first 1 iterations.\n"
     ]
    },
    {
     "name": "stderr",
     "output_type": "stream",
     "text": [
      "\u001b[32m[I 2021-08-25 16:04:29,812]\u001b[0m Trial 16 finished with value: 0.5 and parameters: {'depth': 5, 'learning_rate': 0.10575446882900894, 'random_strength': 85, 'od_type': 'Iter', 'colsample_bylevel': 0.010782090420905173, 'boosting_type': 'Ordered', 'bootstrap_type': 'Bernoulli', 'subsample': 0.681703300555697}. Best is trial 13 with value: 0.6891985100279128.\u001b[0m\n"
     ]
    },
    {
     "name": "stdout",
     "output_type": "stream",
     "text": [
      "0:\tlearn: 0.8101247\ttest: 0.8078014\tbest: 0.8078014 (0)\ttotal: 3.77ms\tremaining: 15.1s\n",
      "200:\tlearn: 0.8628763\ttest: 0.7996454\tbest: 0.8085106 (23)\ttotal: 1.49s\tremaining: 28.1s\n",
      "400:\tlearn: 0.9224688\ttest: 0.7921986\tbest: 0.8085106 (23)\ttotal: 3.06s\tremaining: 27.5s\n"
     ]
    },
    {
     "name": "stderr",
     "output_type": "stream",
     "text": [
      "\u001b[32m[I 2021-08-25 16:04:33,961]\u001b[0m Trial 17 finished with value: 0.6497275398566101 and parameters: {'depth': 8, 'learning_rate': 0.2889827158713912, 'random_strength': 78, 'od_type': 'Iter', 'colsample_bylevel': 0.0591954193086223, 'boosting_type': 'Ordered', 'bootstrap_type': 'Bernoulli', 'subsample': 0.28766911031417464}. Best is trial 13 with value: 0.6891985100279128.\u001b[0m\n"
     ]
    },
    {
     "name": "stdout",
     "output_type": "stream",
     "text": [
      "Stopped by overfitting detector  (500 iterations wait)\n",
      "\n",
      "bestTest = 0.8085106383\n",
      "bestIteration = 23\n",
      "\n",
      "Shrink model to first 24 iterations.\n",
      "0:\tlearn: 0.8043478\ttest: 0.8212766\tbest: 0.8212766 (0)\ttotal: 4.45ms\tremaining: 17.8s\n",
      "200:\tlearn: 0.8067802\ttest: 0.8216312\tbest: 0.8219858 (156)\ttotal: 572ms\tremaining: 10.8s\n",
      "400:\tlearn: 0.8105807\ttest: 0.8202128\tbest: 0.8219858 (156)\ttotal: 1.19s\tremaining: 10.7s\n",
      "600:\tlearn: 0.8154454\ttest: 0.8173759\tbest: 0.8219858 (156)\ttotal: 1.81s\tremaining: 10.3s\n",
      "Stopped by overfitting detector  (500 iterations wait)\n",
      "\n",
      "bestTest = 0.8219858156\n",
      "bestIteration = 156\n",
      "\n",
      "Shrink model to first 157 iterations.\n"
     ]
    },
    {
     "name": "stderr",
     "output_type": "stream",
     "text": [
      "\u001b[32m[I 2021-08-25 16:04:36,095]\u001b[0m Trial 18 finished with value: 0.6701011939030075 and parameters: {'depth': 5, 'learning_rate': 0.09543614230102275, 'random_strength': 99, 'od_type': 'Iter', 'colsample_bylevel': 0.042713149154510896, 'boosting_type': 'Ordered', 'bootstrap_type': 'Bernoulli', 'subsample': 0.6079064044551099}. Best is trial 13 with value: 0.6891985100279128.\u001b[0m\n"
     ]
    },
    {
     "name": "stdout",
     "output_type": "stream",
     "text": [
      "0:\tlearn: 0.8101247\ttest: 0.8081560\tbest: 0.8081560 (0)\ttotal: 5.79ms\tremaining: 23.1s\n",
      "200:\tlearn: 0.8099726\ttest: 0.8081560\tbest: 0.8081560 (0)\ttotal: 751ms\tremaining: 14.2s\n",
      "400:\tlearn: 0.8105807\ttest: 0.8081560\tbest: 0.8081560 (0)\ttotal: 1.49s\tremaining: 13.4s\n",
      "600:\tlearn: 0.8121009\ttest: 0.8074468\tbest: 0.8085106 (426)\ttotal: 2.38s\tremaining: 13.4s\n",
      "800:\tlearn: 0.8152934\ttest: 0.8063830\tbest: 0.8085106 (426)\ttotal: 3.33s\tremaining: 13.3s\n"
     ]
    },
    {
     "name": "stderr",
     "output_type": "stream",
     "text": [
      "\u001b[32m[I 2021-08-25 16:04:40,206]\u001b[0m Trial 19 finished with value: 0.656959508945698 and parameters: {'depth': 6, 'learning_rate': 0.03569780948369701, 'random_strength': 53, 'od_type': 'Iter', 'colsample_bylevel': 0.06106299600502256, 'boosting_type': 'Ordered', 'bootstrap_type': 'Bernoulli', 'subsample': 0.2695619431305381}. Best is trial 13 with value: 0.6891985100279128.\u001b[0m\n"
     ]
    },
    {
     "name": "stdout",
     "output_type": "stream",
     "text": [
      "Stopped by overfitting detector  (500 iterations wait)\n",
      "\n",
      "bestTest = 0.8085106383\n",
      "bestIteration = 426\n",
      "\n",
      "Shrink model to first 427 iterations.\n",
      "0:\tlearn: 0.8095166\ttest: 0.8113475\tbest: 0.8113475 (0)\ttotal: 11.9ms\tremaining: 47.7s\n",
      "200:\tlearn: 0.8086044\ttest: 0.8113475\tbest: 0.8113475 (0)\ttotal: 1.66s\tremaining: 31.3s\n",
      "400:\tlearn: 0.8171177\ttest: 0.8109929\tbest: 0.8117021 (249)\ttotal: 3.52s\tremaining: 31.6s\n",
      "600:\tlearn: 0.8288234\ttest: 0.8095745\tbest: 0.8117021 (249)\ttotal: 6.05s\tremaining: 34.2s\n"
     ]
    },
    {
     "name": "stderr",
     "output_type": "stream",
     "text": [
      "\u001b[32m[I 2021-08-25 16:04:48,321]\u001b[0m Trial 20 finished with value: 0.6759383708396867 and parameters: {'depth': 8, 'learning_rate': 0.0522865066493811, 'random_strength': 88, 'od_type': 'IncToDec', 'colsample_bylevel': 0.09691344164859789, 'boosting_type': 'Ordered', 'bootstrap_type': 'Bernoulli', 'subsample': 0.9333444348636866}. Best is trial 13 with value: 0.6891985100279128.\u001b[0m\n"
     ]
    },
    {
     "name": "stdout",
     "output_type": "stream",
     "text": [
      "Stopped by overfitting detector  (500 iterations wait)\n",
      "\n",
      "bestTest = 0.8117021277\n",
      "bestIteration = 249\n",
      "\n",
      "Shrink model to first 250 iterations.\n",
      "0:\tlearn: 0.8090605\ttest: 0.8102837\tbest: 0.8102837 (0)\ttotal: 2.95ms\tremaining: 11.8s\n",
      "200:\tlearn: 0.8092125\ttest: 0.8106383\tbest: 0.8106383 (198)\ttotal: 975ms\tremaining: 18.4s\n",
      "400:\tlearn: 0.8189419\ttest: 0.8106383\tbest: 0.8124113 (287)\ttotal: 2.14s\tremaining: 19.2s\n",
      "600:\tlearn: 0.8289754\ttest: 0.8106383\tbest: 0.8124113 (287)\ttotal: 3.31s\tremaining: 18.7s\n"
     ]
    },
    {
     "name": "stderr",
     "output_type": "stream",
     "text": [
      "\u001b[32m[I 2021-08-25 16:04:52,917]\u001b[0m Trial 21 finished with value: 0.6844917073968793 and parameters: {'depth': 7, 'learning_rate': 0.07389432016019348, 'random_strength': 65, 'od_type': 'Iter', 'colsample_bylevel': 0.06371754005755456, 'boosting_type': 'Ordered', 'bootstrap_type': 'MVS'}. Best is trial 13 with value: 0.6891985100279128.\u001b[0m\n"
     ]
    },
    {
     "name": "stdout",
     "output_type": "stream",
     "text": [
      "Stopped by overfitting detector  (500 iterations wait)\n",
      "\n",
      "bestTest = 0.8124113475\n",
      "bestIteration = 287\n",
      "\n",
      "Shrink model to first 288 iterations.\n",
      "0:\tlearn: 0.8066282\ttest: 0.8159574\tbest: 0.8159574 (0)\ttotal: 3.12ms\tremaining: 12.5s\n",
      "200:\tlearn: 0.8093645\ttest: 0.8152482\tbest: 0.8159574 (0)\ttotal: 1.17s\tremaining: 22s\n",
      "400:\tlearn: 0.8216783\ttest: 0.8124113\tbest: 0.8159574 (0)\ttotal: 2.58s\tremaining: 23.1s\n"
     ]
    },
    {
     "name": "stderr",
     "output_type": "stream",
     "text": [
      "\u001b[32m[I 2021-08-25 16:04:56,227]\u001b[0m Trial 22 finished with value: 0.5569254885410464 and parameters: {'depth': 8, 'learning_rate': 0.09138525392807233, 'random_strength': 73, 'od_type': 'Iter', 'colsample_bylevel': 0.049628219384354626, 'boosting_type': 'Ordered', 'bootstrap_type': 'MVS'}. Best is trial 13 with value: 0.6891985100279128.\u001b[0m\n"
     ]
    },
    {
     "name": "stdout",
     "output_type": "stream",
     "text": [
      "Stopped by overfitting detector  (500 iterations wait)\n",
      "\n",
      "bestTest = 0.8159574468\n",
      "bestIteration = 0\n",
      "\n",
      "Shrink model to first 1 iterations.\n",
      "0:\tlearn: 0.8089085\ttest: 0.8106383\tbest: 0.8106383 (0)\ttotal: 3.35ms\tremaining: 13.4s\n",
      "200:\tlearn: 0.8146853\ttest: 0.8095745\tbest: 0.8117021 (130)\ttotal: 864ms\tremaining: 16.3s\n",
      "400:\tlearn: 0.8318638\ttest: 0.8106383\tbest: 0.8117021 (130)\ttotal: 1.82s\tremaining: 16.3s\n"
     ]
    },
    {
     "name": "stderr",
     "output_type": "stream",
     "text": [
      "\u001b[32m[I 2021-08-25 16:04:59,227]\u001b[0m Trial 23 finished with value: 0.6756998305923371 and parameters: {'depth': 6, 'learning_rate': 0.13393627567915942, 'random_strength': 44, 'od_type': 'Iter', 'colsample_bylevel': 0.06437329689588585, 'boosting_type': 'Ordered', 'bootstrap_type': 'MVS'}. Best is trial 13 with value: 0.6891985100279128.\u001b[0m\n"
     ]
    },
    {
     "name": "stdout",
     "output_type": "stream",
     "text": [
      "600:\tlearn: 0.8487382\ttest: 0.8078014\tbest: 0.8117021 (130)\ttotal: 2.72s\tremaining: 15.4s\n",
      "Stopped by overfitting detector  (500 iterations wait)\n",
      "\n",
      "bestTest = 0.8117021277\n",
      "bestIteration = 130\n",
      "\n",
      "Shrink model to first 131 iterations.\n",
      "0:\tlearn: 0.8114929\ttest: 0.8046099\tbest: 0.8046099 (0)\ttotal: 4.36ms\tremaining: 17.4s\n",
      "200:\tlearn: 0.8119489\ttest: 0.8042553\tbest: 0.8046099 (0)\ttotal: 562ms\tremaining: 10.6s\n",
      "400:\tlearn: 0.8157495\ttest: 0.8042553\tbest: 0.8049645 (296)\ttotal: 1.12s\tremaining: 10.1s\n",
      "600:\tlearn: 0.8219824\ttest: 0.8035461\tbest: 0.8049645 (296)\ttotal: 1.7s\tremaining: 9.63s\n",
      "800:\tlearn: 0.8253268\ttest: 0.8021277\tbest: 0.8053191 (670)\ttotal: 2.29s\tremaining: 9.14s\n",
      "1000:\tlearn: 0.8307996\ttest: 0.8010638\tbest: 0.8053191 (670)\ttotal: 2.85s\tremaining: 8.53s\n"
     ]
    },
    {
     "name": "stderr",
     "output_type": "stream",
     "text": [
      "\u001b[32m[I 2021-08-25 16:05:02,736]\u001b[0m Trial 24 finished with value: 0.6553163885687228 and parameters: {'depth': 5, 'learning_rate': 0.07943749765907253, 'random_strength': 62, 'od_type': 'Iter', 'colsample_bylevel': 0.039966724192482594, 'boosting_type': 'Ordered', 'bootstrap_type': 'Bernoulli', 'subsample': 0.45291505614203026}. Best is trial 13 with value: 0.6891985100279128.\u001b[0m\n"
     ]
    },
    {
     "name": "stdout",
     "output_type": "stream",
     "text": [
      "Stopped by overfitting detector  (500 iterations wait)\n",
      "\n",
      "bestTest = 0.8053191489\n",
      "bestIteration = 670\n",
      "\n",
      "Shrink model to first 671 iterations.\n",
      "0:\tlearn: 0.8114929\ttest: 0.8049645\tbest: 0.8049645 (0)\ttotal: 9.75ms\tremaining: 39s\n",
      "200:\tlearn: 0.8110368\ttest: 0.8056738\tbest: 0.8056738 (1)\ttotal: 871ms\tremaining: 16.5s\n",
      "400:\tlearn: 0.8160535\ttest: 0.8067376\tbest: 0.8067376 (360)\ttotal: 1.9s\tremaining: 17s\n",
      "600:\tlearn: 0.8280632\ttest: 0.8046099\tbest: 0.8070922 (459)\ttotal: 3.11s\tremaining: 17.6s\n",
      "800:\tlearn: 0.8399209\ttest: 0.8035461\tbest: 0.8070922 (459)\ttotal: 4.28s\tremaining: 17.1s\n"
     ]
    },
    {
     "name": "stderr",
     "output_type": "stream",
     "text": [
      "\u001b[32m[I 2021-08-25 16:05:08,198]\u001b[0m Trial 25 finished with value: 0.6537416790891333 and parameters: {'depth': 7, 'learning_rate': 0.05506653789797236, 'random_strength': 81, 'od_type': 'Iter', 'colsample_bylevel': 0.06722138840455277, 'boosting_type': 'Ordered', 'bootstrap_type': 'Bernoulli', 'subsample': 0.24083375386773723}. Best is trial 13 with value: 0.6891985100279128.\u001b[0m\n"
     ]
    },
    {
     "name": "stdout",
     "output_type": "stream",
     "text": [
      "Stopped by overfitting detector  (500 iterations wait)\n",
      "\n",
      "bestTest = 0.8070921986\n",
      "bestIteration = 459\n",
      "\n",
      "Shrink model to first 460 iterations.\n",
      "0:\tlearn: 0.8086044\ttest: 0.8113475\tbest: 0.8113475 (0)\ttotal: 2.85ms\tremaining: 11.4s\n",
      "200:\tlearn: 0.8086044\ttest: 0.8113475\tbest: 0.8113475 (0)\ttotal: 837ms\tremaining: 15.8s\n",
      "400:\tlearn: 0.8087565\ttest: 0.8113475\tbest: 0.8113475 (0)\ttotal: 1.77s\tremaining: 15.9s\n"
     ]
    },
    {
     "name": "stderr",
     "output_type": "stream",
     "text": [
      "\u001b[32m[I 2021-08-25 16:05:10,616]\u001b[0m Trial 26 finished with value: 0.5 and parameters: {'depth': 6, 'learning_rate': 0.03419814037999142, 'random_strength': 90, 'od_type': 'Iter', 'colsample_bylevel': 0.08497184785853582, 'boosting_type': 'Ordered', 'bootstrap_type': 'MVS'}. Best is trial 13 with value: 0.6891985100279128.\u001b[0m\n"
     ]
    },
    {
     "name": "stdout",
     "output_type": "stream",
     "text": [
      "Stopped by overfitting detector  (500 iterations wait)\n",
      "\n",
      "bestTest = 0.8113475177\n",
      "bestIteration = 0\n",
      "\n",
      "Shrink model to first 1 iterations.\n",
      "0:\tlearn: 0.8125570\ttest: 0.8021277\tbest: 0.8021277 (0)\ttotal: 4.38ms\tremaining: 17.5s\n",
      "200:\tlearn: 0.8127090\ttest: 0.8021277\tbest: 0.8021277 (0)\ttotal: 594ms\tremaining: 11.2s\n",
      "400:\tlearn: 0.8218303\ttest: 0.8028369\tbest: 0.8031915 (366)\ttotal: 1.24s\tremaining: 11.2s\n",
      "600:\tlearn: 0.8508665\ttest: 0.8028369\tbest: 0.8039007 (461)\ttotal: 1.93s\tremaining: 10.9s\n",
      "800:\tlearn: 0.8846154\ttest: 0.8031915\tbest: 0.8039007 (461)\ttotal: 2.62s\tremaining: 10.4s\n"
     ]
    },
    {
     "name": "stderr",
     "output_type": "stream",
     "text": [
      "\u001b[32m[I 2021-08-25 16:05:14,048]\u001b[0m Trial 27 finished with value: 0.664738281534722 and parameters: {'depth': 8, 'learning_rate': 0.05324336361940728, 'random_strength': 75, 'od_type': 'Iter', 'colsample_bylevel': 0.05637534586855373, 'boosting_type': 'Plain', 'bootstrap_type': 'Bernoulli', 'subsample': 0.10783397577180381}. Best is trial 13 with value: 0.6891985100279128.\u001b[0m\n"
     ]
    },
    {
     "name": "stdout",
     "output_type": "stream",
     "text": [
      "Stopped by overfitting detector  (500 iterations wait)\n",
      "\n",
      "bestTest = 0.8039007092\n",
      "bestIteration = 461\n",
      "\n",
      "Shrink model to first 462 iterations.\n",
      "0:\tlearn: 0.8093645\ttest: 0.8095745\tbest: 0.8095745 (0)\ttotal: 2.92ms\tremaining: 11.7s\n",
      "200:\tlearn: 0.8127090\ttest: 0.8088652\tbest: 0.8106383 (135)\ttotal: 906ms\tremaining: 17.1s\n",
      "400:\tlearn: 0.8291274\ttest: 0.8081560\tbest: 0.8106383 (135)\ttotal: 1.95s\tremaining: 17.5s\n",
      "600:\tlearn: 0.8447856\ttest: 0.8053191\tbest: 0.8106383 (135)\ttotal: 2.85s\tremaining: 16.1s\n",
      "Stopped by overfitting detector  (500 iterations wait)\n",
      "\n",
      "bestTest = 0.8106382979\n",
      "bestIteration = 135\n",
      "\n",
      "Shrink model to first 136 iterations.\n"
     ]
    },
    {
     "name": "stderr",
     "output_type": "stream",
     "text": [
      "\u001b[32m[I 2021-08-25 16:05:17,199]\u001b[0m Trial 28 finished with value: 0.6840838812663594 and parameters: {'depth': 7, 'learning_rate': 0.12287711321026173, 'random_strength': 32, 'od_type': 'Iter', 'colsample_bylevel': 0.04863201298715872, 'boosting_type': 'Ordered', 'bootstrap_type': 'MVS'}. Best is trial 13 with value: 0.6891985100279128.\u001b[0m\n"
     ]
    },
    {
     "name": "stdout",
     "output_type": "stream",
     "text": [
      "0:\tlearn: 0.8125570\ttest: 0.8021277\tbest: 0.8021277 (0)\ttotal: 2.97ms\tremaining: 11.9s\n",
      "200:\tlearn: 0.8127090\ttest: 0.8021277\tbest: 0.8021277 (0)\ttotal: 467ms\tremaining: 8.83s\n",
      "400:\tlearn: 0.8155974\ttest: 0.8031915\tbest: 0.8031915 (328)\ttotal: 947ms\tremaining: 8.5s\n",
      "600:\tlearn: 0.8212223\ttest: 0.8021277\tbest: 0.8031915 (328)\ttotal: 1.46s\tremaining: 8.28s\n"
     ]
    },
    {
     "name": "stderr",
     "output_type": "stream",
     "text": [
      "\u001b[32m[I 2021-08-25 16:05:19,341]\u001b[0m Trial 29 finished with value: 0.6647501655844259 and parameters: {'depth': 5, 'learning_rate': 0.08231781131360813, 'random_strength': 94, 'od_type': 'IncToDec', 'colsample_bylevel': 0.037555613397928844, 'boosting_type': 'Plain', 'bootstrap_type': 'Bayesian', 'bagging_temperature': 2.0389765131409234}. Best is trial 13 with value: 0.6891985100279128.\u001b[0m\n"
     ]
    },
    {
     "name": "stdout",
     "output_type": "stream",
     "text": [
      "800:\tlearn: 0.8283673\ttest: 0.8017730\tbest: 0.8031915 (328)\ttotal: 1.93s\tremaining: 7.71s\n",
      "Stopped by overfitting detector  (500 iterations wait)\n",
      "\n",
      "bestTest = 0.8031914894\n",
      "bestIteration = 328\n",
      "\n",
      "Shrink model to first 329 iterations.\n",
      "0:\tlearn: 0.8159015\ttest: 0.7943262\tbest: 0.7943262 (0)\ttotal: 6.35ms\tremaining: 25.4s\n",
      "200:\tlearn: 0.8159015\ttest: 0.7943262\tbest: 0.7943262 (0)\ttotal: 674ms\tremaining: 12.7s\n",
      "400:\tlearn: 0.8159015\ttest: 0.7943262\tbest: 0.7943262 (0)\ttotal: 1.31s\tremaining: 11.8s\n"
     ]
    },
    {
     "name": "stderr",
     "output_type": "stream",
     "text": [
      "\u001b[32m[I 2021-08-25 16:05:21,127]\u001b[0m Trial 30 finished with value: 0.5745039254926109 and parameters: {'depth': 6, 'learning_rate': 0.025652327414710723, 'random_strength': 56, 'od_type': 'Iter', 'colsample_bylevel': 0.04336118658507697, 'boosting_type': 'Ordered', 'bootstrap_type': 'Bernoulli', 'subsample': 0.5250491749919116}. Best is trial 13 with value: 0.6891985100279128.\u001b[0m\n"
     ]
    },
    {
     "name": "stdout",
     "output_type": "stream",
     "text": [
      "Stopped by overfitting detector  (500 iterations wait)\n",
      "\n",
      "bestTest = 0.7943262411\n",
      "bestIteration = 0\n",
      "\n",
      "Shrink model to first 1 iterations.\n",
      "0:\tlearn: 0.8089085\ttest: 0.8106383\tbest: 0.8106383 (0)\ttotal: 3ms\tremaining: 12s\n",
      "200:\tlearn: 0.8169656\ttest: 0.8102837\tbest: 0.8124113 (171)\ttotal: 979ms\tremaining: 18.5s\n",
      "400:\tlearn: 0.8390088\ttest: 0.8095745\tbest: 0.8124113 (171)\ttotal: 2s\tremaining: 18s\n",
      "600:\tlearn: 0.8537549\ttest: 0.8085106\tbest: 0.8124113 (171)\ttotal: 3s\tremaining: 17s\n"
     ]
    },
    {
     "name": "stderr",
     "output_type": "stream",
     "text": [
      "\u001b[32m[I 2021-08-25 16:05:24,632]\u001b[0m Trial 31 finished with value: 0.6674440741723764 and parameters: {'depth': 7, 'learning_rate': 0.1304214442313311, 'random_strength': 33, 'od_type': 'Iter', 'colsample_bylevel': 0.0491051320122215, 'boosting_type': 'Ordered', 'bootstrap_type': 'MVS'}. Best is trial 13 with value: 0.6891985100279128.\u001b[0m\n"
     ]
    },
    {
     "name": "stdout",
     "output_type": "stream",
     "text": [
      "Stopped by overfitting detector  (500 iterations wait)\n",
      "\n",
      "bestTest = 0.8124113475\n",
      "bestIteration = 171\n",
      "\n",
      "Shrink model to first 172 iterations.\n",
      "0:\tlearn: 0.8127090\ttest: 0.8017730\tbest: 0.8017730 (0)\ttotal: 3.22ms\tremaining: 12.9s\n",
      "200:\tlearn: 0.8175737\ttest: 0.8010638\tbest: 0.8031915 (135)\ttotal: 878ms\tremaining: 16.6s\n",
      "400:\tlearn: 0.8391608\ttest: 0.8003546\tbest: 0.8031915 (135)\ttotal: 2.05s\tremaining: 18.4s\n",
      "600:\tlearn: 0.8540590\ttest: 0.7950355\tbest: 0.8031915 (135)\ttotal: 3.08s\tremaining: 17.4s\n",
      "Stopped by overfitting detector  (500 iterations wait)\n",
      "\n",
      "bestTest = 0.8031914894\n",
      "bestIteration = 135\n",
      "\n",
      "Shrink model to first 136 iterations.\n"
     ]
    },
    {
     "name": "stderr",
     "output_type": "stream",
     "text": [
      "\u001b[32m[I 2021-08-25 16:05:28,064]\u001b[0m Trial 32 finished with value: 0.6736867423741928 and parameters: {'depth': 7, 'learning_rate': 0.12106929854609215, 'random_strength': 29, 'od_type': 'Iter', 'colsample_bylevel': 0.05155578073009396, 'boosting_type': 'Ordered', 'bootstrap_type': 'MVS'}. Best is trial 13 with value: 0.6891985100279128.\u001b[0m\n"
     ]
    },
    {
     "name": "stdout",
     "output_type": "stream",
     "text": [
      "0:\tlearn: 0.8063241\ttest: 0.8166667\tbest: 0.8166667 (0)\ttotal: 3.47ms\tremaining: 13.9s\n",
      "200:\tlearn: 0.8379447\ttest: 0.8095745\tbest: 0.8166667 (0)\ttotal: 1.67s\tremaining: 31.6s\n",
      "400:\tlearn: 0.8695652\ttest: 0.8035461\tbest: 0.8166667 (0)\ttotal: 3.27s\tremaining: 29.3s\n"
     ]
    },
    {
     "name": "stderr",
     "output_type": "stream",
     "text": [
      "\u001b[32m[I 2021-08-25 16:05:32,193]\u001b[0m Trial 33 finished with value: 0.5706785615600206 and parameters: {'depth': 8, 'learning_rate': 0.21847878121676498, 'random_strength': 19, 'od_type': 'Iter', 'colsample_bylevel': 0.0599542631703289, 'boosting_type': 'Ordered', 'bootstrap_type': 'MVS'}. Best is trial 13 with value: 0.6891985100279128.\u001b[0m\n"
     ]
    },
    {
     "name": "stdout",
     "output_type": "stream",
     "text": [
      "Stopped by overfitting detector  (500 iterations wait)\n",
      "\n",
      "bestTest = 0.8166666667\n",
      "bestIteration = 0\n",
      "\n",
      "Shrink model to first 1 iterations.\n",
      "0:\tlearn: 0.8101247\ttest: 0.8078014\tbest: 0.8078014 (0)\ttotal: 3.38ms\tremaining: 13.5s\n",
      "200:\tlearn: 0.8102767\ttest: 0.8074468\tbest: 0.8078014 (0)\ttotal: 699ms\tremaining: 13.2s\n",
      "400:\tlearn: 0.8149894\ttest: 0.8049645\tbest: 0.8078014 (0)\ttotal: 1.56s\tremaining: 14s\n"
     ]
    },
    {
     "name": "stderr",
     "output_type": "stream",
     "text": [
      "\u001b[32m[I 2021-08-25 16:05:34,322]\u001b[0m Trial 34 finished with value: 0.566823198960699 and parameters: {'depth': 7, 'learning_rate': 0.06317199750521287, 'random_strength': 25, 'od_type': 'Iter', 'colsample_bylevel': 0.03579504463814524, 'boosting_type': 'Ordered', 'bootstrap_type': 'MVS'}. Best is trial 13 with value: 0.6891985100279128.\u001b[0m\n"
     ]
    },
    {
     "name": "stdout",
     "output_type": "stream",
     "text": [
      "Stopped by overfitting detector  (500 iterations wait)\n",
      "\n",
      "bestTest = 0.8078014184\n",
      "bestIteration = 0\n",
      "\n",
      "Shrink model to first 1 iterations.\n",
      "0:\tlearn: 0.8107327\ttest: 0.8063830\tbest: 0.8063830 (0)\ttotal: 7.79ms\tremaining: 31.1s\n",
      "200:\tlearn: 0.8121009\ttest: 0.8070922\tbest: 0.8070922 (196)\ttotal: 864ms\tremaining: 16.3s\n",
      "400:\tlearn: 0.8172697\ttest: 0.8063830\tbest: 0.8074468 (214)\ttotal: 1.89s\tremaining: 17s\n",
      "600:\tlearn: 0.8259349\ttest: 0.8049645\tbest: 0.8074468 (214)\ttotal: 2.86s\tremaining: 16.2s\n"
     ]
    },
    {
     "name": "stderr",
     "output_type": "stream",
     "text": [
      "\u001b[32m[I 2021-08-25 16:05:37,916]\u001b[0m Trial 35 finished with value: 0.6740526262728097 and parameters: {'depth': 6, 'learning_rate': 0.07863107864249175, 'random_strength': 46, 'od_type': 'Iter', 'colsample_bylevel': 0.06890398987409854, 'boosting_type': 'Ordered', 'bootstrap_type': 'MVS'}. Best is trial 13 with value: 0.6891985100279128.\u001b[0m\n"
     ]
    },
    {
     "name": "stdout",
     "output_type": "stream",
     "text": [
      "Stopped by overfitting detector  (500 iterations wait)\n",
      "\n",
      "bestTest = 0.8074468085\n",
      "bestIteration = 214\n",
      "\n",
      "Shrink model to first 215 iterations.\n",
      "0:\tlearn: 0.8101247\ttest: 0.8078014\tbest: 0.8078014 (0)\ttotal: 3.06ms\tremaining: 12.2s\n",
      "200:\tlearn: 0.8356643\ttest: 0.8003546\tbest: 0.8109929 (83)\ttotal: 910ms\tremaining: 17.2s\n",
      "400:\tlearn: 0.8732137\ttest: 0.7968085\tbest: 0.8109929 (83)\ttotal: 1.82s\tremaining: 16.3s\n"
     ]
    },
    {
     "name": "stderr",
     "output_type": "stream",
     "text": [
      "\u001b[32m[I 2021-08-25 16:05:40,690]\u001b[0m Trial 36 finished with value: 0.67194713430892 and parameters: {'depth': 7, 'learning_rate': 0.2772411613672369, 'random_strength': 40, 'od_type': 'IncToDec', 'colsample_bylevel': 0.046597881853492853, 'boosting_type': 'Ordered', 'bootstrap_type': 'MVS'}. Best is trial 13 with value: 0.6891985100279128.\u001b[0m\n"
     ]
    },
    {
     "name": "stdout",
     "output_type": "stream",
     "text": [
      "Stopped by overfitting detector  (500 iterations wait)\n",
      "\n",
      "bestTest = 0.8109929078\n",
      "bestIteration = 83\n",
      "\n",
      "Shrink model to first 84 iterations.\n",
      "0:\tlearn: 0.8052600\ttest: 0.8191489\tbest: 0.8191489 (0)\ttotal: 3ms\tremaining: 12s\n",
      "200:\tlearn: 0.8069322\ttest: 0.8177305\tbest: 0.8191489 (0)\ttotal: 489ms\tremaining: 9.24s\n",
      "400:\tlearn: 0.8090605\ttest: 0.8163121\tbest: 0.8191489 (0)\ttotal: 983ms\tremaining: 8.82s\n"
     ]
    },
    {
     "name": "stderr",
     "output_type": "stream",
     "text": [
      "\u001b[32m[I 2021-08-25 16:05:42,064]\u001b[0m Trial 37 finished with value: 0.5373457261692556 and parameters: {'depth': 4, 'learning_rate': 0.1622593779624749, 'random_strength': 8, 'od_type': 'Iter', 'colsample_bylevel': 0.023281441483712608, 'boosting_type': 'Ordered', 'bootstrap_type': 'MVS'}. Best is trial 13 with value: 0.6891985100279128.\u001b[0m\n"
     ]
    },
    {
     "name": "stdout",
     "output_type": "stream",
     "text": [
      "Stopped by overfitting detector  (500 iterations wait)\n",
      "\n",
      "bestTest = 0.8191489362\n",
      "bestIteration = 0\n",
      "\n",
      "Shrink model to first 1 iterations.\n",
      "0:\tlearn: 0.8095166\ttest: 0.8092199\tbest: 0.8092199 (0)\ttotal: 2.96ms\tremaining: 11.9s\n",
      "200:\tlearn: 0.8291274\ttest: 0.8067376\tbest: 0.8092199 (0)\ttotal: 2.34s\tremaining: 44.3s\n",
      "400:\tlearn: 0.8826391\ttest: 0.8028369\tbest: 0.8092199 (0)\ttotal: 5.33s\tremaining: 47.8s\n"
     ]
    },
    {
     "name": "stderr",
     "output_type": "stream",
     "text": [
      "\u001b[32m[I 2021-08-25 16:05:49,019]\u001b[0m Trial 38 finished with value: 0.5514027674152654 and parameters: {'depth': 9, 'learning_rate': 0.15399328673440785, 'random_strength': 49, 'od_type': 'Iter', 'colsample_bylevel': 0.061527191157006, 'boosting_type': 'Ordered', 'bootstrap_type': 'Bayesian', 'bagging_temperature': 0.6282009984538437}. Best is trial 13 with value: 0.6891985100279128.\u001b[0m\n"
     ]
    },
    {
     "name": "stdout",
     "output_type": "stream",
     "text": [
      "Stopped by overfitting detector  (500 iterations wait)\n",
      "\n",
      "bestTest = 0.8092198582\n",
      "bestIteration = 0\n",
      "\n",
      "Shrink model to first 1 iterations.\n",
      "0:\tlearn: 0.8078443\ttest: 0.8131206\tbest: 0.8131206 (0)\ttotal: 4.54ms\tremaining: 18.2s\n",
      "200:\tlearn: 0.8165096\ttest: 0.8124113\tbest: 0.8141844 (164)\ttotal: 659ms\tremaining: 12.4s\n",
      "400:\tlearn: 0.8453937\ttest: 0.8120567\tbest: 0.8141844 (164)\ttotal: 1.33s\tremaining: 11.9s\n",
      "600:\tlearn: 0.8713895\ttest: 0.8085106\tbest: 0.8141844 (164)\ttotal: 2s\tremaining: 11.3s\n"
     ]
    },
    {
     "name": "stderr",
     "output_type": "stream",
     "text": [
      "\u001b[32m[I 2021-08-25 16:05:51,391]\u001b[0m Trial 39 finished with value: 0.6788551246223345 and parameters: {'depth': 6, 'learning_rate': 0.11178946155388388, 'random_strength': 68, 'od_type': 'Iter', 'colsample_bylevel': 0.07761000522292304, 'boosting_type': 'Plain', 'bootstrap_type': 'MVS'}. Best is trial 13 with value: 0.6891985100279128.\u001b[0m\n"
     ]
    },
    {
     "name": "stdout",
     "output_type": "stream",
     "text": [
      "Stopped by overfitting detector  (500 iterations wait)\n",
      "\n",
      "bestTest = 0.8141843972\n",
      "bestIteration = 164\n",
      "\n",
      "Shrink model to first 165 iterations.\n",
      "0:\tlearn: 0.8134691\ttest: 0.8000000\tbest: 0.8000000 (0)\ttotal: 3.61ms\tremaining: 14.4s\n",
      "200:\tlearn: 0.8134691\ttest: 0.8000000\tbest: 0.8000000 (0)\ttotal: 697ms\tremaining: 13.2s\n",
      "400:\tlearn: 0.8163576\ttest: 0.7985816\tbest: 0.8000000 (0)\ttotal: 1.5s\tremaining: 13.5s\n"
     ]
    },
    {
     "name": "stderr",
     "output_type": "stream",
     "text": [
      "\u001b[32m[I 2021-08-25 16:05:53,495]\u001b[0m Trial 40 finished with value: 0.5591755319148936 and parameters: {'depth': 8, 'learning_rate': 0.06196428054993662, 'random_strength': 93, 'od_type': 'IncToDec', 'colsample_bylevel': 0.03197513414899657, 'boosting_type': 'Ordered', 'bootstrap_type': 'MVS'}. Best is trial 13 with value: 0.6891985100279128.\u001b[0m\n"
     ]
    },
    {
     "name": "stdout",
     "output_type": "stream",
     "text": [
      "Stopped by overfitting detector  (500 iterations wait)\n",
      "\n",
      "bestTest = 0.8\n",
      "bestIteration = 0\n",
      "\n",
      "Shrink model to first 1 iterations.\n",
      "0:\tlearn: 0.8067802\ttest: 0.8156028\tbest: 0.8156028 (0)\ttotal: 2.65ms\tremaining: 10.6s\n",
      "200:\tlearn: 0.8076923\ttest: 0.8163121\tbest: 0.8163121 (195)\ttotal: 972ms\tremaining: 18.4s\n",
      "400:\tlearn: 0.8155974\ttest: 0.8166667\tbest: 0.8170213 (352)\ttotal: 2.13s\tremaining: 19.1s\n",
      "600:\tlearn: 0.8230465\ttest: 0.8159574\tbest: 0.8170213 (352)\ttotal: 3.32s\tremaining: 18.8s\n",
      "800:\tlearn: 0.8318638\ttest: 0.8141844\tbest: 0.8170213 (352)\ttotal: 4.46s\tremaining: 17.8s\n"
     ]
    },
    {
     "name": "stderr",
     "output_type": "stream",
     "text": [
      "\u001b[32m[I 2021-08-25 16:05:58,450]\u001b[0m Trial 41 finished with value: 0.6837132107023411 and parameters: {'depth': 7, 'learning_rate': 0.06914059428664972, 'random_strength': 61, 'od_type': 'Iter', 'colsample_bylevel': 0.06626848647549416, 'boosting_type': 'Ordered', 'bootstrap_type': 'MVS'}. Best is trial 13 with value: 0.6891985100279128.\u001b[0m\n"
     ]
    },
    {
     "name": "stdout",
     "output_type": "stream",
     "text": [
      "Stopped by overfitting detector  (500 iterations wait)\n",
      "\n",
      "bestTest = 0.8170212766\n",
      "bestIteration = 352\n",
      "\n",
      "Shrink model to first 353 iterations.\n",
      "0:\tlearn: 0.8090605\ttest: 0.8106383\tbest: 0.8106383 (0)\ttotal: 8.44ms\tremaining: 33.7s\n",
      "200:\tlearn: 0.8095166\ttest: 0.8099291\tbest: 0.8113475 (154)\ttotal: 1.07s\tremaining: 20.2s\n",
      "400:\tlearn: 0.8244147\ttest: 0.8102837\tbest: 0.8117021 (374)\ttotal: 2.37s\tremaining: 21.3s\n",
      "600:\tlearn: 0.8432654\ttest: 0.8099291\tbest: 0.8117021 (374)\ttotal: 3.57s\tremaining: 20.2s\n",
      "800:\tlearn: 0.8592277\ttest: 0.8085106\tbest: 0.8117021 (374)\ttotal: 4.9s\tremaining: 19.6s\n"
     ]
    },
    {
     "name": "stderr",
     "output_type": "stream",
     "text": [
      "\u001b[32m[I 2021-08-25 16:06:03,988]\u001b[0m Trial 42 finished with value: 0.6796150195533774 and parameters: {'depth': 7, 'learning_rate': 0.09100893218727286, 'random_strength': 56, 'od_type': 'Iter', 'colsample_bylevel': 0.07051839367104246, 'boosting_type': 'Ordered', 'bootstrap_type': 'MVS'}. Best is trial 13 with value: 0.6891985100279128.\u001b[0m\n"
     ]
    },
    {
     "name": "stdout",
     "output_type": "stream",
     "text": [
      "Stopped by overfitting detector  (500 iterations wait)\n",
      "\n",
      "bestTest = 0.8117021277\n",
      "bestIteration = 374\n",
      "\n",
      "Shrink model to first 375 iterations.\n",
      "0:\tlearn: 0.8060201\ttest: 0.8173759\tbest: 0.8173759 (0)\ttotal: 3.56ms\tremaining: 14.3s\n",
      "200:\tlearn: 0.8061721\ttest: 0.8173759\tbest: 0.8173759 (0)\ttotal: 889ms\tremaining: 16.8s\n",
      "400:\tlearn: 0.8143813\ttest: 0.8166667\tbest: 0.8184397 (287)\ttotal: 2.04s\tremaining: 18.3s\n",
      "600:\tlearn: 0.8273031\ttest: 0.8177305\tbest: 0.8184397 (287)\ttotal: 3.21s\tremaining: 18.1s\n"
     ]
    },
    {
     "name": "stderr",
     "output_type": "stream",
     "text": [
      "\u001b[32m[I 2021-08-25 16:06:08,405]\u001b[0m Trial 43 finished with value: 0.682225638649622 and parameters: {'depth': 7, 'learning_rate': 0.07352449433684927, 'random_strength': 62, 'od_type': 'Iter', 'colsample_bylevel': 0.057218196694101255, 'boosting_type': 'Ordered', 'bootstrap_type': 'MVS'}. Best is trial 13 with value: 0.6891985100279128.\u001b[0m\n"
     ]
    },
    {
     "name": "stdout",
     "output_type": "stream",
     "text": [
      "Stopped by overfitting detector  (500 iterations wait)\n",
      "\n",
      "bestTest = 0.8184397163\n",
      "bestIteration = 287\n",
      "\n",
      "Shrink model to first 288 iterations.\n",
      "0:\tlearn: 0.8086044\ttest: 0.8113475\tbest: 0.8113475 (0)\ttotal: 3.32ms\tremaining: 13.3s\n",
      "200:\tlearn: 0.8086044\ttest: 0.8113475\tbest: 0.8113475 (0)\ttotal: 792ms\tremaining: 15s\n",
      "400:\tlearn: 0.8119489\ttest: 0.8113475\tbest: 0.8117021 (382)\ttotal: 1.66s\tremaining: 14.9s\n",
      "600:\tlearn: 0.8175737\ttest: 0.8106383\tbest: 0.8117021 (382)\ttotal: 2.64s\tremaining: 14.9s\n",
      "800:\tlearn: 0.8233506\ttest: 0.8113475\tbest: 0.8117021 (382)\ttotal: 3.54s\tremaining: 14.1s\n"
     ]
    },
    {
     "name": "stderr",
     "output_type": "stream",
     "text": [
      "\u001b[32m[I 2021-08-25 16:06:12,461]\u001b[0m Trial 44 finished with value: 0.6685239103002261 and parameters: {'depth': 6, 'learning_rate': 0.044937008890203155, 'random_strength': 71, 'od_type': 'Iter', 'colsample_bylevel': 0.06476639538458698, 'boosting_type': 'Ordered', 'bootstrap_type': 'MVS'}. Best is trial 13 with value: 0.6891985100279128.\u001b[0m\n"
     ]
    },
    {
     "name": "stdout",
     "output_type": "stream",
     "text": [
      "Stopped by overfitting detector  (500 iterations wait)\n",
      "\n",
      "bestTest = 0.8117021277\n",
      "bestIteration = 382\n",
      "\n",
      "Shrink model to first 383 iterations.\n",
      "0:\tlearn: 0.8125570\ttest: 0.8035461\tbest: 0.8035461 (0)\ttotal: 8.42ms\tremaining: 33.7s\n",
      "200:\tlearn: 0.8121009\ttest: 0.8035461\tbest: 0.8035461 (0)\ttotal: 1.06s\tremaining: 20s\n",
      "400:\tlearn: 0.8183338\ttest: 0.8035461\tbest: 0.8042553 (295)\ttotal: 2.4s\tremaining: 21.6s\n",
      "600:\tlearn: 0.8262390\ttest: 0.8035461\tbest: 0.8046099 (488)\ttotal: 3.71s\tremaining: 21s\n",
      "800:\tlearn: 0.8327759\ttest: 0.8024823\tbest: 0.8046099 (488)\ttotal: 5.13s\tremaining: 20.5s\n"
     ]
    },
    {
     "name": "stderr",
     "output_type": "stream",
     "text": [
      "\u001b[32m[I 2021-08-25 16:06:19,038]\u001b[0m Trial 45 finished with value: 0.682201337620005 and parameters: {'depth': 7, 'learning_rate': 0.06198141930684227, 'random_strength': 37, 'od_type': 'Iter', 'colsample_bylevel': 0.08668673021800588, 'boosting_type': 'Ordered', 'bootstrap_type': 'MVS'}. Best is trial 13 with value: 0.6891985100279128.\u001b[0m\n"
     ]
    },
    {
     "name": "stdout",
     "output_type": "stream",
     "text": [
      "Stopped by overfitting detector  (500 iterations wait)\n",
      "\n",
      "bestTest = 0.8046099291\n",
      "bestIteration = 488\n",
      "\n",
      "Shrink model to first 489 iterations.\n",
      "0:\tlearn: 0.8078443\ttest: 0.8131206\tbest: 0.8131206 (0)\ttotal: 4.26ms\tremaining: 17s\n",
      "200:\tlearn: 0.8095166\ttest: 0.8138298\tbest: 0.8141844 (185)\ttotal: 892ms\tremaining: 16.9s\n",
      "400:\tlearn: 0.8165096\ttest: 0.8102837\tbest: 0.8141844 (185)\ttotal: 1.74s\tremaining: 15.6s\n",
      "600:\tlearn: 0.8253268\ttest: 0.8085106\tbest: 0.8141844 (185)\ttotal: 2.58s\tremaining: 14.6s\n"
     ]
    },
    {
     "name": "stderr",
     "output_type": "stream",
     "text": [
      "\u001b[32m[I 2021-08-25 16:06:22,137]\u001b[0m Trial 46 finished with value: 0.6702231277272386 and parameters: {'depth': 6, 'learning_rate': 0.09498196365642991, 'random_strength': 82, 'od_type': 'Iter', 'colsample_bylevel': 0.052614007715519724, 'boosting_type': 'Ordered', 'bootstrap_type': 'Bayesian', 'bagging_temperature': 9.355917610600239}. Best is trial 13 with value: 0.6891985100279128.\u001b[0m\n"
     ]
    },
    {
     "name": "stdout",
     "output_type": "stream",
     "text": [
      "Stopped by overfitting detector  (500 iterations wait)\n",
      "\n",
      "bestTest = 0.8141843972\n",
      "bestIteration = 185\n",
      "\n",
      "Shrink model to first 186 iterations.\n",
      "0:\tlearn: 0.8089085\ttest: 0.8106383\tbest: 0.8106383 (0)\ttotal: 3.46ms\tremaining: 13.8s\n",
      "200:\tlearn: 0.8231985\ttest: 0.8039007\tbest: 0.8113475 (79)\ttotal: 834ms\tremaining: 15.8s\n",
      "400:\tlearn: 0.8458498\ttest: 0.7975177\tbest: 0.8113475 (79)\ttotal: 1.62s\tremaining: 14.6s\n"
     ]
    },
    {
     "name": "stderr",
     "output_type": "stream",
     "text": [
      "\u001b[32m[I 2021-08-25 16:06:24,625]\u001b[0m Trial 47 finished with value: 0.6516182200071432 and parameters: {'depth': 5, 'learning_rate': 0.19242194488592437, 'random_strength': 65, 'od_type': 'Iter', 'colsample_bylevel': 0.07577935950051315, 'boosting_type': 'Ordered', 'bootstrap_type': 'Bernoulli', 'subsample': 0.7300599624244877}. Best is trial 13 with value: 0.6891985100279128.\u001b[0m\n"
     ]
    },
    {
     "name": "stdout",
     "output_type": "stream",
     "text": [
      "Stopped by overfitting detector  (500 iterations wait)\n",
      "\n",
      "bestTest = 0.8113475177\n",
      "bestIteration = 79\n",
      "\n",
      "Shrink model to first 80 iterations.\n",
      "0:\tlearn: 0.8119489\ttest: 0.8003546\tbest: 0.8003546 (0)\ttotal: 8.82ms\tremaining: 35.3s\n",
      "200:\tlearn: 0.8113408\ttest: 0.8049645\tbest: 0.8049645 (1)\ttotal: 887ms\tremaining: 16.8s\n",
      "400:\tlearn: 0.8113408\ttest: 0.8049645\tbest: 0.8049645 (1)\ttotal: 1.81s\tremaining: 16.2s\n"
     ]
    },
    {
     "name": "stderr",
     "output_type": "stream",
     "text": [
      "\u001b[32m[I 2021-08-25 16:06:27,032]\u001b[0m Trial 48 finished with value: 0.5418562274729676 and parameters: {'depth': 8, 'learning_rate': 0.013532002504135988, 'random_strength': 49, 'od_type': 'Iter', 'colsample_bylevel': 0.04470320550668751, 'boosting_type': 'Ordered', 'bootstrap_type': 'Bernoulli', 'subsample': 0.3628863790393954}. Best is trial 13 with value: 0.6891985100279128.\u001b[0m\n"
     ]
    },
    {
     "name": "stdout",
     "output_type": "stream",
     "text": [
      "Stopped by overfitting detector  (500 iterations wait)\n",
      "\n",
      "bestTest = 0.804964539\n",
      "bestIteration = 1\n",
      "\n",
      "Shrink model to first 2 iterations.\n",
      "0:\tlearn: 0.8095166\ttest: 0.8092199\tbest: 0.8092199 (0)\ttotal: 2.49ms\tremaining: 9.96s\n",
      "200:\tlearn: 0.8110368\ttest: 0.8092199\tbest: 0.8092199 (0)\ttotal: 605ms\tremaining: 11.4s\n",
      "400:\tlearn: 0.8298875\ttest: 0.8095745\tbest: 0.8106383 (254)\ttotal: 1.32s\tremaining: 11.8s\n",
      "600:\tlearn: 0.8548191\ttest: 0.8067376\tbest: 0.8106383 (254)\ttotal: 1.99s\tremaining: 11.2s\n"
     ]
    },
    {
     "name": "stderr",
     "output_type": "stream",
     "text": [
      "\u001b[32m[I 2021-08-25 16:06:29,686]\u001b[0m Trial 49 finished with value: 0.6674963916736443 and parameters: {'depth': 7, 'learning_rate': 0.07171206968441034, 'random_strength': 60, 'od_type': 'Iter', 'colsample_bylevel': 0.05393692061923811, 'boosting_type': 'Plain', 'bootstrap_type': 'MVS'}. Best is trial 13 with value: 0.6891985100279128.\u001b[0m\n"
     ]
    },
    {
     "name": "stdout",
     "output_type": "stream",
     "text": [
      "Stopped by overfitting detector  (500 iterations wait)\n",
      "\n",
      "bestTest = 0.8106382979\n",
      "bestIteration = 254\n",
      "\n",
      "Shrink model to first 255 iterations.\n",
      "0:\tlearn: 0.8084524\ttest: 0.8117021\tbest: 0.8117021 (0)\ttotal: 2.67ms\tremaining: 10.7s\n",
      "200:\tlearn: 0.8117969\ttest: 0.8102837\tbest: 0.8120567 (176)\ttotal: 829ms\tremaining: 15.7s\n",
      "400:\tlearn: 0.8277592\ttest: 0.8106383\tbest: 0.8127660 (309)\ttotal: 1.81s\tremaining: 16.3s\n",
      "600:\tlearn: 0.8476741\ttest: 0.8106383\tbest: 0.8127660 (309)\ttotal: 2.78s\tremaining: 15.7s\n"
     ]
    },
    {
     "name": "stderr",
     "output_type": "stream",
     "text": [
      "\u001b[32m[I 2021-08-25 16:06:33,598]\u001b[0m Trial 50 finished with value: 0.6761067218227846 and parameters: {'depth': 6, 'learning_rate': 0.11200879350138736, 'random_strength': 76, 'od_type': 'Iter', 'colsample_bylevel': 0.07226595929150306, 'boosting_type': 'Ordered', 'bootstrap_type': 'Bernoulli', 'subsample': 0.1897936965308965}. Best is trial 13 with value: 0.6891985100279128.\u001b[0m\n"
     ]
    },
    {
     "name": "stdout",
     "output_type": "stream",
     "text": [
      "800:\tlearn: 0.8686531\ttest: 0.8092199\tbest: 0.8127660 (309)\ttotal: 3.71s\tremaining: 14.8s\n",
      "Stopped by overfitting detector  (500 iterations wait)\n",
      "\n",
      "bestTest = 0.8127659574\n",
      "bestIteration = 309\n",
      "\n",
      "Shrink model to first 310 iterations.\n",
      "0:\tlearn: 0.8102767\ttest: 0.8074468\tbest: 0.8074468 (0)\ttotal: 2.97ms\tremaining: 11.9s\n",
      "200:\tlearn: 0.8125570\ttest: 0.8063830\tbest: 0.8074468 (0)\ttotal: 972ms\tremaining: 18.4s\n",
      "400:\tlearn: 0.8241107\ttest: 0.8063830\tbest: 0.8074468 (0)\ttotal: 2.16s\tremaining: 19.4s\n"
     ]
    },
    {
     "name": "stderr",
     "output_type": "stream",
     "text": [
      "\u001b[32m[I 2021-08-25 16:06:36,479]\u001b[0m Trial 51 finished with value: 0.5300409815182816 and parameters: {'depth': 7, 'learning_rate': 0.07377101357653713, 'random_strength': 59, 'od_type': 'Iter', 'colsample_bylevel': 0.05773850971930998, 'boosting_type': 'Ordered', 'bootstrap_type': 'MVS'}. Best is trial 13 with value: 0.6891985100279128.\u001b[0m\n"
     ]
    },
    {
     "name": "stdout",
     "output_type": "stream",
     "text": [
      "Stopped by overfitting detector  (500 iterations wait)\n",
      "\n",
      "bestTest = 0.8074468085\n",
      "bestIteration = 0\n",
      "\n",
      "Shrink model to first 1 iterations.\n",
      "0:\tlearn: 0.8124050\ttest: 0.8024823\tbest: 0.8024823 (0)\ttotal: 2.91ms\tremaining: 11.6s\n",
      "200:\tlearn: 0.8124050\ttest: 0.8024823\tbest: 0.8024823 (0)\ttotal: 963ms\tremaining: 18.2s\n",
      "400:\tlearn: 0.8143813\ttest: 0.8017730\tbest: 0.8024823 (0)\ttotal: 2.07s\tremaining: 18.6s\n"
     ]
    },
    {
     "name": "stderr",
     "output_type": "stream",
     "text": [
      "\u001b[32m[I 2021-08-25 16:06:39,297]\u001b[0m Trial 52 finished with value: 0.5579587636881184 and parameters: {'depth': 7, 'learning_rate': 0.04799913276128867, 'random_strength': 69, 'od_type': 'Iter', 'colsample_bylevel': 0.06415429935028191, 'boosting_type': 'Ordered', 'bootstrap_type': 'MVS'}. Best is trial 13 with value: 0.6891985100279128.\u001b[0m\n"
     ]
    },
    {
     "name": "stdout",
     "output_type": "stream",
     "text": [
      "Stopped by overfitting detector  (500 iterations wait)\n",
      "\n",
      "bestTest = 0.8024822695\n",
      "bestIteration = 0\n",
      "\n",
      "Shrink model to first 1 iterations.\n",
      "0:\tlearn: 0.8105807\ttest: 0.8067376\tbest: 0.8067376 (0)\ttotal: 3.21ms\tremaining: 12.8s\n",
      "200:\tlearn: 0.8107327\ttest: 0.8060284\tbest: 0.8067376 (0)\ttotal: 962ms\tremaining: 18.2s\n",
      "400:\tlearn: 0.8157495\ttest: 0.8056738\tbest: 0.8067376 (0)\ttotal: 2.06s\tremaining: 18.5s\n",
      "600:\tlearn: 0.8245667\ttest: 0.8078014\tbest: 0.8081560 (594)\ttotal: 3.23s\tremaining: 18.3s\n",
      "800:\tlearn: 0.8329279\ttest: 0.8056738\tbest: 0.8085106 (601)\ttotal: 4.38s\tremaining: 17.5s\n",
      "1000:\tlearn: 0.8397689\ttest: 0.8039007\tbest: 0.8085106 (601)\ttotal: 5.5s\tremaining: 16.5s\n"
     ]
    },
    {
     "name": "stderr",
     "output_type": "stream",
     "text": [
      "\u001b[32m[I 2021-08-25 16:06:45,564]\u001b[0m Trial 53 finished with value: 0.6781143260409316 and parameters: {'depth': 7, 'learning_rate': 0.05881993956108464, 'random_strength': 53, 'od_type': 'Iter', 'colsample_bylevel': 0.05766348265768701, 'boosting_type': 'Ordered', 'bootstrap_type': 'MVS'}. Best is trial 13 with value: 0.6891985100279128.\u001b[0m\n"
     ]
    },
    {
     "name": "stdout",
     "output_type": "stream",
     "text": [
      "Stopped by overfitting detector  (500 iterations wait)\n",
      "\n",
      "bestTest = 0.8085106383\n",
      "bestIteration = 601\n",
      "\n",
      "Shrink model to first 602 iterations.\n",
      "0:\tlearn: 0.8055640\ttest: 0.8184397\tbest: 0.8184397 (0)\ttotal: 3.28ms\tremaining: 13.1s\n",
      "200:\tlearn: 0.8092125\ttest: 0.8184397\tbest: 0.8191489 (191)\ttotal: 1.3s\tremaining: 24.6s\n",
      "400:\tlearn: 0.8291274\ttest: 0.8187943\tbest: 0.8191489 (191)\ttotal: 3.08s\tremaining: 27.6s\n",
      "600:\tlearn: 0.8423533\ttest: 0.8180851\tbest: 0.8191489 (191)\ttotal: 4.59s\tremaining: 26s\n"
     ]
    },
    {
     "name": "stderr",
     "output_type": "stream",
     "text": [
      "\u001b[32m[I 2021-08-25 16:06:50,999]\u001b[0m Trial 54 finished with value: 0.6852693078422877 and parameters: {'depth': 8, 'learning_rate': 0.10008287058034543, 'random_strength': 65, 'od_type': 'Iter', 'colsample_bylevel': 0.06171370055719887, 'boosting_type': 'Ordered', 'bootstrap_type': 'MVS'}. Best is trial 13 with value: 0.6891985100279128.\u001b[0m\n"
     ]
    },
    {
     "name": "stdout",
     "output_type": "stream",
     "text": [
      "Stopped by overfitting detector  (500 iterations wait)\n",
      "\n",
      "bestTest = 0.8191489362\n",
      "bestIteration = 191\n",
      "\n",
      "Shrink model to first 192 iterations.\n",
      "0:\tlearn: 0.8069322\ttest: 0.8152482\tbest: 0.8152482 (0)\ttotal: 3.31ms\tremaining: 13.2s\n",
      "200:\tlearn: 0.8148373\ttest: 0.8148936\tbest: 0.8156028 (136)\ttotal: 2.4s\tremaining: 45.3s\n",
      "400:\tlearn: 0.8529948\ttest: 0.8124113\tbest: 0.8156028 (136)\ttotal: 5.82s\tremaining: 52.2s\n",
      "600:\tlearn: 0.8759501\ttest: 0.8095745\tbest: 0.8156028 (136)\ttotal: 8.58s\tremaining: 48.5s\n"
     ]
    },
    {
     "name": "stderr",
     "output_type": "stream",
     "text": [
      "\u001b[32m[I 2021-08-25 16:07:00,222]\u001b[0m Trial 55 finished with value: 0.6604173223941979 and parameters: {'depth': 9, 'learning_rate': 0.1018680360073926, 'random_strength': 83, 'od_type': 'Iter', 'colsample_bylevel': 0.0634006231738309, 'boosting_type': 'Ordered', 'bootstrap_type': 'MVS'}. Best is trial 13 with value: 0.6891985100279128.\u001b[0m\n"
     ]
    },
    {
     "name": "stdout",
     "output_type": "stream",
     "text": [
      "Stopped by overfitting detector  (500 iterations wait)\n",
      "\n",
      "bestTest = 0.8156028369\n",
      "bestIteration = 136\n",
      "\n",
      "Shrink model to first 137 iterations.\n",
      "0:\tlearn: 0.8086044\ttest: 0.8120567\tbest: 0.8120567 (0)\ttotal: 9.53ms\tremaining: 38.1s\n",
      "200:\tlearn: 0.8297355\ttest: 0.8106383\tbest: 0.8138298 (103)\ttotal: 1.7s\tremaining: 32.2s\n",
      "400:\tlearn: 0.8694132\ttest: 0.8042553\tbest: 0.8138298 (103)\ttotal: 3.61s\tremaining: 32.4s\n"
     ]
    },
    {
     "name": "stderr",
     "output_type": "stream",
     "text": [
      "\u001b[32m[I 2021-08-25 16:07:06,006]\u001b[0m Trial 56 finished with value: 0.6640613168863905 and parameters: {'depth': 8, 'learning_rate': 0.14236363142912403, 'random_strength': 65, 'od_type': 'Iter', 'colsample_bylevel': 0.06888528619148558, 'boosting_type': 'Ordered', 'bootstrap_type': 'Bernoulli', 'subsample': 0.5499579527920966}. Best is trial 13 with value: 0.6891985100279128.\u001b[0m\n"
     ]
    },
    {
     "name": "stdout",
     "output_type": "stream",
     "text": [
      "600:\tlearn: 0.9046823\ttest: 0.8017730\tbest: 0.8138298 (103)\ttotal: 5.58s\tremaining: 31.6s\n",
      "Stopped by overfitting detector  (500 iterations wait)\n",
      "\n",
      "bestTest = 0.8138297872\n",
      "bestIteration = 103\n",
      "\n",
      "Shrink model to first 104 iterations.\n",
      "0:\tlearn: 0.8079964\ttest: 0.8127660\tbest: 0.8127660 (0)\ttotal: 3.03ms\tremaining: 12.1s\n",
      "200:\tlearn: 0.8090605\ttest: 0.8127660\tbest: 0.8127660 (0)\ttotal: 1.09s\tremaining: 20.6s\n",
      "400:\tlearn: 0.8236546\ttest: 0.8124113\tbest: 0.8127660 (0)\ttotal: 2.58s\tremaining: 23.1s\n",
      "600:\tlearn: 0.8368805\ttest: 0.8124113\tbest: 0.8134752 (511)\ttotal: 3.88s\tremaining: 22s\n",
      "800:\tlearn: 0.8472180\ttest: 0.8124113\tbest: 0.8138298 (632)\ttotal: 5.23s\tremaining: 20.9s\n",
      "1000:\tlearn: 0.8581636\ttest: 0.8095745\tbest: 0.8138298 (632)\ttotal: 6.55s\tremaining: 19.6s\n"
     ]
    },
    {
     "name": "stderr",
     "output_type": "stream",
     "text": [
      "\u001b[32m[I 2021-08-25 16:07:13,612]\u001b[0m Trial 57 finished with value: 0.6807009889470623 and parameters: {'depth': 8, 'learning_rate': 0.0838097623984274, 'random_strength': 97, 'od_type': 'Iter', 'colsample_bylevel': 0.050301211512837736, 'boosting_type': 'Ordered', 'bootstrap_type': 'MVS'}. Best is trial 13 with value: 0.6891985100279128.\u001b[0m\n"
     ]
    },
    {
     "name": "stdout",
     "output_type": "stream",
     "text": [
      "Stopped by overfitting detector  (500 iterations wait)\n",
      "\n",
      "bestTest = 0.8138297872\n",
      "bestIteration = 632\n",
      "\n",
      "Shrink model to first 633 iterations.\n",
      "0:\tlearn: 0.8066282\ttest: 0.8159574\tbest: 0.8159574 (0)\ttotal: 7ms\tremaining: 28s\n",
      "200:\tlearn: 0.8200061\ttest: 0.8145390\tbest: 0.8159574 (0)\ttotal: 3.01s\tremaining: 56.8s\n",
      "400:\tlearn: 0.8653086\ttest: 0.8148936\tbest: 0.8159574 (0)\ttotal: 7.64s\tremaining: 1m 8s\n"
     ]
    },
    {
     "name": "stderr",
     "output_type": "stream",
     "text": [
      "\u001b[32m[I 2021-08-25 16:07:24,151]\u001b[0m Trial 58 finished with value: 0.5459471838917317 and parameters: {'depth': 10, 'learning_rate': 0.12219006838077295, 'random_strength': 73, 'od_type': 'Iter', 'colsample_bylevel': 0.054733466051053094, 'boosting_type': 'Ordered', 'bootstrap_type': 'Bernoulli', 'subsample': 0.333134805363679}. Best is trial 13 with value: 0.6891985100279128.\u001b[0m\n"
     ]
    },
    {
     "name": "stdout",
     "output_type": "stream",
     "text": [
      "Stopped by overfitting detector  (500 iterations wait)\n",
      "\n",
      "bestTest = 0.8159574468\n",
      "bestIteration = 0\n",
      "\n",
      "Shrink model to first 1 iterations.\n",
      "0:\tlearn: 0.8105807\ttest: 0.8074468\tbest: 0.8074468 (0)\ttotal: 7.05ms\tremaining: 28.2s\n",
      "200:\tlearn: 0.8102767\ttest: 0.8074468\tbest: 0.8074468 (0)\ttotal: 918ms\tremaining: 17.3s\n",
      "400:\tlearn: 0.8104287\ttest: 0.8074468\tbest: 0.8074468 (0)\ttotal: 1.82s\tremaining: 16.4s\n",
      "600:\tlearn: 0.8130131\ttest: 0.8074468\tbest: 0.8078014 (434)\ttotal: 2.9s\tremaining: 16.4s\n",
      "800:\tlearn: 0.8169656\ttest: 0.8078014\tbest: 0.8081560 (648)\ttotal: 3.94s\tremaining: 15.7s\n",
      "1000:\tlearn: 0.8218303\ttest: 0.8070922\tbest: 0.8081560 (648)\ttotal: 5.04s\tremaining: 15.1s\n"
     ]
    },
    {
     "name": "stderr",
     "output_type": "stream",
     "text": [
      "\u001b[32m[I 2021-08-25 16:07:30,240]\u001b[0m Trial 59 finished with value: 0.671584934135979 and parameters: {'depth': 6, 'learning_rate': 0.037541586950583294, 'random_strength': 90, 'od_type': 'IncToDec', 'colsample_bylevel': 0.08051387658601708, 'boosting_type': 'Ordered', 'bootstrap_type': 'MVS'}. Best is trial 13 with value: 0.6891985100279128.\u001b[0m\n"
     ]
    },
    {
     "name": "stdout",
     "output_type": "stream",
     "text": [
      "Stopped by overfitting detector  (500 iterations wait)\n",
      "\n",
      "bestTest = 0.8081560284\n",
      "bestIteration = 648\n",
      "\n",
      "Shrink model to first 649 iterations.\n",
      "0:\tlearn: 0.8089085\ttest: 0.8106383\tbest: 0.8106383 (0)\ttotal: 3.36ms\tremaining: 13.4s\n",
      "200:\tlearn: 0.8102767\ttest: 0.8102837\tbest: 0.8106383 (0)\ttotal: 684ms\tremaining: 12.9s\n",
      "400:\tlearn: 0.8136212\ttest: 0.8106383\tbest: 0.8113475 (310)\ttotal: 1.41s\tremaining: 12.6s\n",
      "600:\tlearn: 0.8193980\ttest: 0.8088652\tbest: 0.8113475 (310)\ttotal: 2.05s\tremaining: 11.6s\n"
     ]
    },
    {
     "name": "stderr",
     "output_type": "stream",
     "text": [
      "\u001b[32m[I 2021-08-25 16:07:33,194]\u001b[0m Trial 60 finished with value: 0.6751927544637445 and parameters: {'depth': 5, 'learning_rate': 0.08929943127202757, 'random_strength': 86, 'od_type': 'Iter', 'colsample_bylevel': 0.047124261267233035, 'boosting_type': 'Ordered', 'bootstrap_type': 'Bayesian', 'bagging_temperature': 2.5425095850072217}. Best is trial 13 with value: 0.6891985100279128.\u001b[0m\n"
     ]
    },
    {
     "name": "stdout",
     "output_type": "stream",
     "text": [
      "800:\tlearn: 0.8247188\ttest: 0.8081560\tbest: 0.8113475 (310)\ttotal: 2.72s\tremaining: 10.9s\n",
      "Stopped by overfitting detector  (500 iterations wait)\n",
      "\n",
      "bestTest = 0.8113475177\n",
      "bestIteration = 310\n",
      "\n",
      "Shrink model to first 311 iterations.\n",
      "0:\tlearn: 0.8133171\ttest: 0.8003546\tbest: 0.8003546 (0)\ttotal: 4.24ms\tremaining: 17s\n",
      "200:\tlearn: 0.8133171\ttest: 0.8000000\tbest: 0.8003546 (0)\ttotal: 901ms\tremaining: 17s\n",
      "400:\tlearn: 0.8216783\ttest: 0.7975177\tbest: 0.8007092 (236)\ttotal: 1.98s\tremaining: 17.8s\n",
      "600:\tlearn: 0.8311037\ttest: 0.7957447\tbest: 0.8007092 (236)\ttotal: 3.1s\tremaining: 17.5s\n"
     ]
    },
    {
     "name": "stderr",
     "output_type": "stream",
     "text": [
      "\u001b[32m[I 2021-08-25 16:07:37,308]\u001b[0m Trial 61 finished with value: 0.6694255330367492 and parameters: {'depth': 7, 'learning_rate': 0.06846467785275502, 'random_strength': 63, 'od_type': 'Iter', 'colsample_bylevel': 0.05978444477559312, 'boosting_type': 'Ordered', 'bootstrap_type': 'MVS'}. Best is trial 13 with value: 0.6891985100279128.\u001b[0m\n"
     ]
    },
    {
     "name": "stdout",
     "output_type": "stream",
     "text": [
      "Stopped by overfitting detector  (500 iterations wait)\n",
      "\n",
      "bestTest = 0.8007092199\n",
      "bestIteration = 236\n",
      "\n",
      "Shrink model to first 237 iterations.\n",
      "0:\tlearn: 0.8102767\ttest: 0.8074468\tbest: 0.8074468 (0)\ttotal: 2.88ms\tremaining: 11.5s\n",
      "200:\tlearn: 0.8107327\ttest: 0.8074468\tbest: 0.8074468 (0)\ttotal: 1.24s\tremaining: 23.4s\n",
      "400:\tlearn: 0.8235026\ttest: 0.8085106\tbest: 0.8092199 (307)\ttotal: 3.16s\tremaining: 28.3s\n",
      "600:\tlearn: 0.8379447\ttest: 0.8092199\tbest: 0.8099291 (562)\ttotal: 4.96s\tremaining: 28s\n",
      "800:\tlearn: 0.8499544\ttest: 0.8088652\tbest: 0.8102837 (604)\ttotal: 6.65s\tremaining: 26.5s\n",
      "1000:\tlearn: 0.8653086\ttest: 0.8074468\tbest: 0.8102837 (604)\ttotal: 8.19s\tremaining: 24.5s\n"
     ]
    },
    {
     "name": "stderr",
     "output_type": "stream",
     "text": [
      "\u001b[32m[I 2021-08-25 16:07:46,604]\u001b[0m Trial 62 finished with value: 0.689493218678902 and parameters: {'depth': 8, 'learning_rate': 0.0773253928843559, 'random_strength': 61, 'od_type': 'Iter', 'colsample_bylevel': 0.06681841679411264, 'boosting_type': 'Ordered', 'bootstrap_type': 'MVS'}. Best is trial 62 with value: 0.689493218678902.\u001b[0m\n"
     ]
    },
    {
     "name": "stdout",
     "output_type": "stream",
     "text": [
      "Stopped by overfitting detector  (500 iterations wait)\n",
      "\n",
      "bestTest = 0.8102836879\n",
      "bestIteration = 604\n",
      "\n",
      "Shrink model to first 605 iterations.\n",
      "0:\tlearn: 0.8116449\ttest: 0.8042553\tbest: 0.8042553 (0)\ttotal: 2.76ms\tremaining: 11.1s\n",
      "200:\tlearn: 0.8193980\ttest: 0.8046099\tbest: 0.8053191 (156)\ttotal: 2.33s\tremaining: 44s\n",
      "400:\tlearn: 0.8446336\ttest: 0.8042553\tbest: 0.8056738 (218)\ttotal: 5.45s\tremaining: 48.9s\n",
      "600:\tlearn: 0.8642445\ttest: 0.8039007\tbest: 0.8056738 (218)\ttotal: 8.05s\tremaining: 45.5s\n"
     ]
    },
    {
     "name": "stderr",
     "output_type": "stream",
     "text": [
      "\u001b[32m[I 2021-08-25 16:07:56,269]\u001b[0m Trial 63 finished with value: 0.6713833614497866 and parameters: {'depth': 9, 'learning_rate': 0.10467930096942663, 'random_strength': 52, 'od_type': 'Iter', 'colsample_bylevel': 0.06679374254878181, 'boosting_type': 'Ordered', 'bootstrap_type': 'MVS'}. Best is trial 62 with value: 0.689493218678902.\u001b[0m\n"
     ]
    },
    {
     "name": "stdout",
     "output_type": "stream",
     "text": [
      "Stopped by overfitting detector  (500 iterations wait)\n",
      "\n",
      "bestTest = 0.8056737589\n",
      "bestIteration = 218\n",
      "\n",
      "Shrink model to first 219 iterations.\n",
      "0:\tlearn: 0.8087565\ttest: 0.8109929\tbest: 0.8109929 (0)\ttotal: 3.29ms\tremaining: 13.2s\n",
      "200:\tlearn: 0.8087565\ttest: 0.8109929\tbest: 0.8109929 (0)\ttotal: 1.15s\tremaining: 21.8s\n",
      "400:\tlearn: 0.8139252\ttest: 0.8099291\tbest: 0.8109929 (0)\ttotal: 2.57s\tremaining: 23.1s\n",
      "600:\tlearn: 0.8221344\ttest: 0.8099291\tbest: 0.8113475 (458)\ttotal: 4.21s\tremaining: 23.8s\n",
      "800:\tlearn: 0.8329279\ttest: 0.8092199\tbest: 0.8117021 (625)\ttotal: 5.74s\tremaining: 22.9s\n",
      "1000:\tlearn: 0.8412891\ttest: 0.8088652\tbest: 0.8117021 (625)\ttotal: 7.47s\tremaining: 22.4s\n"
     ]
    },
    {
     "name": "stderr",
     "output_type": "stream",
     "text": [
      "\u001b[32m[I 2021-08-25 16:08:05,028]\u001b[0m Trial 64 finished with value: 0.6715401760993494 and parameters: {'depth': 8, 'learning_rate': 0.04937573874363584, 'random_strength': 78, 'od_type': 'Iter', 'colsample_bylevel': 0.06329787435215664, 'boosting_type': 'Ordered', 'bootstrap_type': 'MVS'}. Best is trial 62 with value: 0.689493218678902.\u001b[0m\n"
     ]
    },
    {
     "name": "stdout",
     "output_type": "stream",
     "text": [
      "Stopped by overfitting detector  (500 iterations wait)\n",
      "\n",
      "bestTest = 0.8117021277\n",
      "bestIteration = 625\n",
      "\n",
      "Shrink model to first 626 iterations.\n",
      "0:\tlearn: 0.8108848\ttest: 0.8067376\tbest: 0.8067376 (0)\ttotal: 6.91ms\tremaining: 27.6s\n",
      "200:\tlearn: 0.8107327\ttest: 0.8067376\tbest: 0.8067376 (0)\ttotal: 1.41s\tremaining: 26.6s\n",
      "400:\tlearn: 0.8193980\ttest: 0.8039007\tbest: 0.8067376 (0)\ttotal: 3.31s\tremaining: 29.7s\n"
     ]
    },
    {
     "name": "stderr",
     "output_type": "stream",
     "text": [
      "\u001b[32m[I 2021-08-25 16:08:09,390]\u001b[0m Trial 65 finished with value: 0.5723084988406089 and parameters: {'depth': 8, 'learning_rate': 0.05577847101333365, 'random_strength': 57, 'od_type': 'Iter', 'colsample_bylevel': 0.07312949878274802, 'boosting_type': 'Ordered', 'bootstrap_type': 'MVS'}. Best is trial 62 with value: 0.689493218678902.\u001b[0m\n"
     ]
    },
    {
     "name": "stdout",
     "output_type": "stream",
     "text": [
      "Stopped by overfitting detector  (500 iterations wait)\n",
      "\n",
      "bestTest = 0.8067375887\n",
      "bestIteration = 0\n",
      "\n",
      "Shrink model to first 1 iterations.\n",
      "0:\tlearn: 0.8110368\ttest: 0.8056738\tbest: 0.8056738 (0)\ttotal: 9.42ms\tremaining: 37.7s\n",
      "200:\tlearn: 0.8146853\ttest: 0.8049645\tbest: 0.8063830 (94)\ttotal: 1.36s\tremaining: 25.6s\n",
      "400:\tlearn: 0.8309517\ttest: 0.8039007\tbest: 0.8063830 (94)\ttotal: 3.1s\tremaining: 27.9s\n"
     ]
    },
    {
     "name": "stderr",
     "output_type": "stream",
     "text": [
      "\u001b[32m[I 2021-08-25 16:08:14,469]\u001b[0m Trial 66 finished with value: 0.6598862249875536 and parameters: {'depth': 8, 'learning_rate': 0.08305762905428889, 'random_strength': 68, 'od_type': 'Iter', 'colsample_bylevel': 0.0618579804544416, 'boosting_type': 'Ordered', 'bootstrap_type': 'Bernoulli', 'subsample': 0.9209819238230983}. Best is trial 62 with value: 0.689493218678902.\u001b[0m\n"
     ]
    },
    {
     "name": "stdout",
     "output_type": "stream",
     "text": [
      "Stopped by overfitting detector  (500 iterations wait)\n",
      "\n",
      "bestTest = 0.8063829787\n",
      "bestIteration = 94\n",
      "\n",
      "Shrink model to first 95 iterations.\n",
      "0:\tlearn: 0.8089085\ttest: 0.8106383\tbest: 0.8106383 (0)\ttotal: 3.17ms\tremaining: 12.7s\n",
      "200:\tlearn: 0.8178778\ttest: 0.8113475\tbest: 0.8113475 (194)\ttotal: 1.01s\tremaining: 19.1s\n",
      "400:\tlearn: 0.8330800\ttest: 0.8078014\tbest: 0.8124113 (202)\ttotal: 1.98s\tremaining: 17.8s\n",
      "600:\tlearn: 0.8488902\ttest: 0.8042553\tbest: 0.8124113 (202)\ttotal: 2.92s\tremaining: 16.5s\n"
     ]
    },
    {
     "name": "stderr",
     "output_type": "stream",
     "text": [
      "\u001b[32m[I 2021-08-25 16:08:18,057]\u001b[0m Trial 67 finished with value: 0.6592743322814986 and parameters: {'depth': 6, 'learning_rate': 0.12090023176549396, 'random_strength': 0, 'od_type': 'Iter', 'colsample_bylevel': 0.06756137280909384, 'boosting_type': 'Ordered', 'bootstrap_type': 'MVS'}. Best is trial 62 with value: 0.689493218678902.\u001b[0m\n"
     ]
    },
    {
     "name": "stdout",
     "output_type": "stream",
     "text": [
      "Stopped by overfitting detector  (500 iterations wait)\n",
      "\n",
      "bestTest = 0.8124113475\n",
      "bestIteration = 202\n",
      "\n",
      "Shrink model to first 203 iterations.\n",
      "0:\tlearn: 0.8124050\ttest: 0.8024823\tbest: 0.8024823 (0)\ttotal: 6.82ms\tremaining: 27.3s\n",
      "200:\tlearn: 0.8125570\ttest: 0.8024823\tbest: 0.8024823 (0)\ttotal: 1.72s\tremaining: 32.4s\n",
      "400:\tlearn: 0.8222864\ttest: 0.8017730\tbest: 0.8028369 (246)\ttotal: 4.19s\tremaining: 37.6s\n",
      "600:\tlearn: 0.8412891\ttest: 0.8021277\tbest: 0.8028369 (246)\ttotal: 6.67s\tremaining: 37.7s\n"
     ]
    },
    {
     "name": "stderr",
     "output_type": "stream",
     "text": [
      "\u001b[32m[I 2021-08-25 16:08:26,916]\u001b[0m Trial 68 finished with value: 0.6714565990554474 and parameters: {'depth': 9, 'learning_rate': 0.06735802382667137, 'random_strength': 46, 'od_type': 'Iter', 'colsample_bylevel': 0.05519964230285034, 'boosting_type': 'Ordered', 'bootstrap_type': 'Bernoulli', 'subsample': 0.18093923222576186}. Best is trial 62 with value: 0.689493218678902.\u001b[0m\n"
     ]
    },
    {
     "name": "stdout",
     "output_type": "stream",
     "text": [
      "Stopped by overfitting detector  (500 iterations wait)\n",
      "\n",
      "bestTest = 0.8028368794\n",
      "bestIteration = 246\n",
      "\n",
      "Shrink model to first 247 iterations.\n",
      "0:\tlearn: 0.8107327\ttest: 0.8063830\tbest: 0.8063830 (0)\ttotal: 2.63ms\tremaining: 10.5s\n",
      "200:\tlearn: 0.8420493\ttest: 0.8070922\tbest: 0.8081560 (178)\ttotal: 711ms\tremaining: 13.4s\n",
      "400:\tlearn: 0.9071146\ttest: 0.8014184\tbest: 0.8081560 (178)\ttotal: 1.49s\tremaining: 13.3s\n",
      "600:\tlearn: 0.9481605\ttest: 0.7950355\tbest: 0.8081560 (178)\ttotal: 2.24s\tremaining: 12.7s\n"
     ]
    },
    {
     "name": "stderr",
     "output_type": "stream",
     "text": [
      "\u001b[32m[I 2021-08-25 16:08:29,613]\u001b[0m Trial 69 finished with value: 0.6620411983208817 and parameters: {'depth': 8, 'learning_rate': 0.14862996782794777, 'random_strength': 73, 'od_type': 'Iter', 'colsample_bylevel': 0.05213532273233698, 'boosting_type': 'Plain', 'bootstrap_type': 'MVS'}. Best is trial 62 with value: 0.689493218678902.\u001b[0m\n"
     ]
    },
    {
     "name": "stdout",
     "output_type": "stream",
     "text": [
      "Stopped by overfitting detector  (500 iterations wait)\n",
      "\n",
      "bestTest = 0.8081560284\n",
      "bestIteration = 178\n",
      "\n",
      "Shrink model to first 179 iterations.\n",
      "0:\tlearn: 0.8081484\ttest: 0.8124113\tbest: 0.8124113 (0)\ttotal: 3.32ms\tremaining: 13.3s\n",
      "200:\tlearn: 0.8096686\ttest: 0.8127660\tbest: 0.8131206 (195)\ttotal: 783ms\tremaining: 14.8s\n",
      "400:\tlearn: 0.8186379\ttest: 0.8124113\tbest: 0.8141844 (300)\ttotal: 1.65s\tremaining: 14.8s\n",
      "600:\tlearn: 0.8297355\ttest: 0.8124113\tbest: 0.8141844 (300)\ttotal: 2.45s\tremaining: 13.9s\n"
     ]
    },
    {
     "name": "stderr",
     "output_type": "stream",
     "text": [
      "\u001b[32m[I 2021-08-25 16:08:33,027]\u001b[0m Trial 70 finished with value: 0.6724628879836361 and parameters: {'depth': 7, 'learning_rate': 0.09627858626803244, 'random_strength': 60, 'od_type': 'Iter', 'colsample_bylevel': 0.0394269848032415, 'boosting_type': 'Ordered', 'bootstrap_type': 'MVS'}. Best is trial 62 with value: 0.689493218678902.\u001b[0m\n"
     ]
    },
    {
     "name": "stdout",
     "output_type": "stream",
     "text": [
      "800:\tlearn: 0.8403770\ttest: 0.8099291\tbest: 0.8141844 (300)\ttotal: 3.25s\tremaining: 13s\n",
      "Stopped by overfitting detector  (500 iterations wait)\n",
      "\n",
      "bestTest = 0.8141843972\n",
      "bestIteration = 300\n",
      "\n",
      "Shrink model to first 301 iterations.\n",
      "0:\tlearn: 0.8051079\ttest: 0.8195035\tbest: 0.8195035 (0)\ttotal: 2.95ms\tremaining: 11.8s\n",
      "200:\tlearn: 0.8063241\ttest: 0.8191489\tbest: 0.8195035 (0)\ttotal: 1.01s\tremaining: 19.1s\n",
      "400:\tlearn: 0.8149894\ttest: 0.8202128\tbest: 0.8205674 (393)\ttotal: 2.17s\tremaining: 19.5s\n",
      "600:\tlearn: 0.8262390\ttest: 0.8180851\tbest: 0.8205674 (393)\ttotal: 3.26s\tremaining: 18.4s\n",
      "800:\tlearn: 0.8368805\ttest: 0.8177305\tbest: 0.8205674 (393)\ttotal: 4.36s\tremaining: 17.4s\n"
     ]
    },
    {
     "name": "stderr",
     "output_type": "stream",
     "text": [
      "\u001b[32m[I 2021-08-25 16:08:38,114]\u001b[0m Trial 71 finished with value: 0.6816379168901784 and parameters: {'depth': 7, 'learning_rate': 0.07344674780931593, 'random_strength': 62, 'od_type': 'Iter', 'colsample_bylevel': 0.058110932925842, 'boosting_type': 'Ordered', 'bootstrap_type': 'MVS'}. Best is trial 62 with value: 0.689493218678902.\u001b[0m\n"
     ]
    },
    {
     "name": "stdout",
     "output_type": "stream",
     "text": [
      "Stopped by overfitting detector  (500 iterations wait)\n",
      "\n",
      "bestTest = 0.8205673759\n",
      "bestIteration = 393\n",
      "\n",
      "Shrink model to first 394 iterations.\n",
      "0:\tlearn: 0.8154454\ttest: 0.7953901\tbest: 0.7953901 (0)\ttotal: 2.93ms\tremaining: 11.7s\n",
      "200:\tlearn: 0.8162055\ttest: 0.7950355\tbest: 0.7953901 (0)\ttotal: 911ms\tremaining: 17.2s\n",
      "400:\tlearn: 0.8263910\ttest: 0.7971631\tbest: 0.7978723 (341)\ttotal: 2s\tremaining: 18s\n",
      "600:\tlearn: 0.8367285\ttest: 0.7975177\tbest: 0.7982270 (434)\ttotal: 2.98s\tremaining: 16.9s\n",
      "800:\tlearn: 0.8469140\ttest: 0.7975177\tbest: 0.7982270 (434)\ttotal: 4.01s\tremaining: 16s\n",
      "1000:\tlearn: 0.8543630\ttest: 0.7960993\tbest: 0.7985816 (900)\ttotal: 5.04s\tremaining: 15.1s\n",
      "1200:\tlearn: 0.8605959\ttest: 0.7971631\tbest: 0.7985816 (900)\ttotal: 6.04s\tremaining: 14.1s\n"
     ]
    },
    {
     "name": "stderr",
     "output_type": "stream",
     "text": [
      "\u001b[32m[I 2021-08-25 16:08:45,329]\u001b[0m Trial 72 finished with value: 0.6670427001470394 and parameters: {'depth': 7, 'learning_rate': 0.07999370651776679, 'random_strength': 66, 'od_type': 'Iter', 'colsample_bylevel': 0.05693139233779364, 'boosting_type': 'Ordered', 'bootstrap_type': 'MVS'}. Best is trial 62 with value: 0.689493218678902.\u001b[0m\n"
     ]
    },
    {
     "name": "stdout",
     "output_type": "stream",
     "text": [
      "1400:\tlearn: 0.8662207\ttest: 0.7960993\tbest: 0.7985816 (900)\ttotal: 7s\tremaining: 13s\n",
      "Stopped by overfitting detector  (500 iterations wait)\n",
      "\n",
      "bestTest = 0.7985815603\n",
      "bestIteration = 900\n",
      "\n",
      "Shrink model to first 901 iterations.\n",
      "0:\tlearn: 0.8113408\ttest: 0.8056738\tbest: 0.8056738 (0)\ttotal: 7.22ms\tremaining: 28.9s\n",
      "200:\tlearn: 0.8116449\ttest: 0.8056738\tbest: 0.8056738 (0)\ttotal: 840ms\tremaining: 15.9s\n",
      "400:\tlearn: 0.8187899\ttest: 0.8017730\tbest: 0.8056738 (0)\ttotal: 1.84s\tremaining: 16.6s\n"
     ]
    },
    {
     "name": "stderr",
     "output_type": "stream",
     "text": [
      "\u001b[32m[I 2021-08-25 16:08:47,775]\u001b[0m Trial 73 finished with value: 0.5638915036753367 and parameters: {'depth': 6, 'learning_rate': 0.0752476803393457, 'random_strength': 71, 'od_type': 'Iter', 'colsample_bylevel': 0.06988685083698051, 'boosting_type': 'Ordered', 'bootstrap_type': 'MVS'}. Best is trial 62 with value: 0.689493218678902.\u001b[0m\n"
     ]
    },
    {
     "name": "stdout",
     "output_type": "stream",
     "text": [
      "Stopped by overfitting detector  (500 iterations wait)\n",
      "\n",
      "bestTest = 0.8056737589\n",
      "bestIteration = 0\n",
      "\n",
      "Shrink model to first 1 iterations.\n",
      "0:\tlearn: 0.8067802\ttest: 0.8156028\tbest: 0.8156028 (0)\ttotal: 3.19ms\tremaining: 12.7s\n",
      "200:\tlearn: 0.8079964\ttest: 0.8156028\tbest: 0.8159574 (195)\ttotal: 851ms\tremaining: 16.1s\n",
      "400:\tlearn: 0.8197020\ttest: 0.8138298\tbest: 0.8170213 (287)\ttotal: 1.86s\tremaining: 16.7s\n",
      "600:\tlearn: 0.8303436\ttest: 0.8156028\tbest: 0.8173759 (497)\ttotal: 2.78s\tremaining: 15.7s\n",
      "800:\tlearn: 0.8393129\ttest: 0.8148936\tbest: 0.8173759 (497)\ttotal: 3.66s\tremaining: 14.6s\n"
     ]
    },
    {
     "name": "stderr",
     "output_type": "stream",
     "text": [
      "\u001b[32m[I 2021-08-25 16:08:52,451]\u001b[0m Trial 74 finished with value: 0.682361204013378 and parameters: {'depth': 7, 'learning_rate': 0.08580435691442541, 'random_strength': 53, 'od_type': 'Iter', 'colsample_bylevel': 0.04947076005660354, 'boosting_type': 'Ordered', 'bootstrap_type': 'MVS'}. Best is trial 62 with value: 0.689493218678902.\u001b[0m\n"
     ]
    },
    {
     "name": "stdout",
     "output_type": "stream",
     "text": [
      "Stopped by overfitting detector  (500 iterations wait)\n",
      "\n",
      "bestTest = 0.8173758865\n",
      "bestIteration = 497\n",
      "\n",
      "Shrink model to first 498 iterations.\n",
      "0:\tlearn: 0.8057160\ttest: 0.8180851\tbest: 0.8180851 (0)\ttotal: 2.92ms\tremaining: 11.7s\n",
      "200:\tlearn: 0.8083004\ttest: 0.8184397\tbest: 0.8187943 (160)\ttotal: 817ms\tremaining: 15.4s\n",
      "400:\tlearn: 0.8197020\ttest: 0.8170213\tbest: 0.8187943 (160)\ttotal: 1.8s\tremaining: 16.1s\n",
      "600:\tlearn: 0.8295835\ttest: 0.8166667\tbest: 0.8187943 (160)\ttotal: 2.76s\tremaining: 15.6s\n"
     ]
    },
    {
     "name": "stderr",
     "output_type": "stream",
     "text": [
      "\u001b[32m[I 2021-08-25 16:08:55,656]\u001b[0m Trial 75 finished with value: 0.6810241902980251 and parameters: {'depth': 7, 'learning_rate': 0.08782629282541371, 'random_strength': 55, 'od_type': 'Iter', 'colsample_bylevel': 0.04574226873510574, 'boosting_type': 'Ordered', 'bootstrap_type': 'MVS'}. Best is trial 62 with value: 0.689493218678902.\u001b[0m\n"
     ]
    },
    {
     "name": "stdout",
     "output_type": "stream",
     "text": [
      "Stopped by overfitting detector  (500 iterations wait)\n",
      "\n",
      "bestTest = 0.8187943262\n",
      "bestIteration = 160\n",
      "\n",
      "Shrink model to first 161 iterations.\n",
      "0:\tlearn: 0.8067802\ttest: 0.8159574\tbest: 0.8159574 (0)\ttotal: 6.65ms\tremaining: 26.6s\n",
      "200:\tlearn: 0.8104287\ttest: 0.8145390\tbest: 0.8163121 (181)\ttotal: 716ms\tremaining: 13.5s\n",
      "400:\tlearn: 0.8195500\ttest: 0.8127660\tbest: 0.8163121 (181)\ttotal: 1.5s\tremaining: 13.4s\n",
      "600:\tlearn: 0.8347522\ttest: 0.8092199\tbest: 0.8163121 (181)\ttotal: 2.29s\tremaining: 12.9s\n"
     ]
    },
    {
     "name": "stderr",
     "output_type": "stream",
     "text": [
      "\u001b[32m[I 2021-08-25 16:08:58,405]\u001b[0m Trial 76 finished with value: 0.6657840814791927 and parameters: {'depth': 6, 'learning_rate': 0.11227566540043976, 'random_strength': 40, 'od_type': 'Iter', 'colsample_bylevel': 0.04205980568680748, 'boosting_type': 'Ordered', 'bootstrap_type': 'Bernoulli', 'subsample': 0.823290970223146}. Best is trial 62 with value: 0.689493218678902.\u001b[0m\n"
     ]
    },
    {
     "name": "stdout",
     "output_type": "stream",
     "text": [
      "Stopped by overfitting detector  (500 iterations wait)\n",
      "\n",
      "bestTest = 0.8163120567\n",
      "bestIteration = 181\n",
      "\n",
      "Shrink model to first 182 iterations.\n",
      "0:\tlearn: 0.8125570\ttest: 0.8021277\tbest: 0.8021277 (0)\ttotal: 3.44ms\tremaining: 13.7s\n",
      "200:\tlearn: 0.8289754\ttest: 0.8010638\tbest: 0.8031915 (110)\ttotal: 1.41s\tremaining: 26.6s\n",
      "400:\tlearn: 0.8637884\ttest: 0.7989362\tbest: 0.8031915 (110)\ttotal: 2.86s\tremaining: 25.6s\n"
     ]
    },
    {
     "name": "stderr",
     "output_type": "stream",
     "text": [
      "\u001b[32m[I 2021-08-25 16:09:03,035]\u001b[0m Trial 77 finished with value: 0.6676197674529154 and parameters: {'depth': 8, 'learning_rate': 0.17403776722943284, 'random_strength': 49, 'od_type': 'Iter', 'colsample_bylevel': 0.05110859296971694, 'boosting_type': 'Ordered', 'bootstrap_type': 'MVS'}. Best is trial 62 with value: 0.689493218678902.\u001b[0m\n"
     ]
    },
    {
     "name": "stdout",
     "output_type": "stream",
     "text": [
      "600:\tlearn: 0.8862876\ttest: 0.7975177\tbest: 0.8031915 (110)\ttotal: 4.11s\tremaining: 23.3s\n",
      "Stopped by overfitting detector  (500 iterations wait)\n",
      "\n",
      "bestTest = 0.8031914894\n",
      "bestIteration = 110\n",
      "\n",
      "Shrink model to first 111 iterations.\n",
      "0:\tlearn: 0.8102767\ttest: 0.8074468\tbest: 0.8074468 (0)\ttotal: 3.08ms\tremaining: 12.3s\n",
      "200:\tlearn: 0.8119489\ttest: 0.8074468\tbest: 0.8081560 (185)\ttotal: 773ms\tremaining: 14.6s\n",
      "400:\tlearn: 0.8184859\ttest: 0.8070922\tbest: 0.8081560 (185)\ttotal: 1.61s\tremaining: 14.4s\n",
      "600:\tlearn: 0.8228945\ttest: 0.8070922\tbest: 0.8081560 (185)\ttotal: 2.43s\tremaining: 13.7s\n"
     ]
    },
    {
     "name": "stderr",
     "output_type": "stream",
     "text": [
      "\u001b[32m[I 2021-08-25 16:09:05,946]\u001b[0m Trial 78 finished with value: 0.6681119789455126 and parameters: {'depth': 6, 'learning_rate': 0.10150485578977059, 'random_strength': 25, 'od_type': 'IncToDec', 'colsample_bylevel': 0.04849768492498806, 'boosting_type': 'Ordered', 'bootstrap_type': 'MVS'}. Best is trial 62 with value: 0.689493218678902.\u001b[0m\n"
     ]
    },
    {
     "name": "stdout",
     "output_type": "stream",
     "text": [
      "Stopped by overfitting detector  (500 iterations wait)\n",
      "\n",
      "bestTest = 0.8081560284\n",
      "bestIteration = 185\n",
      "\n",
      "Shrink model to first 186 iterations.\n",
      "0:\tlearn: 0.8125570\ttest: 0.8021277\tbest: 0.8021277 (0)\ttotal: 3.08ms\tremaining: 12.3s\n",
      "200:\tlearn: 0.8210702\ttest: 0.8000000\tbest: 0.8024823 (81)\ttotal: 1.05s\tremaining: 19.9s\n",
      "400:\tlearn: 0.8380967\ttest: 0.7992908\tbest: 0.8024823 (81)\ttotal: 2.2s\tremaining: 19.7s\n"
     ]
    },
    {
     "name": "stderr",
     "output_type": "stream",
     "text": [
      "\u001b[32m[I 2021-08-25 16:09:09,242]\u001b[0m Trial 79 finished with value: 0.6691369644651068 and parameters: {'depth': 7, 'learning_rate': 0.12797003840003507, 'random_strength': 46, 'od_type': 'Iter', 'colsample_bylevel': 0.0616285605324464, 'boosting_type': 'Ordered', 'bootstrap_type': 'MVS'}. Best is trial 62 with value: 0.689493218678902.\u001b[0m\n"
     ]
    },
    {
     "name": "stdout",
     "output_type": "stream",
     "text": [
      "Stopped by overfitting detector  (500 iterations wait)\n",
      "\n",
      "bestTest = 0.8024822695\n",
      "bestIteration = 81\n",
      "\n",
      "Shrink model to first 82 iterations.\n",
      "0:\tlearn: 0.8075403\ttest: 0.8138298\tbest: 0.8138298 (0)\ttotal: 4.24ms\tremaining: 17s\n",
      "200:\tlearn: 0.8079964\ttest: 0.8138298\tbest: 0.8138298 (0)\ttotal: 719ms\tremaining: 13.6s\n",
      "400:\tlearn: 0.8133171\ttest: 0.8134752\tbest: 0.8141844 (212)\ttotal: 1.5s\tremaining: 13.4s\n",
      "600:\tlearn: 0.8195500\ttest: 0.8102837\tbest: 0.8141844 (212)\ttotal: 2.3s\tremaining: 13s\n"
     ]
    },
    {
     "name": "stderr",
     "output_type": "stream",
     "text": [
      "\u001b[32m[I 2021-08-25 16:09:12,150]\u001b[0m Trial 80 finished with value: 0.6541848739495799 and parameters: {'depth': 5, 'learning_rate': 0.05957064243352267, 'random_strength': 51, 'od_type': 'Iter', 'colsample_bylevel': 0.07518380912628084, 'boosting_type': 'Ordered', 'bootstrap_type': 'Bernoulli', 'subsample': 0.636067651251821}. Best is trial 62 with value: 0.689493218678902.\u001b[0m\n"
     ]
    },
    {
     "name": "stdout",
     "output_type": "stream",
     "text": [
      "Stopped by overfitting detector  (500 iterations wait)\n",
      "\n",
      "bestTest = 0.8141843972\n",
      "bestIteration = 212\n",
      "\n",
      "Shrink model to first 213 iterations.\n",
      "0:\tlearn: 0.8046519\ttest: 0.8205674\tbest: 0.8205674 (0)\ttotal: 3.06ms\tremaining: 12.2s\n",
      "200:\tlearn: 0.8052600\ttest: 0.8205674\tbest: 0.8205674 (0)\ttotal: 1.05s\tremaining: 19.9s\n",
      "400:\tlearn: 0.8114929\ttest: 0.8209220\tbest: 0.8212766 (350)\ttotal: 2.3s\tremaining: 20.6s\n",
      "600:\tlearn: 0.8209182\ttest: 0.8205674\tbest: 0.8216312 (411)\ttotal: 3.53s\tremaining: 19.9s\n",
      "800:\tlearn: 0.8317118\ttest: 0.8198582\tbest: 0.8216312 (411)\ttotal: 4.75s\tremaining: 19s\n"
     ]
    },
    {
     "name": "stderr",
     "output_type": "stream",
     "text": [
      "\u001b[32m[I 2021-08-25 16:09:17,721]\u001b[0m Trial 81 finished with value: 0.6800981139036829 and parameters: {'depth': 7, 'learning_rate': 0.06370151782025453, 'random_strength': 61, 'od_type': 'Iter', 'colsample_bylevel': 0.06533198995888645, 'boosting_type': 'Ordered', 'bootstrap_type': 'MVS'}. Best is trial 62 with value: 0.689493218678902.\u001b[0m\n"
     ]
    },
    {
     "name": "stdout",
     "output_type": "stream",
     "text": [
      "Stopped by overfitting detector  (500 iterations wait)\n",
      "\n",
      "bestTest = 0.8216312057\n",
      "bestIteration = 411\n",
      "\n",
      "Shrink model to first 412 iterations.\n",
      "0:\tlearn: 0.8067802\ttest: 0.8156028\tbest: 0.8156028 (0)\ttotal: 3.62ms\tremaining: 14.5s\n",
      "200:\tlearn: 0.8070842\ttest: 0.8156028\tbest: 0.8156028 (0)\ttotal: 890ms\tremaining: 16.8s\n",
      "400:\tlearn: 0.8165096\ttest: 0.8145390\tbest: 0.8163121 (292)\ttotal: 2.18s\tremaining: 19.6s\n",
      "600:\tlearn: 0.8251748\ttest: 0.8102837\tbest: 0.8163121 (292)\ttotal: 3.35s\tremaining: 18.9s\n"
     ]
    },
    {
     "name": "stderr",
     "output_type": "stream",
     "text": [
      "\u001b[32m[I 2021-08-25 16:09:22,256]\u001b[0m Trial 82 finished with value: 0.6701479933110368 and parameters: {'depth': 7, 'learning_rate': 0.06870085165974955, 'random_strength': 59, 'od_type': 'Iter', 'colsample_bylevel': 0.05945109278875663, 'boosting_type': 'Ordered', 'bootstrap_type': 'MVS'}. Best is trial 62 with value: 0.689493218678902.\u001b[0m\n"
     ]
    },
    {
     "name": "stdout",
     "output_type": "stream",
     "text": [
      "Stopped by overfitting detector  (500 iterations wait)\n",
      "\n",
      "bestTest = 0.8163120567\n",
      "bestIteration = 292\n",
      "\n",
      "Shrink model to first 293 iterations.\n",
      "0:\tlearn: 0.8095166\ttest: 0.8092199\tbest: 0.8092199 (0)\ttotal: 3.14ms\tremaining: 12.5s\n",
      "200:\tlearn: 0.8107327\ttest: 0.8102837\tbest: 0.8102837 (186)\ttotal: 930ms\tremaining: 17.6s\n",
      "400:\tlearn: 0.8187899\ttest: 0.8078014\tbest: 0.8102837 (186)\ttotal: 1.98s\tremaining: 17.8s\n",
      "600:\tlearn: 0.8292794\ttest: 0.8060284\tbest: 0.8102837 (186)\ttotal: 3s\tremaining: 16.9s\n"
     ]
    },
    {
     "name": "stderr",
     "output_type": "stream",
     "text": [
      "\u001b[32m[I 2021-08-25 16:09:25,833]\u001b[0m Trial 83 finished with value: 0.6725496776127379 and parameters: {'depth': 7, 'learning_rate': 0.07804584056037973, 'random_strength': 64, 'od_type': 'Iter', 'colsample_bylevel': 0.054065802792688106, 'boosting_type': 'Ordered', 'bootstrap_type': 'MVS'}. Best is trial 62 with value: 0.689493218678902.\u001b[0m\n"
     ]
    },
    {
     "name": "stdout",
     "output_type": "stream",
     "text": [
      "Stopped by overfitting detector  (500 iterations wait)\n",
      "\n",
      "bestTest = 0.8102836879\n",
      "bestIteration = 186\n",
      "\n",
      "Shrink model to first 187 iterations.\n",
      "0:\tlearn: 0.8117969\ttest: 0.8039007\tbest: 0.8039007 (0)\ttotal: 3.49ms\tremaining: 14s\n",
      "200:\tlearn: 0.8155974\ttest: 0.8021277\tbest: 0.8039007 (0)\ttotal: 1.16s\tremaining: 21.9s\n",
      "400:\tlearn: 0.8314077\ttest: 0.8007092\tbest: 0.8039007 (0)\ttotal: 2.46s\tremaining: 22.1s\n"
     ]
    },
    {
     "name": "stderr",
     "output_type": "stream",
     "text": [
      "\u001b[32m[I 2021-08-25 16:09:28,987]\u001b[0m Trial 84 finished with value: 0.5586646522836101 and parameters: {'depth': 8, 'learning_rate': 0.09491264610503898, 'random_strength': 54, 'od_type': 'Iter', 'colsample_bylevel': 0.049275410332782515, 'boosting_type': 'Ordered', 'bootstrap_type': 'MVS'}. Best is trial 62 with value: 0.689493218678902.\u001b[0m\n"
     ]
    },
    {
     "name": "stdout",
     "output_type": "stream",
     "text": [
      "Stopped by overfitting detector  (500 iterations wait)\n",
      "\n",
      "bestTest = 0.8039007092\n",
      "bestIteration = 0\n",
      "\n",
      "Shrink model to first 1 iterations.\n",
      "0:\tlearn: 0.8084524\ttest: 0.8117021\tbest: 0.8117021 (0)\ttotal: 3.25ms\tremaining: 13s\n",
      "200:\tlearn: 0.8086044\ttest: 0.8117021\tbest: 0.8117021 (0)\ttotal: 923ms\tremaining: 17.4s\n",
      "400:\tlearn: 0.8116449\ttest: 0.8113475\tbest: 0.8124113 (300)\ttotal: 2.01s\tremaining: 18.1s\n",
      "600:\tlearn: 0.8198541\ttest: 0.8102837\tbest: 0.8124113 (300)\ttotal: 3.14s\tremaining: 17.8s\n"
     ]
    },
    {
     "name": "stderr",
     "output_type": "stream",
     "text": [
      "\u001b[32m[I 2021-08-25 16:09:33,472]\u001b[0m Trial 85 finished with value: 0.6811073018505766 and parameters: {'depth': 7, 'learning_rate': 0.05575620455440412, 'random_strength': 100, 'od_type': 'Iter', 'colsample_bylevel': 0.05608157274709, 'boosting_type': 'Ordered', 'bootstrap_type': 'MVS'}. Best is trial 62 with value: 0.689493218678902.\u001b[0m\n"
     ]
    },
    {
     "name": "stdout",
     "output_type": "stream",
     "text": [
      "800:\tlearn: 0.8277592\ttest: 0.8102837\tbest: 0.8124113 (300)\ttotal: 4.31s\tremaining: 17.2s\n",
      "Stopped by overfitting detector  (500 iterations wait)\n",
      "\n",
      "bestTest = 0.8124113475\n",
      "bestIteration = 300\n",
      "\n",
      "Shrink model to first 301 iterations.\n",
      "0:\tlearn: 0.8092125\ttest: 0.8099291\tbest: 0.8099291 (0)\ttotal: 2.8ms\tremaining: 11.2s\n",
      "200:\tlearn: 0.8092125\ttest: 0.8099291\tbest: 0.8099291 (0)\ttotal: 401ms\tremaining: 7.58s\n",
      "400:\tlearn: 0.8092125\ttest: 0.8099291\tbest: 0.8099291 (0)\ttotal: 844ms\tremaining: 7.58s\n"
     ]
    },
    {
     "name": "stderr",
     "output_type": "stream",
     "text": [
      "\u001b[32m[I 2021-08-25 16:09:34,639]\u001b[0m Trial 86 finished with value: 0.514825718169224 and parameters: {'depth': 8, 'learning_rate': 0.08657375743274866, 'random_strength': 58, 'od_type': 'Iter', 'colsample_bylevel': 0.010145046230555246, 'boosting_type': 'Ordered', 'bootstrap_type': 'MVS'}. Best is trial 62 with value: 0.689493218678902.\u001b[0m\n"
     ]
    },
    {
     "name": "stdout",
     "output_type": "stream",
     "text": [
      "Stopped by overfitting detector  (500 iterations wait)\n",
      "\n",
      "bestTest = 0.809929078\n",
      "bestIteration = 0\n",
      "\n",
      "Shrink model to first 1 iterations.\n",
      "0:\tlearn: 0.8117969\ttest: 0.8039007\tbest: 0.8039007 (0)\ttotal: 3.89ms\tremaining: 15.5s\n",
      "200:\tlearn: 0.8172697\ttest: 0.8031915\tbest: 0.8039007 (0)\ttotal: 558ms\tremaining: 10.5s\n",
      "400:\tlearn: 0.8344482\ttest: 0.7996454\tbest: 0.8039007 (0)\ttotal: 1.11s\tremaining: 9.95s\n"
     ]
    },
    {
     "name": "stderr",
     "output_type": "stream",
     "text": [
      "\u001b[32m[I 2021-08-25 16:09:36,162]\u001b[0m Trial 87 finished with value: 0.5800242651264188 and parameters: {'depth': 6, 'learning_rate': 0.11006932019081853, 'random_strength': 8, 'od_type': 'Iter', 'colsample_bylevel': 0.0432149922614968, 'boosting_type': 'Plain', 'bootstrap_type': 'Bayesian', 'bagging_temperature': 7.70596956139051}. Best is trial 62 with value: 0.689493218678902.\u001b[0m\n"
     ]
    },
    {
     "name": "stdout",
     "output_type": "stream",
     "text": [
      "Stopped by overfitting detector  (500 iterations wait)\n",
      "\n",
      "bestTest = 0.8039007092\n",
      "bestIteration = 0\n",
      "\n",
      "Shrink model to first 1 iterations.\n",
      "0:\tlearn: 0.8072362\ttest: 0.8145390\tbest: 0.8145390 (0)\ttotal: 3.27ms\tremaining: 13.1s\n",
      "200:\tlearn: 0.8075403\ttest: 0.8145390\tbest: 0.8148936 (170)\ttotal: 882ms\tremaining: 16.7s\n",
      "400:\tlearn: 0.8133171\ttest: 0.8145390\tbest: 0.8152482 (243)\ttotal: 1.96s\tremaining: 17.6s\n",
      "600:\tlearn: 0.8245667\ttest: 0.8141844\tbest: 0.8152482 (243)\ttotal: 3.07s\tremaining: 17.3s\n"
     ]
    },
    {
     "name": "stderr",
     "output_type": "stream",
     "text": [
      "\u001b[32m[I 2021-08-25 16:09:40,141]\u001b[0m Trial 88 finished with value: 0.6847496651630566 and parameters: {'depth': 7, 'learning_rate': 0.06945204671599842, 'random_strength': 36, 'od_type': 'Iter', 'colsample_bylevel': 0.05228307174243323, 'boosting_type': 'Ordered', 'bootstrap_type': 'Bernoulli', 'subsample': 0.4918702031592808}. Best is trial 62 with value: 0.689493218678902.\u001b[0m\n"
     ]
    },
    {
     "name": "stdout",
     "output_type": "stream",
     "text": [
      "Stopped by overfitting detector  (500 iterations wait)\n",
      "\n",
      "bestTest = 0.815248227\n",
      "bestIteration = 243\n",
      "\n",
      "Shrink model to first 244 iterations.\n",
      "0:\tlearn: 0.8116449\ttest: 0.8042553\tbest: 0.8042553 (0)\ttotal: 9.47ms\tremaining: 37.9s\n",
      "200:\tlearn: 0.8122530\ttest: 0.8039007\tbest: 0.8042553 (0)\ttotal: 899ms\tremaining: 17s\n",
      "400:\tlearn: 0.8189419\ttest: 0.8063830\tbest: 0.8063830 (395)\ttotal: 1.89s\tremaining: 17s\n",
      "600:\tlearn: 0.8282153\ttest: 0.8053191\tbest: 0.8067376 (510)\ttotal: 2.94s\tremaining: 16.6s\n",
      "800:\tlearn: 0.8373366\ttest: 0.8035461\tbest: 0.8067376 (510)\ttotal: 3.94s\tremaining: 15.7s\n"
     ]
    },
    {
     "name": "stderr",
     "output_type": "stream",
     "text": [
      "\u001b[32m[I 2021-08-25 16:09:45,457]\u001b[0m Trial 89 finished with value: 0.6748595774863891 and parameters: {'depth': 7, 'learning_rate': 0.0660652509176995, 'random_strength': 22, 'od_type': 'Iter', 'colsample_bylevel': 0.051083328060810534, 'boosting_type': 'Ordered', 'bootstrap_type': 'Bernoulli', 'subsample': 0.5028282693491354}. Best is trial 62 with value: 0.689493218678902.\u001b[0m\n"
     ]
    },
    {
     "name": "stdout",
     "output_type": "stream",
     "text": [
      "1000:\tlearn: 0.8488902\ttest: 0.8024823\tbest: 0.8067376 (510)\ttotal: 5.05s\tremaining: 15.1s\n",
      "Stopped by overfitting detector  (500 iterations wait)\n",
      "\n",
      "bestTest = 0.8067375887\n",
      "bestIteration = 510\n",
      "\n",
      "Shrink model to first 511 iterations.\n",
      "0:\tlearn: 0.8116449\ttest: 0.8042553\tbest: 0.8042553 (0)\ttotal: 6.36ms\tremaining: 25.4s\n",
      "200:\tlearn: 0.8116449\ttest: 0.8042553\tbest: 0.8042553 (0)\ttotal: 853ms\tremaining: 16.1s\n",
      "400:\tlearn: 0.8148373\ttest: 0.8031915\tbest: 0.8042553 (0)\ttotal: 1.77s\tremaining: 15.9s\n"
     ]
    },
    {
     "name": "stderr",
     "output_type": "stream",
     "text": [
      "\u001b[32m[I 2021-08-25 16:09:47,818]\u001b[0m Trial 90 finished with value: 0.5377918679549114 and parameters: {'depth': 6, 'learning_rate': 0.04976024062462502, 'random_strength': 34, 'od_type': 'Iter', 'colsample_bylevel': 0.07077762511238578, 'boosting_type': 'Ordered', 'bootstrap_type': 'Bernoulli', 'subsample': 0.3647090881065578}. Best is trial 62 with value: 0.689493218678902.\u001b[0m\n"
     ]
    },
    {
     "name": "stdout",
     "output_type": "stream",
     "text": [
      "Stopped by overfitting detector  (500 iterations wait)\n",
      "\n",
      "bestTest = 0.8042553191\n",
      "bestIteration = 0\n",
      "\n",
      "Shrink model to first 1 iterations.\n",
      "0:\tlearn: 0.8099726\ttest: 0.8081560\tbest: 0.8081560 (0)\ttotal: 4.2ms\tremaining: 16.8s\n",
      "200:\tlearn: 0.8113408\ttest: 0.8078014\tbest: 0.8081560 (0)\ttotal: 832ms\tremaining: 15.7s\n",
      "400:\tlearn: 0.8210702\ttest: 0.8070922\tbest: 0.8088652 (268)\ttotal: 1.9s\tremaining: 17s\n",
      "600:\tlearn: 0.8335360\ttest: 0.8063830\tbest: 0.8088652 (268)\ttotal: 2.97s\tremaining: 16.8s\n"
     ]
    },
    {
     "name": "stderr",
     "output_type": "stream",
     "text": [
      "\u001b[32m[I 2021-08-25 16:09:51,894]\u001b[0m Trial 91 finished with value: 0.6698871558122501 and parameters: {'depth': 7, 'learning_rate': 0.07427434473223384, 'random_strength': 28, 'od_type': 'Iter', 'colsample_bylevel': 0.05266751906495013, 'boosting_type': 'Ordered', 'bootstrap_type': 'Bernoulli', 'subsample': 0.6128832343538884}. Best is trial 62 with value: 0.689493218678902.\u001b[0m\n"
     ]
    },
    {
     "name": "stdout",
     "output_type": "stream",
     "text": [
      "Stopped by overfitting detector  (500 iterations wait)\n",
      "\n",
      "bestTest = 0.8088652482\n",
      "bestIteration = 268\n",
      "\n",
      "Shrink model to first 269 iterations.\n",
      "0:\tlearn: 0.8079964\ttest: 0.8127660\tbest: 0.8127660 (0)\ttotal: 3.94ms\tremaining: 15.8s\n",
      "200:\tlearn: 0.8093645\ttest: 0.8127660\tbest: 0.8127660 (0)\ttotal: 962ms\tremaining: 18.2s\n",
      "400:\tlearn: 0.8215263\ttest: 0.8131206\tbest: 0.8141844 (344)\ttotal: 2.05s\tremaining: 18.4s\n",
      "600:\tlearn: 0.8361204\ttest: 0.8117021\tbest: 0.8141844 (344)\ttotal: 3.19s\tremaining: 18.1s\n",
      "800:\tlearn: 0.8523867\ttest: 0.8099291\tbest: 0.8141844 (344)\ttotal: 4.41s\tremaining: 17.6s\n"
     ]
    },
    {
     "name": "stderr",
     "output_type": "stream",
     "text": [
      "\u001b[32m[I 2021-08-25 16:09:56,739]\u001b[0m Trial 92 finished with value: 0.6829461169284468 and parameters: {'depth': 7, 'learning_rate': 0.08229107447972997, 'random_strength': 35, 'od_type': 'Iter', 'colsample_bylevel': 0.0607922079596525, 'boosting_type': 'Ordered', 'bootstrap_type': 'Bernoulli', 'subsample': 0.74821509300635}. Best is trial 62 with value: 0.689493218678902.\u001b[0m\n"
     ]
    },
    {
     "name": "stdout",
     "output_type": "stream",
     "text": [
      "Stopped by overfitting detector  (500 iterations wait)\n",
      "\n",
      "bestTest = 0.8141843972\n",
      "bestIteration = 344\n",
      "\n",
      "Shrink model to first 345 iterations.\n",
      "0:\tlearn: 0.8137732\ttest: 0.7992908\tbest: 0.7992908 (0)\ttotal: 7.52ms\tremaining: 30.1s\n",
      "200:\tlearn: 0.8172697\ttest: 0.7978723\tbest: 0.7996454 (138)\ttotal: 977ms\tremaining: 18.5s\n",
      "400:\tlearn: 0.8320158\ttest: 0.7975177\tbest: 0.7996454 (138)\ttotal: 2.14s\tremaining: 19.2s\n",
      "600:\tlearn: 0.8520827\ttest: 0.7960993\tbest: 0.7996454 (138)\ttotal: 3.34s\tremaining: 18.9s\n"
     ]
    },
    {
     "name": "stderr",
     "output_type": "stream",
     "text": [
      "\u001b[32m[I 2021-08-25 16:10:00,484]\u001b[0m Trial 93 finished with value: 0.6724096306213374 and parameters: {'depth': 7, 'learning_rate': 0.09834715978395163, 'random_strength': 35, 'od_type': 'Iter', 'colsample_bylevel': 0.06145301634961125, 'boosting_type': 'Ordered', 'bootstrap_type': 'Bernoulli', 'subsample': 0.8046666867223952}. Best is trial 62 with value: 0.689493218678902.\u001b[0m\n"
     ]
    },
    {
     "name": "stdout",
     "output_type": "stream",
     "text": [
      "Stopped by overfitting detector  (500 iterations wait)\n",
      "\n",
      "bestTest = 0.7996453901\n",
      "bestIteration = 138\n",
      "\n",
      "Shrink model to first 139 iterations.\n",
      "0:\tlearn: 0.8127090\ttest: 0.8113475\tbest: 0.8113475 (0)\ttotal: 32.4ms\tremaining: 2m 9s\n",
      "200:\tlearn: 0.8087565\ttest: 0.8159574\tbest: 0.8163121 (1)\ttotal: 1.52s\tremaining: 28.7s\n",
      "400:\tlearn: 0.8203101\ttest: 0.8152482\tbest: 0.8166667 (224)\ttotal: 3.34s\tremaining: 29.9s\n",
      "600:\tlearn: 0.8423533\ttest: 0.8145390\tbest: 0.8166667 (224)\ttotal: 5.21s\tremaining: 29.4s\n"
     ]
    },
    {
     "name": "stderr",
     "output_type": "stream",
     "text": [
      "\u001b[32m[I 2021-08-25 16:10:07,095]\u001b[0m Trial 94 finished with value: 0.6766057046248185 and parameters: {'depth': 9, 'learning_rate': 0.08397813862606084, 'random_strength': 30, 'od_type': 'Iter', 'colsample_bylevel': 0.04737322065114041, 'boosting_type': 'Ordered', 'bootstrap_type': 'Bernoulli', 'subsample': 0.7547961945057474}. Best is trial 62 with value: 0.689493218678902.\u001b[0m\n"
     ]
    },
    {
     "name": "stdout",
     "output_type": "stream",
     "text": [
      "Stopped by overfitting detector  (500 iterations wait)\n",
      "\n",
      "bestTest = 0.8166666667\n",
      "bestIteration = 224\n",
      "\n",
      "Shrink model to first 225 iterations.\n",
      "0:\tlearn: 0.8127090\ttest: 0.8017730\tbest: 0.8017730 (0)\ttotal: 9.5ms\tremaining: 38s\n",
      "200:\tlearn: 0.8128611\ttest: 0.8017730\tbest: 0.8017730 (0)\ttotal: 1.34s\tremaining: 25.4s\n",
      "400:\tlearn: 0.8233506\ttest: 0.8010638\tbest: 0.8021277 (253)\ttotal: 2.99s\tremaining: 26.8s\n",
      "600:\tlearn: 0.8349042\ttest: 0.7989362\tbest: 0.8021277 (253)\ttotal: 4.79s\tremaining: 27.1s\n"
     ]
    },
    {
     "name": "stderr",
     "output_type": "stream",
     "text": [
      "\u001b[32m[I 2021-08-25 16:10:13,514]\u001b[0m Trial 95 finished with value: 0.6633014188633743 and parameters: {'depth': 8, 'learning_rate': 0.05979599284633669, 'random_strength': 30, 'od_type': 'Iter', 'colsample_bylevel': 0.063176293682823, 'boosting_type': 'Ordered', 'bootstrap_type': 'Bernoulli', 'subsample': 0.8694090676790891}. Best is trial 62 with value: 0.689493218678902.\u001b[0m\n"
     ]
    },
    {
     "name": "stdout",
     "output_type": "stream",
     "text": [
      "Stopped by overfitting detector  (500 iterations wait)\n",
      "\n",
      "bestTest = 0.8021276596\n",
      "bestIteration = 253\n",
      "\n",
      "Shrink model to first 254 iterations.\n",
      "0:\tlearn: 0.8081484\ttest: 0.8127660\tbest: 0.8127660 (0)\ttotal: 9.02ms\tremaining: 36.1s\n",
      "200:\tlearn: 0.8130131\ttest: 0.8141844\tbest: 0.8148936 (167)\ttotal: 998ms\tremaining: 18.9s\n",
      "400:\tlearn: 0.8376406\ttest: 0.8109929\tbest: 0.8152482 (214)\ttotal: 2.24s\tremaining: 20.1s\n",
      "600:\tlearn: 0.8674369\ttest: 0.8085106\tbest: 0.8152482 (214)\ttotal: 3.49s\tremaining: 19.7s\n"
     ]
    },
    {
     "name": "stderr",
     "output_type": "stream",
     "text": [
      "\u001b[32m[I 2021-08-25 16:10:17,862]\u001b[0m Trial 96 finished with value: 0.6871124530646782 and parameters: {'depth': 7, 'learning_rate': 0.11976816017547787, 'random_strength': 43, 'od_type': 'Iter', 'colsample_bylevel': 0.06637917186848785, 'boosting_type': 'Ordered', 'bootstrap_type': 'Bernoulli', 'subsample': 0.48697469104826424}. Best is trial 62 with value: 0.689493218678902.\u001b[0m\n"
     ]
    },
    {
     "name": "stdout",
     "output_type": "stream",
     "text": [
      "Stopped by overfitting detector  (500 iterations wait)\n",
      "\n",
      "bestTest = 0.815248227\n",
      "bestIteration = 214\n",
      "\n",
      "Shrink model to first 215 iterations.\n",
      "0:\tlearn: 0.8111888\ttest: 0.8056738\tbest: 0.8056738 (0)\ttotal: 7.52ms\tremaining: 30.1s\n",
      "200:\tlearn: 0.8178778\ttest: 0.8070922\tbest: 0.8078014 (185)\ttotal: 855ms\tremaining: 16.2s\n",
      "400:\tlearn: 0.8335360\ttest: 0.8053191\tbest: 0.8078014 (185)\ttotal: 1.82s\tremaining: 16.3s\n",
      "600:\tlearn: 0.8566434\ttest: 0.8031915\tbest: 0.8078014 (185)\ttotal: 2.75s\tremaining: 15.6s\n"
     ]
    },
    {
     "name": "stderr",
     "output_type": "stream",
     "text": [
      "\u001b[32m[I 2021-08-25 16:10:21,179]\u001b[0m Trial 97 finished with value: 0.6924604194510128 and parameters: {'depth': 6, 'learning_rate': 0.13858524595396715, 'random_strength': 43, 'od_type': 'Iter', 'colsample_bylevel': 0.06788765633375943, 'boosting_type': 'Ordered', 'bootstrap_type': 'Bernoulli', 'subsample': 0.48675752170149833}. Best is trial 97 with value: 0.6924604194510128.\u001b[0m\n"
     ]
    },
    {
     "name": "stdout",
     "output_type": "stream",
     "text": [
      "Stopped by overfitting detector  (500 iterations wait)\n",
      "\n",
      "bestTest = 0.8078014184\n",
      "bestIteration = 185\n",
      "\n",
      "Shrink model to first 186 iterations.\n",
      "0:\tlearn: 0.8101247\ttest: 0.8078014\tbest: 0.8078014 (0)\ttotal: 3.75ms\tremaining: 15s\n",
      "200:\tlearn: 0.8157495\ttest: 0.8078014\tbest: 0.8088652 (148)\ttotal: 893ms\tremaining: 16.9s\n",
      "400:\tlearn: 0.8384007\ttest: 0.8028369\tbest: 0.8088652 (148)\ttotal: 1.92s\tremaining: 17.2s\n",
      "600:\tlearn: 0.8592277\ttest: 0.7982270\tbest: 0.8088652 (148)\ttotal: 2.91s\tremaining: 16.5s\n"
     ]
    },
    {
     "name": "stderr",
     "output_type": "stream",
     "text": [
      "\u001b[32m[I 2021-08-25 16:10:24,526]\u001b[0m Trial 98 finished with value: 0.6735078676511085 and parameters: {'depth': 6, 'learning_rate': 0.13659101442676766, 'random_strength': 42, 'od_type': 'Iter', 'colsample_bylevel': 0.0787291842925176, 'boosting_type': 'Ordered', 'bootstrap_type': 'Bernoulli', 'subsample': 0.49973592540153755}. Best is trial 97 with value: 0.6924604194510128.\u001b[0m\n"
     ]
    },
    {
     "name": "stdout",
     "output_type": "stream",
     "text": [
      "Stopped by overfitting detector  (500 iterations wait)\n",
      "\n",
      "bestTest = 0.8088652482\n",
      "bestIteration = 148\n",
      "\n",
      "Shrink model to first 149 iterations.\n",
      "0:\tlearn: 0.8067802\ttest: 0.8163121\tbest: 0.8163121 (0)\ttotal: 5.98ms\tremaining: 23.9s\n",
      "200:\tlearn: 0.8200061\ttest: 0.8141844\tbest: 0.8163121 (0)\ttotal: 858ms\tremaining: 16.2s\n",
      "400:\tlearn: 0.8434175\ttest: 0.8060284\tbest: 0.8163121 (0)\ttotal: 1.8s\tremaining: 16.1s\n"
     ]
    },
    {
     "name": "stderr",
     "output_type": "stream",
     "text": [
      "\u001b[32m[I 2021-08-25 16:10:26,969]\u001b[0m Trial 99 finished with value: 0.546545894286989 and parameters: {'depth': 6, 'learning_rate': 0.1597214712970169, 'random_strength': 42, 'od_type': 'IncToDec', 'colsample_bylevel': 0.0668658677247019, 'boosting_type': 'Ordered', 'bootstrap_type': 'Bernoulli', 'subsample': 0.4211099455830591}. Best is trial 97 with value: 0.6924604194510128.\u001b[0m\n"
     ]
    },
    {
     "name": "stdout",
     "output_type": "stream",
     "text": [
      "Stopped by overfitting detector  (500 iterations wait)\n",
      "\n",
      "bestTest = 0.8163120567\n",
      "bestIteration = 0\n",
      "\n",
      "Shrink model to first 1 iterations.\n",
      "Number of finished trials: 100\n",
      "Best trial: {'depth': 6, 'learning_rate': 0.13858524595396715, 'random_strength': 43, 'od_type': 'Iter', 'colsample_bylevel': 0.06788765633375943, 'boosting_type': 'Ordered', 'bootstrap_type': 'Bernoulli', 'subsample': 0.48675752170149833}\n",
      "Best value: 0.6924604194510128\n",
      "CPU times: user 59min 58s, sys: 2min 44s, total: 1h 2min 42s\n",
      "Wall time: 6min 59s\n"
     ]
    }
   ],
   "source": [
    "%%time\n",
    "study = optuna.create_study(direction = 'maximize')\n",
    "study.optimize(objective, n_trials = 100)\n",
    "print('Number of finished trials:', len(study.trials))\n",
    "print('Best trial:', study.best_trial.params)\n",
    "print('Best value:', study.best_value)"
   ]
  },
  {
   "cell_type": "code",
   "execution_count": 13,
   "metadata": {},
   "outputs": [
    {
     "data": {
      "text/html": [
       "<div>\n",
       "<style scoped>\n",
       "    .dataframe tbody tr th:only-of-type {\n",
       "        vertical-align: middle;\n",
       "    }\n",
       "\n",
       "    .dataframe tbody tr th {\n",
       "        vertical-align: top;\n",
       "    }\n",
       "\n",
       "    .dataframe thead th {\n",
       "        text-align: right;\n",
       "    }\n",
       "</style>\n",
       "<table border=\"1\" class=\"dataframe\">\n",
       "  <thead>\n",
       "    <tr style=\"text-align: right;\">\n",
       "      <th></th>\n",
       "      <th>value</th>\n",
       "      <th>number</th>\n",
       "    </tr>\n",
       "  </thead>\n",
       "  <tbody>\n",
       "    <tr>\n",
       "      <th>26</th>\n",
       "      <td>0.500000</td>\n",
       "      <td>26</td>\n",
       "    </tr>\n",
       "    <tr>\n",
       "      <th>16</th>\n",
       "      <td>0.500000</td>\n",
       "      <td>16</td>\n",
       "    </tr>\n",
       "    <tr>\n",
       "      <th>86</th>\n",
       "      <td>0.514826</td>\n",
       "      <td>86</td>\n",
       "    </tr>\n",
       "    <tr>\n",
       "      <th>51</th>\n",
       "      <td>0.530041</td>\n",
       "      <td>51</td>\n",
       "    </tr>\n",
       "    <tr>\n",
       "      <th>37</th>\n",
       "      <td>0.537346</td>\n",
       "      <td>37</td>\n",
       "    </tr>\n",
       "    <tr>\n",
       "      <th>...</th>\n",
       "      <td>...</td>\n",
       "      <td>...</td>\n",
       "    </tr>\n",
       "    <tr>\n",
       "      <th>10</th>\n",
       "      <td>0.685615</td>\n",
       "      <td>10</td>\n",
       "    </tr>\n",
       "    <tr>\n",
       "      <th>96</th>\n",
       "      <td>0.687112</td>\n",
       "      <td>96</td>\n",
       "    </tr>\n",
       "    <tr>\n",
       "      <th>13</th>\n",
       "      <td>0.689199</td>\n",
       "      <td>13</td>\n",
       "    </tr>\n",
       "    <tr>\n",
       "      <th>62</th>\n",
       "      <td>0.689493</td>\n",
       "      <td>62</td>\n",
       "    </tr>\n",
       "    <tr>\n",
       "      <th>97</th>\n",
       "      <td>0.692460</td>\n",
       "      <td>97</td>\n",
       "    </tr>\n",
       "  </tbody>\n",
       "</table>\n",
       "<p>100 rows × 2 columns</p>\n",
       "</div>"
      ],
      "text/plain": [
       "       value  number\n",
       "26  0.500000      26\n",
       "16  0.500000      16\n",
       "86  0.514826      86\n",
       "51  0.530041      51\n",
       "37  0.537346      37\n",
       "..       ...     ...\n",
       "10  0.685615      10\n",
       "96  0.687112      96\n",
       "13  0.689199      13\n",
       "62  0.689493      62\n",
       "97  0.692460      97\n",
       "\n",
       "[100 rows x 2 columns]"
      ]
     },
     "execution_count": 13,
     "metadata": {},
     "output_type": "execute_result"
    }
   ],
   "source": [
    "df = pd.DataFrame()\n",
    "df['value'] = [i.value for i in study.trials]\n",
    "df['number'] = [i.number for i in study.trials]\n",
    "df.sort_values('value')"
   ]
  },
  {
   "cell_type": "code",
   "execution_count": 39,
   "metadata": {},
   "outputs": [],
   "source": [
    "df = pd.DataFrame()\n",
    "df['value'] = [i.value for i in study.trials]\n",
    "df['number'] = [i.number for i in study.trials]"
   ]
  },
  {
   "cell_type": "code",
   "execution_count": 40,
   "metadata": {},
   "outputs": [
    {
     "data": {
      "text/html": [
       "<div>\n",
       "<style scoped>\n",
       "    .dataframe tbody tr th:only-of-type {\n",
       "        vertical-align: middle;\n",
       "    }\n",
       "\n",
       "    .dataframe tbody tr th {\n",
       "        vertical-align: top;\n",
       "    }\n",
       "\n",
       "    .dataframe thead th {\n",
       "        text-align: right;\n",
       "    }\n",
       "</style>\n",
       "<table border=\"1\" class=\"dataframe\">\n",
       "  <thead>\n",
       "    <tr style=\"text-align: right;\">\n",
       "      <th></th>\n",
       "      <th>value</th>\n",
       "      <th>number</th>\n",
       "    </tr>\n",
       "  </thead>\n",
       "  <tbody>\n",
       "    <tr>\n",
       "      <th>117</th>\n",
       "      <td>0.639581</td>\n",
       "      <td>117</td>\n",
       "    </tr>\n",
       "    <tr>\n",
       "      <th>3</th>\n",
       "      <td>0.642037</td>\n",
       "      <td>3</td>\n",
       "    </tr>\n",
       "    <tr>\n",
       "      <th>5</th>\n",
       "      <td>0.650139</td>\n",
       "      <td>5</td>\n",
       "    </tr>\n",
       "    <tr>\n",
       "      <th>0</th>\n",
       "      <td>0.650198</td>\n",
       "      <td>0</td>\n",
       "    </tr>\n",
       "    <tr>\n",
       "      <th>77</th>\n",
       "      <td>0.652644</td>\n",
       "      <td>77</td>\n",
       "    </tr>\n",
       "    <tr>\n",
       "      <th>...</th>\n",
       "      <td>...</td>\n",
       "      <td>...</td>\n",
       "    </tr>\n",
       "    <tr>\n",
       "      <th>58</th>\n",
       "      <td>0.701938</td>\n",
       "      <td>58</td>\n",
       "    </tr>\n",
       "    <tr>\n",
       "      <th>345</th>\n",
       "      <td>0.703322</td>\n",
       "      <td>345</td>\n",
       "    </tr>\n",
       "    <tr>\n",
       "      <th>477</th>\n",
       "      <td>0.703801</td>\n",
       "      <td>477</td>\n",
       "    </tr>\n",
       "    <tr>\n",
       "      <th>145</th>\n",
       "      <td>0.708665</td>\n",
       "      <td>145</td>\n",
       "    </tr>\n",
       "    <tr>\n",
       "      <th>439</th>\n",
       "      <td>0.708976</td>\n",
       "      <td>439</td>\n",
       "    </tr>\n",
       "  </tbody>\n",
       "</table>\n",
       "<p>500 rows × 2 columns</p>\n",
       "</div>"
      ],
      "text/plain": [
       "        value  number\n",
       "117  0.639581     117\n",
       "3    0.642037       3\n",
       "5    0.650139       5\n",
       "0    0.650198       0\n",
       "77   0.652644      77\n",
       "..        ...     ...\n",
       "58   0.701938      58\n",
       "345  0.703322     345\n",
       "477  0.703801     477\n",
       "145  0.708665     145\n",
       "439  0.708976     439\n",
       "\n",
       "[500 rows x 2 columns]"
      ]
     },
     "execution_count": 40,
     "metadata": {},
     "output_type": "execute_result"
    }
   ],
   "source": [
    "df.sort_values('value')"
   ]
  },
  {
   "cell_type": "code",
   "execution_count": 41,
   "metadata": {},
   "outputs": [],
   "source": [
    "top_5_params = study.trials[58].params\n",
    "top_4_params = study.trials[345].params\n",
    "top_3_params = study.trials[477].params\n",
    "top_2_params = study.trials[145].params\n",
    "top_1_params = study.trials[439].params"
   ]
  },
  {
   "cell_type": "code",
   "execution_count": 42,
   "metadata": {},
   "outputs": [],
   "source": [
    "def display_importances(feature_importance_df_):\n",
    "    cols = feature_importance_df_[[\"feature\", \"importance\"]].groupby(\"feature\").mean().sort_values(by=\"importance\", ascending=False)[:40].index\n",
    "    best_features = feature_importance_df_.loc[feature_importance_df_.feature.isin(cols)]\n",
    "    plt.figure(figsize=(8, 10))\n",
    "    sns.barplot(x=\"importance\", y=\"feature\", data=best_features.sort_values(by=\"importance\", ascending=False))\n",
    "    plt.title('Catboost Features (avg over folds)')\n",
    "    plt.tight_layout()"
   ]
  },
  {
   "cell_type": "code",
   "execution_count": 43,
   "metadata": {},
   "outputs": [],
   "source": [
    "SEED = 1\n",
    "\n",
    "from catboost import Pool\n",
    "from catboost import CatBoostClassifier\n",
    "import seaborn as sns\n",
    "import matplotlib.pyplot as plt\n",
    "\n",
    "from sklearn.model_selection import StratifiedKFold\n",
    "\n",
    "def kfold_lightgbm(X, y, test_df, num_folds, params): # amount of data folds\n",
    "    folds = StratifiedKFold(n_splits=num_folds, shuffle=True, random_state=SEED)\n",
    "\n",
    "\n",
    "    test_data = Pool(data=test_df[X.columns],\n",
    "                 cat_features=cat_nums)\n",
    "    scores = []\n",
    "    oof_preds = np.zeros(train_df.shape[0])\n",
    "    prediction = np.zeros(test_df.shape[0])\n",
    "    feature_importance_df = pd.DataFrame()\n",
    "    for fold_n, (train_index, valid_index) in enumerate(folds.split(X, y)):\n",
    "    \n",
    "        X_train, X_valid = X.iloc[train_index], X.iloc[valid_index] # train and validation data splits\n",
    "        y_train, y_valid = y[train_index], y[valid_index]\n",
    "        train_data = Pool(data=X_train, \n",
    "                      label=y_train,\n",
    "                      cat_features=cat_nums)\n",
    "        valid_data = Pool(data=X_valid, \n",
    "                      label=y_valid,\n",
    "                      cat_features=cat_nums)\n",
    "    \n",
    "        model = CatBoostClassifier(l2_leaf_reg=50,\n",
    "            random_seed=SEED,\n",
    "            border_count=64,\n",
    "            n_estimators = 5000,\n",
    "            eval_metric = 'AUC',\n",
    "            **params)\n",
    "        model.fit(train_data,\n",
    "              eval_set=valid_data, \n",
    "              use_best_model=True,\n",
    "              early_stopping_rounds=500,\n",
    "              verbose = 200,\n",
    "\n",
    "             )\n",
    "    \n",
    "        score = model.get_best_score()['validation']['AUC']\n",
    "        scores.append(score)\n",
    "        print(model)\n",
    "        oof_preds[valid_index] = model.predict_proba(X_valid)[:, 1]\n",
    "        y_pred = model.predict_proba(test_data)[:, 1]\n",
    "        prediction += y_pred\n",
    "        fold_importance_df = pd.DataFrame()\n",
    "        fold_importance_df[\"feature\"] = feats\n",
    "        fold_importance_df[\"importance\"] = model.feature_importances_\n",
    "        fold_importance_df[\"fold\"] = fold_n + 1\n",
    "        feature_importance_df = pd.concat([feature_importance_df, fold_importance_df], axis=0)\n",
    "    display_importances(feature_importance_df)\n",
    "    prediction /= num_folds\n",
    "    print('CV mean: {:.4f}, CV std: {:.4f}'.format(np.mean(scores), np.std(scores)))\n",
    "    return prediction, oof_preds"
   ]
  },
  {
   "cell_type": "code",
   "execution_count": 44,
   "metadata": {},
   "outputs": [
    {
     "name": "stdout",
     "output_type": "stream",
     "text": [
      "0:\ttest: 0.5781820\tbest: 0.5781820 (0)\ttotal: 9.38ms\tremaining: 46.9s\n",
      "200:\ttest: 0.6993261\tbest: 0.6993261 (200)\ttotal: 1.18s\tremaining: 28.1s\n",
      "400:\ttest: 0.6944461\tbest: 0.7032701 (234)\ttotal: 2.75s\tremaining: 31.5s\n",
      "600:\ttest: 0.6886815\tbest: 0.7032701 (234)\ttotal: 4.36s\tremaining: 31.9s\n",
      "Stopped by overfitting detector  (500 iterations wait)\n",
      "\n",
      "bestTest = 0.7032701018\n",
      "bestIteration = 234\n",
      "\n",
      "Shrink model to first 235 iterations.\n",
      "<catboost.core.CatBoostClassifier object at 0x7f84d93970f0>\n",
      "0:\ttest: 0.5769937\tbest: 0.5769937 (0)\ttotal: 3.97ms\tremaining: 19.9s\n",
      "200:\ttest: 0.6547159\tbest: 0.6555198 (183)\ttotal: 1.27s\tremaining: 30.5s\n",
      "400:\ttest: 0.6543617\tbest: 0.6555198 (183)\ttotal: 2.83s\tremaining: 32.5s\n",
      "600:\ttest: 0.6522328\tbest: 0.6555198 (183)\ttotal: 4.45s\tremaining: 32.6s\n",
      "Stopped by overfitting detector  (500 iterations wait)\n",
      "\n",
      "bestTest = 0.655519788\n",
      "bestIteration = 183\n",
      "\n",
      "Shrink model to first 184 iterations.\n",
      "<catboost.core.CatBoostClassifier object at 0x7f84d93e9ef0>\n",
      "0:\ttest: 0.5583054\tbest: 0.5583054 (0)\ttotal: 11.1ms\tremaining: 55.3s\n",
      "200:\ttest: 0.6646924\tbest: 0.6654030 (193)\ttotal: 1.2s\tremaining: 28.7s\n",
      "400:\ttest: 0.6571820\tbest: 0.6654030 (193)\ttotal: 2.7s\tremaining: 31s\n",
      "600:\ttest: 0.6510634\tbest: 0.6654030 (193)\ttotal: 4.15s\tremaining: 30.4s\n",
      "Stopped by overfitting detector  (500 iterations wait)\n",
      "\n",
      "bestTest = 0.6654030207\n",
      "bestIteration = 193\n",
      "\n",
      "Shrink model to first 194 iterations.\n",
      "<catboost.core.CatBoostClassifier object at 0x7f84d938a6d8>\n",
      "0:\ttest: 0.5994164\tbest: 0.5994164 (0)\ttotal: 11ms\tremaining: 55s\n",
      "200:\ttest: 0.6741687\tbest: 0.6741871 (198)\ttotal: 1.26s\tremaining: 30.1s\n",
      "400:\ttest: 0.6708373\tbest: 0.6769896 (258)\ttotal: 2.85s\tremaining: 32.7s\n",
      "600:\ttest: 0.6647604\tbest: 0.6769896 (258)\ttotal: 4.45s\tremaining: 32.5s\n",
      "Stopped by overfitting detector  (500 iterations wait)\n",
      "\n",
      "bestTest = 0.6769895577\n",
      "bestIteration = 258\n",
      "\n",
      "Shrink model to first 259 iterations.\n",
      "<catboost.core.CatBoostClassifier object at 0x7f84d93c3128>\n",
      "0:\ttest: 0.6047036\tbest: 0.6047036 (0)\ttotal: 10.7ms\tremaining: 53.6s\n",
      "200:\ttest: 0.6855439\tbest: 0.6892022 (169)\ttotal: 1.28s\tremaining: 30.6s\n",
      "400:\ttest: 0.6753147\tbest: 0.6892022 (169)\ttotal: 2.77s\tremaining: 31.8s\n",
      "600:\ttest: 0.6681248\tbest: 0.6892022 (169)\ttotal: 4.33s\tremaining: 31.7s\n",
      "Stopped by overfitting detector  (500 iterations wait)\n",
      "\n",
      "bestTest = 0.6892021935\n",
      "bestIteration = 169\n",
      "\n",
      "Shrink model to first 170 iterations.\n",
      "<catboost.core.CatBoostClassifier object at 0x7f84d93974a8>\n",
      "CV mean: 0.6781, CV std: 0.0169\n"
     ]
    },
    {
     "data": {
      "image/png": "[encoded data removed]",
      "text/plain": [
       "<Figure size 576x720 with 1 Axes>"
      ]
     },
     "metadata": {
      "needs_background": "light"
     },
     "output_type": "display_data"
    }
   ],
   "source": [
    "test_5, oof_preds_5 = kfold_lightgbm(X, y, test_df, 5, top_5_params)"
   ]
  },
  {
   "cell_type": "code",
   "execution_count": 45,
   "metadata": {},
   "outputs": [
    {
     "name": "stdout",
     "output_type": "stream",
     "text": [
      "0:\ttest: 0.5000000\tbest: 0.5000000 (0)\ttotal: 3.19ms\tremaining: 15.9s\n",
      "200:\ttest: 0.6752821\tbest: 0.6760052 (186)\ttotal: 493ms\tremaining: 11.8s\n",
      "400:\ttest: 0.6960923\tbest: 0.6960923 (400)\ttotal: 1.06s\tremaining: 12.1s\n",
      "600:\ttest: 0.6977019\tbest: 0.6989076 (576)\ttotal: 1.56s\tremaining: 11.4s\n",
      "800:\ttest: 0.6965768\tbest: 0.6989076 (576)\ttotal: 2.06s\tremaining: 10.8s\n",
      "1000:\ttest: 0.6967714\tbest: 0.6989076 (576)\ttotal: 2.56s\tremaining: 10.2s\n",
      "Stopped by overfitting detector  (500 iterations wait)\n",
      "\n",
      "bestTest = 0.6989076414\n",
      "bestIteration = 576\n",
      "\n",
      "Shrink model to first 577 iterations.\n",
      "<catboost.core.CatBoostClassifier object at 0x7f84d9433ac8>\n",
      "0:\ttest: 0.5000000\tbest: 0.5000000 (0)\ttotal: 2.86ms\tremaining: 14.3s\n",
      "200:\ttest: 0.6397401\tbest: 0.6436345 (64)\ttotal: 505ms\tremaining: 12.1s\n",
      "400:\ttest: 0.6507370\tbest: 0.6508435 (397)\ttotal: 1.05s\tremaining: 12.1s\n",
      "600:\ttest: 0.6526568\tbest: 0.6529834 (593)\ttotal: 1.58s\tremaining: 11.6s\n",
      "800:\ttest: 0.6531633\tbest: 0.6540314 (772)\ttotal: 2.08s\tremaining: 10.9s\n",
      "1000:\ttest: 0.6522181\tbest: 0.6540314 (772)\ttotal: 2.56s\tremaining: 10.2s\n",
      "1200:\ttest: 0.6526843\tbest: 0.6540314 (772)\ttotal: 3.08s\tremaining: 9.76s\n",
      "Stopped by overfitting detector  (500 iterations wait)\n",
      "\n",
      "bestTest = 0.6540313759\n",
      "bestIteration = 772\n",
      "\n",
      "Shrink model to first 773 iterations.\n",
      "<catboost.core.CatBoostClassifier object at 0x7f84d93d4198>\n",
      "0:\ttest: 0.5000000\tbest: 0.5000000 (0)\ttotal: 2.79ms\tremaining: 13.9s\n",
      "200:\ttest: 0.6186390\tbest: 0.6196261 (196)\ttotal: 502ms\tremaining: 12s\n",
      "400:\ttest: 0.6545375\tbest: 0.6545375 (400)\ttotal: 991ms\tremaining: 11.4s\n",
      "600:\ttest: 0.6638464\tbest: 0.6638464 (600)\ttotal: 1.57s\tremaining: 11.5s\n",
      "800:\ttest: 0.6694394\tbest: 0.6695254 (764)\ttotal: 2.08s\tremaining: 10.9s\n",
      "1000:\ttest: 0.6716645\tbest: 0.6724739 (933)\ttotal: 2.58s\tremaining: 10.3s\n",
      "1200:\ttest: 0.6732102\tbest: 0.6733951 (1174)\ttotal: 3.09s\tremaining: 9.77s\n",
      "1400:\ttest: 0.6736369\tbest: 0.6737797 (1399)\ttotal: 3.57s\tremaining: 9.18s\n",
      "1600:\ttest: 0.6729483\tbest: 0.6737797 (1399)\ttotal: 4.06s\tremaining: 8.61s\n",
      "1800:\ttest: 0.6732065\tbest: 0.6737797 (1399)\ttotal: 4.55s\tremaining: 8.09s\n",
      "2000:\ttest: 0.6729739\tbest: 0.6740086 (1854)\ttotal: 5.04s\tremaining: 7.56s\n",
      "2200:\ttest: 0.6721223\tbest: 0.6740086 (1854)\ttotal: 5.53s\tremaining: 7.03s\n",
      "Stopped by overfitting detector  (500 iterations wait)\n",
      "\n",
      "bestTest = 0.6740086331\n",
      "bestIteration = 1854\n",
      "\n",
      "Shrink model to first 1855 iterations.\n",
      "<catboost.core.CatBoostClassifier object at 0x7f84d94a0320>\n",
      "0:\ttest: 0.5000000\tbest: 0.5000000 (0)\ttotal: 3.06ms\tremaining: 15.3s\n",
      "200:\ttest: 0.6534770\tbest: 0.6535229 (194)\ttotal: 475ms\tremaining: 11.3s\n",
      "400:\ttest: 0.6760860\tbest: 0.6762421 (399)\ttotal: 967ms\tremaining: 11.1s\n",
      "600:\ttest: 0.6783302\tbest: 0.6784000 (588)\ttotal: 1.45s\tremaining: 10.6s\n",
      "800:\ttest: 0.6771934\tbest: 0.6784000 (588)\ttotal: 1.95s\tremaining: 10.2s\n",
      "1000:\ttest: 0.6779904\tbest: 0.6784000 (588)\ttotal: 2.45s\tremaining: 9.8s\n",
      "Stopped by overfitting detector  (500 iterations wait)\n",
      "\n",
      "bestTest = 0.6783999794\n",
      "bestIteration = 588\n",
      "\n",
      "Shrink model to first 589 iterations.\n",
      "<catboost.core.CatBoostClassifier object at 0x7f84d9496e80>\n",
      "0:\ttest: 0.5000000\tbest: 0.5000000 (0)\ttotal: 2.46ms\tremaining: 12.3s\n",
      "200:\ttest: 0.6579966\tbest: 0.6582996 (198)\ttotal: 478ms\tremaining: 11.4s\n",
      "400:\ttest: 0.6843631\tbest: 0.6843631 (400)\ttotal: 1.03s\tremaining: 11.8s\n",
      "600:\ttest: 0.6878156\tbest: 0.6889175 (518)\ttotal: 1.5s\tremaining: 11s\n",
      "800:\ttest: 0.6887596\tbest: 0.6890828 (740)\ttotal: 2.03s\tremaining: 10.7s\n",
      "1000:\ttest: 0.6867909\tbest: 0.6891746 (848)\ttotal: 2.5s\tremaining: 9.98s\n",
      "1200:\ttest: 0.6860875\tbest: 0.6891746 (848)\ttotal: 3.02s\tremaining: 9.56s\n",
      "Stopped by overfitting detector  (500 iterations wait)\n",
      "\n",
      "bestTest = 0.6891746462\n",
      "bestIteration = 848\n",
      "\n",
      "Shrink model to first 849 iterations.\n",
      "<catboost.core.CatBoostClassifier object at 0x7f84d9495ac8>\n",
      "CV mean: 0.6789, CV std: 0.0152\n"
     ]
    },
    {
     "data": {
      "image/png": "[encoded data removed]",
      "text/plain": [
       "<Figure size 576x720 with 1 Axes>"
      ]
     },
     "metadata": {
      "needs_background": "light"
     },
     "output_type": "display_data"
    }
   ],
   "source": [
    "test_4, oof_preds_4 = kfold_lightgbm(X, y, test_df, 5, top_4_params)"
   ]
  },
  {
   "cell_type": "code",
   "execution_count": 46,
   "metadata": {},
   "outputs": [
    {
     "name": "stdout",
     "output_type": "stream",
     "text": [
      "0:\ttest: 0.5828711\tbest: 0.5828711 (0)\ttotal: 6.09ms\tremaining: 30.5s\n",
      "200:\ttest: 0.6871068\tbest: 0.6871343 (199)\ttotal: 803ms\tremaining: 19.2s\n",
      "400:\ttest: 0.6957968\tbest: 0.6962630 (397)\ttotal: 1.56s\tremaining: 17.9s\n",
      "600:\ttest: 0.7025360\tbest: 0.7035674 (569)\ttotal: 2.46s\tremaining: 18s\n",
      "800:\ttest: 0.7002401\tbest: 0.7035674 (569)\ttotal: 3.29s\tremaining: 17.3s\n",
      "1000:\ttest: 0.6993610\tbest: 0.7035674 (569)\ttotal: 4.19s\tremaining: 16.8s\n",
      "Stopped by overfitting detector  (500 iterations wait)\n",
      "\n",
      "bestTest = 0.7035674172\n",
      "bestIteration = 569\n",
      "\n",
      "Shrink model to first 570 iterations.\n",
      "<catboost.core.CatBoostClassifier object at 0x7f84d9383080>\n",
      "0:\ttest: 0.5636117\tbest: 0.5636117 (0)\ttotal: 5.35ms\tremaining: 26.8s\n",
      "200:\ttest: 0.6383746\tbest: 0.6406338 (103)\ttotal: 741ms\tremaining: 17.7s\n",
      "400:\ttest: 0.6476795\tbest: 0.6476795 (400)\ttotal: 1.6s\tremaining: 18.3s\n",
      "600:\ttest: 0.6529871\tbest: 0.6532881 (583)\ttotal: 2.43s\tremaining: 17.8s\n",
      "800:\ttest: 0.6533119\tbest: 0.6540809 (763)\ttotal: 3.29s\tremaining: 17.2s\n",
      "1000:\ttest: 0.6543562\tbest: 0.6550206 (939)\ttotal: 4.15s\tremaining: 16.6s\n",
      "1200:\ttest: 0.6557143\tbest: 0.6557400 (1193)\ttotal: 5.01s\tremaining: 15.9s\n",
      "1400:\ttest: 0.6559107\tbest: 0.6564851 (1347)\ttotal: 5.87s\tremaining: 15.1s\n",
      "1600:\ttest: 0.6551380\tbest: 0.6564851 (1347)\ttotal: 6.87s\tremaining: 14.6s\n",
      "1800:\ttest: 0.6546609\tbest: 0.6564851 (1347)\ttotal: 7.74s\tremaining: 13.8s\n",
      "Stopped by overfitting detector  (500 iterations wait)\n",
      "\n",
      "bestTest = 0.6564851452\n",
      "bestIteration = 1347\n",
      "\n",
      "Shrink model to first 1348 iterations.\n",
      "<catboost.core.CatBoostClassifier object at 0x7f84d9446198>\n",
      "0:\ttest: 0.5830545\tbest: 0.5830545 (0)\ttotal: 5.88ms\tremaining: 29.4s\n",
      "200:\ttest: 0.6357989\tbest: 0.6357989 (200)\ttotal: 766ms\tremaining: 18.3s\n",
      "400:\ttest: 0.6604931\tbest: 0.6604931 (400)\ttotal: 1.54s\tremaining: 17.7s\n",
      "600:\ttest: 0.6707305\tbest: 0.6709026 (548)\ttotal: 2.39s\tremaining: 17.5s\n",
      "800:\ttest: 0.6701975\tbest: 0.6714630 (690)\ttotal: 3.24s\tremaining: 17s\n",
      "1000:\ttest: 0.6693112\tbest: 0.6714630 (690)\ttotal: 4.09s\tremaining: 16.3s\n",
      "Stopped by overfitting detector  (500 iterations wait)\n",
      "\n",
      "bestTest = 0.6714630274\n",
      "bestIteration = 690\n",
      "\n",
      "Shrink model to first 691 iterations.\n",
      "<catboost.core.CatBoostClassifier object at 0x7f84d94051d0>\n",
      "0:\ttest: 0.5531112\tbest: 0.5531112 (0)\ttotal: 4.44ms\tremaining: 22.2s\n",
      "200:\ttest: 0.6642903\tbest: 0.6643233 (199)\ttotal: 779ms\tremaining: 18.6s\n",
      "400:\ttest: 0.6744277\tbest: 0.6745323 (398)\ttotal: 1.55s\tremaining: 17.8s\n",
      "600:\ttest: 0.6746040\tbest: 0.6762531 (459)\ttotal: 2.38s\tremaining: 17.4s\n",
      "800:\ttest: 0.6749566\tbest: 0.6762531 (459)\ttotal: 3.23s\tremaining: 16.9s\n",
      "Stopped by overfitting detector  (500 iterations wait)\n",
      "\n",
      "bestTest = 0.6762531266\n",
      "bestIteration = 459\n",
      "\n",
      "Shrink model to first 460 iterations.\n",
      "<catboost.core.CatBoostClassifier object at 0x7f84d94d4e80>\n",
      "0:\ttest: 0.5538201\tbest: 0.5538201 (0)\ttotal: 4.35ms\tremaining: 21.8s\n",
      "200:\ttest: 0.6771971\tbest: 0.6784385 (173)\ttotal: 737ms\tremaining: 17.6s\n",
      "400:\ttest: 0.6927852\tbest: 0.6927852 (400)\ttotal: 1.47s\tremaining: 16.9s\n",
      "600:\ttest: 0.6954334\tbest: 0.6966547 (539)\ttotal: 2.34s\tremaining: 17.1s\n",
      "800:\ttest: 0.6934996\tbest: 0.6968365 (669)\ttotal: 3.19s\tremaining: 16.8s\n",
      "1000:\ttest: 0.6906383\tbest: 0.6968365 (669)\ttotal: 4.03s\tremaining: 16.1s\n",
      "Stopped by overfitting detector  (500 iterations wait)\n",
      "\n",
      "bestTest = 0.6968364682\n",
      "bestIteration = 669\n",
      "\n",
      "Shrink model to first 670 iterations.\n",
      "<catboost.core.CatBoostClassifier object at 0x7f84d93ff710>\n",
      "CV mean: 0.6809, CV std: 0.0172\n"
     ]
    },
    {
     "data": {
      "image/png": "[encoded data removed]",
      "text/plain": [
       "<Figure size 576x720 with 1 Axes>"
      ]
     },
     "metadata": {
      "needs_background": "light"
     },
     "output_type": "display_data"
    }
   ],
   "source": [
    "test_3, oof_preds_3 = kfold_lightgbm(X, y, test_df, 5, top_3_params)"
   ]
  },
  {
   "cell_type": "code",
   "execution_count": 47,
   "metadata": {},
   "outputs": [
    {
     "name": "stdout",
     "output_type": "stream",
     "text": [
      "0:\ttest: 0.5730405\tbest: 0.5730405 (0)\ttotal: 23.9ms\tremaining: 1m 59s\n",
      "200:\ttest: 0.6883052\tbest: 0.6891329 (190)\ttotal: 1.51s\tremaining: 36.1s\n",
      "400:\ttest: 0.6957436\tbest: 0.6999336 (293)\ttotal: 3.61s\tremaining: 41.4s\n",
      "600:\ttest: 0.6901277\tbest: 0.6999336 (293)\ttotal: 5.97s\tremaining: 43.7s\n",
      "Stopped by overfitting detector  (500 iterations wait)\n",
      "\n",
      "bestTest = 0.6999335629\n",
      "bestIteration = 293\n",
      "\n",
      "Shrink model to first 294 iterations.\n",
      "<catboost.core.CatBoostClassifier object at 0x7f84d91e7400>\n",
      "0:\ttest: 0.5609166\tbest: 0.5609166 (0)\ttotal: 14.6ms\tremaining: 1m 13s\n",
      "200:\ttest: 0.6411918\tbest: 0.6412743 (198)\ttotal: 1.4s\tremaining: 33.4s\n",
      "400:\ttest: 0.6541654\tbest: 0.6570779 (349)\ttotal: 3.44s\tremaining: 39.5s\n",
      "600:\ttest: 0.6558391\tbest: 0.6570779 (349)\ttotal: 5.78s\tremaining: 42.3s\n",
      "800:\ttest: 0.6533376\tbest: 0.6570779 (349)\ttotal: 8.03s\tremaining: 42.1s\n",
      "Stopped by overfitting detector  (500 iterations wait)\n",
      "\n",
      "bestTest = 0.6570779407\n",
      "bestIteration = 349\n",
      "\n",
      "Shrink model to first 350 iterations.\n",
      "<catboost.core.CatBoostClassifier object at 0x7f84d8f2a5c0>\n",
      "0:\ttest: 0.5884983\tbest: 0.5884983 (0)\ttotal: 14.9ms\tremaining: 1m 14s\n",
      "200:\ttest: 0.6563377\tbest: 0.6563377 (199)\ttotal: 1.39s\tremaining: 33.2s\n",
      "400:\ttest: 0.6771677\tbest: 0.6779241 (384)\ttotal: 3.31s\tremaining: 38s\n",
      "600:\ttest: 0.6660019\tbest: 0.6779241 (384)\ttotal: 5.61s\tremaining: 41s\n",
      "800:\ttest: 0.6633555\tbest: 0.6779241 (384)\ttotal: 7.84s\tremaining: 41.1s\n",
      "Stopped by overfitting detector  (500 iterations wait)\n",
      "\n",
      "bestTest = 0.6779241043\n",
      "bestIteration = 384\n",
      "\n",
      "Shrink model to first 385 iterations.\n",
      "<catboost.core.CatBoostClassifier object at 0x7f84d6946fd0>\n",
      "0:\ttest: 0.5531112\tbest: 0.5531112 (0)\ttotal: 4.63ms\tremaining: 23.1s\n",
      "200:\ttest: 0.6551794\tbest: 0.6552125 (199)\ttotal: 1.35s\tremaining: 32.2s\n",
      "400:\ttest: 0.6664793\tbest: 0.6668375 (391)\ttotal: 3.25s\tremaining: 37.2s\n",
      "600:\ttest: 0.6635281\tbest: 0.6671111 (403)\ttotal: 5.41s\tremaining: 39.6s\n",
      "800:\ttest: 0.6656015\tbest: 0.6671111 (403)\ttotal: 7.64s\tremaining: 40.1s\n",
      "Stopped by overfitting detector  (500 iterations wait)\n",
      "\n",
      "bestTest = 0.6671110964\n",
      "bestIteration = 403\n",
      "\n",
      "Shrink model to first 404 iterations.\n",
      "<catboost.core.CatBoostClassifier object at 0x7f84d6948860>\n",
      "0:\ttest: 0.5538201\tbest: 0.5538201 (0)\ttotal: 4.92ms\tremaining: 24.6s\n",
      "200:\ttest: 0.6871986\tbest: 0.6878799 (155)\ttotal: 1.42s\tremaining: 33.8s\n",
      "400:\ttest: 0.6879001\tbest: 0.6919294 (258)\ttotal: 3.37s\tremaining: 38.7s\n",
      "600:\ttest: 0.6856394\tbest: 0.6919294 (258)\ttotal: 5.44s\tremaining: 39.8s\n",
      "Stopped by overfitting detector  (500 iterations wait)\n",
      "\n",
      "bestTest = 0.6919293761\n",
      "bestIteration = 258\n",
      "\n",
      "Shrink model to first 259 iterations.\n",
      "<catboost.core.CatBoostClassifier object at 0x7f84d6949438>\n",
      "CV mean: 0.6788, CV std: 0.0157\n"
     ]
    },
    {
     "data": {
      "image/png": "[encoded data removed]",
      "text/plain": [
       "<Figure size 576x720 with 1 Axes>"
      ]
     },
     "metadata": {
      "needs_background": "light"
     },
     "output_type": "display_data"
    }
   ],
   "source": [
    "test_2, oof_preds_2 = kfold_lightgbm(X, y, test_df, 5, top_2_params)"
   ]
  },
  {
   "cell_type": "code",
   "execution_count": 48,
   "metadata": {},
   "outputs": [
    {
     "name": "stdout",
     "output_type": "stream",
     "text": [
      "0:\ttest: 0.5000000\tbest: 0.5000000 (0)\ttotal: 3.05ms\tremaining: 15.3s\n",
      "200:\ttest: 0.6832454\tbest: 0.6835243 (198)\ttotal: 572ms\tremaining: 13.7s\n",
      "400:\ttest: 0.7001630\tbest: 0.7004364 (395)\ttotal: 1.16s\tremaining: 13.3s\n",
      "600:\ttest: 0.6994729\tbest: 0.7026002 (457)\ttotal: 1.73s\tremaining: 12.6s\n",
      "800:\ttest: 0.6961584\tbest: 0.7026002 (457)\ttotal: 2.33s\tremaining: 12.2s\n",
      "Stopped by overfitting detector  (500 iterations wait)\n",
      "\n",
      "bestTest = 0.7026002246\n",
      "bestIteration = 457\n",
      "\n",
      "Shrink model to first 458 iterations.\n",
      "<catboost.core.CatBoostClassifier object at 0x7f84d9196160>\n",
      "0:\ttest: 0.5000000\tbest: 0.5000000 (0)\ttotal: 2.65ms\tremaining: 13.2s\n",
      "200:\ttest: 0.6470922\tbest: 0.6471472 (193)\ttotal: 614ms\tremaining: 14.7s\n",
      "400:\ttest: 0.6507701\tbest: 0.6521282 (344)\ttotal: 1.21s\tremaining: 13.8s\n",
      "600:\ttest: 0.6539671\tbest: 0.6541745 (532)\ttotal: 1.77s\tremaining: 13s\n",
      "800:\ttest: 0.6539121\tbest: 0.6558501 (680)\ttotal: 2.39s\tremaining: 12.5s\n",
      "1000:\ttest: 0.6550738\tbest: 0.6558501 (680)\ttotal: 2.97s\tremaining: 11.9s\n",
      "Stopped by overfitting detector  (500 iterations wait)\n",
      "\n",
      "bestTest = 0.6558501384\n",
      "bestIteration = 680\n",
      "\n",
      "Shrink model to first 681 iterations.\n",
      "<catboost.core.CatBoostClassifier object at 0x7f84d6a22208>\n",
      "0:\ttest: 0.5000000\tbest: 0.5000000 (0)\ttotal: 2.72ms\tremaining: 13.6s\n",
      "200:\ttest: 0.6441078\tbest: 0.6444192 (197)\ttotal: 545ms\tremaining: 13s\n",
      "400:\ttest: 0.6685438\tbest: 0.6686519 (399)\ttotal: 1.17s\tremaining: 13.4s\n",
      "600:\ttest: 0.6711993\tbest: 0.6713312 (596)\ttotal: 1.77s\tremaining: 12.9s\n",
      "800:\ttest: 0.6700529\tbest: 0.6719648 (616)\ttotal: 2.33s\tremaining: 12.2s\n",
      "1000:\ttest: 0.6685292\tbest: 0.6719648 (616)\ttotal: 2.93s\tremaining: 11.7s\n",
      "Stopped by overfitting detector  (500 iterations wait)\n",
      "\n",
      "bestTest = 0.671964823\n",
      "bestIteration = 616\n",
      "\n",
      "Shrink model to first 617 iterations.\n",
      "<catboost.core.CatBoostClassifier object at 0x7f84d6ad0c18>\n",
      "0:\ttest: 0.5000000\tbest: 0.5000000 (0)\ttotal: 2.6ms\tremaining: 13s\n",
      "200:\ttest: 0.6658898\tbest: 0.6658898 (200)\ttotal: 573ms\tremaining: 13.7s\n",
      "400:\ttest: 0.6703470\tbest: 0.6711881 (318)\ttotal: 1.16s\tremaining: 13.3s\n",
      "600:\ttest: 0.6710816\tbest: 0.6711881 (318)\ttotal: 1.76s\tremaining: 12.9s\n",
      "800:\ttest: 0.6691827\tbest: 0.6714746 (631)\ttotal: 2.39s\tremaining: 12.5s\n",
      "1000:\ttest: 0.6692837\tbest: 0.6714746 (631)\ttotal: 2.98s\tremaining: 11.9s\n",
      "Stopped by overfitting detector  (500 iterations wait)\n",
      "\n",
      "bestTest = 0.6714745885\n",
      "bestIteration = 631\n",
      "\n",
      "Shrink model to first 632 iterations.\n",
      "<catboost.core.CatBoostClassifier object at 0x7f84d91ef160>\n",
      "0:\ttest: 0.5000000\tbest: 0.5000000 (0)\ttotal: 2.48ms\tremaining: 12.4s\n",
      "200:\ttest: 0.6873547\tbest: 0.6873547 (200)\ttotal: 589ms\tremaining: 14.1s\n",
      "400:\ttest: 0.6908036\tbest: 0.6927980 (317)\ttotal: 1.16s\tremaining: 13.3s\n",
      "600:\ttest: 0.6885760\tbest: 0.6927980 (317)\ttotal: 1.77s\tremaining: 13s\n",
      "800:\ttest: 0.6879332\tbest: 0.6927980 (317)\ttotal: 2.37s\tremaining: 12.4s\n",
      "Stopped by overfitting detector  (500 iterations wait)\n",
      "\n",
      "bestTest = 0.6927980342\n",
      "bestIteration = 317\n",
      "\n",
      "Shrink model to first 318 iterations.\n",
      "<catboost.core.CatBoostClassifier object at 0x7f84d6ac2278>\n",
      "CV mean: 0.6789, CV std: 0.0167\n"
     ]
    },
    {
     "data": {
      "image/png": "[encoded data removed]",
      "text/plain": [
       "<Figure size 576x720 with 1 Axes>"
      ]
     },
     "metadata": {
      "needs_background": "light"
     },
     "output_type": "display_data"
    }
   ],
   "source": [
    "test_1, oof_preds_1 = kfold_lightgbm(X, y, test_df, 5, top_1_params)"
   ]
  },
  {
   "cell_type": "code",
   "execution_count": 49,
   "metadata": {},
   "outputs": [],
   "source": [
    "cat_train = pd.DataFrame(data={\n",
    "    \"cat_1\": oof_preds_1.tolist(),\n",
    "    \"cat_2\": oof_preds_2.tolist(),\n",
    "    \"cat_3\": oof_preds_3.tolist(),\n",
    "    \"cat_4\": oof_preds_4.tolist(),\n",
    "    \"cat_5\": oof_preds_5.tolist(),\n",
    "})\n",
    "cat_test = pd.DataFrame(data={\n",
    "    \"cat_1\": test_1.tolist(),\n",
    "    \"cat_2\": test_2.tolist(),\n",
    "    \"cat_3\": test_3.tolist(),\n",
    "    \"cat_4\": test_4.tolist(),\n",
    "    \"cat_5\": test_5.tolist(),\n",
    "})"
   ]
  },
  {
   "cell_type": "code",
   "execution_count": 50,
   "metadata": {},
   "outputs": [],
   "source": [
    "cat_train.to_csv('cat_train.csv', index = False)\n",
    "cat_test.to_csv('cat_test.csv', index = False)"
   ]
  },
  {
   "cell_type": "code",
   "execution_count": null,
   "metadata": {},
   "outputs": [],
   "source": []
  }
 ],
 "metadata": {
  "kernelspec": {
   "display_name": "Python 3",
   "language": "python",
   "name": "python3"
  },
  "language_info": {
   "codemirror_mode": {
    "name": "ipython",
    "version": 3
   },
   "file_extension": ".py",
   "mimetype": "text/x-python",
   "name": "python",
   "nbconvert_exporter": "python",
   "pygments_lexer": "ipython3",
   "version": "3.6.8"
  }
 },
 "nbformat": 4,
 "nbformat_minor": 4
}
